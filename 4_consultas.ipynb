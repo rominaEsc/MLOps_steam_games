{
 "cells": [
  {
   "cell_type": "code",
   "execution_count": null,
   "metadata": {},
   "outputs": [],
   "source": []
  },
  {
   "cell_type": "markdown",
   "metadata": {},
   "source": [
    "# Librerías y configuraciones\n"
   ]
  },
  {
   "cell_type": "code",
   "execution_count": 39,
   "metadata": {},
   "outputs": [],
   "source": [
    "import pandas as pd\n"
   ]
  },
  {
   "cell_type": "code",
   "execution_count": 40,
   "metadata": {},
   "outputs": [],
   "source": [
    "pd.set_option('display.max_colwidth', 100)"
   ]
  },
  {
   "cell_type": "markdown",
   "metadata": {},
   "source": [
    "---"
   ]
  },
  {
   "cell_type": "markdown",
   "metadata": {},
   "source": [
    "# Carga de datos"
   ]
  },
  {
   "cell_type": "code",
   "execution_count": 41,
   "metadata": {},
   "outputs": [],
   "source": [
    "df_genres = pd.read_csv('data/df_genres.csv')\n",
    "df_item_genre = pd.read_csv('data/df_item_genre.csv')\n",
    "df_items = pd.read_csv('data/df_items.csv')\n",
    "df_reviews = pd.read_csv('data/df_reviews.csv')\n",
    "df_users_items = pd.read_csv('data/df_users_items.csv')\n",
    "df_users = pd.read_csv('data/df_users.csv')\n",
    "df_user_id_item_id_price = pd.read_csv(\"data/df_user_id_item_id_price.csv\")\n",
    "df_developer = pd.read_csv('data/df_developer.csv')"
   ]
  },
  {
   "cell_type": "markdown",
   "metadata": {},
   "source": [
    "----"
   ]
  },
  {
   "cell_type": "markdown",
   "metadata": {},
   "source": [
    "1. def userdata( User_id : str ): \n",
    "    Debe devolver \n",
    "    * cantidad de dinero gastado por el usuario,  \n",
    "    * el porcentaje de recomendación en base a reviews.recommend\n",
    "    * cantidad de items.\n"
   ]
  },
  {
   "cell_type": "code",
   "execution_count": 42,
   "metadata": {},
   "outputs": [],
   "source": [
    "def userdata(user_id: str):\n",
    "    # Si el usuario no existe devuelve: {'dinero_gastado': 0.0, 'porcentaje_de_recomendaciones': nan, 'items_recomendados': 0, 'items_comprados': 0}\n",
    "    \n",
    "    user_id = user_id.strip()\n",
    "\n",
    "    if any(part in user_id for part in df_user_id_item_id_price['user_id']):\n",
    "\n",
    "        # Dinero gastado\n",
    "        df_filtrado_dinero = df_user_id_item_id_price[df_user_id_item_id_price.user_id == user_id]\n",
    "        dinero_gastado = round(df_filtrado_dinero.price.sum(),2)\n",
    "\n",
    "        # Porcentaje de recomendaciones\n",
    "        df_filtrado_recomendaciones = df_reviews[df_reviews.user_id == user_id]\n",
    "        \n",
    "        if df_filtrado_recomendaciones.shape[0] == 0:\n",
    "            porcentaje_de_recomendacion = 0\n",
    "        else:\n",
    "            porcentaje_de_recomendacion = round(df_filtrado_recomendaciones.recommend.mean(),3)*100\n",
    "        \n",
    "        # items comprados\n",
    "        items_comprados = int(df_filtrado_dinero.shape[0])\n",
    "        \n",
    "        # items recomendados\n",
    "        items_recomendados = int(df_filtrado_recomendaciones.shape[0])\n",
    "\n",
    "        out = {\"dinero_gastado\":dinero_gastado, \"porcentaje_de_recomendaciones\": porcentaje_de_recomendacion, 'items_recomendados': items_recomendados,'items_comprados':items_comprados}\n",
    "\n",
    "    else:\n",
    "         out = (F'El usuario {user_id}, no éxiste. Intente nuevamente. EJ: \"76561197970982479\"')\n",
    "\n",
    "    return out"
   ]
  },
  {
   "cell_type": "code",
   "execution_count": 43,
   "metadata": {},
   "outputs": [
    {
     "data": {
      "text/plain": [
       "{'dinero_gastado': 2772.39,\n",
       " 'porcentaje_de_recomendaciones': 100.0,\n",
       " 'items_recomendados': 2,\n",
       " 'items_comprados': 169}"
      ]
     },
     "execution_count": 43,
     "metadata": {},
     "output_type": "execute_result"
    }
   ],
   "source": [
    "userdata('76561197970982479')"
   ]
  },
  {
   "cell_type": "code",
   "execution_count": 44,
   "metadata": {},
   "outputs": [
    {
     "data": {
      "text/html": [
       "<div>\n",
       "<style scoped>\n",
       "    .dataframe tbody tr th:only-of-type {\n",
       "        vertical-align: middle;\n",
       "    }\n",
       "\n",
       "    .dataframe tbody tr th {\n",
       "        vertical-align: top;\n",
       "    }\n",
       "\n",
       "    .dataframe thead th {\n",
       "        text-align: right;\n",
       "    }\n",
       "</style>\n",
       "<table border=\"1\" class=\"dataframe\">\n",
       "  <thead>\n",
       "    <tr style=\"text-align: right;\">\n",
       "      <th></th>\n",
       "      <th>user_id</th>\n",
       "      <th>item_id</th>\n",
       "      <th>price</th>\n",
       "    </tr>\n",
       "  </thead>\n",
       "  <tbody>\n",
       "    <tr>\n",
       "      <th>2345493</th>\n",
       "      <td>0212030</td>\n",
       "      <td>4560</td>\n",
       "      <td>19.99</td>\n",
       "    </tr>\n",
       "    <tr>\n",
       "      <th>2345494</th>\n",
       "      <td>0212030</td>\n",
       "      <td>20540</td>\n",
       "      <td>19.99</td>\n",
       "    </tr>\n",
       "    <tr>\n",
       "      <th>2345495</th>\n",
       "      <td>0212030</td>\n",
       "      <td>10500</td>\n",
       "      <td>19.99</td>\n",
       "    </tr>\n",
       "    <tr>\n",
       "      <th>2345496</th>\n",
       "      <td>0212030</td>\n",
       "      <td>730</td>\n",
       "      <td>14.99</td>\n",
       "    </tr>\n",
       "    <tr>\n",
       "      <th>2345497</th>\n",
       "      <td>0212030</td>\n",
       "      <td>8930</td>\n",
       "      <td>29.99</td>\n",
       "    </tr>\n",
       "  </tbody>\n",
       "</table>\n",
       "</div>"
      ],
      "text/plain": [
       "         user_id  item_id  price\n",
       "2345493  0212030     4560  19.99\n",
       "2345494  0212030    20540  19.99\n",
       "2345495  0212030    10500  19.99\n",
       "2345496  0212030      730  14.99\n",
       "2345497  0212030     8930  29.99"
      ]
     },
     "execution_count": 44,
     "metadata": {},
     "output_type": "execute_result"
    }
   ],
   "source": [
    "df_user_id_item_id_price[df_user_id_item_id_price.user_id == '0212030']"
   ]
  },
  {
   "cell_type": "code",
   "execution_count": 45,
   "metadata": {},
   "outputs": [
    {
     "data": {
      "text/html": [
       "<div>\n",
       "<style scoped>\n",
       "    .dataframe tbody tr th:only-of-type {\n",
       "        vertical-align: middle;\n",
       "    }\n",
       "\n",
       "    .dataframe tbody tr th {\n",
       "        vertical-align: top;\n",
       "    }\n",
       "\n",
       "    .dataframe thead th {\n",
       "        text-align: right;\n",
       "    }\n",
       "</style>\n",
       "<table border=\"1\" class=\"dataframe\">\n",
       "  <thead>\n",
       "    <tr style=\"text-align: right;\">\n",
       "      <th></th>\n",
       "      <th>user_id</th>\n",
       "      <th>item_id</th>\n",
       "      <th>helpful</th>\n",
       "      <th>recommend</th>\n",
       "      <th>posted_date</th>\n",
       "      <th>sentiment_analysis</th>\n",
       "    </tr>\n",
       "  </thead>\n",
       "  <tbody>\n",
       "  </tbody>\n",
       "</table>\n",
       "</div>"
      ],
      "text/plain": [
       "Empty DataFrame\n",
       "Columns: [user_id, item_id, helpful, recommend, posted_date, sentiment_analysis]\n",
       "Index: []"
      ]
     },
     "execution_count": 45,
     "metadata": {},
     "output_type": "execute_result"
    }
   ],
   "source": [
    "df_reviews[df_reviews.user_id == '0212030']"
   ]
  },
  {
   "cell_type": "markdown",
   "metadata": {},
   "source": [
    "----"
   ]
  },
  {
   "cell_type": "markdown",
   "metadata": {},
   "source": [
    "2. def countreviews( YYYY-MM-DD y YYYY-MM-DD : str ): \n",
    "    * Cantidad de usuarios que realizaron reviews entre las fechas dadas y, \n",
    "    * el porcentaje de recomendación de los mismos en base a reviews.recommend."
   ]
  },
  {
   "cell_type": "code",
   "execution_count": 46,
   "metadata": {},
   "outputs": [],
   "source": [
    "####### --------------->>>  Función 2\n",
    "\n",
    "def countreviews (fecha_inicio:(str), fecha_fin):\n",
    "\n",
    "    df_filtrado = df_reviews[(df_reviews['posted_date'] >= fecha_inicio) & (df_reviews['posted_date'] <= fecha_fin)]\n",
    "    cant_usuarios = df_filtrado.shape[0]\n",
    "    porcentaje_de_recomendacion = round(df_filtrado.recommend.mean()*100,3) # andaba cuando era round(df_filtrado.recommend.mean(),3)*100\n",
    "    return {\"cantidad\":cant_usuarios, \"porcentaje\":porcentaje_de_recomendacion}\n",
    "    # return df_filtrado"
   ]
  },
  {
   "cell_type": "code",
   "execution_count": 47,
   "metadata": {},
   "outputs": [
    {
     "data": {
      "text/plain": [
       "{'cantidad': 11, 'porcentaje': 90.909}"
      ]
     },
     "execution_count": 47,
     "metadata": {},
     "output_type": "execute_result"
    }
   ],
   "source": [
    "# pruebas\n",
    "countreviews('2011-11-05' , '2011-11-20')"
   ]
  },
  {
   "cell_type": "code",
   "execution_count": 48,
   "metadata": {},
   "outputs": [],
   "source": [
    "# el df df_reviews tiene valores nulos en la columna posted_date. Revisar como influyen en la funcion, si los toma en cuenta, si los ignora, etc.\n",
    "#  se podria agregar un verificador de fechas validas."
   ]
  },
  {
   "cell_type": "markdown",
   "metadata": {},
   "source": [
    "---"
   ]
  },
  {
   "cell_type": "markdown",
   "metadata": {},
   "source": [
    "3. def genre( género : str ): \n",
    "    * Devuelve el puesto en el que se encuentra un género sobre el ranking de los mismos analizado bajo la columna PlayTimeForever."
   ]
  },
  {
   "cell_type": "code",
   "execution_count": 49,
   "metadata": {},
   "outputs": [],
   "source": [
    "####### --------------->>>  Función 3\n",
    "\n",
    "def genre (genero):\n",
    "    genero_minusculas = genero.lower().strip()\n",
    "    if genero_minusculas in list(df_genres.name):\n",
    "        puesto = int(df_genres[df_genres.name == genero_minusculas].reset_index().at[0,'ranking'])\n",
    "        salida = {\"genero\": genero_minusculas, \"ranking\":puesto}\n",
    "    else:\n",
    "        puesto = f'El genero {genero_minusculas} no se encuentra. Intente nuevamente. Ej: Action'\n",
    "        salida = {puesto}\n",
    "    return salida"
   ]
  },
  {
   "cell_type": "code",
   "execution_count": 50,
   "metadata": {},
   "outputs": [
    {
     "name": "stdout",
     "output_type": "stream",
     "text": [
      "{'genero': 'strategy', 'ranking': 6}\n",
      "{'genero': 'action', 'ranking': 1}\n",
      "{'genero': 'action', 'ranking': 1}\n",
      "{'El genero strateggggy no se encuentra. Intente nuevamente. Ej: Action'}\n"
     ]
    }
   ],
   "source": [
    "# Pruebas\n",
    "print(genre ('strategy'))\n",
    "print(genre ('action '))\n",
    "print(genre ('    ACTION'))\n",
    "print(genre ('strateggggy'))"
   ]
  },
  {
   "cell_type": "markdown",
   "metadata": {},
   "source": [
    "----"
   ]
  },
  {
   "cell_type": "markdown",
   "metadata": {},
   "source": [
    "\n",
    "4.\n",
    "def userforgenre( género : str ): \n",
    "        games.genres\n",
    "        games.id (item_id)\n",
    "    Top 5 de usuarios\n",
    "        head(5)\n",
    "    con más horas de juego en el género dado, \n",
    "        item_df.items.playtime_forever\n",
    "    con su URL (del user) y \n",
    "        items_df.user_url\n",
    "    user_id.\n",
    "        items_df.user_id\n",
    "\n",
    "        *tabla genre\n",
    "        *tabla genre_item\n",
    "        *tabla items:        \n",
    "        *tabla user_item:\n",
    "        *tabla user:"
   ]
  },
  {
   "cell_type": "code",
   "execution_count": 51,
   "metadata": {},
   "outputs": [
    {
     "data": {
      "text/html": [
       "<div>\n",
       "<style scoped>\n",
       "    .dataframe tbody tr th:only-of-type {\n",
       "        vertical-align: middle;\n",
       "    }\n",
       "\n",
       "    .dataframe tbody tr th {\n",
       "        vertical-align: top;\n",
       "    }\n",
       "\n",
       "    .dataframe thead th {\n",
       "        text-align: right;\n",
       "    }\n",
       "</style>\n",
       "<table border=\"1\" class=\"dataframe\">\n",
       "  <thead>\n",
       "    <tr style=\"text-align: right;\">\n",
       "      <th></th>\n",
       "      <th>item_id</th>\n",
       "      <th>genres</th>\n",
       "    </tr>\n",
       "  </thead>\n",
       "  <tbody>\n",
       "    <tr>\n",
       "      <th>0</th>\n",
       "      <td>761140</td>\n",
       "      <td>action</td>\n",
       "    </tr>\n",
       "    <tr>\n",
       "      <th>1</th>\n",
       "      <td>761140</td>\n",
       "      <td>casual</td>\n",
       "    </tr>\n",
       "  </tbody>\n",
       "</table>\n",
       "</div>"
      ],
      "text/plain": [
       "   item_id  genres\n",
       "0   761140  action\n",
       "1   761140  casual"
      ]
     },
     "execution_count": 51,
     "metadata": {},
     "output_type": "execute_result"
    }
   ],
   "source": [
    "df_item_genre.head(2)"
   ]
  },
  {
   "cell_type": "code",
   "execution_count": 52,
   "metadata": {},
   "outputs": [
    {
     "data": {
      "text/html": [
       "<div>\n",
       "<style scoped>\n",
       "    .dataframe tbody tr th:only-of-type {\n",
       "        vertical-align: middle;\n",
       "    }\n",
       "\n",
       "    .dataframe tbody tr th {\n",
       "        vertical-align: top;\n",
       "    }\n",
       "\n",
       "    .dataframe thead th {\n",
       "        text-align: right;\n",
       "    }\n",
       "</style>\n",
       "<table border=\"1\" class=\"dataframe\">\n",
       "  <thead>\n",
       "    <tr style=\"text-align: right;\">\n",
       "      <th></th>\n",
       "      <th>user_id</th>\n",
       "      <th>item_id</th>\n",
       "      <th>playtime_forever</th>\n",
       "    </tr>\n",
       "  </thead>\n",
       "  <tbody>\n",
       "    <tr>\n",
       "      <th>0</th>\n",
       "      <td>76561197970982479</td>\n",
       "      <td>10</td>\n",
       "      <td>6</td>\n",
       "    </tr>\n",
       "    <tr>\n",
       "      <th>1</th>\n",
       "      <td>76561197970982479</td>\n",
       "      <td>30</td>\n",
       "      <td>7</td>\n",
       "    </tr>\n",
       "  </tbody>\n",
       "</table>\n",
       "</div>"
      ],
      "text/plain": [
       "             user_id  item_id  playtime_forever\n",
       "0  76561197970982479       10                 6\n",
       "1  76561197970982479       30                 7"
      ]
     },
     "execution_count": 52,
     "metadata": {},
     "output_type": "execute_result"
    }
   ],
   "source": [
    "df_users_items.head(2)"
   ]
  },
  {
   "cell_type": "code",
   "execution_count": 53,
   "metadata": {},
   "outputs": [
    {
     "data": {
      "text/html": [
       "<div>\n",
       "<style scoped>\n",
       "    .dataframe tbody tr th:only-of-type {\n",
       "        vertical-align: middle;\n",
       "    }\n",
       "\n",
       "    .dataframe tbody tr th {\n",
       "        vertical-align: top;\n",
       "    }\n",
       "\n",
       "    .dataframe thead th {\n",
       "        text-align: right;\n",
       "    }\n",
       "</style>\n",
       "<table border=\"1\" class=\"dataframe\">\n",
       "  <thead>\n",
       "    <tr style=\"text-align: right;\">\n",
       "      <th></th>\n",
       "      <th>Unnamed: 0</th>\n",
       "      <th>user_id</th>\n",
       "      <th>items_count</th>\n",
       "      <th>user_url</th>\n",
       "    </tr>\n",
       "  </thead>\n",
       "  <tbody>\n",
       "    <tr>\n",
       "      <th>0</th>\n",
       "      <td>0</td>\n",
       "      <td>76561197970982479</td>\n",
       "      <td>277</td>\n",
       "      <td>http://steamcommunity.com/profiles/76561197970982479</td>\n",
       "    </tr>\n",
       "    <tr>\n",
       "      <th>1</th>\n",
       "      <td>1</td>\n",
       "      <td>js41637</td>\n",
       "      <td>888</td>\n",
       "      <td>http://steamcommunity.com/id/js41637</td>\n",
       "    </tr>\n",
       "  </tbody>\n",
       "</table>\n",
       "</div>"
      ],
      "text/plain": [
       "   Unnamed: 0            user_id  items_count  \\\n",
       "0           0  76561197970982479          277   \n",
       "1           1            js41637          888   \n",
       "\n",
       "                                               user_url  \n",
       "0  http://steamcommunity.com/profiles/76561197970982479  \n",
       "1                  http://steamcommunity.com/id/js41637  "
      ]
     },
     "execution_count": 53,
     "metadata": {},
     "output_type": "execute_result"
    }
   ],
   "source": [
    "df_users.head(2)"
   ]
  },
  {
   "cell_type": "code",
   "execution_count": 54,
   "metadata": {},
   "outputs": [],
   "source": [
    "# -->>>> funcion 4\n",
    "\n",
    "def userforgenre( genero : str ): \n",
    "    genero_min = genero.lower().strip()\n",
    "\n",
    "    if genero_min in list(df_item_genre.genres):\n",
    "\n",
    "        lista_de_items_del_genero = list(df_item_genre[df_item_genre.genres == genero_min].item_id)\n",
    "        df = df_users_items[df_users_items.item_id.isin(lista_de_items_del_genero)]\n",
    "        top5 = df.groupby('user_id')['playtime_forever'].sum().reset_index()\n",
    "        top5 = top5.sort_values('playtime_forever',ascending=False).head() # aca ta el user id y las hs de juego\n",
    "        top5 = top5.merge(df_users[['user_id','user_url']], on='user_id', how='left')\n",
    "        users_top5 = list(top5.user_id)\n",
    "        user_url_top5 = list(top5.user_url)\n",
    "\n",
    "        return {\"users_top5\":users_top5, \"user_url_top5\":user_url_top5}\n",
    "\n",
    "    else:\n",
    "        mensaje = 'el género ', genero, ' no éxiste. Intente nuevamente. EJ: \"Action\"'\n",
    "        return mensaje"
   ]
  },
  {
   "cell_type": "code",
   "execution_count": 55,
   "metadata": {},
   "outputs": [
    {
     "data": {
      "text/plain": [
       "{'users_top5': ['Sp3ctre',\n",
       "  'shinomegami',\n",
       "  'REBAS_AS_F-T',\n",
       "  'Terminally-Chill',\n",
       "  'DownSyndromeKid'],\n",
       " 'user_url_top5': ['http://steamcommunity.com/id/Sp3ctre',\n",
       "  'http://steamcommunity.com/id/shinomegami',\n",
       "  'http://steamcommunity.com/id/REBAS_AS_F-T',\n",
       "  'http://steamcommunity.com/id/Terminally-Chill',\n",
       "  'http://steamcommunity.com/id/DownSyndromeKid']}"
      ]
     },
     "execution_count": 55,
     "metadata": {},
     "output_type": "execute_result"
    }
   ],
   "source": [
    "userforgenre('action')"
   ]
  },
  {
   "cell_type": "markdown",
   "metadata": {},
   "source": [
    "-----"
   ]
  },
  {
   "cell_type": "markdown",
   "metadata": {},
   "source": [
    "5.\n",
    "def developer( desarrollador : str ): Cantidad de items y porcentaje de contenido Free por año según empresa desarrolladora. Ejemplo de salida:\n",
    "            Ejemplo de salida:\n",
    "            Activision\t\n",
    "            Año\tContenido Free\n",
    "            2023\t27%\n",
    "            2022\t25%\n",
    "            xxxx\txx%\n",
    "\n",
    "            *tabla games\n",
    "            *tabla games_tags\n",
    "            *tabla tags"
   ]
  },
  {
   "cell_type": "code",
   "execution_count": 56,
   "metadata": {},
   "outputs": [
    {
     "data": {
      "text/html": [
       "<div>\n",
       "<style scoped>\n",
       "    .dataframe tbody tr th:only-of-type {\n",
       "        vertical-align: middle;\n",
       "    }\n",
       "\n",
       "    .dataframe tbody tr th {\n",
       "        vertical-align: top;\n",
       "    }\n",
       "\n",
       "    .dataframe thead th {\n",
       "        text-align: right;\n",
       "    }\n",
       "</style>\n",
       "<table border=\"1\" class=\"dataframe\">\n",
       "  <thead>\n",
       "    <tr style=\"text-align: right;\">\n",
       "      <th></th>\n",
       "      <th>developer</th>\n",
       "      <th>price</th>\n",
       "      <th>year</th>\n",
       "    </tr>\n",
       "  </thead>\n",
       "  <tbody>\n",
       "    <tr>\n",
       "      <th>0</th>\n",
       "      <td>kotoshiro</td>\n",
       "      <td>4.99</td>\n",
       "      <td>2018</td>\n",
       "    </tr>\n",
       "    <tr>\n",
       "      <th>1</th>\n",
       "      <td>secret level srl</td>\n",
       "      <td>0.00</td>\n",
       "      <td>2018</td>\n",
       "    </tr>\n",
       "  </tbody>\n",
       "</table>\n",
       "</div>"
      ],
      "text/plain": [
       "          developer  price  year\n",
       "0         kotoshiro   4.99  2018\n",
       "1  secret level srl   0.00  2018"
      ]
     },
     "execution_count": 56,
     "metadata": {},
     "output_type": "execute_result"
    }
   ],
   "source": [
    "df_developer.head(2)"
   ]
  },
  {
   "cell_type": "code",
   "execution_count": 57,
   "metadata": {},
   "outputs": [],
   "source": [
    "def developer(desarrollador : str ):\n",
    "\n",
    "    desarrollador_minusculas = desarrollador.lower().strip()\n",
    "\n",
    "    \n",
    "    if any(part in desarrollador_minusculas for part in df_developer['developer']):\n",
    "        \n",
    "        df_filtrado = df_developer[df_developer.developer == desarrollador_minusculas]\n",
    "\n",
    "\n",
    "        df_xanio = df_filtrado.groupby(['year']).size().reset_index(name=('cantidad_total'))\n",
    "        df_filtrado_free = df_filtrado[df_filtrado.price == 0].groupby(['year']).size().reset_index(name=('cantidad_free'))\n",
    "        df = df_xanio.merge(df_filtrado_free,how='left')\n",
    "        cantidad_de_items = df.shape[0]\n",
    "        df['porcentaje'] = round(df.cantidad_free /df.cantidad_total,3) *100\n",
    "        df['porcentaje'] = df['porcentaje'].fillna(0)\n",
    "\n",
    "\n",
    "        anios = df_xanio['year'].tolist()\n",
    "        porcentaje_free_por_anio = df['porcentaje'].tolist()\n",
    "\n",
    "        out = {\n",
    "            \"cantidad_de_items\": cantidad_de_items,\n",
    "            \"anios\": anios,\n",
    "            \"porcentaje_free_por_anio\": porcentaje_free_por_anio\n",
    "            }\n",
    "        \n",
    "    else:\n",
    "         out = (F'El desarrollador {desarrollador}, no éxiste. Intente nuevamente. EJ: \"kotoshiro\"')\n",
    "\n",
    "    return out"
   ]
  },
  {
   "cell_type": "code",
   "execution_count": 58,
   "metadata": {},
   "outputs": [
    {
     "data": {
      "text/plain": [
       "{'cantidad_de_items': 2,\n",
       " 'anios': [2017, 2018],\n",
       " 'porcentaje_free_por_anio': [0.0, 0.0]}"
      ]
     },
     "execution_count": 58,
     "metadata": {},
     "output_type": "execute_result"
    }
   ],
   "source": [
    "developer('sacada')"
   ]
  },
  {
   "cell_type": "markdown",
   "metadata": {},
   "source": [
    "--------------"
   ]
  },
  {
   "cell_type": "markdown",
   "metadata": {},
   "source": [
    "def sentiment_analysis( año : int ): Según el año de lanzamiento, se devuelve una lista con la cantidad de registros de reseñas de usuarios que se encuentren categorizados con un análisis de sentimiento.\n",
    "\n",
    "                    Ejemplo de retorno: {Negative = 182, Neutral = 120, Positive = 278}"
   ]
  },
  {
   "cell_type": "code",
   "execution_count": 70,
   "metadata": {},
   "outputs": [],
   "source": [
    "def sentiment_analysis( anio : int ):\n",
    "\n",
    "    df_filtrado = df_reviews[df_reviews.year == anio].groupby(['sentiment_analysis']).size().reset_index(name=('cantidad'))\n",
    "    negative = df_filtrado.at[0,'cantidad']\n",
    "    neutral = df_filtrado.at[1,'cantidad']\n",
    "    positive = df_filtrado.at[2,'cantidad']\n",
    "\n",
    "    return {\"Negative\":negative,\"Neutral\":neutral,\"Positive\":positive}"
   ]
  },
  {
   "cell_type": "code",
   "execution_count": 71,
   "metadata": {},
   "outputs": [
    {
     "data": {
      "text/plain": [
       "{'Negative': 85, 'Neutral': 66, 'Positive': 298}"
      ]
     },
     "execution_count": 71,
     "metadata": {},
     "output_type": "execute_result"
    }
   ],
   "source": [
    "sentiment_analysis(2011)"
   ]
  }
 ],
 "metadata": {
  "kernelspec": {
   "display_name": "Python 3",
   "language": "python",
   "name": "python3"
  },
  "language_info": {
   "codemirror_mode": {
    "name": "ipython",
    "version": 3
   },
   "file_extension": ".py",
   "mimetype": "text/x-python",
   "name": "python",
   "nbconvert_exporter": "python",
   "pygments_lexer": "ipython3",
   "version": "3.11.0"
  },
  "orig_nbformat": 4
 },
 "nbformat": 4,
 "nbformat_minor": 2
}
