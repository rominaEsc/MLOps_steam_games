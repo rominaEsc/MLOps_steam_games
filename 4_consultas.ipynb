{
 "cells": [
  {
   "cell_type": "code",
   "execution_count": null,
   "metadata": {},
   "outputs": [],
   "source": []
  },
  {
   "cell_type": "markdown",
   "metadata": {},
   "source": [
    "# Librerías y configuraciones\n"
   ]
  },
  {
   "cell_type": "code",
   "execution_count": 14,
   "metadata": {},
   "outputs": [],
   "source": [
    "import pandas as pd\n"
   ]
  },
  {
   "cell_type": "code",
   "execution_count": 15,
   "metadata": {},
   "outputs": [],
   "source": [
    "pd.set_option('display.max_colwidth', 100)"
   ]
  },
  {
   "cell_type": "markdown",
   "metadata": {},
   "source": [
    "---"
   ]
  },
  {
   "cell_type": "markdown",
   "metadata": {},
   "source": [
    "# Carga de datos"
   ]
  },
  {
   "cell_type": "code",
   "execution_count": 16,
   "metadata": {},
   "outputs": [],
   "source": [
    "df_genres = pd.read_csv('data/df_genres.csv')\n",
    "df_item_genre = pd.read_csv('data/df_item_genre.csv')\n",
    "df_items = pd.read_csv('data/df_items.csv')\n",
    "df_reviews = pd.read_csv('data/df_reviews.csv')\n",
    "df_users_items = pd.read_csv('data/df_users_items.csv')\n",
    "df_users = pd.read_csv('data/df_users.csv')\n",
    "df_user_id_item_id_price = pd.read_csv(\"data/df_user_id_item_id_price.csv\")"
   ]
  },
  {
   "cell_type": "markdown",
   "metadata": {},
   "source": [
    "----"
   ]
  },
  {
   "cell_type": "markdown",
   "metadata": {},
   "source": [
    "1. def userdata( User_id : str ): \n",
    "    Debe devolver \n",
    "    * cantidad de dinero gastado por el usuario,  \n",
    "    * el porcentaje de recomendación en base a reviews.recommend\n",
    "    * cantidad de items.\n"
   ]
  },
  {
   "cell_type": "code",
   "execution_count": 17,
   "metadata": {},
   "outputs": [],
   "source": [
    "def userdata(user_id: str):\n",
    "    # si el usuario no existe devuelve: {'dinero_gastado': 0.0, 'porcentaje_de_recomendaciones': nan, 'items_recomendados': 0, 'items_comprados': 0}\n",
    "    user_id = user_id.strip()\n",
    "    df_filtrado_dinero = df_user_id_item_id_price[df_user_id_item_id_price.user_id == user_id]\n",
    "    dinero_gastado = df_filtrado_dinero.price.sum()\n",
    "    df_filtrado_recomendaciones = df_reviews[df_reviews.user_id == user_id]\n",
    "    porcentaje_de_recomendacion = round(df_filtrado_recomendaciones.recommend.mean(),3)*100\n",
    "    items_comprados = df_filtrado_dinero.shape[0]\n",
    "    items_recomendados = df_filtrado_recomendaciones.shape[0]\n",
    "\n",
    "\n",
    "    return {\"dinero_gastado\":dinero_gastado, \"porcentaje_de_recomendaciones\": porcentaje_de_recomendacion, 'items_recomendados': items_recomendados,'items_comprados':items_comprados}"
   ]
  },
  {
   "cell_type": "code",
   "execution_count": 18,
   "metadata": {},
   "outputs": [
    {
     "data": {
      "text/plain": [
       "{'dinero_gastado': 4086.0199999999995,\n",
       " 'porcentaje_de_recomendaciones': 100.0,\n",
       " 'items_recomendados': 1,\n",
       " 'items_comprados': 418}"
      ]
     },
     "execution_count": 18,
     "metadata": {},
     "output_type": "execute_result"
    }
   ],
   "source": [
    "userdata('vdemyx')"
   ]
  },
  {
   "cell_type": "markdown",
   "metadata": {},
   "source": [
    "----"
   ]
  },
  {
   "cell_type": "markdown",
   "metadata": {},
   "source": [
    "2. def countreviews( YYYY-MM-DD y YYYY-MM-DD : str ): \n",
    "    * Cantidad de usuarios que realizaron reviews entre las fechas dadas y, \n",
    "    * el porcentaje de recomendación de los mismos en base a reviews.recommend."
   ]
  },
  {
   "cell_type": "code",
   "execution_count": 19,
   "metadata": {},
   "outputs": [],
   "source": [
    "# ####### --------------->>>  Función 2\n",
    "\n",
    "# def countreviews (fecha_inicio:(str), fecha_fin):\n",
    "\n",
    "#     df_filtrado = df_reviews[(df_reviews['posted_date'] >= fecha_inicio) & (df_reviews['posted_date'] <= fecha_fin)]\n",
    "#     cant_usuarios = df_filtrado.shape[0]\n",
    "#     porcentaje_de_recomendacion = round(df_filtrado.recommend.mean(),3)*100\n",
    "#     return {\"cantidad\":cant_usuarios, \"porcentaje\":porcentaje_de_recomendacion}\n",
    "#     # return df_filtrado"
   ]
  },
  {
   "cell_type": "code",
   "execution_count": 20,
   "metadata": {},
   "outputs": [],
   "source": [
    "# # pruebas\n",
    "# countreviews('2011-11-05' , '2011-11-20')"
   ]
  },
  {
   "cell_type": "markdown",
   "metadata": {},
   "source": [
    "---"
   ]
  },
  {
   "cell_type": "markdown",
   "metadata": {},
   "source": [
    "3. def genre( género : str ): \n",
    "    * Devuelve el puesto en el que se encuentra un género sobre el ranking de los mismos analizado bajo la columna PlayTimeForever."
   ]
  },
  {
   "cell_type": "code",
   "execution_count": 39,
   "metadata": {},
   "outputs": [],
   "source": [
    "####### --------------->>>  Función 3\n",
    "\n",
    "def genre (genero):\n",
    "    genero_minusculas = genero.lower().strip()\n",
    "    if genero_minusculas in list(df_genres.name):\n",
    "        puesto = df_genres[df_genres.name == genero_minusculas].reset_index().at[0,'ranking']\n",
    "    else:\n",
    "        puesto = 'No se encuentra. Intente nuevamente. Ej: Action'\n",
    "\n",
    "    return {\"genero\": genero_minusculas, \"ranking\":puesto}"
   ]
  },
  {
   "cell_type": "code",
   "execution_count": 40,
   "metadata": {},
   "outputs": [
    {
     "name": "stdout",
     "output_type": "stream",
     "text": [
      "{'genero': 'strategy', 'ranking': 6}\n",
      "{'genero': 'action', 'ranking': 1}\n",
      "{'genero': 'action', 'ranking': 1}\n",
      "{'genero': 'strateggggy', 'ranking': 'No se encuentra. Intente nuevamente. Ej: Action'}\n"
     ]
    }
   ],
   "source": [
    "# Pruebas\n",
    "print(genre ('strategy'))\n",
    "print(genre ('action '))\n",
    "print(genre ('    ACTION'))\n",
    "print(genre ('strateggggy'))"
   ]
  },
  {
   "cell_type": "markdown",
   "metadata": {},
   "source": [
    "----"
   ]
  },
  {
   "cell_type": "markdown",
   "metadata": {},
   "source": [
    "\n",
    "4.\n",
    "def userforgenre( género : str ): \n",
    "        games.genres\n",
    "        games.id (item_id)\n",
    "    Top 5 de usuarios\n",
    "        head(5)\n",
    "    con más horas de juego en el género dado, \n",
    "        item_df.items.playtime_forever\n",
    "    con su URL (del user) y \n",
    "        items_df.user_url\n",
    "    user_id.\n",
    "        items_df.user_id\n",
    "\n",
    "        *tabla genre\n",
    "        *tabla genre_item\n",
    "        *tabla items:        \n",
    "        *tabla user_item:\n",
    "        *tabla user:"
   ]
  },
  {
   "cell_type": "code",
   "execution_count": 23,
   "metadata": {},
   "outputs": [
    {
     "data": {
      "text/html": [
       "<div>\n",
       "<style scoped>\n",
       "    .dataframe tbody tr th:only-of-type {\n",
       "        vertical-align: middle;\n",
       "    }\n",
       "\n",
       "    .dataframe tbody tr th {\n",
       "        vertical-align: top;\n",
       "    }\n",
       "\n",
       "    .dataframe thead th {\n",
       "        text-align: right;\n",
       "    }\n",
       "</style>\n",
       "<table border=\"1\" class=\"dataframe\">\n",
       "  <thead>\n",
       "    <tr style=\"text-align: right;\">\n",
       "      <th></th>\n",
       "      <th>item_id</th>\n",
       "      <th>genres</th>\n",
       "    </tr>\n",
       "  </thead>\n",
       "  <tbody>\n",
       "    <tr>\n",
       "      <th>0</th>\n",
       "      <td>761140</td>\n",
       "      <td>action</td>\n",
       "    </tr>\n",
       "    <tr>\n",
       "      <th>1</th>\n",
       "      <td>761140</td>\n",
       "      <td>casual</td>\n",
       "    </tr>\n",
       "  </tbody>\n",
       "</table>\n",
       "</div>"
      ],
      "text/plain": [
       "   item_id  genres\n",
       "0   761140  action\n",
       "1   761140  casual"
      ]
     },
     "execution_count": 23,
     "metadata": {},
     "output_type": "execute_result"
    }
   ],
   "source": [
    "df_item_genre.head(2)"
   ]
  },
  {
   "cell_type": "code",
   "execution_count": 24,
   "metadata": {},
   "outputs": [
    {
     "data": {
      "text/html": [
       "<div>\n",
       "<style scoped>\n",
       "    .dataframe tbody tr th:only-of-type {\n",
       "        vertical-align: middle;\n",
       "    }\n",
       "\n",
       "    .dataframe tbody tr th {\n",
       "        vertical-align: top;\n",
       "    }\n",
       "\n",
       "    .dataframe thead th {\n",
       "        text-align: right;\n",
       "    }\n",
       "</style>\n",
       "<table border=\"1\" class=\"dataframe\">\n",
       "  <thead>\n",
       "    <tr style=\"text-align: right;\">\n",
       "      <th></th>\n",
       "      <th>user_id</th>\n",
       "      <th>item_id</th>\n",
       "      <th>playtime_forever</th>\n",
       "    </tr>\n",
       "  </thead>\n",
       "  <tbody>\n",
       "    <tr>\n",
       "      <th>0</th>\n",
       "      <td>76561197970982479</td>\n",
       "      <td>10</td>\n",
       "      <td>6</td>\n",
       "    </tr>\n",
       "    <tr>\n",
       "      <th>1</th>\n",
       "      <td>76561197970982479</td>\n",
       "      <td>30</td>\n",
       "      <td>7</td>\n",
       "    </tr>\n",
       "  </tbody>\n",
       "</table>\n",
       "</div>"
      ],
      "text/plain": [
       "             user_id  item_id  playtime_forever\n",
       "0  76561197970982479       10                 6\n",
       "1  76561197970982479       30                 7"
      ]
     },
     "execution_count": 24,
     "metadata": {},
     "output_type": "execute_result"
    }
   ],
   "source": [
    "df_users_items.head(2)"
   ]
  },
  {
   "cell_type": "code",
   "execution_count": 25,
   "metadata": {},
   "outputs": [
    {
     "data": {
      "text/html": [
       "<div>\n",
       "<style scoped>\n",
       "    .dataframe tbody tr th:only-of-type {\n",
       "        vertical-align: middle;\n",
       "    }\n",
       "\n",
       "    .dataframe tbody tr th {\n",
       "        vertical-align: top;\n",
       "    }\n",
       "\n",
       "    .dataframe thead th {\n",
       "        text-align: right;\n",
       "    }\n",
       "</style>\n",
       "<table border=\"1\" class=\"dataframe\">\n",
       "  <thead>\n",
       "    <tr style=\"text-align: right;\">\n",
       "      <th></th>\n",
       "      <th>Unnamed: 0</th>\n",
       "      <th>user_id</th>\n",
       "      <th>items_count</th>\n",
       "      <th>user_url</th>\n",
       "    </tr>\n",
       "  </thead>\n",
       "  <tbody>\n",
       "    <tr>\n",
       "      <th>0</th>\n",
       "      <td>0</td>\n",
       "      <td>76561197970982479</td>\n",
       "      <td>277</td>\n",
       "      <td>http://steamcommunity.com/profiles/76561197970982479</td>\n",
       "    </tr>\n",
       "    <tr>\n",
       "      <th>1</th>\n",
       "      <td>1</td>\n",
       "      <td>js41637</td>\n",
       "      <td>888</td>\n",
       "      <td>http://steamcommunity.com/id/js41637</td>\n",
       "    </tr>\n",
       "  </tbody>\n",
       "</table>\n",
       "</div>"
      ],
      "text/plain": [
       "   Unnamed: 0            user_id  items_count  \\\n",
       "0           0  76561197970982479          277   \n",
       "1           1            js41637          888   \n",
       "\n",
       "                                               user_url  \n",
       "0  http://steamcommunity.com/profiles/76561197970982479  \n",
       "1                  http://steamcommunity.com/id/js41637  "
      ]
     },
     "execution_count": 25,
     "metadata": {},
     "output_type": "execute_result"
    }
   ],
   "source": [
    "df_users.head(2)"
   ]
  },
  {
   "cell_type": "code",
   "execution_count": 26,
   "metadata": {},
   "outputs": [],
   "source": [
    "# -->>>> funcion 4\n",
    "\n",
    "def userforgenre( genero : str ): \n",
    "    genero_min = genero.lower().strip()\n",
    "\n",
    "    if genero_min in list(df_item_genre.genres):\n",
    "\n",
    "        lista_de_items_del_genero = list(df_item_genre[df_item_genre.genres == genero_min].item_id)\n",
    "        df = df_users_items[df_users_items.item_id.isin(lista_de_items_del_genero)]\n",
    "        top5 = df.groupby('user_id')['playtime_forever'].sum().reset_index()\n",
    "        top5 = top5.sort_values('playtime_forever',ascending=False).head() # aca ta el user id y las hs de juego\n",
    "        top5 = top5.merge(df_users[['user_id','user_url']], on='user_id', how='left')\n",
    "        users_top5 = list(top5.user_id)\n",
    "        user_url_top5 = list(top5.user_url)\n",
    "\n",
    "        return {\"users_top5\":users_top5, \"user_url_top5\":user_url_top5}\n",
    "\n",
    "    else:\n",
    "        mensaje = 'el género ', genero, ' no éxiste. Intente nuevamente. EJ: \"Action\"'\n",
    "        return mensaje"
   ]
  },
  {
   "cell_type": "code",
   "execution_count": 27,
   "metadata": {},
   "outputs": [
    {
     "data": {
      "text/plain": [
       "{'users_top5': ['Sp3ctre',\n",
       "  'shinomegami',\n",
       "  'REBAS_AS_F-T',\n",
       "  'Terminally-Chill',\n",
       "  'DownSyndromeKid'],\n",
       " 'user_url_top5': ['http://steamcommunity.com/id/Sp3ctre',\n",
       "  'http://steamcommunity.com/id/shinomegami',\n",
       "  'http://steamcommunity.com/id/REBAS_AS_F-T',\n",
       "  'http://steamcommunity.com/id/Terminally-Chill',\n",
       "  'http://steamcommunity.com/id/DownSyndromeKid']}"
      ]
     },
     "execution_count": 27,
     "metadata": {},
     "output_type": "execute_result"
    }
   ],
   "source": [
    "userforgenre('action')"
   ]
  },
  {
   "cell_type": "markdown",
   "metadata": {},
   "source": [
    "-----"
   ]
  }
 ],
 "metadata": {
  "kernelspec": {
   "display_name": "Python 3",
   "language": "python",
   "name": "python3"
  },
  "language_info": {
   "codemirror_mode": {
    "name": "ipython",
    "version": 3
   },
   "file_extension": ".py",
   "mimetype": "text/x-python",
   "name": "python",
   "nbconvert_exporter": "python",
   "pygments_lexer": "ipython3",
   "version": "3.11.0"
  },
  "orig_nbformat": 4
 },
 "nbformat": 4,
 "nbformat_minor": 2
}
