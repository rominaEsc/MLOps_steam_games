{
 "cells": [
  {
   "cell_type": "code",
   "execution_count": null,
   "metadata": {},
   "outputs": [],
   "source": []
  },
  {
   "cell_type": "markdown",
   "metadata": {},
   "source": [
    "# Librerías y configuraciones\n"
   ]
  },
  {
   "cell_type": "code",
   "execution_count": 4,
   "metadata": {},
   "outputs": [],
   "source": [
    "import pandas as pd"
   ]
  },
  {
   "cell_type": "code",
   "execution_count": 5,
   "metadata": {},
   "outputs": [],
   "source": [
    "pd.set_option('display.max_colwidth', 100)"
   ]
  },
  {
   "cell_type": "markdown",
   "metadata": {},
   "source": [
    "---"
   ]
  },
  {
   "cell_type": "markdown",
   "metadata": {},
   "source": [
    "# Carga de datos"
   ]
  },
  {
   "cell_type": "code",
   "execution_count": 106,
   "metadata": {},
   "outputs": [],
   "source": [
    "df_genres = pd.read_csv('data/df_genres.csv')\n",
    "df_item_genre = pd.read_csv('data/df_item_genre.csv')\n",
    "df_items = pd.read_csv('data/df_items.csv')\n",
    "df_reviews = pd.read_csv('data/df_reviews.csv')\n",
    "df_users_items = pd.read_csv('data/df_users_items.csv')\n",
    "df_users = pd.read_csv('data/df_users.csv')\n",
    "df_user_id_item_id_price = pd.read_csv(\"data/df_user_id_item_id_price.csv\")\n",
    "df_developer = pd.read_csv('data/df_developer.csv')"
   ]
  },
  {
   "cell_type": "code",
   "execution_count": 154,
   "metadata": {},
   "outputs": [],
   "source": [
    "def check(input,df,columna):\n",
    "    return any(part in input.lower() for part in df[columna])"
   ]
  },
  {
   "cell_type": "markdown",
   "metadata": {},
   "source": [
    "----"
   ]
  },
  {
   "cell_type": "markdown",
   "metadata": {},
   "source": [
    "1. def userdata( User_id : str ): \n",
    "    Debe devolver \n",
    "    * cantidad de dinero gastado por el usuario,  \n",
    "    * el porcentaje de recomendación en base a reviews.recommend\n",
    "    * cantidad de items.\n"
   ]
  },
  {
   "cell_type": "code",
   "execution_count": 61,
   "metadata": {},
   "outputs": [],
   "source": [
    "def userdata(user_id: str):\n",
    "    # Si el usuario no existe devuelve: {'dinero_gastado': 0.0, 'porcentaje_de_recomendaciones': nan, 'items_recomendados': 0, 'items_comprados': 0}\n",
    "    \n",
    "    user_id = user_id.strip()\n",
    "\n",
    "    # Dinero gastado\n",
    "    df_filtrado_dinero = df_user_id_item_id_price[df_user_id_item_id_price.user_id == user_id]\n",
    "    dinero_gastado = round(df_filtrado_dinero.price.sum(),2)\n",
    "\n",
    "    # Porcentaje de recomendaciones\n",
    "    df_filtrado_recomendaciones = df_reviews[df_reviews.user_id == user_id]\n",
    "    \n",
    "    if df_filtrado_recomendaciones.shape[0] == 0:\n",
    "         porcentaje_de_recomendacion = 0\n",
    "    else:\n",
    "        porcentaje_de_recomendacion = round(df_filtrado_recomendaciones.recommend.mean(),3)*100\n",
    "    \n",
    "    # items comprados\n",
    "    items_comprados = int(df_filtrado_dinero.shape[0])\n",
    "    \n",
    "    # items recomendados\n",
    "    items_recomendados = int(df_filtrado_recomendaciones.shape[0])\n",
    "\n",
    "    out = {\"dinero_gastado\":dinero_gastado, \"porcentaje_de_recomendaciones\": porcentaje_de_recomendacion, 'items_recomendados': items_recomendados,'items_comprados':items_comprados}\n",
    "\n",
    "    return out"
   ]
  },
  {
   "cell_type": "code",
   "execution_count": 62,
   "metadata": {},
   "outputs": [
    {
     "data": {
      "text/plain": [
       "{'dinero_gastado': 104.95,\n",
       " 'porcentaje_de_recomendaciones': 0,\n",
       " 'items_recomendados': 0,\n",
       " 'items_comprados': 5}"
      ]
     },
     "execution_count": 62,
     "metadata": {},
     "output_type": "execute_result"
    }
   ],
   "source": [
    "userdata('0212030')"
   ]
  },
  {
   "cell_type": "code",
   "execution_count": 50,
   "metadata": {},
   "outputs": [
    {
     "data": {
      "text/html": [
       "<div>\n",
       "<style scoped>\n",
       "    .dataframe tbody tr th:only-of-type {\n",
       "        vertical-align: middle;\n",
       "    }\n",
       "\n",
       "    .dataframe tbody tr th {\n",
       "        vertical-align: top;\n",
       "    }\n",
       "\n",
       "    .dataframe thead th {\n",
       "        text-align: right;\n",
       "    }\n",
       "</style>\n",
       "<table border=\"1\" class=\"dataframe\">\n",
       "  <thead>\n",
       "    <tr style=\"text-align: right;\">\n",
       "      <th></th>\n",
       "      <th>user_id</th>\n",
       "      <th>item_id</th>\n",
       "      <th>price</th>\n",
       "    </tr>\n",
       "  </thead>\n",
       "  <tbody>\n",
       "    <tr>\n",
       "      <th>2345493</th>\n",
       "      <td>0212030</td>\n",
       "      <td>4560</td>\n",
       "      <td>19.99</td>\n",
       "    </tr>\n",
       "    <tr>\n",
       "      <th>2345494</th>\n",
       "      <td>0212030</td>\n",
       "      <td>20540</td>\n",
       "      <td>19.99</td>\n",
       "    </tr>\n",
       "    <tr>\n",
       "      <th>2345495</th>\n",
       "      <td>0212030</td>\n",
       "      <td>10500</td>\n",
       "      <td>19.99</td>\n",
       "    </tr>\n",
       "    <tr>\n",
       "      <th>2345496</th>\n",
       "      <td>0212030</td>\n",
       "      <td>730</td>\n",
       "      <td>14.99</td>\n",
       "    </tr>\n",
       "    <tr>\n",
       "      <th>2345497</th>\n",
       "      <td>0212030</td>\n",
       "      <td>8930</td>\n",
       "      <td>29.99</td>\n",
       "    </tr>\n",
       "  </tbody>\n",
       "</table>\n",
       "</div>"
      ],
      "text/plain": [
       "         user_id  item_id  price\n",
       "2345493  0212030     4560  19.99\n",
       "2345494  0212030    20540  19.99\n",
       "2345495  0212030    10500  19.99\n",
       "2345496  0212030      730  14.99\n",
       "2345497  0212030     8930  29.99"
      ]
     },
     "execution_count": 50,
     "metadata": {},
     "output_type": "execute_result"
    }
   ],
   "source": [
    "df_user_id_item_id_price[df_user_id_item_id_price.user_id == '0212030']"
   ]
  },
  {
   "cell_type": "code",
   "execution_count": 51,
   "metadata": {},
   "outputs": [
    {
     "data": {
      "text/html": [
       "<div>\n",
       "<style scoped>\n",
       "    .dataframe tbody tr th:only-of-type {\n",
       "        vertical-align: middle;\n",
       "    }\n",
       "\n",
       "    .dataframe tbody tr th {\n",
       "        vertical-align: top;\n",
       "    }\n",
       "\n",
       "    .dataframe thead th {\n",
       "        text-align: right;\n",
       "    }\n",
       "</style>\n",
       "<table border=\"1\" class=\"dataframe\">\n",
       "  <thead>\n",
       "    <tr style=\"text-align: right;\">\n",
       "      <th></th>\n",
       "      <th>user_id</th>\n",
       "      <th>funny</th>\n",
       "      <th>posted</th>\n",
       "      <th>last_edited</th>\n",
       "      <th>item_id</th>\n",
       "      <th>helpful</th>\n",
       "      <th>recommend</th>\n",
       "      <th>review</th>\n",
       "      <th>posted_date</th>\n",
       "    </tr>\n",
       "  </thead>\n",
       "  <tbody>\n",
       "  </tbody>\n",
       "</table>\n",
       "</div>"
      ],
      "text/plain": [
       "Empty DataFrame\n",
       "Columns: [user_id, funny, posted, last_edited, item_id, helpful, recommend, review, posted_date]\n",
       "Index: []"
      ]
     },
     "execution_count": 51,
     "metadata": {},
     "output_type": "execute_result"
    }
   ],
   "source": [
    "df_reviews[df_reviews.user_id == '0212030']"
   ]
  },
  {
   "cell_type": "markdown",
   "metadata": {},
   "source": [
    "----"
   ]
  },
  {
   "cell_type": "markdown",
   "metadata": {},
   "source": [
    "2. def countreviews( YYYY-MM-DD y YYYY-MM-DD : str ): \n",
    "    * Cantidad de usuarios que realizaron reviews entre las fechas dadas y, \n",
    "    * el porcentaje de recomendación de los mismos en base a reviews.recommend."
   ]
  },
  {
   "cell_type": "code",
   "execution_count": 9,
   "metadata": {},
   "outputs": [],
   "source": [
    "####### --------------->>>  Función 2\n",
    "\n",
    "def countreviews (fecha_inicio:(str), fecha_fin):\n",
    "\n",
    "    df_filtrado = df_reviews[(df_reviews['posted_date'] >= fecha_inicio) & (df_reviews['posted_date'] <= fecha_fin)]\n",
    "    cant_usuarios = df_filtrado.shape[0]\n",
    "    porcentaje_de_recomendacion = round(df_filtrado.recommend.mean(),3)*100\n",
    "    return {\"cantidad\":cant_usuarios, \"porcentaje\":porcentaje_de_recomendacion}\n",
    "    # return df_filtrado"
   ]
  },
  {
   "cell_type": "code",
   "execution_count": 10,
   "metadata": {},
   "outputs": [
    {
     "data": {
      "text/plain": [
       "{'cantidad': 14, 'porcentaje': 92.9}"
      ]
     },
     "execution_count": 10,
     "metadata": {},
     "output_type": "execute_result"
    }
   ],
   "source": [
    "# pruebas\n",
    "countreviews('2011-11-05' , '2011-11-20')"
   ]
  },
  {
   "cell_type": "code",
   "execution_count": 11,
   "metadata": {},
   "outputs": [],
   "source": [
    "# el df df_reviews tiene valores nulos en la columna posted_date. Revisar como influyen en la funcion, si los toma en cuenta, si los ignora, etc.\n",
    "#  se podria agregar un verificador de fechas validas."
   ]
  },
  {
   "cell_type": "markdown",
   "metadata": {},
   "source": [
    "---"
   ]
  },
  {
   "cell_type": "markdown",
   "metadata": {},
   "source": [
    "3. def genre( género : str ): \n",
    "    * Devuelve el puesto en el que se encuentra un género sobre el ranking de los mismos analizado bajo la columna PlayTimeForever."
   ]
  },
  {
   "cell_type": "code",
   "execution_count": 58,
   "metadata": {},
   "outputs": [],
   "source": [
    "####### --------------->>>  Función 3\n",
    "\n",
    "def genre (genero):\n",
    "    genero_minusculas = genero.lower().strip()\n",
    "    if genero_minusculas in list(df_genres.name):\n",
    "        puesto = int(df_genres[df_genres.name == genero_minusculas].reset_index().at[0,'ranking'])\n",
    "        salida = {\"genero\": genero_minusculas, \"ranking\":puesto}\n",
    "    else:\n",
    "        puesto = 'No se encuentra. Intente nuevamente. Ej: Action'\n",
    "        salida = {\"genero\": genero_minusculas, \"ranking\":puesto}\n",
    "    return salida"
   ]
  },
  {
   "cell_type": "code",
   "execution_count": 57,
   "metadata": {},
   "outputs": [
    {
     "name": "stdout",
     "output_type": "stream",
     "text": [
      "{'genero': 'strategy', 'ranking': 6}\n",
      "{'genero': 'action', 'ranking': 1}\n",
      "{'genero': 'action', 'ranking': 1}\n",
      "{'genero': 'strateggggy', 'ranking': 'No se encuentra. Intente nuevamente. Ej: Action'}\n"
     ]
    }
   ],
   "source": [
    "# Pruebas\n",
    "print(genre ('strategy'))\n",
    "print(genre ('action '))\n",
    "print(genre ('    ACTION'))\n",
    "print(genre ('strateggggy'))"
   ]
  },
  {
   "cell_type": "markdown",
   "metadata": {},
   "source": [
    "----"
   ]
  },
  {
   "cell_type": "markdown",
   "metadata": {},
   "source": [
    "\n",
    "4.\n",
    "def userforgenre( género : str ): \n",
    "        games.genres\n",
    "        games.id (item_id)\n",
    "    Top 5 de usuarios\n",
    "        head(5)\n",
    "    con más horas de juego en el género dado, \n",
    "        item_df.items.playtime_forever\n",
    "    con su URL (del user) y \n",
    "        items_df.user_url\n",
    "    user_id.\n",
    "        items_df.user_id\n",
    "\n",
    "        *tabla genre\n",
    "        *tabla genre_item\n",
    "        *tabla items:        \n",
    "        *tabla user_item:\n",
    "        *tabla user:"
   ]
  },
  {
   "cell_type": "code",
   "execution_count": 14,
   "metadata": {},
   "outputs": [
    {
     "data": {
      "text/html": [
       "<div>\n",
       "<style scoped>\n",
       "    .dataframe tbody tr th:only-of-type {\n",
       "        vertical-align: middle;\n",
       "    }\n",
       "\n",
       "    .dataframe tbody tr th {\n",
       "        vertical-align: top;\n",
       "    }\n",
       "\n",
       "    .dataframe thead th {\n",
       "        text-align: right;\n",
       "    }\n",
       "</style>\n",
       "<table border=\"1\" class=\"dataframe\">\n",
       "  <thead>\n",
       "    <tr style=\"text-align: right;\">\n",
       "      <th></th>\n",
       "      <th>item_id</th>\n",
       "      <th>genres</th>\n",
       "    </tr>\n",
       "  </thead>\n",
       "  <tbody>\n",
       "    <tr>\n",
       "      <th>0</th>\n",
       "      <td>761140</td>\n",
       "      <td>action</td>\n",
       "    </tr>\n",
       "    <tr>\n",
       "      <th>1</th>\n",
       "      <td>761140</td>\n",
       "      <td>casual</td>\n",
       "    </tr>\n",
       "  </tbody>\n",
       "</table>\n",
       "</div>"
      ],
      "text/plain": [
       "   item_id  genres\n",
       "0   761140  action\n",
       "1   761140  casual"
      ]
     },
     "execution_count": 14,
     "metadata": {},
     "output_type": "execute_result"
    }
   ],
   "source": [
    "df_item_genre.head(2)"
   ]
  },
  {
   "cell_type": "code",
   "execution_count": 15,
   "metadata": {},
   "outputs": [
    {
     "data": {
      "text/html": [
       "<div>\n",
       "<style scoped>\n",
       "    .dataframe tbody tr th:only-of-type {\n",
       "        vertical-align: middle;\n",
       "    }\n",
       "\n",
       "    .dataframe tbody tr th {\n",
       "        vertical-align: top;\n",
       "    }\n",
       "\n",
       "    .dataframe thead th {\n",
       "        text-align: right;\n",
       "    }\n",
       "</style>\n",
       "<table border=\"1\" class=\"dataframe\">\n",
       "  <thead>\n",
       "    <tr style=\"text-align: right;\">\n",
       "      <th></th>\n",
       "      <th>user_id</th>\n",
       "      <th>item_id</th>\n",
       "      <th>playtime_forever</th>\n",
       "    </tr>\n",
       "  </thead>\n",
       "  <tbody>\n",
       "    <tr>\n",
       "      <th>0</th>\n",
       "      <td>76561197970982479</td>\n",
       "      <td>10</td>\n",
       "      <td>6</td>\n",
       "    </tr>\n",
       "    <tr>\n",
       "      <th>1</th>\n",
       "      <td>76561197970982479</td>\n",
       "      <td>30</td>\n",
       "      <td>7</td>\n",
       "    </tr>\n",
       "  </tbody>\n",
       "</table>\n",
       "</div>"
      ],
      "text/plain": [
       "             user_id  item_id  playtime_forever\n",
       "0  76561197970982479       10                 6\n",
       "1  76561197970982479       30                 7"
      ]
     },
     "execution_count": 15,
     "metadata": {},
     "output_type": "execute_result"
    }
   ],
   "source": [
    "df_users_items.head(2)"
   ]
  },
  {
   "cell_type": "code",
   "execution_count": 16,
   "metadata": {},
   "outputs": [
    {
     "data": {
      "text/html": [
       "<div>\n",
       "<style scoped>\n",
       "    .dataframe tbody tr th:only-of-type {\n",
       "        vertical-align: middle;\n",
       "    }\n",
       "\n",
       "    .dataframe tbody tr th {\n",
       "        vertical-align: top;\n",
       "    }\n",
       "\n",
       "    .dataframe thead th {\n",
       "        text-align: right;\n",
       "    }\n",
       "</style>\n",
       "<table border=\"1\" class=\"dataframe\">\n",
       "  <thead>\n",
       "    <tr style=\"text-align: right;\">\n",
       "      <th></th>\n",
       "      <th>Unnamed: 0</th>\n",
       "      <th>user_id</th>\n",
       "      <th>items_count</th>\n",
       "      <th>user_url</th>\n",
       "    </tr>\n",
       "  </thead>\n",
       "  <tbody>\n",
       "    <tr>\n",
       "      <th>0</th>\n",
       "      <td>0</td>\n",
       "      <td>76561197970982479</td>\n",
       "      <td>277</td>\n",
       "      <td>http://steamcommunity.com/profiles/76561197970982479</td>\n",
       "    </tr>\n",
       "    <tr>\n",
       "      <th>1</th>\n",
       "      <td>1</td>\n",
       "      <td>js41637</td>\n",
       "      <td>888</td>\n",
       "      <td>http://steamcommunity.com/id/js41637</td>\n",
       "    </tr>\n",
       "  </tbody>\n",
       "</table>\n",
       "</div>"
      ],
      "text/plain": [
       "   Unnamed: 0            user_id  items_count  \\\n",
       "0           0  76561197970982479          277   \n",
       "1           1            js41637          888   \n",
       "\n",
       "                                               user_url  \n",
       "0  http://steamcommunity.com/profiles/76561197970982479  \n",
       "1                  http://steamcommunity.com/id/js41637  "
      ]
     },
     "execution_count": 16,
     "metadata": {},
     "output_type": "execute_result"
    }
   ],
   "source": [
    "df_users.head(2)"
   ]
  },
  {
   "cell_type": "code",
   "execution_count": 17,
   "metadata": {},
   "outputs": [],
   "source": [
    "# -->>>> funcion 4\n",
    "\n",
    "def userforgenre( genero : str ): \n",
    "    genero_min = genero.lower().strip()\n",
    "\n",
    "    if genero_min in list(df_item_genre.genres):\n",
    "\n",
    "        lista_de_items_del_genero = list(df_item_genre[df_item_genre.genres == genero_min].item_id)\n",
    "        df = df_users_items[df_users_items.item_id.isin(lista_de_items_del_genero)]\n",
    "        top5 = df.groupby('user_id')['playtime_forever'].sum().reset_index()\n",
    "        top5 = top5.sort_values('playtime_forever',ascending=False).head() # aca ta el user id y las hs de juego\n",
    "        top5 = top5.merge(df_users[['user_id','user_url']], on='user_id', how='left')\n",
    "        users_top5 = list(top5.user_id)\n",
    "        user_url_top5 = list(top5.user_url)\n",
    "\n",
    "        return {\"users_top5\":users_top5, \"user_url_top5\":user_url_top5}\n",
    "\n",
    "    else:\n",
    "        mensaje = 'el género ', genero, ' no éxiste. Intente nuevamente. EJ: \"Action\"'\n",
    "        return mensaje"
   ]
  },
  {
   "cell_type": "code",
   "execution_count": 18,
   "metadata": {},
   "outputs": [
    {
     "data": {
      "text/plain": [
       "{'users_top5': ['Sp3ctre',\n",
       "  'shinomegami',\n",
       "  'REBAS_AS_F-T',\n",
       "  'Terminally-Chill',\n",
       "  'DownSyndromeKid'],\n",
       " 'user_url_top5': ['http://steamcommunity.com/id/Sp3ctre',\n",
       "  'http://steamcommunity.com/id/shinomegami',\n",
       "  'http://steamcommunity.com/id/REBAS_AS_F-T',\n",
       "  'http://steamcommunity.com/id/Terminally-Chill',\n",
       "  'http://steamcommunity.com/id/DownSyndromeKid']}"
      ]
     },
     "execution_count": 18,
     "metadata": {},
     "output_type": "execute_result"
    }
   ],
   "source": [
    "userforgenre('action')"
   ]
  },
  {
   "cell_type": "markdown",
   "metadata": {},
   "source": [
    "-----"
   ]
  },
  {
   "cell_type": "markdown",
   "metadata": {},
   "source": [
    "5.\n",
    "def developer( desarrollador : str ): Cantidad de items y porcentaje de contenido Free por año según empresa desarrolladora. Ejemplo de salida:\n",
    "            Ejemplo de salida:\n",
    "            Activision\t\n",
    "            Año\tContenido Free\n",
    "            2023\t27%\n",
    "            2022\t25%\n",
    "            xxxx\txx%\n",
    "\n",
    "            *tabla games\n",
    "            *tabla games_tags\n",
    "            *tabla tags"
   ]
  },
  {
   "cell_type": "code",
   "execution_count": 68,
   "metadata": {},
   "outputs": [
    {
     "data": {
      "text/html": [
       "<div>\n",
       "<style scoped>\n",
       "    .dataframe tbody tr th:only-of-type {\n",
       "        vertical-align: middle;\n",
       "    }\n",
       "\n",
       "    .dataframe tbody tr th {\n",
       "        vertical-align: top;\n",
       "    }\n",
       "\n",
       "    .dataframe thead th {\n",
       "        text-align: right;\n",
       "    }\n",
       "</style>\n",
       "<table border=\"1\" class=\"dataframe\">\n",
       "  <thead>\n",
       "    <tr style=\"text-align: right;\">\n",
       "      <th></th>\n",
       "      <th>developer</th>\n",
       "      <th>price</th>\n",
       "      <th>year</th>\n",
       "    </tr>\n",
       "  </thead>\n",
       "  <tbody>\n",
       "    <tr>\n",
       "      <th>0</th>\n",
       "      <td>Kotoshiro</td>\n",
       "      <td>4.99</td>\n",
       "      <td>2018</td>\n",
       "    </tr>\n",
       "    <tr>\n",
       "      <th>1</th>\n",
       "      <td>Secret Level SRL</td>\n",
       "      <td>0.00</td>\n",
       "      <td>2018</td>\n",
       "    </tr>\n",
       "  </tbody>\n",
       "</table>\n",
       "</div>"
      ],
      "text/plain": [
       "          developer  price  year\n",
       "0         Kotoshiro   4.99  2018\n",
       "1  Secret Level SRL   0.00  2018"
      ]
     },
     "execution_count": 68,
     "metadata": {},
     "output_type": "execute_result"
    }
   ],
   "source": [
    "df_developer.head(2)"
   ]
  },
  {
   "cell_type": "code",
   "execution_count": 297,
   "metadata": {},
   "outputs": [],
   "source": [
    "def developer(desarrollador : str ):\n",
    "\n",
    "    desarrollador_minusculas = desarrollador.lower().strip()\n",
    "\n",
    "    if check(desarrollador_minusculas,df_developer,'developer'):\n",
    "        \n",
    "        df_filtrado = df_developer[df_developer.developer == desarrollador_minusculas]\n",
    "        cantidad_de_items = df_filtrado.shape[0]\n",
    "\n",
    "\n",
    "        df_xanio = df_filtrado.groupby(['year']).size().reset_index(name=('cantidad_total'))\n",
    "        df_filtrado_free = df_filtrado[df_filtrado.price == 0].groupby(['year']).size().reset_index(name=('cantidad_free'))\n",
    "        df = df_xanio.merge(df_filtrado_free,how='left')\n",
    "        df['porcentaje'] = df.cantidad_free /df.cantidad_total *100\n",
    "        df['porcentaje'] = df['porcentaje'].fillna(0)\n",
    "\n",
    "\n",
    "        anios = df_xanio['year'].tolist()\n",
    "        porcentaje_free_por_anio = df['porcentaje'].tolist()\n",
    "\n",
    "        out = {\n",
    "            \"cantidad_de_items\": cantidad_de_items,\n",
    "            \"anios\": anios,\n",
    "            \"porcentaje_free_por_anio\": porcentaje_free_por_anio\n",
    "        }\n",
    "    else:\n",
    "         out = (F'El desarrollador {desarrollador}, no éxiste. Intente nuevamente. EJ: \"kotoshiro\"')\n",
    "    return out"
   ]
  },
  {
   "cell_type": "code",
   "execution_count": 299,
   "metadata": {},
   "outputs": [
    {
     "data": {
      "text/plain": [
       "{'cantidad_de_items': 1, 'anios': [2018], 'porcentaje_free_por_anio': [0.0]}"
      ]
     },
     "execution_count": 299,
     "metadata": {},
     "output_type": "execute_result"
    }
   ],
   "source": [
    "developer('trickjump games ltd')"
   ]
  },
  {
   "cell_type": "code",
   "execution_count": 147,
   "metadata": {},
   "outputs": [
    {
     "data": {
      "text/html": [
       "<div>\n",
       "<style scoped>\n",
       "    .dataframe tbody tr th:only-of-type {\n",
       "        vertical-align: middle;\n",
       "    }\n",
       "\n",
       "    .dataframe tbody tr th {\n",
       "        vertical-align: top;\n",
       "    }\n",
       "\n",
       "    .dataframe thead th {\n",
       "        text-align: right;\n",
       "    }\n",
       "</style>\n",
       "<table border=\"1\" class=\"dataframe\">\n",
       "  <thead>\n",
       "    <tr style=\"text-align: right;\">\n",
       "      <th></th>\n",
       "      <th>developer</th>\n",
       "      <th>price</th>\n",
       "      <th>year</th>\n",
       "    </tr>\n",
       "  </thead>\n",
       "  <tbody>\n",
       "    <tr>\n",
       "      <th>0</th>\n",
       "      <td>kotoshiro</td>\n",
       "      <td>4.99</td>\n",
       "      <td>2018</td>\n",
       "    </tr>\n",
       "    <tr>\n",
       "      <th>1</th>\n",
       "      <td>secret level srl</td>\n",
       "      <td>0.00</td>\n",
       "      <td>2018</td>\n",
       "    </tr>\n",
       "    <tr>\n",
       "      <th>2</th>\n",
       "      <td>poolians.com</td>\n",
       "      <td>0.00</td>\n",
       "      <td>2017</td>\n",
       "    </tr>\n",
       "    <tr>\n",
       "      <th>3</th>\n",
       "      <td>彼岸领域</td>\n",
       "      <td>0.99</td>\n",
       "      <td>2017</td>\n",
       "    </tr>\n",
       "    <tr>\n",
       "      <th>4</th>\n",
       "      <td>trickjump games ltd</td>\n",
       "      <td>3.99</td>\n",
       "      <td>2018</td>\n",
       "    </tr>\n",
       "    <tr>\n",
       "      <th>...</th>\n",
       "      <td>...</td>\n",
       "      <td>...</td>\n",
       "      <td>...</td>\n",
       "    </tr>\n",
       "    <tr>\n",
       "      <th>27588</th>\n",
       "      <td>bidoniera games</td>\n",
       "      <td>1.99</td>\n",
       "      <td>2018</td>\n",
       "    </tr>\n",
       "    <tr>\n",
       "      <th>27589</th>\n",
       "      <td>nikita \"ghost_rus\"</td>\n",
       "      <td>1.99</td>\n",
       "      <td>2018</td>\n",
       "    </tr>\n",
       "    <tr>\n",
       "      <th>27590</th>\n",
       "      <td>sacada</td>\n",
       "      <td>4.99</td>\n",
       "      <td>2018</td>\n",
       "    </tr>\n",
       "    <tr>\n",
       "      <th>27591</th>\n",
       "      <td>laush dmitriy sergeevich</td>\n",
       "      <td>1.99</td>\n",
       "      <td>2018</td>\n",
       "    </tr>\n",
       "    <tr>\n",
       "      <th>27592</th>\n",
       "      <td>xropi,stev3ns</td>\n",
       "      <td>4.99</td>\n",
       "      <td>2017</td>\n",
       "    </tr>\n",
       "  </tbody>\n",
       "</table>\n",
       "<p>27593 rows × 3 columns</p>\n",
       "</div>"
      ],
      "text/plain": [
       "                      developer  price  year\n",
       "0                     kotoshiro   4.99  2018\n",
       "1              secret level srl   0.00  2018\n",
       "2                  poolians.com   0.00  2017\n",
       "3                          彼岸领域   0.99  2017\n",
       "4           trickjump games ltd   3.99  2018\n",
       "...                         ...    ...   ...\n",
       "27588           bidoniera games   1.99  2018\n",
       "27589        nikita \"ghost_rus\"   1.99  2018\n",
       "27590                    sacada   4.99  2018\n",
       "27591  laush dmitriy sergeevich   1.99  2018\n",
       "27592             xropi,stev3ns   4.99  2017\n",
       "\n",
       "[27593 rows x 3 columns]"
      ]
     },
     "execution_count": 147,
     "metadata": {},
     "output_type": "execute_result"
    }
   ],
   "source": [
    "df_developer"
   ]
  },
  {
   "cell_type": "code",
   "execution_count": null,
   "metadata": {},
   "outputs": [],
   "source": [
    "# df_items.groupby('developer')['item_id'].count().reset_index()\n",
    "# item_id_playtime_forever = item_id_playtime_forever.groupby('item_id')['playtime_forever'].sum().reset_index()"
   ]
  },
  {
   "cell_type": "code",
   "execution_count": 188,
   "metadata": {},
   "outputs": [
    {
     "data": {
      "text/html": [
       "<div>\n",
       "<style scoped>\n",
       "    .dataframe tbody tr th:only-of-type {\n",
       "        vertical-align: middle;\n",
       "    }\n",
       "\n",
       "    .dataframe tbody tr th {\n",
       "        vertical-align: top;\n",
       "    }\n",
       "\n",
       "    .dataframe thead th {\n",
       "        text-align: right;\n",
       "    }\n",
       "</style>\n",
       "<table border=\"1\" class=\"dataframe\">\n",
       "  <thead>\n",
       "    <tr style=\"text-align: right;\">\n",
       "      <th></th>\n",
       "      <th>developer</th>\n",
       "      <th>price</th>\n",
       "      <th>year</th>\n",
       "    </tr>\n",
       "  </thead>\n",
       "  <tbody>\n",
       "    <tr>\n",
       "      <th>8522</th>\n",
       "      <td>sacada</td>\n",
       "      <td>4.99</td>\n",
       "      <td>2017</td>\n",
       "    </tr>\n",
       "    <tr>\n",
       "      <th>8631</th>\n",
       "      <td>sacada</td>\n",
       "      <td>7.99</td>\n",
       "      <td>2017</td>\n",
       "    </tr>\n",
       "    <tr>\n",
       "      <th>8675</th>\n",
       "      <td>sacada</td>\n",
       "      <td>1.99</td>\n",
       "      <td>2017</td>\n",
       "    </tr>\n",
       "    <tr>\n",
       "      <th>8987</th>\n",
       "      <td>sacada</td>\n",
       "      <td>7.99</td>\n",
       "      <td>2017</td>\n",
       "    </tr>\n",
       "    <tr>\n",
       "      <th>9392</th>\n",
       "      <td>sacada</td>\n",
       "      <td>9.99</td>\n",
       "      <td>2017</td>\n",
       "    </tr>\n",
       "    <tr>\n",
       "      <th>9579</th>\n",
       "      <td>sacada</td>\n",
       "      <td>9.99</td>\n",
       "      <td>2017</td>\n",
       "    </tr>\n",
       "    <tr>\n",
       "      <th>9977</th>\n",
       "      <td>sacada</td>\n",
       "      <td>3.99</td>\n",
       "      <td>2017</td>\n",
       "    </tr>\n",
       "    <tr>\n",
       "      <th>10215</th>\n",
       "      <td>sacada</td>\n",
       "      <td>8.99</td>\n",
       "      <td>2017</td>\n",
       "    </tr>\n",
       "    <tr>\n",
       "      <th>12145</th>\n",
       "      <td>sacada</td>\n",
       "      <td>7.99</td>\n",
       "      <td>2017</td>\n",
       "    </tr>\n",
       "    <tr>\n",
       "      <th>12479</th>\n",
       "      <td>sacada</td>\n",
       "      <td>9.99</td>\n",
       "      <td>2017</td>\n",
       "    </tr>\n",
       "    <tr>\n",
       "      <th>12990</th>\n",
       "      <td>sacada</td>\n",
       "      <td>1.99</td>\n",
       "      <td>2017</td>\n",
       "    </tr>\n",
       "    <tr>\n",
       "      <th>13166</th>\n",
       "      <td>sacada</td>\n",
       "      <td>6.99</td>\n",
       "      <td>2017</td>\n",
       "    </tr>\n",
       "    <tr>\n",
       "      <th>13632</th>\n",
       "      <td>sacada</td>\n",
       "      <td>5.99</td>\n",
       "      <td>2017</td>\n",
       "    </tr>\n",
       "    <tr>\n",
       "      <th>14476</th>\n",
       "      <td>sacada</td>\n",
       "      <td>1.99</td>\n",
       "      <td>2017</td>\n",
       "    </tr>\n",
       "    <tr>\n",
       "      <th>14625</th>\n",
       "      <td>sacada</td>\n",
       "      <td>8.99</td>\n",
       "      <td>2017</td>\n",
       "    </tr>\n",
       "    <tr>\n",
       "      <th>15288</th>\n",
       "      <td>sacada</td>\n",
       "      <td>1.99</td>\n",
       "      <td>2017</td>\n",
       "    </tr>\n",
       "    <tr>\n",
       "      <th>16132</th>\n",
       "      <td>sacada</td>\n",
       "      <td>9.99</td>\n",
       "      <td>2017</td>\n",
       "    </tr>\n",
       "    <tr>\n",
       "      <th>27590</th>\n",
       "      <td>sacada</td>\n",
       "      <td>4.99</td>\n",
       "      <td>2018</td>\n",
       "    </tr>\n",
       "  </tbody>\n",
       "</table>\n",
       "</div>"
      ],
      "text/plain": [
       "      developer  price  year\n",
       "8522     sacada   4.99  2017\n",
       "8631     sacada   7.99  2017\n",
       "8675     sacada   1.99  2017\n",
       "8987     sacada   7.99  2017\n",
       "9392     sacada   9.99  2017\n",
       "9579     sacada   9.99  2017\n",
       "9977     sacada   3.99  2017\n",
       "10215    sacada   8.99  2017\n",
       "12145    sacada   7.99  2017\n",
       "12479    sacada   9.99  2017\n",
       "12990    sacada   1.99  2017\n",
       "13166    sacada   6.99  2017\n",
       "13632    sacada   5.99  2017\n",
       "14476    sacada   1.99  2017\n",
       "14625    sacada   8.99  2017\n",
       "15288    sacada   1.99  2017\n",
       "16132    sacada   9.99  2017\n",
       "27590    sacada   4.99  2018"
      ]
     },
     "execution_count": 188,
     "metadata": {},
     "output_type": "execute_result"
    }
   ],
   "source": [
    "df = df_developer[df_developer.developer == 'sacada']\n",
    "df"
   ]
  },
  {
   "cell_type": "code",
   "execution_count": 203,
   "metadata": {},
   "outputs": [],
   "source": [
    "asfaf = df.groupby('year')['price'].count().to_dict()"
   ]
  },
  {
   "cell_type": "code",
   "execution_count": 202,
   "metadata": {},
   "outputs": [
    {
     "data": {
      "text/plain": [
       "{2017: 17, 2018: 1}"
      ]
     },
     "execution_count": 202,
     "metadata": {},
     "output_type": "execute_result"
    }
   ],
   "source": [
    "asfaf\n"
   ]
  },
  {
   "cell_type": "code",
   "execution_count": 213,
   "metadata": {},
   "outputs": [
    {
     "data": {
      "text/html": [
       "<div>\n",
       "<style scoped>\n",
       "    .dataframe tbody tr th:only-of-type {\n",
       "        vertical-align: middle;\n",
       "    }\n",
       "\n",
       "    .dataframe tbody tr th {\n",
       "        vertical-align: top;\n",
       "    }\n",
       "\n",
       "    .dataframe thead th {\n",
       "        text-align: right;\n",
       "    }\n",
       "</style>\n",
       "<table border=\"1\" class=\"dataframe\">\n",
       "  <thead>\n",
       "    <tr style=\"text-align: right;\">\n",
       "      <th></th>\n",
       "      <th>year</th>\n",
       "      <th>cantidad_items</th>\n",
       "    </tr>\n",
       "  </thead>\n",
       "  <tbody>\n",
       "    <tr>\n",
       "      <th>0</th>\n",
       "      <td>2017</td>\n",
       "      <td>1</td>\n",
       "    </tr>\n",
       "    <tr>\n",
       "      <th>1</th>\n",
       "      <td>2018</td>\n",
       "      <td>1</td>\n",
       "    </tr>\n",
       "  </tbody>\n",
       "</table>\n",
       "</div>"
      ],
      "text/plain": [
       "   year  cantidad_items\n",
       "0  2017               1\n",
       "1  2018               1"
      ]
     },
     "execution_count": 213,
     "metadata": {},
     "output_type": "execute_result"
    }
   ],
   "source": [
    "df = df.groupby(['year']).size().reset_index(name='cantidad_items')\n",
    "df\n"
   ]
  },
  {
   "cell_type": "code",
   "execution_count": 210,
   "metadata": {},
   "outputs": [],
   "source": [
    "df_free = df[df.price ==0]"
   ]
  },
  {
   "cell_type": "code",
   "execution_count": 211,
   "metadata": {},
   "outputs": [
    {
     "data": {
      "text/html": [
       "<div>\n",
       "<style scoped>\n",
       "    .dataframe tbody tr th:only-of-type {\n",
       "        vertical-align: middle;\n",
       "    }\n",
       "\n",
       "    .dataframe tbody tr th {\n",
       "        vertical-align: top;\n",
       "    }\n",
       "\n",
       "    .dataframe thead th {\n",
       "        text-align: right;\n",
       "    }\n",
       "</style>\n",
       "<table border=\"1\" class=\"dataframe\">\n",
       "  <thead>\n",
       "    <tr style=\"text-align: right;\">\n",
       "      <th></th>\n",
       "      <th>year</th>\n",
       "      <th>cantidad_items</th>\n",
       "    </tr>\n",
       "  </thead>\n",
       "  <tbody>\n",
       "    <tr>\n",
       "      <th>0</th>\n",
       "      <td>2017</td>\n",
       "      <td>1</td>\n",
       "    </tr>\n",
       "  </tbody>\n",
       "</table>\n",
       "</div>"
      ],
      "text/plain": [
       "   year  cantidad_items\n",
       "0  2017               1"
      ]
     },
     "execution_count": 211,
     "metadata": {},
     "output_type": "execute_result"
    }
   ],
   "source": [
    "df_free.groupby(['year']).size().reset_index(name='cantidad_items')\n"
   ]
  },
  {
   "cell_type": "code",
   "execution_count": 214,
   "metadata": {},
   "outputs": [
    {
     "ename": "TypeError",
     "evalue": "unsupported operand type(s) for /: 'str' and 'str'",
     "output_type": "error",
     "traceback": [
      "\u001b[1;31m---------------------------------------------------------------------------\u001b[0m",
      "\u001b[1;31mTypeError\u001b[0m                                 Traceback (most recent call last)",
      "File \u001b[1;32mc:\\Users\\Usuario\\AppData\\Local\\Programs\\Python\\Python311\\Lib\\site-packages\\pandas\\core\\ops\\array_ops.py:165\u001b[0m, in \u001b[0;36m_na_arithmetic_op\u001b[1;34m(left, right, op, is_cmp)\u001b[0m\n\u001b[0;32m    164\u001b[0m \u001b[39mtry\u001b[39;00m:\n\u001b[1;32m--> 165\u001b[0m     result \u001b[39m=\u001b[39m func(left, right)\n\u001b[0;32m    166\u001b[0m \u001b[39mexcept\u001b[39;00m \u001b[39mTypeError\u001b[39;00m:\n",
      "File \u001b[1;32mc:\\Users\\Usuario\\AppData\\Local\\Programs\\Python\\Python311\\Lib\\site-packages\\pandas\\core\\computation\\expressions.py:241\u001b[0m, in \u001b[0;36mevaluate\u001b[1;34m(op, a, b, use_numexpr)\u001b[0m\n\u001b[0;32m    239\u001b[0m     \u001b[39mif\u001b[39;00m use_numexpr:\n\u001b[0;32m    240\u001b[0m         \u001b[39m# error: \"None\" not callable\u001b[39;00m\n\u001b[1;32m--> 241\u001b[0m         \u001b[39mreturn\u001b[39;00m _evaluate(op, op_str, a, b)  \u001b[39m# type: ignore[misc]\u001b[39;00m\n\u001b[0;32m    242\u001b[0m \u001b[39mreturn\u001b[39;00m _evaluate_standard(op, op_str, a, b)\n",
      "File \u001b[1;32mc:\\Users\\Usuario\\AppData\\Local\\Programs\\Python\\Python311\\Lib\\site-packages\\pandas\\core\\computation\\expressions.py:70\u001b[0m, in \u001b[0;36m_evaluate_standard\u001b[1;34m(op, op_str, a, b)\u001b[0m\n\u001b[0;32m     69\u001b[0m     _store_test_result(\u001b[39mFalse\u001b[39;00m)\n\u001b[1;32m---> 70\u001b[0m \u001b[39mreturn\u001b[39;00m op(a, b)\n",
      "\u001b[1;31mTypeError\u001b[0m: unsupported operand type(s) for /: 'str' and 'str'",
      "\nDuring handling of the above exception, another exception occurred:\n",
      "\u001b[1;31mTypeError\u001b[0m                                 Traceback (most recent call last)",
      "\u001b[1;32mc:\\Users\\Usuario\\Desktop\\steam_games_p1\\4_consultas.ipynb Cell 44\u001b[0m line \u001b[0;36m1\n\u001b[1;32m----> <a href='vscode-notebook-cell:/c%3A/Users/Usuario/Desktop/steam_games_p1/4_consultas.ipynb#Y122sZmlsZQ%3D%3D?line=0'>1</a>\u001b[0m df\u001b[39m/\u001b[39;49mdf_free\n",
      "File \u001b[1;32mc:\\Users\\Usuario\\AppData\\Local\\Programs\\Python\\Python311\\Lib\\site-packages\\pandas\\core\\ops\\common.py:72\u001b[0m, in \u001b[0;36m_unpack_zerodim_and_defer.<locals>.new_method\u001b[1;34m(self, other)\u001b[0m\n\u001b[0;32m     68\u001b[0m             \u001b[39mreturn\u001b[39;00m \u001b[39mNotImplemented\u001b[39m\n\u001b[0;32m     70\u001b[0m other \u001b[39m=\u001b[39m item_from_zerodim(other)\n\u001b[1;32m---> 72\u001b[0m \u001b[39mreturn\u001b[39;00m method(\u001b[39mself\u001b[39;49m, other)\n",
      "File \u001b[1;32mc:\\Users\\Usuario\\AppData\\Local\\Programs\\Python\\Python311\\Lib\\site-packages\\pandas\\core\\arraylike.py:126\u001b[0m, in \u001b[0;36mOpsMixin.__truediv__\u001b[1;34m(self, other)\u001b[0m\n\u001b[0;32m    124\u001b[0m \u001b[39m@unpack_zerodim_and_defer\u001b[39m(\u001b[39m\"\u001b[39m\u001b[39m__truediv__\u001b[39m\u001b[39m\"\u001b[39m)\n\u001b[0;32m    125\u001b[0m \u001b[39mdef\u001b[39;00m \u001b[39m__truediv__\u001b[39m(\u001b[39mself\u001b[39m, other):\n\u001b[1;32m--> 126\u001b[0m     \u001b[39mreturn\u001b[39;00m \u001b[39mself\u001b[39;49m\u001b[39m.\u001b[39;49m_arith_method(other, operator\u001b[39m.\u001b[39;49mtruediv)\n",
      "File \u001b[1;32mc:\\Users\\Usuario\\AppData\\Local\\Programs\\Python\\Python311\\Lib\\site-packages\\pandas\\core\\frame.py:7587\u001b[0m, in \u001b[0;36mDataFrame._arith_method\u001b[1;34m(self, other, op)\u001b[0m\n\u001b[0;32m   7585\u001b[0m \u001b[39mdef\u001b[39;00m \u001b[39m_arith_method\u001b[39m(\u001b[39mself\u001b[39m, other, op):\n\u001b[0;32m   7586\u001b[0m     \u001b[39mif\u001b[39;00m ops\u001b[39m.\u001b[39mshould_reindex_frame_op(\u001b[39mself\u001b[39m, other, op, \u001b[39m1\u001b[39m, \u001b[39m1\u001b[39m, \u001b[39mNone\u001b[39;00m, \u001b[39mNone\u001b[39;00m):\n\u001b[1;32m-> 7587\u001b[0m         \u001b[39mreturn\u001b[39;00m ops\u001b[39m.\u001b[39;49mframe_arith_method_with_reindex(\u001b[39mself\u001b[39;49m, other, op)\n\u001b[0;32m   7589\u001b[0m     axis \u001b[39m=\u001b[39m \u001b[39m1\u001b[39m  \u001b[39m# only relevant for Series other case\u001b[39;00m\n\u001b[0;32m   7590\u001b[0m     other \u001b[39m=\u001b[39m ops\u001b[39m.\u001b[39mmaybe_prepare_scalar_for_op(other, (\u001b[39mself\u001b[39m\u001b[39m.\u001b[39mshape[axis],))\n",
      "File \u001b[1;32mc:\\Users\\Usuario\\AppData\\Local\\Programs\\Python\\Python311\\Lib\\site-packages\\pandas\\core\\ops\\__init__.py:368\u001b[0m, in \u001b[0;36mframe_arith_method_with_reindex\u001b[1;34m(left, right, op)\u001b[0m\n\u001b[0;32m    366\u001b[0m new_left \u001b[39m=\u001b[39m left\u001b[39m.\u001b[39miloc[:, lcols]\n\u001b[0;32m    367\u001b[0m new_right \u001b[39m=\u001b[39m right\u001b[39m.\u001b[39miloc[:, rcols]\n\u001b[1;32m--> 368\u001b[0m result \u001b[39m=\u001b[39m op(new_left, new_right)\n\u001b[0;32m    370\u001b[0m \u001b[39m# Do the join on the columns instead of using align_method_FRAME\u001b[39;00m\n\u001b[0;32m    371\u001b[0m \u001b[39m#  to avoid constructing two potentially large/sparse DataFrames\u001b[39;00m\n\u001b[0;32m    372\u001b[0m join_columns, _, _ \u001b[39m=\u001b[39m left\u001b[39m.\u001b[39mcolumns\u001b[39m.\u001b[39mjoin(\n\u001b[0;32m    373\u001b[0m     right\u001b[39m.\u001b[39mcolumns, how\u001b[39m=\u001b[39m\u001b[39m\"\u001b[39m\u001b[39mouter\u001b[39m\u001b[39m\"\u001b[39m, level\u001b[39m=\u001b[39m\u001b[39mNone\u001b[39;00m, return_indexers\u001b[39m=\u001b[39m\u001b[39mTrue\u001b[39;00m\n\u001b[0;32m    374\u001b[0m )\n",
      "File \u001b[1;32mc:\\Users\\Usuario\\AppData\\Local\\Programs\\Python\\Python311\\Lib\\site-packages\\pandas\\core\\ops\\common.py:72\u001b[0m, in \u001b[0;36m_unpack_zerodim_and_defer.<locals>.new_method\u001b[1;34m(self, other)\u001b[0m\n\u001b[0;32m     68\u001b[0m             \u001b[39mreturn\u001b[39;00m \u001b[39mNotImplemented\u001b[39m\n\u001b[0;32m     70\u001b[0m other \u001b[39m=\u001b[39m item_from_zerodim(other)\n\u001b[1;32m---> 72\u001b[0m \u001b[39mreturn\u001b[39;00m method(\u001b[39mself\u001b[39;49m, other)\n",
      "File \u001b[1;32mc:\\Users\\Usuario\\AppData\\Local\\Programs\\Python\\Python311\\Lib\\site-packages\\pandas\\core\\arraylike.py:126\u001b[0m, in \u001b[0;36mOpsMixin.__truediv__\u001b[1;34m(self, other)\u001b[0m\n\u001b[0;32m    124\u001b[0m \u001b[39m@unpack_zerodim_and_defer\u001b[39m(\u001b[39m\"\u001b[39m\u001b[39m__truediv__\u001b[39m\u001b[39m\"\u001b[39m)\n\u001b[0;32m    125\u001b[0m \u001b[39mdef\u001b[39;00m \u001b[39m__truediv__\u001b[39m(\u001b[39mself\u001b[39m, other):\n\u001b[1;32m--> 126\u001b[0m     \u001b[39mreturn\u001b[39;00m \u001b[39mself\u001b[39;49m\u001b[39m.\u001b[39;49m_arith_method(other, operator\u001b[39m.\u001b[39;49mtruediv)\n",
      "File \u001b[1;32mc:\\Users\\Usuario\\AppData\\Local\\Programs\\Python\\Python311\\Lib\\site-packages\\pandas\\core\\frame.py:7594\u001b[0m, in \u001b[0;36mDataFrame._arith_method\u001b[1;34m(self, other, op)\u001b[0m\n\u001b[0;32m   7590\u001b[0m other \u001b[39m=\u001b[39m ops\u001b[39m.\u001b[39mmaybe_prepare_scalar_for_op(other, (\u001b[39mself\u001b[39m\u001b[39m.\u001b[39mshape[axis],))\n\u001b[0;32m   7592\u001b[0m \u001b[39mself\u001b[39m, other \u001b[39m=\u001b[39m ops\u001b[39m.\u001b[39malign_method_FRAME(\u001b[39mself\u001b[39m, other, axis, flex\u001b[39m=\u001b[39m\u001b[39mTrue\u001b[39;00m, level\u001b[39m=\u001b[39m\u001b[39mNone\u001b[39;00m)\n\u001b[1;32m-> 7594\u001b[0m new_data \u001b[39m=\u001b[39m \u001b[39mself\u001b[39;49m\u001b[39m.\u001b[39;49m_dispatch_frame_op(other, op, axis\u001b[39m=\u001b[39;49maxis)\n\u001b[0;32m   7595\u001b[0m \u001b[39mreturn\u001b[39;00m \u001b[39mself\u001b[39m\u001b[39m.\u001b[39m_construct_result(new_data)\n",
      "File \u001b[1;32mc:\\Users\\Usuario\\AppData\\Local\\Programs\\Python\\Python311\\Lib\\site-packages\\pandas\\core\\frame.py:7633\u001b[0m, in \u001b[0;36mDataFrame._dispatch_frame_op\u001b[1;34m(self, right, func, axis)\u001b[0m\n\u001b[0;32m   7627\u001b[0m     \u001b[39m# TODO: The previous assertion `assert right._indexed_same(self)`\u001b[39;00m\n\u001b[0;32m   7628\u001b[0m     \u001b[39m#  fails in cases with empty columns reached via\u001b[39;00m\n\u001b[0;32m   7629\u001b[0m     \u001b[39m#  _frame_arith_method_with_reindex\u001b[39;00m\n\u001b[0;32m   7630\u001b[0m \n\u001b[0;32m   7631\u001b[0m     \u001b[39m# TODO operate_blockwise expects a manager of the same type\u001b[39;00m\n\u001b[0;32m   7632\u001b[0m     \u001b[39mwith\u001b[39;00m np\u001b[39m.\u001b[39merrstate(\u001b[39mall\u001b[39m\u001b[39m=\u001b[39m\u001b[39m\"\u001b[39m\u001b[39mignore\u001b[39m\u001b[39m\"\u001b[39m):\n\u001b[1;32m-> 7633\u001b[0m         bm \u001b[39m=\u001b[39m \u001b[39mself\u001b[39;49m\u001b[39m.\u001b[39;49m_mgr\u001b[39m.\u001b[39;49moperate_blockwise(\n\u001b[0;32m   7634\u001b[0m             \u001b[39m# error: Argument 1 to \"operate_blockwise\" of \"ArrayManager\" has\u001b[39;49;00m\n\u001b[0;32m   7635\u001b[0m             \u001b[39m# incompatible type \"Union[ArrayManager, BlockManager]\"; expected\u001b[39;49;00m\n\u001b[0;32m   7636\u001b[0m             \u001b[39m# \"ArrayManager\"\u001b[39;49;00m\n\u001b[0;32m   7637\u001b[0m             \u001b[39m# error: Argument 1 to \"operate_blockwise\" of \"BlockManager\" has\u001b[39;49;00m\n\u001b[0;32m   7638\u001b[0m             \u001b[39m# incompatible type \"Union[ArrayManager, BlockManager]\"; expected\u001b[39;49;00m\n\u001b[0;32m   7639\u001b[0m             \u001b[39m# \"BlockManager\"\u001b[39;49;00m\n\u001b[0;32m   7640\u001b[0m             right\u001b[39m.\u001b[39;49m_mgr,  \u001b[39m# type: ignore[arg-type]\u001b[39;49;00m\n\u001b[0;32m   7641\u001b[0m             array_op,\n\u001b[0;32m   7642\u001b[0m         )\n\u001b[0;32m   7643\u001b[0m     \u001b[39mreturn\u001b[39;00m \u001b[39mself\u001b[39m\u001b[39m.\u001b[39m_constructor(bm)\n\u001b[0;32m   7645\u001b[0m \u001b[39melif\u001b[39;00m \u001b[39misinstance\u001b[39m(right, Series) \u001b[39mand\u001b[39;00m axis \u001b[39m==\u001b[39m \u001b[39m1\u001b[39m:\n\u001b[0;32m   7646\u001b[0m     \u001b[39m# axis=1 means we want to operate row-by-row\u001b[39;00m\n",
      "File \u001b[1;32mc:\\Users\\Usuario\\AppData\\Local\\Programs\\Python\\Python311\\Lib\\site-packages\\pandas\\core\\internals\\managers.py:1589\u001b[0m, in \u001b[0;36mBlockManager.operate_blockwise\u001b[1;34m(self, other, array_op)\u001b[0m\n\u001b[0;32m   1585\u001b[0m \u001b[39mdef\u001b[39;00m \u001b[39moperate_blockwise\u001b[39m(\u001b[39mself\u001b[39m, other: BlockManager, array_op) \u001b[39m-\u001b[39m\u001b[39m>\u001b[39m BlockManager:\n\u001b[0;32m   1586\u001b[0m     \u001b[39m\"\"\"\u001b[39;00m\n\u001b[0;32m   1587\u001b[0m \u001b[39m    Apply array_op blockwise with another (aligned) BlockManager.\u001b[39;00m\n\u001b[0;32m   1588\u001b[0m \u001b[39m    \"\"\"\u001b[39;00m\n\u001b[1;32m-> 1589\u001b[0m     \u001b[39mreturn\u001b[39;00m operate_blockwise(\u001b[39mself\u001b[39;49m, other, array_op)\n",
      "File \u001b[1;32mc:\\Users\\Usuario\\AppData\\Local\\Programs\\Python\\Python311\\Lib\\site-packages\\pandas\\core\\internals\\ops.py:63\u001b[0m, in \u001b[0;36moperate_blockwise\u001b[1;34m(left, right, array_op)\u001b[0m\n\u001b[0;32m     61\u001b[0m res_blks: \u001b[39mlist\u001b[39m[Block] \u001b[39m=\u001b[39m []\n\u001b[0;32m     62\u001b[0m \u001b[39mfor\u001b[39;00m lvals, rvals, locs, left_ea, right_ea, rblk \u001b[39min\u001b[39;00m _iter_block_pairs(left, right):\n\u001b[1;32m---> 63\u001b[0m     res_values \u001b[39m=\u001b[39m array_op(lvals, rvals)\n\u001b[0;32m     64\u001b[0m     \u001b[39mif\u001b[39;00m left_ea \u001b[39mand\u001b[39;00m \u001b[39mnot\u001b[39;00m right_ea \u001b[39mand\u001b[39;00m \u001b[39mhasattr\u001b[39m(res_values, \u001b[39m\"\u001b[39m\u001b[39mreshape\u001b[39m\u001b[39m\"\u001b[39m):\n\u001b[0;32m     65\u001b[0m         res_values \u001b[39m=\u001b[39m res_values\u001b[39m.\u001b[39mreshape(\u001b[39m1\u001b[39m, \u001b[39m-\u001b[39m\u001b[39m1\u001b[39m)\n",
      "File \u001b[1;32mc:\\Users\\Usuario\\AppData\\Local\\Programs\\Python\\Python311\\Lib\\site-packages\\pandas\\core\\ops\\array_ops.py:226\u001b[0m, in \u001b[0;36marithmetic_op\u001b[1;34m(left, right, op)\u001b[0m\n\u001b[0;32m    222\u001b[0m     _bool_arith_check(op, left, right)\n\u001b[0;32m    224\u001b[0m     \u001b[39m# error: Argument 1 to \"_na_arithmetic_op\" has incompatible type\u001b[39;00m\n\u001b[0;32m    225\u001b[0m     \u001b[39m# \"Union[ExtensionArray, ndarray[Any, Any]]\"; expected \"ndarray[Any, Any]\"\u001b[39;00m\n\u001b[1;32m--> 226\u001b[0m     res_values \u001b[39m=\u001b[39m _na_arithmetic_op(left, right, op)  \u001b[39m# type: ignore[arg-type]\u001b[39;00m\n\u001b[0;32m    228\u001b[0m \u001b[39mreturn\u001b[39;00m res_values\n",
      "File \u001b[1;32mc:\\Users\\Usuario\\AppData\\Local\\Programs\\Python\\Python311\\Lib\\site-packages\\pandas\\core\\ops\\array_ops.py:172\u001b[0m, in \u001b[0;36m_na_arithmetic_op\u001b[1;34m(left, right, op, is_cmp)\u001b[0m\n\u001b[0;32m    166\u001b[0m \u001b[39mexcept\u001b[39;00m \u001b[39mTypeError\u001b[39;00m:\n\u001b[0;32m    167\u001b[0m     \u001b[39mif\u001b[39;00m \u001b[39mnot\u001b[39;00m is_cmp \u001b[39mand\u001b[39;00m (is_object_dtype(left\u001b[39m.\u001b[39mdtype) \u001b[39mor\u001b[39;00m is_object_dtype(right)):\n\u001b[0;32m    168\u001b[0m         \u001b[39m# For object dtype, fallback to a masked operation (only operating\u001b[39;00m\n\u001b[0;32m    169\u001b[0m         \u001b[39m#  on the non-missing values)\u001b[39;00m\n\u001b[0;32m    170\u001b[0m         \u001b[39m# Don't do this for comparisons, as that will handle complex numbers\u001b[39;00m\n\u001b[0;32m    171\u001b[0m         \u001b[39m#  incorrectly, see GH#32047\u001b[39;00m\n\u001b[1;32m--> 172\u001b[0m         result \u001b[39m=\u001b[39m _masked_arith_op(left, right, op)\n\u001b[0;32m    173\u001b[0m     \u001b[39melse\u001b[39;00m:\n\u001b[0;32m    174\u001b[0m         \u001b[39mraise\u001b[39;00m\n",
      "File \u001b[1;32mc:\\Users\\Usuario\\AppData\\Local\\Programs\\Python\\Python311\\Lib\\site-packages\\pandas\\core\\ops\\array_ops.py:110\u001b[0m, in \u001b[0;36m_masked_arith_op\u001b[1;34m(x, y, op)\u001b[0m\n\u001b[0;32m    108\u001b[0m     \u001b[39m# See GH#5284, GH#5035, GH#19448 for historical reference\u001b[39;00m\n\u001b[0;32m    109\u001b[0m     \u001b[39mif\u001b[39;00m mask\u001b[39m.\u001b[39many():\n\u001b[1;32m--> 110\u001b[0m         result[mask] \u001b[39m=\u001b[39m op(xrav[mask], yrav[mask])\n\u001b[0;32m    112\u001b[0m \u001b[39melse\u001b[39;00m:\n\u001b[0;32m    113\u001b[0m     \u001b[39mif\u001b[39;00m \u001b[39mnot\u001b[39;00m is_scalar(y):\n",
      "\u001b[1;31mTypeError\u001b[0m: unsupported operand type(s) for /: 'str' and 'str'"
     ]
    }
   ],
   "source": [
    "df/df_free"
   ]
  },
  {
   "cell_type": "code",
   "execution_count": 207,
   "metadata": {},
   "outputs": [
    {
     "data": {
      "text/plain": [
       "developer  year\n",
       "sacada     2017    2\n",
       "           2018    1\n",
       "dtype: int64"
      ]
     },
     "execution_count": 207,
     "metadata": {},
     "output_type": "execute_result"
    }
   ],
   "source": [
    "df.groupby(['developer', 'year']).size() / estadisticas_por_empresa['cantidad_items']) * 100\n"
   ]
  },
  {
   "cell_type": "code",
   "execution_count": null,
   "metadata": {},
   "outputs": [],
   "source": [
    "    estadisticas_por_empresa = contenido_pago.groupby(['developer', 'year']).size().reset_index(name='cantidad_items')\n",
    "    estadisticas_por_empresa['porcentaje_free'] = (contenido_gratuito.groupby(['developer', 'year']).size() / estadisticas_por_empresa['cantidad_items']) * 100\n",
    "    "
   ]
  },
  {
   "cell_type": "code",
   "execution_count": 204,
   "metadata": {},
   "outputs": [
    {
     "ename": "ValueError",
     "evalue": "cannot join with no overlapping index names",
     "output_type": "error",
     "traceback": [
      "\u001b[1;31m---------------------------------------------------------------------------\u001b[0m",
      "\u001b[1;31mValueError\u001b[0m                                Traceback (most recent call last)",
      "\u001b[1;32mc:\\Users\\Usuario\\Desktop\\steam_games_p1\\4_consultas.ipynb Cell 41\u001b[0m line \u001b[0;36m2\n\u001b[0;32m     <a href='vscode-notebook-cell:/c%3A/Users/Usuario/Desktop/steam_games_p1/4_consultas.ipynb#Y113sZmlsZQ%3D%3D?line=19'>20</a>\u001b[0m data \u001b[39m=\u001b[39m {\n\u001b[0;32m     <a href='vscode-notebook-cell:/c%3A/Users/Usuario/Desktop/steam_games_p1/4_consultas.ipynb#Y113sZmlsZQ%3D%3D?line=20'>21</a>\u001b[0m     \u001b[39m'\u001b[39m\u001b[39mdeveloper\u001b[39m\u001b[39m'\u001b[39m: [\u001b[39m'\u001b[39m\u001b[39msacada\u001b[39m\u001b[39m'\u001b[39m, \u001b[39m'\u001b[39m\u001b[39msacada\u001b[39m\u001b[39m'\u001b[39m, \u001b[39m'\u001b[39m\u001b[39msacada\u001b[39m\u001b[39m'\u001b[39m],\n\u001b[0;32m     <a href='vscode-notebook-cell:/c%3A/Users/Usuario/Desktop/steam_games_p1/4_consultas.ipynb#Y113sZmlsZQ%3D%3D?line=21'>22</a>\u001b[0m     \u001b[39m'\u001b[39m\u001b[39mprice\u001b[39m\u001b[39m'\u001b[39m: [\u001b[39m'\u001b[39m\u001b[39m0\u001b[39m\u001b[39m'\u001b[39m, \u001b[39m'\u001b[39m\u001b[39m9.99\u001b[39m\u001b[39m'\u001b[39m, \u001b[39m'\u001b[39m\u001b[39m4.99\u001b[39m\u001b[39m'\u001b[39m],\n\u001b[0;32m     <a href='vscode-notebook-cell:/c%3A/Users/Usuario/Desktop/steam_games_p1/4_consultas.ipynb#Y113sZmlsZQ%3D%3D?line=22'>23</a>\u001b[0m     \u001b[39m'\u001b[39m\u001b[39myear\u001b[39m\u001b[39m'\u001b[39m: [\u001b[39m'\u001b[39m\u001b[39m2017\u001b[39m\u001b[39m'\u001b[39m, \u001b[39m'\u001b[39m\u001b[39m2017\u001b[39m\u001b[39m'\u001b[39m, \u001b[39m'\u001b[39m\u001b[39m2018\u001b[39m\u001b[39m'\u001b[39m]\n\u001b[0;32m     <a href='vscode-notebook-cell:/c%3A/Users/Usuario/Desktop/steam_games_p1/4_consultas.ipynb#Y113sZmlsZQ%3D%3D?line=23'>24</a>\u001b[0m }\n\u001b[0;32m     <a href='vscode-notebook-cell:/c%3A/Users/Usuario/Desktop/steam_games_p1/4_consultas.ipynb#Y113sZmlsZQ%3D%3D?line=25'>26</a>\u001b[0m df \u001b[39m=\u001b[39m pd\u001b[39m.\u001b[39mDataFrame(data)\n\u001b[1;32m---> <a href='vscode-notebook-cell:/c%3A/Users/Usuario/Desktop/steam_games_p1/4_consultas.ipynb#Y113sZmlsZQ%3D%3D?line=27'>28</a>\u001b[0m estadisticas \u001b[39m=\u001b[39m calcular_estadisticas_por_empresa(df)\n\u001b[0;32m     <a href='vscode-notebook-cell:/c%3A/Users/Usuario/Desktop/steam_games_p1/4_consultas.ipynb#Y113sZmlsZQ%3D%3D?line=28'>29</a>\u001b[0m \u001b[39mprint\u001b[39m(estadisticas)\n",
      "\u001b[1;32mc:\\Users\\Usuario\\Desktop\\steam_games_p1\\4_consultas.ipynb Cell 41\u001b[0m line \u001b[0;36m1\n\u001b[0;32m     <a href='vscode-notebook-cell:/c%3A/Users/Usuario/Desktop/steam_games_p1/4_consultas.ipynb#Y113sZmlsZQ%3D%3D?line=12'>13</a>\u001b[0m \u001b[39m# Calcular cantidad de items y porcentaje de contenido gratuito por año para cada empresa\u001b[39;00m\n\u001b[0;32m     <a href='vscode-notebook-cell:/c%3A/Users/Usuario/Desktop/steam_games_p1/4_consultas.ipynb#Y113sZmlsZQ%3D%3D?line=13'>14</a>\u001b[0m estadisticas_por_empresa \u001b[39m=\u001b[39m contenido_pago\u001b[39m.\u001b[39mgroupby([\u001b[39m'\u001b[39m\u001b[39mdeveloper\u001b[39m\u001b[39m'\u001b[39m, \u001b[39m'\u001b[39m\u001b[39myear\u001b[39m\u001b[39m'\u001b[39m])\u001b[39m.\u001b[39msize()\u001b[39m.\u001b[39mreset_index(name\u001b[39m=\u001b[39m\u001b[39m'\u001b[39m\u001b[39mcantidad_items\u001b[39m\u001b[39m'\u001b[39m)\n\u001b[1;32m---> <a href='vscode-notebook-cell:/c%3A/Users/Usuario/Desktop/steam_games_p1/4_consultas.ipynb#Y113sZmlsZQ%3D%3D?line=14'>15</a>\u001b[0m estadisticas_por_empresa[\u001b[39m'\u001b[39m\u001b[39mporcentaje_free\u001b[39m\u001b[39m'\u001b[39m] \u001b[39m=\u001b[39m (contenido_gratuito\u001b[39m.\u001b[39;49mgroupby([\u001b[39m'\u001b[39;49m\u001b[39mdeveloper\u001b[39;49m\u001b[39m'\u001b[39;49m, \u001b[39m'\u001b[39;49m\u001b[39myear\u001b[39;49m\u001b[39m'\u001b[39;49m])\u001b[39m.\u001b[39;49msize() \u001b[39m/\u001b[39;49m estadisticas_por_empresa[\u001b[39m'\u001b[39;49m\u001b[39mcantidad_items\u001b[39;49m\u001b[39m'\u001b[39;49m]) \u001b[39m*\u001b[39m \u001b[39m100\u001b[39m\n\u001b[0;32m     <a href='vscode-notebook-cell:/c%3A/Users/Usuario/Desktop/steam_games_p1/4_consultas.ipynb#Y113sZmlsZQ%3D%3D?line=16'>17</a>\u001b[0m \u001b[39mreturn\u001b[39;00m estadisticas_por_empresa\n",
      "File \u001b[1;32mc:\\Users\\Usuario\\AppData\\Local\\Programs\\Python\\Python311\\Lib\\site-packages\\pandas\\core\\ops\\common.py:72\u001b[0m, in \u001b[0;36m_unpack_zerodim_and_defer.<locals>.new_method\u001b[1;34m(self, other)\u001b[0m\n\u001b[0;32m     68\u001b[0m             \u001b[39mreturn\u001b[39;00m \u001b[39mNotImplemented\u001b[39m\n\u001b[0;32m     70\u001b[0m other \u001b[39m=\u001b[39m item_from_zerodim(other)\n\u001b[1;32m---> 72\u001b[0m \u001b[39mreturn\u001b[39;00m method(\u001b[39mself\u001b[39;49m, other)\n",
      "File \u001b[1;32mc:\\Users\\Usuario\\AppData\\Local\\Programs\\Python\\Python311\\Lib\\site-packages\\pandas\\core\\arraylike.py:126\u001b[0m, in \u001b[0;36mOpsMixin.__truediv__\u001b[1;34m(self, other)\u001b[0m\n\u001b[0;32m    124\u001b[0m \u001b[39m@unpack_zerodim_and_defer\u001b[39m(\u001b[39m\"\u001b[39m\u001b[39m__truediv__\u001b[39m\u001b[39m\"\u001b[39m)\n\u001b[0;32m    125\u001b[0m \u001b[39mdef\u001b[39;00m \u001b[39m__truediv__\u001b[39m(\u001b[39mself\u001b[39m, other):\n\u001b[1;32m--> 126\u001b[0m     \u001b[39mreturn\u001b[39;00m \u001b[39mself\u001b[39;49m\u001b[39m.\u001b[39;49m_arith_method(other, operator\u001b[39m.\u001b[39;49mtruediv)\n",
      "File \u001b[1;32mc:\\Users\\Usuario\\AppData\\Local\\Programs\\Python\\Python311\\Lib\\site-packages\\pandas\\core\\series.py:6258\u001b[0m, in \u001b[0;36mSeries._arith_method\u001b[1;34m(self, other, op)\u001b[0m\n\u001b[0;32m   6257\u001b[0m \u001b[39mdef\u001b[39;00m \u001b[39m_arith_method\u001b[39m(\u001b[39mself\u001b[39m, other, op):\n\u001b[1;32m-> 6258\u001b[0m     \u001b[39mself\u001b[39m, other \u001b[39m=\u001b[39m ops\u001b[39m.\u001b[39;49malign_method_SERIES(\u001b[39mself\u001b[39;49m, other)\n\u001b[0;32m   6259\u001b[0m     \u001b[39mreturn\u001b[39;00m base\u001b[39m.\u001b[39mIndexOpsMixin\u001b[39m.\u001b[39m_arith_method(\u001b[39mself\u001b[39m, other, op)\n",
      "File \u001b[1;32mc:\\Users\\Usuario\\AppData\\Local\\Programs\\Python\\Python311\\Lib\\site-packages\\pandas\\core\\ops\\__init__.py:167\u001b[0m, in \u001b[0;36malign_method_SERIES\u001b[1;34m(left, right, align_asobject)\u001b[0m\n\u001b[0;32m    164\u001b[0m             left \u001b[39m=\u001b[39m left\u001b[39m.\u001b[39mastype(\u001b[39mobject\u001b[39m)\n\u001b[0;32m    165\u001b[0m             right \u001b[39m=\u001b[39m right\u001b[39m.\u001b[39mastype(\u001b[39mobject\u001b[39m)\n\u001b[1;32m--> 167\u001b[0m         left, right \u001b[39m=\u001b[39m left\u001b[39m.\u001b[39;49malign(right, copy\u001b[39m=\u001b[39;49m\u001b[39mFalse\u001b[39;49;00m)\n\u001b[0;32m    169\u001b[0m \u001b[39mreturn\u001b[39;00m left, right\n",
      "File \u001b[1;32mc:\\Users\\Usuario\\AppData\\Local\\Programs\\Python\\Python311\\Lib\\site-packages\\pandas\\core\\series.py:4861\u001b[0m, in \u001b[0;36mSeries.align\u001b[1;34m(self, other, join, axis, level, copy, fill_value, method, limit, fill_axis, broadcast_axis)\u001b[0m\n\u001b[0;32m   4843\u001b[0m \u001b[39m@doc\u001b[39m(\n\u001b[0;32m   4844\u001b[0m     NDFrame\u001b[39m.\u001b[39malign,  \u001b[39m# type: ignore[has-type]\u001b[39;00m\n\u001b[0;32m   4845\u001b[0m     klass\u001b[39m=\u001b[39m_shared_doc_kwargs[\u001b[39m\"\u001b[39m\u001b[39mklass\u001b[39m\u001b[39m\"\u001b[39m],\n\u001b[1;32m   (...)\u001b[0m\n\u001b[0;32m   4859\u001b[0m     broadcast_axis: Axis \u001b[39m|\u001b[39m \u001b[39mNone\u001b[39;00m \u001b[39m=\u001b[39m \u001b[39mNone\u001b[39;00m,\n\u001b[0;32m   4860\u001b[0m ) \u001b[39m-\u001b[39m\u001b[39m>\u001b[39m Series:\n\u001b[1;32m-> 4861\u001b[0m     \u001b[39mreturn\u001b[39;00m \u001b[39msuper\u001b[39;49m()\u001b[39m.\u001b[39;49malign(\n\u001b[0;32m   4862\u001b[0m         other,\n\u001b[0;32m   4863\u001b[0m         join\u001b[39m=\u001b[39;49mjoin,\n\u001b[0;32m   4864\u001b[0m         axis\u001b[39m=\u001b[39;49maxis,\n\u001b[0;32m   4865\u001b[0m         level\u001b[39m=\u001b[39;49mlevel,\n\u001b[0;32m   4866\u001b[0m         copy\u001b[39m=\u001b[39;49mcopy,\n\u001b[0;32m   4867\u001b[0m         fill_value\u001b[39m=\u001b[39;49mfill_value,\n\u001b[0;32m   4868\u001b[0m         method\u001b[39m=\u001b[39;49mmethod,\n\u001b[0;32m   4869\u001b[0m         limit\u001b[39m=\u001b[39;49mlimit,\n\u001b[0;32m   4870\u001b[0m         fill_axis\u001b[39m=\u001b[39;49mfill_axis,\n\u001b[0;32m   4871\u001b[0m         broadcast_axis\u001b[39m=\u001b[39;49mbroadcast_axis,\n\u001b[0;32m   4872\u001b[0m     )\n",
      "File \u001b[1;32mc:\\Users\\Usuario\\AppData\\Local\\Programs\\Python\\Python311\\Lib\\site-packages\\pandas\\core\\generic.py:9452\u001b[0m, in \u001b[0;36mNDFrame.align\u001b[1;34m(self, other, join, axis, level, copy, fill_value, method, limit, fill_axis, broadcast_axis)\u001b[0m\n\u001b[0;32m   9440\u001b[0m     \u001b[39mreturn\u001b[39;00m \u001b[39mself\u001b[39m\u001b[39m.\u001b[39m_align_frame(\n\u001b[0;32m   9441\u001b[0m         other,\n\u001b[0;32m   9442\u001b[0m         join\u001b[39m=\u001b[39mjoin,\n\u001b[1;32m   (...)\u001b[0m\n\u001b[0;32m   9449\u001b[0m         fill_axis\u001b[39m=\u001b[39mfill_axis,\n\u001b[0;32m   9450\u001b[0m     )\n\u001b[0;32m   9451\u001b[0m \u001b[39melif\u001b[39;00m \u001b[39misinstance\u001b[39m(other, ABCSeries):\n\u001b[1;32m-> 9452\u001b[0m     \u001b[39mreturn\u001b[39;00m \u001b[39mself\u001b[39;49m\u001b[39m.\u001b[39;49m_align_series(\n\u001b[0;32m   9453\u001b[0m         other,\n\u001b[0;32m   9454\u001b[0m         join\u001b[39m=\u001b[39;49mjoin,\n\u001b[0;32m   9455\u001b[0m         axis\u001b[39m=\u001b[39;49maxis,\n\u001b[0;32m   9456\u001b[0m         level\u001b[39m=\u001b[39;49mlevel,\n\u001b[0;32m   9457\u001b[0m         copy\u001b[39m=\u001b[39;49mcopy,\n\u001b[0;32m   9458\u001b[0m         fill_value\u001b[39m=\u001b[39;49mfill_value,\n\u001b[0;32m   9459\u001b[0m         method\u001b[39m=\u001b[39;49mmethod,\n\u001b[0;32m   9460\u001b[0m         limit\u001b[39m=\u001b[39;49mlimit,\n\u001b[0;32m   9461\u001b[0m         fill_axis\u001b[39m=\u001b[39;49mfill_axis,\n\u001b[0;32m   9462\u001b[0m     )\n\u001b[0;32m   9463\u001b[0m \u001b[39melse\u001b[39;00m:  \u001b[39m# pragma: no cover\u001b[39;00m\n\u001b[0;32m   9464\u001b[0m     \u001b[39mraise\u001b[39;00m \u001b[39mTypeError\u001b[39;00m(\u001b[39mf\u001b[39m\u001b[39m\"\u001b[39m\u001b[39munsupported type: \u001b[39m\u001b[39m{\u001b[39;00m\u001b[39mtype\u001b[39m(other)\u001b[39m}\u001b[39;00m\u001b[39m\"\u001b[39m)\n",
      "File \u001b[1;32mc:\\Users\\Usuario\\AppData\\Local\\Programs\\Python\\Python311\\Lib\\site-packages\\pandas\\core\\generic.py:9559\u001b[0m, in \u001b[0;36mNDFrame._align_series\u001b[1;34m(self, other, join, axis, level, copy, fill_value, method, limit, fill_axis)\u001b[0m\n\u001b[0;32m   9557\u001b[0m     join_index, lidx, ridx \u001b[39m=\u001b[39m \u001b[39mNone\u001b[39;00m, \u001b[39mNone\u001b[39;00m, \u001b[39mNone\u001b[39;00m\n\u001b[0;32m   9558\u001b[0m \u001b[39melse\u001b[39;00m:\n\u001b[1;32m-> 9559\u001b[0m     join_index, lidx, ridx \u001b[39m=\u001b[39m \u001b[39mself\u001b[39;49m\u001b[39m.\u001b[39;49mindex\u001b[39m.\u001b[39;49mjoin(\n\u001b[0;32m   9560\u001b[0m         other\u001b[39m.\u001b[39;49mindex, how\u001b[39m=\u001b[39;49mjoin, level\u001b[39m=\u001b[39;49mlevel, return_indexers\u001b[39m=\u001b[39;49m\u001b[39mTrue\u001b[39;49;00m\n\u001b[0;32m   9561\u001b[0m     )\n\u001b[0;32m   9563\u001b[0m \u001b[39mif\u001b[39;00m is_series:\n\u001b[0;32m   9564\u001b[0m     left \u001b[39m=\u001b[39m \u001b[39mself\u001b[39m\u001b[39m.\u001b[39m_reindex_indexer(join_index, lidx, copy)\n",
      "File \u001b[1;32mc:\\Users\\Usuario\\AppData\\Local\\Programs\\Python\\Python311\\Lib\\site-packages\\pandas\\util\\_decorators.py:331\u001b[0m, in \u001b[0;36mdeprecate_nonkeyword_arguments.<locals>.decorate.<locals>.wrapper\u001b[1;34m(*args, **kwargs)\u001b[0m\n\u001b[0;32m    325\u001b[0m \u001b[39mif\u001b[39;00m \u001b[39mlen\u001b[39m(args) \u001b[39m>\u001b[39m num_allow_args:\n\u001b[0;32m    326\u001b[0m     warnings\u001b[39m.\u001b[39mwarn(\n\u001b[0;32m    327\u001b[0m         msg\u001b[39m.\u001b[39mformat(arguments\u001b[39m=\u001b[39m_format_argument_list(allow_args)),\n\u001b[0;32m    328\u001b[0m         \u001b[39mFutureWarning\u001b[39;00m,\n\u001b[0;32m    329\u001b[0m         stacklevel\u001b[39m=\u001b[39mfind_stack_level(),\n\u001b[0;32m    330\u001b[0m     )\n\u001b[1;32m--> 331\u001b[0m \u001b[39mreturn\u001b[39;00m func(\u001b[39m*\u001b[39;49margs, \u001b[39m*\u001b[39;49m\u001b[39m*\u001b[39;49mkwargs)\n",
      "File \u001b[1;32mc:\\Users\\Usuario\\AppData\\Local\\Programs\\Python\\Python311\\Lib\\site-packages\\pandas\\core\\indexes\\base.py:228\u001b[0m, in \u001b[0;36m_maybe_return_indexers.<locals>.join\u001b[1;34m(self, other, how, level, return_indexers, sort)\u001b[0m\n\u001b[0;32m    219\u001b[0m \u001b[39m@functools\u001b[39m\u001b[39m.\u001b[39mwraps(meth)\n\u001b[0;32m    220\u001b[0m \u001b[39mdef\u001b[39;00m \u001b[39mjoin\u001b[39m(\n\u001b[0;32m    221\u001b[0m     \u001b[39mself\u001b[39m,\n\u001b[1;32m   (...)\u001b[0m\n\u001b[0;32m    226\u001b[0m     sort: \u001b[39mbool\u001b[39m \u001b[39m=\u001b[39m \u001b[39mFalse\u001b[39;00m,\n\u001b[0;32m    227\u001b[0m ):\n\u001b[1;32m--> 228\u001b[0m     join_index, lidx, ridx \u001b[39m=\u001b[39m meth(\u001b[39mself\u001b[39;49m, other, how\u001b[39m=\u001b[39;49mhow, level\u001b[39m=\u001b[39;49mlevel, sort\u001b[39m=\u001b[39;49msort)\n\u001b[0;32m    229\u001b[0m     \u001b[39mif\u001b[39;00m \u001b[39mnot\u001b[39;00m return_indexers:\n\u001b[0;32m    230\u001b[0m         \u001b[39mreturn\u001b[39;00m join_index\n",
      "File \u001b[1;32mc:\\Users\\Usuario\\AppData\\Local\\Programs\\Python\\Python311\\Lib\\site-packages\\pandas\\core\\indexes\\base.py:4615\u001b[0m, in \u001b[0;36mIndex.join\u001b[1;34m(self, other, how, level, return_indexers, sort)\u001b[0m\n\u001b[0;32m   4613\u001b[0m         \u001b[39mpass\u001b[39;00m\n\u001b[0;32m   4614\u001b[0m     \u001b[39melse\u001b[39;00m:\n\u001b[1;32m-> 4615\u001b[0m         \u001b[39mreturn\u001b[39;00m \u001b[39mself\u001b[39;49m\u001b[39m.\u001b[39;49m_join_multi(other, how\u001b[39m=\u001b[39;49mhow)\n\u001b[0;32m   4617\u001b[0m \u001b[39m# join on the level\u001b[39;00m\n\u001b[0;32m   4618\u001b[0m \u001b[39mif\u001b[39;00m level \u001b[39mis\u001b[39;00m \u001b[39mnot\u001b[39;00m \u001b[39mNone\u001b[39;00m \u001b[39mand\u001b[39;00m (\u001b[39mself\u001b[39m\u001b[39m.\u001b[39m_is_multi \u001b[39mor\u001b[39;00m other\u001b[39m.\u001b[39m_is_multi):\n",
      "File \u001b[1;32mc:\\Users\\Usuario\\AppData\\Local\\Programs\\Python\\Python311\\Lib\\site-packages\\pandas\\core\\indexes\\base.py:4739\u001b[0m, in \u001b[0;36mIndex._join_multi\u001b[1;34m(self, other, how)\u001b[0m\n\u001b[0;32m   4737\u001b[0m \u001b[39m# need at least 1 in common\u001b[39;00m\n\u001b[0;32m   4738\u001b[0m \u001b[39mif\u001b[39;00m \u001b[39mnot\u001b[39;00m overlap:\n\u001b[1;32m-> 4739\u001b[0m     \u001b[39mraise\u001b[39;00m \u001b[39mValueError\u001b[39;00m(\u001b[39m\"\u001b[39m\u001b[39mcannot join with no overlapping index names\u001b[39m\u001b[39m\"\u001b[39m)\n\u001b[0;32m   4741\u001b[0m \u001b[39mif\u001b[39;00m \u001b[39misinstance\u001b[39m(\u001b[39mself\u001b[39m, MultiIndex) \u001b[39mand\u001b[39;00m \u001b[39misinstance\u001b[39m(other, MultiIndex):\n\u001b[0;32m   4742\u001b[0m \n\u001b[0;32m   4743\u001b[0m     \u001b[39m# Drop the non-matching levels from left and right respectively\u001b[39;00m\n\u001b[0;32m   4744\u001b[0m     ldrop_names \u001b[39m=\u001b[39m \u001b[39msorted\u001b[39m(self_names \u001b[39m-\u001b[39m overlap, key\u001b[39m=\u001b[39mself_names_order)\n",
      "\u001b[1;31mValueError\u001b[0m: cannot join with no overlapping index names"
     ]
    }
   ],
   "source": [
    "import pandas as pd\n",
    "\n",
    "def calcular_estadisticas_por_empresa(df):\n",
    "    # Convertir 'price' a numérico, considerando errores como NaN\n",
    "    df['price'] = pd.to_numeric(df['price'], errors='coerce')\n",
    "    \n",
    "    # Filtrar solo filas con valores no nulos en 'price' (que indican contenido no gratuito)\n",
    "    contenido_pago = df.dropna(subset=['price'])\n",
    "    \n",
    "    # Filtrar solo filas con valores nulos en 'price' (que indican contenido gratuito)\n",
    "    contenido_gratuito = df[df['price'].isnull()]\n",
    "    \n",
    "    # Calcular cantidad de items y porcentaje de contenido gratuito por año para cada empresa\n",
    "    estadisticas_por_empresa = contenido_pago.groupby(['developer', 'year']).size().reset_index(name='cantidad_items')\n",
    "    estadisticas_por_empresa['porcentaje_free'] = (contenido_gratuito.groupby(['developer', 'year']).size() / estadisticas_por_empresa['cantidad_items']) * 100\n",
    "    \n",
    "    return estadisticas_por_empresa\n",
    "\n",
    "# Ejemplo de uso con tu DataFrame\n",
    "data = {\n",
    "    'developer': ['sacada', 'sacada', 'sacada'],\n",
    "    'price': ['0', '9.99', '4.99'],\n",
    "    'year': ['2017', '2017', '2018']\n",
    "}\n",
    "\n",
    "df = pd.DataFrame(data)\n",
    "\n",
    "estadisticas = calcular_estadisticas_por_empresa(df)\n",
    "print(estadisticas)\n"
   ]
  }
 ],
 "metadata": {
  "kernelspec": {
   "display_name": "Python 3",
   "language": "python",
   "name": "python3"
  },
  "language_info": {
   "codemirror_mode": {
    "name": "ipython",
    "version": 3
   },
   "file_extension": ".py",
   "mimetype": "text/x-python",
   "name": "python",
   "nbconvert_exporter": "python",
   "pygments_lexer": "ipython3",
   "version": "3.11.0"
  },
  "orig_nbformat": 4
 },
 "nbformat": 4,
 "nbformat_minor": 2
}
