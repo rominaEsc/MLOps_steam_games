{
 "cells": [
  {
   "cell_type": "markdown",
   "metadata": {},
   "source": [
    "# Indice: \n",
    "\n",
    "* Librerías y configuraciones\n",
    "* Carga de datos\n",
    "* Funciones auxiliares\n",
    "* Tablas\n",
    "    * Tabla df_users\n",
    "    * Tabla user_items_df\n",
    "    * Tabla df_items\n",
    "    * Tabla item_genre\n",
    "    * Tabla genres\n",
    "    * Tabla reviews"
   ]
  },
  {
   "cell_type": "markdown",
   "metadata": {},
   "source": [
    "---"
   ]
  },
  {
   "cell_type": "markdown",
   "metadata": {},
   "source": [
    "---"
   ]
  },
  {
   "cell_type": "markdown",
   "metadata": {},
   "source": [
    "# Librerías y configuraciones\n"
   ]
  },
  {
   "cell_type": "code",
   "execution_count": 627,
   "metadata": {},
   "outputs": [],
   "source": [
    "import pandas as pd\n",
    "import ast\n",
    "import json\n",
    "from textblob import TextBlob\n",
    "import matplotlib.pyplot as plt\n",
    "import warnings\n"
   ]
  },
  {
   "cell_type": "code",
   "execution_count": 628,
   "metadata": {},
   "outputs": [],
   "source": [
    "pd.set_option('display.max_colwidth', 100)\n",
    "warnings.filterwarnings('ignore')\n"
   ]
  },
  {
   "cell_type": "markdown",
   "metadata": {},
   "source": [
    "---"
   ]
  },
  {
   "cell_type": "markdown",
   "metadata": {},
   "source": [
    "---"
   ]
  },
  {
   "cell_type": "markdown",
   "metadata": {},
   "source": [
    "# Carga de datos"
   ]
  },
  {
   "cell_type": "code",
   "execution_count": 629,
   "metadata": {},
   "outputs": [],
   "source": [
    "raw_steam_games = pd.read_csv('data/raw_steam_games.csv')\n",
    "raw_user_items = pd.read_csv('data/raw_user_items.csv')\n",
    "raw_user_reviews = pd.read_csv('data/raw_user_reviews.csv')"
   ]
  },
  {
   "cell_type": "markdown",
   "metadata": {},
   "source": [
    "----"
   ]
  },
  {
   "cell_type": "markdown",
   "metadata": {},
   "source": [
    "----"
   ]
  },
  {
   "cell_type": "markdown",
   "metadata": {},
   "source": [
    "# Funciones auxiliares"
   ]
  },
  {
   "cell_type": "code",
   "execution_count": 630,
   "metadata": {},
   "outputs": [],
   "source": [
    "def valores_unicos(df):\n",
    "    for x in list(df.columns):\n",
    "        print('cant de valores unicos enla columna', x, ': ', len(df[x].unique()))"
   ]
  },
  {
   "cell_type": "code",
   "execution_count": 631,
   "metadata": {},
   "outputs": [],
   "source": [
    "def duplicados_de(df):\n",
    "    df_columns = df.columns.tolist()\n",
    "    for i in df.columns:\n",
    "        print( 'Duplicados de ',i,': ', df.duplicated(subset=i,keep=False).sum())"
   ]
  },
  {
   "cell_type": "code",
   "execution_count": 632,
   "metadata": {},
   "outputs": [],
   "source": [
    "def lista_de_dic_a_df(df,col1,col_list_dic):\n",
    "    df = df[[col1,col_list_dic]] #filtro el df con las columnas que necesito\n",
    "    df[col_list_dic] = df[col_list_dic].apply(json.loads) # transformo la lista a str\n",
    "    df = df.explode(col_list_dic).reset_index(drop=True) #\n",
    "    llaves = list(df[[col_list_dic]].iloc[0,0].keys())\n",
    "    for llave in llaves:\n",
    "        df[llave] = df[col_list_dic].apply(lambda x: x[llave])\n",
    "    return df"
   ]
  },
  {
   "cell_type": "code",
   "execution_count": 633,
   "metadata": {},
   "outputs": [],
   "source": [
    "def columna_con_listas_a_df(df,columna):\n",
    "    data = df[[columna]]\n",
    "    data.dropna(inplace=True)\n",
    "    data['name'] = data[columna].apply(ast.literal_eval)\n",
    "    data = data.explode('name')\n",
    "    data = data.drop_duplicates(subset='name').reset_index(drop=True)\n",
    "    data.insert(0,'id_' + columna,range(1,len(data)+1))\n",
    "    data = data.drop(columns=[columna])\n",
    "    data.reset_index(drop=True,inplace=True)\n",
    "\n",
    "    return data"
   ]
  },
  {
   "cell_type": "code",
   "execution_count": 634,
   "metadata": {},
   "outputs": [],
   "source": [
    "def tabla_intermedia(df,col1_id,col2_lista):\n",
    "    data = df[[col1_id,col2_lista]]\n",
    "    # if data[data[['col2_lista']] == '[]'].shape[0] != 0:\n",
    "    #     data = data.replace('[]', None)\n",
    "    data = data.dropna()\n",
    "    data[col2_lista] = data[col2_lista].apply(ast.literal_eval)\n",
    "    data = data.explode(col2_lista)\n",
    "    if data.duplicated().sum() != 0:\n",
    "        data = data.drop_duplicated()\n",
    "    data.reset_index(drop=True,inplace=True)\n",
    "\n",
    "    return data"
   ]
  },
  {
   "cell_type": "code",
   "execution_count": 635,
   "metadata": {},
   "outputs": [],
   "source": [
    "def play_4ever_x_genre(genre):\n",
    "    id_items_filtrados = df_item_genre[df_item_genre.genres == genre]\n",
    "    df = pd.merge(\n",
    "        id_items_filtrados,\n",
    "        item_id_playtime_forever,\n",
    "        on = 'item_id',\n",
    "        how = 'inner'\n",
    "    )\n",
    "    # print(genre , df.shape[0])\n",
    "    cant = df.playtime_forever.sum()\n",
    "\n",
    "    return cant"
   ]
  },
  {
   "cell_type": "code",
   "execution_count": 636,
   "metadata": {},
   "outputs": [],
   "source": [
    "def analisis_de_sentimientos(text):\n",
    "    analysis = TextBlob(text)\n",
    "    if analysis.sentiment.polarity < 0:\n",
    "        return 0  # Negativo\n",
    "    elif analysis.sentiment.polarity == 0:\n",
    "        return 1  # Neutral\n",
    "    else:\n",
    "        return 2  # Positivo"
   ]
  },
  {
   "cell_type": "markdown",
   "metadata": {},
   "source": [
    "----"
   ]
  },
  {
   "cell_type": "markdown",
   "metadata": {},
   "source": [
    "----"
   ]
  },
  {
   "cell_type": "markdown",
   "metadata": {},
   "source": [
    "# Tablas"
   ]
  },
  {
   "cell_type": "markdown",
   "metadata": {},
   "source": [
    "---"
   ]
  },
  {
   "cell_type": "markdown",
   "metadata": {},
   "source": [
    "# Tabla df_users"
   ]
  },
  {
   "cell_type": "markdown",
   "metadata": {},
   "source": [
    "---"
   ]
  },
  {
   "cell_type": "markdown",
   "metadata": {},
   "source": [
    "Esta tabla contendrá información sobre los usuarios en las siguientes columnas: user_id, items_count y user_url."
   ]
  },
  {
   "cell_type": "code",
   "execution_count": 637,
   "metadata": {},
   "outputs": [
    {
     "data": {
      "text/html": [
       "<div>\n",
       "<style scoped>\n",
       "    .dataframe tbody tr th:only-of-type {\n",
       "        vertical-align: middle;\n",
       "    }\n",
       "\n",
       "    .dataframe tbody tr th {\n",
       "        vertical-align: top;\n",
       "    }\n",
       "\n",
       "    .dataframe thead th {\n",
       "        text-align: right;\n",
       "    }\n",
       "</style>\n",
       "<table border=\"1\" class=\"dataframe\">\n",
       "  <thead>\n",
       "    <tr style=\"text-align: right;\">\n",
       "      <th></th>\n",
       "      <th>user_id</th>\n",
       "      <th>items_count</th>\n",
       "      <th>steam_id</th>\n",
       "      <th>user_url</th>\n",
       "      <th>items</th>\n",
       "    </tr>\n",
       "  </thead>\n",
       "  <tbody>\n",
       "    <tr>\n",
       "      <th>0</th>\n",
       "      <td>76561197970982479</td>\n",
       "      <td>277</td>\n",
       "      <td>76561197970982479</td>\n",
       "      <td>http://steamcommunity.com/profiles/76561197970982479</td>\n",
       "      <td>[{\"item_id\": \"10\", \"item_name\": \"Counter-Strike\", \"playtime_forever\": 6, \"playtime_2weeks\": 0}, ...</td>\n",
       "    </tr>\n",
       "  </tbody>\n",
       "</table>\n",
       "</div>"
      ],
      "text/plain": [
       "             user_id  items_count           steam_id  \\\n",
       "0  76561197970982479          277  76561197970982479   \n",
       "\n",
       "                                               user_url  \\\n",
       "0  http://steamcommunity.com/profiles/76561197970982479   \n",
       "\n",
       "                                                                                                 items  \n",
       "0  [{\"item_id\": \"10\", \"item_name\": \"Counter-Strike\", \"playtime_forever\": 6, \"playtime_2weeks\": 0}, ...  "
      ]
     },
     "execution_count": 637,
     "metadata": {},
     "output_type": "execute_result"
    }
   ],
   "source": [
    "raw_user_items.head(1)"
   ]
  },
  {
   "cell_type": "code",
   "execution_count": 638,
   "metadata": {},
   "outputs": [
    {
     "name": "stdout",
     "output_type": "stream",
     "text": [
      "<class 'pandas.core.frame.DataFrame'>\n",
      "RangeIndex: 70939 entries, 0 to 70938\n",
      "Data columns (total 5 columns):\n",
      " #   Column       Non-Null Count  Dtype \n",
      "---  ------       --------------  ----- \n",
      " 0   user_id      70939 non-null  object\n",
      " 1   items_count  70939 non-null  int64 \n",
      " 2   steam_id     70939 non-null  int64 \n",
      " 3   user_url     70939 non-null  object\n",
      " 4   items        70939 non-null  object\n",
      "dtypes: int64(2), object(3)\n",
      "memory usage: 2.7+ MB\n"
     ]
    }
   ],
   "source": [
    "raw_user_items.info()"
   ]
  },
  {
   "cell_type": "code",
   "execution_count": 639,
   "metadata": {},
   "outputs": [
    {
     "name": "stdout",
     "output_type": "stream",
     "text": [
      "cant de valores unicos enla columna user_id :  70912\n",
      "cant de valores unicos enla columna items_count :  924\n",
      "cant de valores unicos enla columna steam_id :  70912\n",
      "cant de valores unicos enla columna user_url :  70912\n"
     ]
    },
    {
     "name": "stdout",
     "output_type": "stream",
     "text": [
      "cant de valores unicos enla columna items :  68901\n"
     ]
    }
   ],
   "source": [
    "valores_unicos(raw_user_items)"
   ]
  },
  {
   "cell_type": "markdown",
   "metadata": {},
   "source": [
    "En un análisis anterior observamos valores de id duplicados. En el caso de la creación de esta tabla seran eliminados ya que no se tomará en cuenta la columna items que es donde difieren las filas."
   ]
  },
  {
   "cell_type": "code",
   "execution_count": 640,
   "metadata": {},
   "outputs": [],
   "source": [
    "df_users = raw_user_items.drop_duplicates(subset='user_id')"
   ]
  },
  {
   "cell_type": "code",
   "execution_count": 641,
   "metadata": {},
   "outputs": [
    {
     "data": {
      "text/html": [
       "<div>\n",
       "<style scoped>\n",
       "    .dataframe tbody tr th:only-of-type {\n",
       "        vertical-align: middle;\n",
       "    }\n",
       "\n",
       "    .dataframe tbody tr th {\n",
       "        vertical-align: top;\n",
       "    }\n",
       "\n",
       "    .dataframe thead th {\n",
       "        text-align: right;\n",
       "    }\n",
       "</style>\n",
       "<table border=\"1\" class=\"dataframe\">\n",
       "  <thead>\n",
       "    <tr style=\"text-align: right;\">\n",
       "      <th></th>\n",
       "      <th>user_id</th>\n",
       "      <th>items_count</th>\n",
       "      <th>steam_id</th>\n",
       "      <th>user_url</th>\n",
       "      <th>items</th>\n",
       "    </tr>\n",
       "  </thead>\n",
       "  <tbody>\n",
       "    <tr>\n",
       "      <th>0</th>\n",
       "      <td>76561197970982479</td>\n",
       "      <td>277</td>\n",
       "      <td>76561197970982479</td>\n",
       "      <td>http://steamcommunity.com/profiles/76561197970982479</td>\n",
       "      <td>[{\"item_id\": \"10\", \"item_name\": \"Counter-Strike\", \"playtime_forever\": 6, \"playtime_2weeks\": 0}, ...</td>\n",
       "    </tr>\n",
       "    <tr>\n",
       "      <th>1</th>\n",
       "      <td>js41637</td>\n",
       "      <td>888</td>\n",
       "      <td>76561198035864385</td>\n",
       "      <td>http://steamcommunity.com/id/js41637</td>\n",
       "      <td>[{\"item_id\": \"10\", \"item_name\": \"Counter-Strike\", \"playtime_forever\": 0, \"playtime_2weeks\": 0}, ...</td>\n",
       "    </tr>\n",
       "  </tbody>\n",
       "</table>\n",
       "</div>"
      ],
      "text/plain": [
       "             user_id  items_count           steam_id  \\\n",
       "0  76561197970982479          277  76561197970982479   \n",
       "1            js41637          888  76561198035864385   \n",
       "\n",
       "                                               user_url  \\\n",
       "0  http://steamcommunity.com/profiles/76561197970982479   \n",
       "1                  http://steamcommunity.com/id/js41637   \n",
       "\n",
       "                                                                                                 items  \n",
       "0  [{\"item_id\": \"10\", \"item_name\": \"Counter-Strike\", \"playtime_forever\": 6, \"playtime_2weeks\": 0}, ...  \n",
       "1  [{\"item_id\": \"10\", \"item_name\": \"Counter-Strike\", \"playtime_forever\": 0, \"playtime_2weeks\": 0}, ...  "
      ]
     },
     "execution_count": 641,
     "metadata": {},
     "output_type": "execute_result"
    }
   ],
   "source": [
    "df_users.head(2)"
   ]
  },
  {
   "cell_type": "code",
   "execution_count": 642,
   "metadata": {},
   "outputs": [
    {
     "data": {
      "text/plain": [
       "(70912, 5)"
      ]
     },
     "execution_count": 642,
     "metadata": {},
     "output_type": "execute_result"
    }
   ],
   "source": [
    "df_users.shape"
   ]
  },
  {
   "cell_type": "code",
   "execution_count": 643,
   "metadata": {},
   "outputs": [
    {
     "name": "stdout",
     "output_type": "stream",
     "text": [
      "cant de valores unicos enla columna user_id :  70912\n",
      "cant de valores unicos enla columna items_count :  924\n",
      "cant de valores unicos enla columna steam_id :  70912\n",
      "cant de valores unicos enla columna user_url :  70912\n"
     ]
    },
    {
     "name": "stdout",
     "output_type": "stream",
     "text": [
      "cant de valores unicos enla columna items :  68874\n"
     ]
    }
   ],
   "source": [
    "valores_unicos(df_users)"
   ]
  },
  {
   "cell_type": "markdown",
   "metadata": {},
   "source": [
    "Podemos ver que cada valor de user_id y de user_url son únicos."
   ]
  },
  {
   "cell_type": "code",
   "execution_count": 644,
   "metadata": {},
   "outputs": [],
   "source": [
    "df_users = raw_user_items[['user_id','user_url']]"
   ]
  },
  {
   "cell_type": "code",
   "execution_count": 645,
   "metadata": {},
   "outputs": [],
   "source": [
    "# cargar csv\n",
    "df_users.to_csv('data/df_users.csv')"
   ]
  },
  {
   "cell_type": "markdown",
   "metadata": {},
   "source": [
    "-----"
   ]
  },
  {
   "cell_type": "markdown",
   "metadata": {},
   "source": [
    "# Tabla user_items_df"
   ]
  },
  {
   "cell_type": "markdown",
   "metadata": {},
   "source": [
    "Esta tabla tendrá como columnas: \n",
    "    * user_id(identificación única del usuario),\t\n",
    "    * game_id(identificación única de los juegos) y \n",
    "    * playtime_forever( cantidad de horas que el usuario ha jugado a un juego específico)."
   ]
  },
  {
   "cell_type": "code",
   "execution_count": 646,
   "metadata": {},
   "outputs": [
    {
     "data": {
      "text/html": [
       "<div>\n",
       "<style scoped>\n",
       "    .dataframe tbody tr th:only-of-type {\n",
       "        vertical-align: middle;\n",
       "    }\n",
       "\n",
       "    .dataframe tbody tr th {\n",
       "        vertical-align: top;\n",
       "    }\n",
       "\n",
       "    .dataframe thead th {\n",
       "        text-align: right;\n",
       "    }\n",
       "</style>\n",
       "<table border=\"1\" class=\"dataframe\">\n",
       "  <thead>\n",
       "    <tr style=\"text-align: right;\">\n",
       "      <th></th>\n",
       "      <th>user_id</th>\n",
       "      <th>items_count</th>\n",
       "      <th>steam_id</th>\n",
       "      <th>user_url</th>\n",
       "      <th>items</th>\n",
       "    </tr>\n",
       "  </thead>\n",
       "  <tbody>\n",
       "    <tr>\n",
       "      <th>0</th>\n",
       "      <td>76561197970982479</td>\n",
       "      <td>277</td>\n",
       "      <td>76561197970982479</td>\n",
       "      <td>http://steamcommunity.com/profiles/76561197970982479</td>\n",
       "      <td>[{\"item_id\": \"10\", \"item_name\": \"Counter-Strike\", \"playtime_forever\": 6, \"playtime_2weeks\": 0}, ...</td>\n",
       "    </tr>\n",
       "  </tbody>\n",
       "</table>\n",
       "</div>"
      ],
      "text/plain": [
       "             user_id  items_count           steam_id  \\\n",
       "0  76561197970982479          277  76561197970982479   \n",
       "\n",
       "                                               user_url  \\\n",
       "0  http://steamcommunity.com/profiles/76561197970982479   \n",
       "\n",
       "                                                                                                 items  \n",
       "0  [{\"item_id\": \"10\", \"item_name\": \"Counter-Strike\", \"playtime_forever\": 6, \"playtime_2weeks\": 0}, ...  "
      ]
     },
     "execution_count": 646,
     "metadata": {},
     "output_type": "execute_result"
    }
   ],
   "source": [
    "raw_user_items.head(1)"
   ]
  },
  {
   "cell_type": "code",
   "execution_count": 647,
   "metadata": {},
   "outputs": [
    {
     "data": {
      "text/html": [
       "<div>\n",
       "<style scoped>\n",
       "    .dataframe tbody tr th:only-of-type {\n",
       "        vertical-align: middle;\n",
       "    }\n",
       "\n",
       "    .dataframe tbody tr th {\n",
       "        vertical-align: top;\n",
       "    }\n",
       "\n",
       "    .dataframe thead th {\n",
       "        text-align: right;\n",
       "    }\n",
       "</style>\n",
       "<table border=\"1\" class=\"dataframe\">\n",
       "  <thead>\n",
       "    <tr style=\"text-align: right;\">\n",
       "      <th></th>\n",
       "      <th>user_id</th>\n",
       "      <th>item_id</th>\n",
       "      <th>playtime_forever</th>\n",
       "    </tr>\n",
       "  </thead>\n",
       "  <tbody>\n",
       "    <tr>\n",
       "      <th>0</th>\n",
       "      <td>76561197970982479</td>\n",
       "      <td>10</td>\n",
       "      <td>6</td>\n",
       "    </tr>\n",
       "    <tr>\n",
       "      <th>1</th>\n",
       "      <td>76561197970982479</td>\n",
       "      <td>20</td>\n",
       "      <td>0</td>\n",
       "    </tr>\n",
       "    <tr>\n",
       "      <th>2</th>\n",
       "      <td>76561197970982479</td>\n",
       "      <td>30</td>\n",
       "      <td>7</td>\n",
       "    </tr>\n",
       "    <tr>\n",
       "      <th>3</th>\n",
       "      <td>76561197970982479</td>\n",
       "      <td>40</td>\n",
       "      <td>0</td>\n",
       "    </tr>\n",
       "    <tr>\n",
       "      <th>4</th>\n",
       "      <td>76561197970982479</td>\n",
       "      <td>50</td>\n",
       "      <td>0</td>\n",
       "    </tr>\n",
       "    <tr>\n",
       "      <th>...</th>\n",
       "      <td>...</td>\n",
       "      <td>...</td>\n",
       "      <td>...</td>\n",
       "    </tr>\n",
       "    <tr>\n",
       "      <th>5097252</th>\n",
       "      <td>76561198329548331</td>\n",
       "      <td>346330</td>\n",
       "      <td>0</td>\n",
       "    </tr>\n",
       "    <tr>\n",
       "      <th>5097253</th>\n",
       "      <td>76561198329548331</td>\n",
       "      <td>373330</td>\n",
       "      <td>0</td>\n",
       "    </tr>\n",
       "    <tr>\n",
       "      <th>5097254</th>\n",
       "      <td>76561198329548331</td>\n",
       "      <td>388490</td>\n",
       "      <td>3</td>\n",
       "    </tr>\n",
       "    <tr>\n",
       "      <th>5097255</th>\n",
       "      <td>76561198329548331</td>\n",
       "      <td>521570</td>\n",
       "      <td>4</td>\n",
       "    </tr>\n",
       "    <tr>\n",
       "      <th>5097256</th>\n",
       "      <td>76561198329548331</td>\n",
       "      <td>519140</td>\n",
       "      <td>3</td>\n",
       "    </tr>\n",
       "  </tbody>\n",
       "</table>\n",
       "<p>5097257 rows × 3 columns</p>\n",
       "</div>"
      ],
      "text/plain": [
       "                   user_id item_id  playtime_forever\n",
       "0        76561197970982479      10                 6\n",
       "1        76561197970982479      20                 0\n",
       "2        76561197970982479      30                 7\n",
       "3        76561197970982479      40                 0\n",
       "4        76561197970982479      50                 0\n",
       "...                    ...     ...               ...\n",
       "5097252  76561198329548331  346330                 0\n",
       "5097253  76561198329548331  373330                 0\n",
       "5097254  76561198329548331  388490                 3\n",
       "5097255  76561198329548331  521570                 4\n",
       "5097256  76561198329548331  519140                 3\n",
       "\n",
       "[5097257 rows x 3 columns]"
      ]
     },
     "execution_count": 647,
     "metadata": {},
     "output_type": "execute_result"
    }
   ],
   "source": [
    "#extraemos la info de la columna items\n",
    "df_users_items = lista_de_dic_a_df(raw_user_items,'user_id','items')\n",
    "df_users_items = df_users_items[['user_id','item_id','playtime_forever']]\n",
    "df_users_items"
   ]
  },
  {
   "cell_type": "markdown",
   "metadata": {},
   "source": [
    "* Análisis de nulos y duplicados"
   ]
  },
  {
   "cell_type": "markdown",
   "metadata": {},
   "source": [
    "Nulos"
   ]
  },
  {
   "cell_type": "code",
   "execution_count": 648,
   "metadata": {},
   "outputs": [
    {
     "name": "stdout",
     "output_type": "stream",
     "text": [
      "nulos en playtime_forever:  0\n",
      "nulos en item_id:  0\n"
     ]
    }
   ],
   "source": [
    "print(f'nulos en playtime_forever: ', df_users_items.playtime_forever.isnull().sum())\n",
    "print(f'nulos en item_id: ', df_users_items.item_id.isnull().sum())"
   ]
  },
  {
   "cell_type": "markdown",
   "metadata": {},
   "source": [
    "Duplicados"
   ]
  },
  {
   "cell_type": "code",
   "execution_count": 649,
   "metadata": {},
   "outputs": [
    {
     "data": {
      "text/plain": [
       "3165"
      ]
     },
     "execution_count": 649,
     "metadata": {},
     "output_type": "execute_result"
    }
   ],
   "source": [
    "( \n",
    "    df_users_items\n",
    "    .duplicated()\n",
    "    .sum()\n",
    "    )"
   ]
  },
  {
   "cell_type": "markdown",
   "metadata": {},
   "source": [
    "Elimiaremos las 3165 filas duplicadas"
   ]
  },
  {
   "cell_type": "code",
   "execution_count": 650,
   "metadata": {},
   "outputs": [],
   "source": [
    "df_users_items = df_users_items.drop_duplicates()"
   ]
  },
  {
   "cell_type": "code",
   "execution_count": 651,
   "metadata": {},
   "outputs": [
    {
     "data": {
      "text/plain": [
       "(5094092, 3)"
      ]
     },
     "execution_count": 651,
     "metadata": {},
     "output_type": "execute_result"
    }
   ],
   "source": [
    "df_users_items.shape"
   ]
  },
  {
   "cell_type": "markdown",
   "metadata": {},
   "source": [
    "Ahora analizaremos las filas que poseen identicos user_id e item_id pero difieren en playtime_forever."
   ]
  },
  {
   "cell_type": "code",
   "execution_count": 652,
   "metadata": {},
   "outputs": [
    {
     "data": {
      "text/html": [
       "<div>\n",
       "<style scoped>\n",
       "    .dataframe tbody tr th:only-of-type {\n",
       "        vertical-align: middle;\n",
       "    }\n",
       "\n",
       "    .dataframe tbody tr th {\n",
       "        vertical-align: top;\n",
       "    }\n",
       "\n",
       "    .dataframe thead th {\n",
       "        text-align: right;\n",
       "    }\n",
       "</style>\n",
       "<table border=\"1\" class=\"dataframe\">\n",
       "  <thead>\n",
       "    <tr style=\"text-align: right;\">\n",
       "      <th></th>\n",
       "      <th>user_id</th>\n",
       "      <th>item_id</th>\n",
       "      <th>playtime_forever</th>\n",
       "    </tr>\n",
       "  </thead>\n",
       "  <tbody>\n",
       "    <tr>\n",
       "      <th>0</th>\n",
       "      <td>76561197970982479</td>\n",
       "      <td>10</td>\n",
       "      <td>6</td>\n",
       "    </tr>\n",
       "    <tr>\n",
       "      <th>1</th>\n",
       "      <td>76561197970982479</td>\n",
       "      <td>20</td>\n",
       "      <td>0</td>\n",
       "    </tr>\n",
       "  </tbody>\n",
       "</table>\n",
       "</div>"
      ],
      "text/plain": [
       "             user_id item_id  playtime_forever\n",
       "0  76561197970982479      10                 6\n",
       "1  76561197970982479      20                 0"
      ]
     },
     "execution_count": 652,
     "metadata": {},
     "output_type": "execute_result"
    }
   ],
   "source": [
    "df_users_items.head(2)"
   ]
  },
  {
   "cell_type": "code",
   "execution_count": 653,
   "metadata": {},
   "outputs": [],
   "source": [
    "combinaciones_userId_itemId_duplicadas = df_users_items[df_users_items.duplicated(subset=['user_id', 'item_id'], keep=False)].sort_values(by=['user_id', 'item_id'])"
   ]
  },
  {
   "cell_type": "code",
   "execution_count": 654,
   "metadata": {},
   "outputs": [
    {
     "data": {
      "text/html": [
       "<div>\n",
       "<style scoped>\n",
       "    .dataframe tbody tr th:only-of-type {\n",
       "        vertical-align: middle;\n",
       "    }\n",
       "\n",
       "    .dataframe tbody tr th {\n",
       "        vertical-align: top;\n",
       "    }\n",
       "\n",
       "    .dataframe thead th {\n",
       "        text-align: right;\n",
       "    }\n",
       "</style>\n",
       "<table border=\"1\" class=\"dataframe\">\n",
       "  <thead>\n",
       "    <tr style=\"text-align: right;\">\n",
       "      <th></th>\n",
       "      <th>user_id</th>\n",
       "      <th>item_id</th>\n",
       "      <th>playtime_forever</th>\n",
       "    </tr>\n",
       "  </thead>\n",
       "  <tbody>\n",
       "    <tr>\n",
       "      <th>398432</th>\n",
       "      <td>76561198050680344</td>\n",
       "      <td>377160</td>\n",
       "      <td>1997</td>\n",
       "    </tr>\n",
       "    <tr>\n",
       "      <th>1487810</th>\n",
       "      <td>76561198050680344</td>\n",
       "      <td>377160</td>\n",
       "      <td>2058</td>\n",
       "    </tr>\n",
       "    <tr>\n",
       "      <th>426051</th>\n",
       "      <td>76561198064956087</td>\n",
       "      <td>40100</td>\n",
       "      <td>2504</td>\n",
       "    </tr>\n",
       "    <tr>\n",
       "      <th>1557729</th>\n",
       "      <td>76561198064956087</td>\n",
       "      <td>40100</td>\n",
       "      <td>2543</td>\n",
       "    </tr>\n",
       "    <tr>\n",
       "      <th>54357</th>\n",
       "      <td>76561198072861800</td>\n",
       "      <td>433850</td>\n",
       "      <td>5083</td>\n",
       "    </tr>\n",
       "    <tr>\n",
       "      <th>2074960</th>\n",
       "      <td>76561198072861800</td>\n",
       "      <td>433850</td>\n",
       "      <td>5084</td>\n",
       "    </tr>\n",
       "    <tr>\n",
       "      <th>1535868</th>\n",
       "      <td>76561198079079942</td>\n",
       "      <td>282070</td>\n",
       "      <td>1486</td>\n",
       "    </tr>\n",
       "    <tr>\n",
       "      <th>3355746</th>\n",
       "      <td>76561198079079942</td>\n",
       "      <td>282070</td>\n",
       "      <td>1516</td>\n",
       "    </tr>\n",
       "    <tr>\n",
       "      <th>355776</th>\n",
       "      <td>76561198081666970</td>\n",
       "      <td>361600</td>\n",
       "      <td>2</td>\n",
       "    </tr>\n",
       "    <tr>\n",
       "      <th>3155027</th>\n",
       "      <td>76561198081666970</td>\n",
       "      <td>361600</td>\n",
       "      <td>9</td>\n",
       "    </tr>\n",
       "    <tr>\n",
       "      <th>355743</th>\n",
       "      <td>76561198081666970</td>\n",
       "      <td>730</td>\n",
       "      <td>31410</td>\n",
       "    </tr>\n",
       "    <tr>\n",
       "      <th>3154994</th>\n",
       "      <td>76561198081666970</td>\n",
       "      <td>730</td>\n",
       "      <td>31423</td>\n",
       "    </tr>\n",
       "    <tr>\n",
       "      <th>679943</th>\n",
       "      <td>bwolf7803</td>\n",
       "      <td>221640</td>\n",
       "      <td>1000</td>\n",
       "    </tr>\n",
       "    <tr>\n",
       "      <th>2102987</th>\n",
       "      <td>bwolf7803</td>\n",
       "      <td>221640</td>\n",
       "      <td>1001</td>\n",
       "    </tr>\n",
       "    <tr>\n",
       "      <th>680080</th>\n",
       "      <td>bwolf7803</td>\n",
       "      <td>345180</td>\n",
       "      <td>976</td>\n",
       "    </tr>\n",
       "    <tr>\n",
       "      <th>2103124</th>\n",
       "      <td>bwolf7803</td>\n",
       "      <td>345180</td>\n",
       "      <td>1009</td>\n",
       "    </tr>\n",
       "    <tr>\n",
       "      <th>680082</th>\n",
       "      <td>bwolf7803</td>\n",
       "      <td>385770</td>\n",
       "      <td>1464</td>\n",
       "    </tr>\n",
       "    <tr>\n",
       "      <th>2103126</th>\n",
       "      <td>bwolf7803</td>\n",
       "      <td>385770</td>\n",
       "      <td>1482</td>\n",
       "    </tr>\n",
       "    <tr>\n",
       "      <th>1506379</th>\n",
       "      <td>sergioxks1</td>\n",
       "      <td>291410</td>\n",
       "      <td>1357</td>\n",
       "    </tr>\n",
       "    <tr>\n",
       "      <th>3318300</th>\n",
       "      <td>sergioxks1</td>\n",
       "      <td>291410</td>\n",
       "      <td>1371</td>\n",
       "    </tr>\n",
       "  </tbody>\n",
       "</table>\n",
       "</div>"
      ],
      "text/plain": [
       "                   user_id item_id  playtime_forever\n",
       "398432   76561198050680344  377160              1997\n",
       "1487810  76561198050680344  377160              2058\n",
       "426051   76561198064956087   40100              2504\n",
       "1557729  76561198064956087   40100              2543\n",
       "54357    76561198072861800  433850              5083\n",
       "2074960  76561198072861800  433850              5084\n",
       "1535868  76561198079079942  282070              1486\n",
       "3355746  76561198079079942  282070              1516\n",
       "355776   76561198081666970  361600                 2\n",
       "3155027  76561198081666970  361600                 9\n",
       "355743   76561198081666970     730             31410\n",
       "3154994  76561198081666970     730             31423\n",
       "679943           bwolf7803  221640              1000\n",
       "2102987          bwolf7803  221640              1001\n",
       "680080           bwolf7803  345180               976\n",
       "2103124          bwolf7803  345180              1009\n",
       "680082           bwolf7803  385770              1464\n",
       "2103126          bwolf7803  385770              1482\n",
       "1506379         sergioxks1  291410              1357\n",
       "3318300         sergioxks1  291410              1371"
      ]
     },
     "execution_count": 654,
     "metadata": {},
     "output_type": "execute_result"
    }
   ],
   "source": [
    "combinaciones_userId_itemId_duplicadas"
   ]
  },
  {
   "cell_type": "markdown",
   "metadata": {},
   "source": [
    "Podemos ver que en lugar de actualizarse los datos de la columna playtime_forever, se ha creado un nuevo registro. Por lo que solo nos quedaremos con las filas que poseen el playtime_forever mayor de cada combinación, user_id-item_id."
   ]
  },
  {
   "cell_type": "code",
   "execution_count": 655,
   "metadata": {},
   "outputs": [
    {
     "data": {
      "text/html": [
       "<div>\n",
       "<style scoped>\n",
       "    .dataframe tbody tr th:only-of-type {\n",
       "        vertical-align: middle;\n",
       "    }\n",
       "\n",
       "    .dataframe tbody tr th {\n",
       "        vertical-align: top;\n",
       "    }\n",
       "\n",
       "    .dataframe thead th {\n",
       "        text-align: right;\n",
       "    }\n",
       "</style>\n",
       "<table border=\"1\" class=\"dataframe\">\n",
       "  <thead>\n",
       "    <tr style=\"text-align: right;\">\n",
       "      <th></th>\n",
       "      <th>user_id</th>\n",
       "      <th>item_id</th>\n",
       "      <th>playtime_forever</th>\n",
       "    </tr>\n",
       "  </thead>\n",
       "  <tbody>\n",
       "    <tr>\n",
       "      <th>398432</th>\n",
       "      <td>76561198050680344</td>\n",
       "      <td>377160</td>\n",
       "      <td>1997</td>\n",
       "    </tr>\n",
       "    <tr>\n",
       "      <th>426051</th>\n",
       "      <td>76561198064956087</td>\n",
       "      <td>40100</td>\n",
       "      <td>2504</td>\n",
       "    </tr>\n",
       "    <tr>\n",
       "      <th>54357</th>\n",
       "      <td>76561198072861800</td>\n",
       "      <td>433850</td>\n",
       "      <td>5083</td>\n",
       "    </tr>\n",
       "    <tr>\n",
       "      <th>1535868</th>\n",
       "      <td>76561198079079942</td>\n",
       "      <td>282070</td>\n",
       "      <td>1486</td>\n",
       "    </tr>\n",
       "    <tr>\n",
       "      <th>355776</th>\n",
       "      <td>76561198081666970</td>\n",
       "      <td>361600</td>\n",
       "      <td>2</td>\n",
       "    </tr>\n",
       "    <tr>\n",
       "      <th>355743</th>\n",
       "      <td>76561198081666970</td>\n",
       "      <td>730</td>\n",
       "      <td>31410</td>\n",
       "    </tr>\n",
       "    <tr>\n",
       "      <th>679943</th>\n",
       "      <td>bwolf7803</td>\n",
       "      <td>221640</td>\n",
       "      <td>1000</td>\n",
       "    </tr>\n",
       "    <tr>\n",
       "      <th>680080</th>\n",
       "      <td>bwolf7803</td>\n",
       "      <td>345180</td>\n",
       "      <td>976</td>\n",
       "    </tr>\n",
       "    <tr>\n",
       "      <th>680082</th>\n",
       "      <td>bwolf7803</td>\n",
       "      <td>385770</td>\n",
       "      <td>1464</td>\n",
       "    </tr>\n",
       "    <tr>\n",
       "      <th>1506379</th>\n",
       "      <td>sergioxks1</td>\n",
       "      <td>291410</td>\n",
       "      <td>1357</td>\n",
       "    </tr>\n",
       "  </tbody>\n",
       "</table>\n",
       "</div>"
      ],
      "text/plain": [
       "                   user_id item_id  playtime_forever\n",
       "398432   76561198050680344  377160              1997\n",
       "426051   76561198064956087   40100              2504\n",
       "54357    76561198072861800  433850              5083\n",
       "1535868  76561198079079942  282070              1486\n",
       "355776   76561198081666970  361600                 2\n",
       "355743   76561198081666970     730             31410\n",
       "679943           bwolf7803  221640              1000\n",
       "680080           bwolf7803  345180               976\n",
       "680082           bwolf7803  385770              1464\n",
       "1506379         sergioxks1  291410              1357"
      ]
     },
     "execution_count": 655,
     "metadata": {},
     "output_type": "execute_result"
    }
   ],
   "source": [
    "combinaciones_userId_itemId_duplicadas_a_eliminar = df_users_items[df_users_items.duplicated(subset=['user_id', 'item_id'], keep='last')].sort_values(by=['user_id', 'item_id'])\n",
    "combinaciones_userId_itemId_duplicadas_a_eliminar"
   ]
  },
  {
   "cell_type": "code",
   "execution_count": 656,
   "metadata": {},
   "outputs": [],
   "source": [
    "filas_a_eliminar = list(combinaciones_userId_itemId_duplicadas_a_eliminar.index)\n",
    "df_users_items = df_users_items.drop(filas_a_eliminar)"
   ]
  },
  {
   "cell_type": "markdown",
   "metadata": {},
   "source": [
    "* 'playtime_forever' == 0"
   ]
  },
  {
   "cell_type": "code",
   "execution_count": 657,
   "metadata": {},
   "outputs": [
    {
     "data": {
      "image/png": "[encoded data removed]",
      "text/plain": [
       "<Figure size 640x480 with 1 Axes>"
      ]
     },
     "metadata": {},
     "output_type": "display_data"
    }
   ],
   "source": [
    "ceros = (df_users_items['playtime_forever'] == 0).sum()\n",
    "no_ceros = len(df_users_items) - ceros\n",
    "\n",
    "plt.pie([ceros, no_ceros], \n",
    "        explode= (0.1, 0), # separación entre las porciones\n",
    "        labels= ['Valor 0', 'No Valor 0'], \n",
    "        colors= ['lightcoral', 'lightskyblue'], \n",
    "        autopct='%1.1f%%', # muestra los porcentajes con un solo dígito antes y después del punto decimal y seguido de un signo de porcentaje.\n",
    "        shadow=True, # sombra\n",
    "        startangle=140 # gira el gráfico 140 grados\n",
    "        )\n",
    "plt.axis('equal')  # Equal aspect ratio ensures that pie is drawn as a circle.\n",
    "plt.title('Valores de la columna playtime_forever')\n",
    "plt.show()\n"
   ]
  },
  {
   "cell_type": "markdown",
   "metadata": {},
   "source": [
    "Podemos notar que mas de un tercio de los usuarios poseen 0 en playtime_forever. Vamos a eliminar los registros cuyo valor en 'playtime_forever' sean 0 ya que significa que ese usuario ha consumido el item por menos de una hora. Esta columna se utilizará para dos enpoints, ambos requieren sumar las horas de juego, por lo que el eliminar las filas que contienen el valor 0 no afectará a las consultas."
   ]
  },
  {
   "cell_type": "code",
   "execution_count": 658,
   "metadata": {},
   "outputs": [],
   "source": [
    "filtro_playtime_forever_not0 = df_users_items.playtime_forever != 0\n",
    "df_users_items = df_users_items[filtro_playtime_forever_not0].reset_index(drop=True)\n"
   ]
  },
  {
   "cell_type": "code",
   "execution_count": 659,
   "metadata": {},
   "outputs": [
    {
     "data": {
      "text/plain": [
       "(3246352, 3)"
      ]
     },
     "execution_count": 659,
     "metadata": {},
     "output_type": "execute_result"
    }
   ],
   "source": [
    "df_users_items.shape"
   ]
  },
  {
   "cell_type": "code",
   "execution_count": 660,
   "metadata": {},
   "outputs": [
    {
     "data": {
      "text/html": [
       "<div>\n",
       "<style scoped>\n",
       "    .dataframe tbody tr th:only-of-type {\n",
       "        vertical-align: middle;\n",
       "    }\n",
       "\n",
       "    .dataframe tbody tr th {\n",
       "        vertical-align: top;\n",
       "    }\n",
       "\n",
       "    .dataframe thead th {\n",
       "        text-align: right;\n",
       "    }\n",
       "</style>\n",
       "<table border=\"1\" class=\"dataframe\">\n",
       "  <thead>\n",
       "    <tr style=\"text-align: right;\">\n",
       "      <th></th>\n",
       "      <th>user_id</th>\n",
       "      <th>item_id</th>\n",
       "      <th>playtime_forever</th>\n",
       "    </tr>\n",
       "  </thead>\n",
       "  <tbody>\n",
       "    <tr>\n",
       "      <th>0</th>\n",
       "      <td>76561197970982479</td>\n",
       "      <td>10</td>\n",
       "      <td>6</td>\n",
       "    </tr>\n",
       "    <tr>\n",
       "      <th>1</th>\n",
       "      <td>76561197970982479</td>\n",
       "      <td>30</td>\n",
       "      <td>7</td>\n",
       "    </tr>\n",
       "    <tr>\n",
       "      <th>2</th>\n",
       "      <td>76561197970982479</td>\n",
       "      <td>300</td>\n",
       "      <td>4733</td>\n",
       "    </tr>\n",
       "    <tr>\n",
       "      <th>3</th>\n",
       "      <td>76561197970982479</td>\n",
       "      <td>240</td>\n",
       "      <td>1853</td>\n",
       "    </tr>\n",
       "    <tr>\n",
       "      <th>4</th>\n",
       "      <td>76561197970982479</td>\n",
       "      <td>3830</td>\n",
       "      <td>333</td>\n",
       "    </tr>\n",
       "    <tr>\n",
       "      <th>...</th>\n",
       "      <td>...</td>\n",
       "      <td>...</td>\n",
       "      <td>...</td>\n",
       "    </tr>\n",
       "    <tr>\n",
       "      <th>3246347</th>\n",
       "      <td>76561198329548331</td>\n",
       "      <td>304930</td>\n",
       "      <td>677</td>\n",
       "    </tr>\n",
       "    <tr>\n",
       "      <th>3246348</th>\n",
       "      <td>76561198329548331</td>\n",
       "      <td>227940</td>\n",
       "      <td>43</td>\n",
       "    </tr>\n",
       "    <tr>\n",
       "      <th>3246349</th>\n",
       "      <td>76561198329548331</td>\n",
       "      <td>388490</td>\n",
       "      <td>3</td>\n",
       "    </tr>\n",
       "    <tr>\n",
       "      <th>3246350</th>\n",
       "      <td>76561198329548331</td>\n",
       "      <td>521570</td>\n",
       "      <td>4</td>\n",
       "    </tr>\n",
       "    <tr>\n",
       "      <th>3246351</th>\n",
       "      <td>76561198329548331</td>\n",
       "      <td>519140</td>\n",
       "      <td>3</td>\n",
       "    </tr>\n",
       "  </tbody>\n",
       "</table>\n",
       "<p>3246352 rows × 3 columns</p>\n",
       "</div>"
      ],
      "text/plain": [
       "                   user_id item_id  playtime_forever\n",
       "0        76561197970982479      10                 6\n",
       "1        76561197970982479      30                 7\n",
       "2        76561197970982479     300              4733\n",
       "3        76561197970982479     240              1853\n",
       "4        76561197970982479    3830               333\n",
       "...                    ...     ...               ...\n",
       "3246347  76561198329548331  304930               677\n",
       "3246348  76561198329548331  227940                43\n",
       "3246349  76561198329548331  388490                 3\n",
       "3246350  76561198329548331  521570                 4\n",
       "3246351  76561198329548331  519140                 3\n",
       "\n",
       "[3246352 rows x 3 columns]"
      ]
     },
     "execution_count": 660,
     "metadata": {},
     "output_type": "execute_result"
    }
   ],
   "source": [
    "df_users_items"
   ]
  },
  {
   "cell_type": "code",
   "execution_count": 661,
   "metadata": {},
   "outputs": [],
   "source": [
    "# cargar csv\n",
    "df_users_items.to_csv(\"data/df_users_items.csv\",index=False)"
   ]
  },
  {
   "cell_type": "markdown",
   "metadata": {},
   "source": [
    "-----\n"
   ]
  },
  {
   "cell_type": "markdown",
   "metadata": {},
   "source": [
    "## Tabla items"
   ]
  },
  {
   "cell_type": "code",
   "execution_count": 662,
   "metadata": {},
   "outputs": [
    {
     "data": {
      "text/html": [
       "<div>\n",
       "<style scoped>\n",
       "    .dataframe tbody tr th:only-of-type {\n",
       "        vertical-align: middle;\n",
       "    }\n",
       "\n",
       "    .dataframe tbody tr th {\n",
       "        vertical-align: top;\n",
       "    }\n",
       "\n",
       "    .dataframe thead th {\n",
       "        text-align: right;\n",
       "    }\n",
       "</style>\n",
       "<table border=\"1\" class=\"dataframe\">\n",
       "  <thead>\n",
       "    <tr style=\"text-align: right;\">\n",
       "      <th></th>\n",
       "      <th>publisher</th>\n",
       "      <th>genres</th>\n",
       "      <th>app_name</th>\n",
       "      <th>title</th>\n",
       "      <th>url</th>\n",
       "      <th>release_date</th>\n",
       "      <th>tags</th>\n",
       "      <th>reviews_url</th>\n",
       "      <th>discount_price</th>\n",
       "      <th>specs</th>\n",
       "      <th>price</th>\n",
       "      <th>early_access</th>\n",
       "      <th>item_id</th>\n",
       "      <th>metascore</th>\n",
       "      <th>developer</th>\n",
       "    </tr>\n",
       "  </thead>\n",
       "  <tbody>\n",
       "    <tr>\n",
       "      <th>0</th>\n",
       "      <td>Kotoshiro</td>\n",
       "      <td>['Action', 'Casual', 'Indie', 'Simulation', 'Strategy']</td>\n",
       "      <td>Lost Summoner Kitty</td>\n",
       "      <td>Lost Summoner Kitty</td>\n",
       "      <td>http://store.steampowered.com/app/761140/Lost_Summoner_Kitty/</td>\n",
       "      <td>2018-01-04</td>\n",
       "      <td>['Strategy', 'Action', 'Indie', 'Casual', 'Simulation']</td>\n",
       "      <td>http://steamcommunity.com/app/761140/reviews/?browsefilter=mostrecent&amp;p=1</td>\n",
       "      <td>4.49</td>\n",
       "      <td>['Single-player']</td>\n",
       "      <td>4.99</td>\n",
       "      <td>False</td>\n",
       "      <td>761140</td>\n",
       "      <td>NaN</td>\n",
       "      <td>Kotoshiro</td>\n",
       "    </tr>\n",
       "  </tbody>\n",
       "</table>\n",
       "</div>"
      ],
      "text/plain": [
       "   publisher                                                   genres  \\\n",
       "0  Kotoshiro  ['Action', 'Casual', 'Indie', 'Simulation', 'Strategy']   \n",
       "\n",
       "              app_name                title  \\\n",
       "0  Lost Summoner Kitty  Lost Summoner Kitty   \n",
       "\n",
       "                                                             url release_date  \\\n",
       "0  http://store.steampowered.com/app/761140/Lost_Summoner_Kitty/   2018-01-04   \n",
       "\n",
       "                                                      tags  \\\n",
       "0  ['Strategy', 'Action', 'Indie', 'Casual', 'Simulation']   \n",
       "\n",
       "                                                                 reviews_url  \\\n",
       "0  http://steamcommunity.com/app/761140/reviews/?browsefilter=mostrecent&p=1   \n",
       "\n",
       "   discount_price              specs price  early_access  item_id  metascore  \\\n",
       "0            4.49  ['Single-player']  4.99         False   761140        NaN   \n",
       "\n",
       "   developer  \n",
       "0  Kotoshiro  "
      ]
     },
     "execution_count": 662,
     "metadata": {},
     "output_type": "execute_result"
    }
   ],
   "source": [
    "raw_steam_games.head(1)\n"
   ]
  },
  {
   "cell_type": "code",
   "execution_count": 663,
   "metadata": {},
   "outputs": [
    {
     "data": {
      "text/plain": [
       "(32133, 15)"
      ]
     },
     "execution_count": 663,
     "metadata": {},
     "output_type": "execute_result"
    }
   ],
   "source": [
    "raw_steam_games.shape"
   ]
  },
  {
   "cell_type": "code",
   "execution_count": 664,
   "metadata": {},
   "outputs": [
    {
     "data": {
      "text/html": [
       "<div>\n",
       "<style scoped>\n",
       "    .dataframe tbody tr th:only-of-type {\n",
       "        vertical-align: middle;\n",
       "    }\n",
       "\n",
       "    .dataframe tbody tr th {\n",
       "        vertical-align: top;\n",
       "    }\n",
       "\n",
       "    .dataframe thead th {\n",
       "        text-align: right;\n",
       "    }\n",
       "</style>\n",
       "<table border=\"1\" class=\"dataframe\">\n",
       "  <thead>\n",
       "    <tr style=\"text-align: right;\">\n",
       "      <th></th>\n",
       "      <th>item_id</th>\n",
       "      <th>title</th>\n",
       "      <th>url</th>\n",
       "      <th>release_date</th>\n",
       "      <th>developer</th>\n",
       "      <th>price</th>\n",
       "    </tr>\n",
       "  </thead>\n",
       "  <tbody>\n",
       "    <tr>\n",
       "      <th>0</th>\n",
       "      <td>761140</td>\n",
       "      <td>Lost Summoner Kitty</td>\n",
       "      <td>http://store.steampowered.com/app/761140/Lost_Summoner_Kitty/</td>\n",
       "      <td>2018-01-04</td>\n",
       "      <td>Kotoshiro</td>\n",
       "      <td>4.99</td>\n",
       "    </tr>\n",
       "    <tr>\n",
       "      <th>1</th>\n",
       "      <td>643980</td>\n",
       "      <td>Ironbound</td>\n",
       "      <td>http://store.steampowered.com/app/643980/Ironbound/</td>\n",
       "      <td>2018-01-04</td>\n",
       "      <td>Secret Level SRL</td>\n",
       "      <td>Free To Play</td>\n",
       "    </tr>\n",
       "    <tr>\n",
       "      <th>2</th>\n",
       "      <td>670290</td>\n",
       "      <td>Real Pool 3D - Poolians</td>\n",
       "      <td>http://store.steampowered.com/app/670290/Real_Pool_3D__Poolians/</td>\n",
       "      <td>2017-07-24</td>\n",
       "      <td>Poolians.com</td>\n",
       "      <td>Free to Play</td>\n",
       "    </tr>\n",
       "    <tr>\n",
       "      <th>3</th>\n",
       "      <td>767400</td>\n",
       "      <td>弹炸人2222</td>\n",
       "      <td>http://store.steampowered.com/app/767400/2222/</td>\n",
       "      <td>2017-12-07</td>\n",
       "      <td>彼岸领域</td>\n",
       "      <td>0.99</td>\n",
       "    </tr>\n",
       "    <tr>\n",
       "      <th>4</th>\n",
       "      <td>773570</td>\n",
       "      <td>NaN</td>\n",
       "      <td>http://store.steampowered.com/app/773570/Log_Challenge/</td>\n",
       "      <td>NaN</td>\n",
       "      <td>NaN</td>\n",
       "      <td>2.99</td>\n",
       "    </tr>\n",
       "    <tr>\n",
       "      <th>...</th>\n",
       "      <td>...</td>\n",
       "      <td>...</td>\n",
       "      <td>...</td>\n",
       "      <td>...</td>\n",
       "      <td>...</td>\n",
       "      <td>...</td>\n",
       "    </tr>\n",
       "    <tr>\n",
       "      <th>32128</th>\n",
       "      <td>773640</td>\n",
       "      <td>Colony On Mars</td>\n",
       "      <td>http://store.steampowered.com/app/773640/Colony_On_Mars/</td>\n",
       "      <td>2018-01-04</td>\n",
       "      <td>Nikita \"Ghost_RUS\"</td>\n",
       "      <td>1.99</td>\n",
       "    </tr>\n",
       "    <tr>\n",
       "      <th>32129</th>\n",
       "      <td>733530</td>\n",
       "      <td>LOGistICAL: South Africa</td>\n",
       "      <td>http://store.steampowered.com/app/733530/LOGistICAL_South_Africa/</td>\n",
       "      <td>2018-01-04</td>\n",
       "      <td>Sacada</td>\n",
       "      <td>4.99</td>\n",
       "    </tr>\n",
       "    <tr>\n",
       "      <th>32130</th>\n",
       "      <td>610660</td>\n",
       "      <td>Russian Roads</td>\n",
       "      <td>http://store.steampowered.com/app/610660/Russian_Roads/</td>\n",
       "      <td>2018-01-04</td>\n",
       "      <td>Laush Dmitriy Sergeevich</td>\n",
       "      <td>1.99</td>\n",
       "    </tr>\n",
       "    <tr>\n",
       "      <th>32131</th>\n",
       "      <td>658870</td>\n",
       "      <td>EXIT 2 - Directions</td>\n",
       "      <td>http://store.steampowered.com/app/658870/EXIT_2__Directions/</td>\n",
       "      <td>2017-09-02</td>\n",
       "      <td>xropi,stev3ns</td>\n",
       "      <td>4.99</td>\n",
       "    </tr>\n",
       "    <tr>\n",
       "      <th>32132</th>\n",
       "      <td>681550</td>\n",
       "      <td>NaN</td>\n",
       "      <td>http://store.steampowered.com/app/681550/Maze_Run_VR/</td>\n",
       "      <td>NaN</td>\n",
       "      <td>NaN</td>\n",
       "      <td>4.99</td>\n",
       "    </tr>\n",
       "  </tbody>\n",
       "</table>\n",
       "<p>32133 rows × 6 columns</p>\n",
       "</div>"
      ],
      "text/plain": [
       "       item_id                     title  \\\n",
       "0       761140       Lost Summoner Kitty   \n",
       "1       643980                 Ironbound   \n",
       "2       670290   Real Pool 3D - Poolians   \n",
       "3       767400                   弹炸人2222   \n",
       "4       773570                       NaN   \n",
       "...        ...                       ...   \n",
       "32128   773640            Colony On Mars   \n",
       "32129   733530  LOGistICAL: South Africa   \n",
       "32130   610660             Russian Roads   \n",
       "32131   658870       EXIT 2 - Directions   \n",
       "32132   681550                       NaN   \n",
       "\n",
       "                                                                     url  \\\n",
       "0          http://store.steampowered.com/app/761140/Lost_Summoner_Kitty/   \n",
       "1                    http://store.steampowered.com/app/643980/Ironbound/   \n",
       "2       http://store.steampowered.com/app/670290/Real_Pool_3D__Poolians/   \n",
       "3                         http://store.steampowered.com/app/767400/2222/   \n",
       "4                http://store.steampowered.com/app/773570/Log_Challenge/   \n",
       "...                                                                  ...   \n",
       "32128           http://store.steampowered.com/app/773640/Colony_On_Mars/   \n",
       "32129  http://store.steampowered.com/app/733530/LOGistICAL_South_Africa/   \n",
       "32130            http://store.steampowered.com/app/610660/Russian_Roads/   \n",
       "32131       http://store.steampowered.com/app/658870/EXIT_2__Directions/   \n",
       "32132              http://store.steampowered.com/app/681550/Maze_Run_VR/   \n",
       "\n",
       "      release_date                 developer         price  \n",
       "0       2018-01-04                 Kotoshiro          4.99  \n",
       "1       2018-01-04          Secret Level SRL  Free To Play  \n",
       "2       2017-07-24              Poolians.com  Free to Play  \n",
       "3       2017-12-07                      彼岸领域          0.99  \n",
       "4              NaN                       NaN          2.99  \n",
       "...            ...                       ...           ...  \n",
       "32128   2018-01-04        Nikita \"Ghost_RUS\"          1.99  \n",
       "32129   2018-01-04                    Sacada          4.99  \n",
       "32130   2018-01-04  Laush Dmitriy Sergeevich          1.99  \n",
       "32131   2017-09-02             xropi,stev3ns          4.99  \n",
       "32132          NaN                       NaN          4.99  \n",
       "\n",
       "[32133 rows x 6 columns]"
      ]
     },
     "execution_count": 664,
     "metadata": {},
     "output_type": "execute_result"
    }
   ],
   "source": [
    "items = raw_steam_games[['item_id','title','url','release_date','developer','price']] # Debido a que no poseemos información sobre las condiciones en las que se aplicaron los descuentos, solo consideraremos la columna 'price' para las consultas.\n",
    "items"
   ]
  },
  {
   "cell_type": "markdown",
   "metadata": {},
   "source": [
    "Análisis de la tabla items"
   ]
  },
  {
   "cell_type": "markdown",
   "metadata": {},
   "source": [
    "Nulos"
   ]
  },
  {
   "cell_type": "code",
   "execution_count": 665,
   "metadata": {},
   "outputs": [
    {
     "data": {
      "text/plain": [
       "item_id            0\n",
       "title           2049\n",
       "url                0\n",
       "release_date    2066\n",
       "developer       3298\n",
       "price           1377\n",
       "dtype: int64"
      ]
     },
     "execution_count": 665,
     "metadata": {},
     "output_type": "execute_result"
    }
   ],
   "source": [
    "(\n",
    "    items\n",
    "    .isna()\n",
    "    .sum()\n",
    ")"
   ]
  },
  {
   "cell_type": "code",
   "execution_count": 666,
   "metadata": {},
   "outputs": [
    {
     "data": {
      "text/plain": [
       "Text(0, 0.5, 'Número de fila')"
      ]
     },
     "execution_count": 666,
     "metadata": {},
     "output_type": "execute_result"
    },
    {
     "data": {
      "image/png": "[encoded data removed]",
      "text/plain": [
       "<Figure size 800x600 with 1 Axes>"
      ]
     },
     "metadata": {},
     "output_type": "display_data"
    }
   ],
   "source": [
    "plt.figure(figsize=(8,6))\n",
    "plt.imshow(items.isna(),\n",
    "           aspect='auto',\n",
    "           interpolation='nearest',\n",
    "           cmap='gray'\n",
    "           )\n",
    "plt.xlabel('Número de columna')\n",
    "plt.ylabel('Número de fila')"
   ]
  },
  {
   "cell_type": "markdown",
   "metadata": {},
   "source": [
    "Duplicados"
   ]
  },
  {
   "cell_type": "code",
   "execution_count": 667,
   "metadata": {},
   "outputs": [
    {
     "data": {
      "text/plain": [
       "0"
      ]
     },
     "execution_count": 667,
     "metadata": {},
     "output_type": "execute_result"
    }
   ],
   "source": [
    "(\n",
    "    items\n",
    "    .duplicated()\n",
    "    .sum()\n",
    ")"
   ]
  },
  {
   "cell_type": "markdown",
   "metadata": {},
   "source": [
    "No tenemos valores nulos en las columnas item_id y url, que es lo que esperamos ya que esos valores deberían ser únicos. \n",
    "\n",
    "No tenemos filas duplicadas."
   ]
  },
  {
   "cell_type": "markdown",
   "metadata": {},
   "source": [
    "Pudimos notar en una tabla visualizada anteriormente que la columna price posee valores no numéricos."
   ]
  },
  {
   "cell_type": "code",
   "execution_count": 668,
   "metadata": {},
   "outputs": [
    {
     "name": "stdout",
     "output_type": "stream",
     "text": [
      "Cantidad de valores únicos en \"precios\":  163\n",
      "valores str en price:  ['Free To Play', 'Free to Play', nan, 'Free', 'Free Demo', 'Play for Free!', 'Install Now', 'Play WARMACHINE: Tactics Demo', 'Free Mod', 'Install Theme', 'Third-party', 'Play Now', 'Free HITMAN™ Holiday Pack', 'Play the Demo', 'Starting at $499.00', 'Starting at $449.00', 'Free to Try', 'Free Movie', 'Free to Use']\n",
      "cantidad de valores str en price:  19\n"
     ]
    }
   ],
   "source": [
    "valores_unicos_de_price = items.price.unique()\n",
    "print('Cantidad de valores únicos en \"precios\": ', len(valores_unicos_de_price))\n",
    "# print('Valores únicos en \"precios\": ', valores_unicos_de_price)\n",
    "price_str = [x for x in valores_unicos_de_price if not (str(x).replace('.', '', 1).isdigit() or str(x).isdigit())]\n",
    "print(f'valores str en price: ', price_str)\n",
    "print(f'cantidad de valores str en price: ', len(price_str))"
   ]
  },
  {
   "cell_type": "markdown",
   "metadata": {},
   "source": [
    "Analizaremos la lista lista_sin_numericos\n"
   ]
  },
  {
   "cell_type": "markdown",
   "metadata": {},
   "source": [
    "* valores nulos"
   ]
  },
  {
   "cell_type": "code",
   "execution_count": 669,
   "metadata": {},
   "outputs": [
    {
     "data": {
      "text/html": [
       "<div>\n",
       "<style scoped>\n",
       "    .dataframe tbody tr th:only-of-type {\n",
       "        vertical-align: middle;\n",
       "    }\n",
       "\n",
       "    .dataframe tbody tr th {\n",
       "        vertical-align: top;\n",
       "    }\n",
       "\n",
       "    .dataframe thead th {\n",
       "        text-align: right;\n",
       "    }\n",
       "</style>\n",
       "<table border=\"1\" class=\"dataframe\">\n",
       "  <thead>\n",
       "    <tr style=\"text-align: right;\">\n",
       "      <th></th>\n",
       "      <th>item_id</th>\n",
       "      <th>title</th>\n",
       "      <th>url</th>\n",
       "      <th>release_date</th>\n",
       "      <th>developer</th>\n",
       "      <th>price</th>\n",
       "    </tr>\n",
       "  </thead>\n",
       "  <tbody>\n",
       "    <tr>\n",
       "      <th>9</th>\n",
       "      <td>768800</td>\n",
       "      <td>Race</td>\n",
       "      <td>http://store.steampowered.com/app/768800/Race/</td>\n",
       "      <td>2018-01-04</td>\n",
       "      <td>RewindApp</td>\n",
       "      <td>NaN</td>\n",
       "    </tr>\n",
       "    <tr>\n",
       "      <th>10</th>\n",
       "      <td>768570</td>\n",
       "      <td>Uncanny Islands</td>\n",
       "      <td>http://store.steampowered.com/app/768570/Uncanny_Islands/</td>\n",
       "      <td>Soon..</td>\n",
       "      <td>Qucheza</td>\n",
       "      <td>NaN</td>\n",
       "    </tr>\n",
       "    <tr>\n",
       "      <th>31</th>\n",
       "      <td>520680</td>\n",
       "      <td>Lost Cities</td>\n",
       "      <td>http://store.steampowered.com/app/520680/Lost_Cities/</td>\n",
       "      <td>2018-01-01</td>\n",
       "      <td>BlueLine Games</td>\n",
       "      <td>NaN</td>\n",
       "    </tr>\n",
       "    <tr>\n",
       "      <th>32</th>\n",
       "      <td>690410</td>\n",
       "      <td>Twisted Enhanced Edition</td>\n",
       "      <td>http://store.steampowered.com/app/690410/Twisted_Enhanced_Edition/</td>\n",
       "      <td>2018-01-01</td>\n",
       "      <td>Games by Brundle</td>\n",
       "      <td>NaN</td>\n",
       "    </tr>\n",
       "    <tr>\n",
       "      <th>34</th>\n",
       "      <td>413120</td>\n",
       "      <td>Tactics Forever</td>\n",
       "      <td>http://store.steampowered.com/app/413120/Tactics_Forever/</td>\n",
       "      <td>2018-01-01</td>\n",
       "      <td>ProjectorGames</td>\n",
       "      <td>NaN</td>\n",
       "    </tr>\n",
       "    <tr>\n",
       "      <th>...</th>\n",
       "      <td>...</td>\n",
       "      <td>...</td>\n",
       "      <td>...</td>\n",
       "      <td>...</td>\n",
       "      <td>...</td>\n",
       "      <td>...</td>\n",
       "    </tr>\n",
       "    <tr>\n",
       "      <th>32097</th>\n",
       "      <td>771070</td>\n",
       "      <td>Infinos Gaiden</td>\n",
       "      <td>http://store.steampowered.com/app/771070/Infinos_Gaiden/</td>\n",
       "      <td>2018-01-19</td>\n",
       "      <td>Picorinne Soft</td>\n",
       "      <td>NaN</td>\n",
       "    </tr>\n",
       "    <tr>\n",
       "      <th>32109</th>\n",
       "      <td>90007</td>\n",
       "      <td>International Online Soccer</td>\n",
       "      <td>http://store.steampowered.com/app/90007/International_Online_Soccer/</td>\n",
       "      <td>2002-01-01</td>\n",
       "      <td>I.O.S. Team</td>\n",
       "      <td>NaN</td>\n",
       "    </tr>\n",
       "    <tr>\n",
       "      <th>32121</th>\n",
       "      <td>772180</td>\n",
       "      <td>Cricket Club</td>\n",
       "      <td>http://store.steampowered.com/app/772180/Cricket_Club/</td>\n",
       "      <td>January 2018</td>\n",
       "      <td>VersoVR</td>\n",
       "      <td>NaN</td>\n",
       "    </tr>\n",
       "    <tr>\n",
       "      <th>32123</th>\n",
       "      <td>771810</td>\n",
       "      <td>The spy who shot me™</td>\n",
       "      <td>http://store.steampowered.com/app/771810/The_spy_who_shot_me/</td>\n",
       "      <td>2018-10-01</td>\n",
       "      <td>Retro Army Limited</td>\n",
       "      <td>NaN</td>\n",
       "    </tr>\n",
       "    <tr>\n",
       "      <th>32126</th>\n",
       "      <td>769330</td>\n",
       "      <td>BAE 2</td>\n",
       "      <td>http://store.steampowered.com/app/769330/BAE_2/</td>\n",
       "      <td>2018-01-04</td>\n",
       "      <td>Riviysky</td>\n",
       "      <td>NaN</td>\n",
       "    </tr>\n",
       "  </tbody>\n",
       "</table>\n",
       "<p>1377 rows × 6 columns</p>\n",
       "</div>"
      ],
      "text/plain": [
       "       item_id                        title  \\\n",
       "9       768800                         Race   \n",
       "10      768570              Uncanny Islands   \n",
       "31      520680                  Lost Cities   \n",
       "32      690410     Twisted Enhanced Edition   \n",
       "34      413120              Tactics Forever   \n",
       "...        ...                          ...   \n",
       "32097   771070               Infinos Gaiden   \n",
       "32109    90007  International Online Soccer   \n",
       "32121   772180                 Cricket Club   \n",
       "32123   771810         The spy who shot me™   \n",
       "32126   769330                        BAE 2   \n",
       "\n",
       "                                                                        url  \\\n",
       "9                            http://store.steampowered.com/app/768800/Race/   \n",
       "10                http://store.steampowered.com/app/768570/Uncanny_Islands/   \n",
       "31                    http://store.steampowered.com/app/520680/Lost_Cities/   \n",
       "32       http://store.steampowered.com/app/690410/Twisted_Enhanced_Edition/   \n",
       "34                http://store.steampowered.com/app/413120/Tactics_Forever/   \n",
       "...                                                                     ...   \n",
       "32097              http://store.steampowered.com/app/771070/Infinos_Gaiden/   \n",
       "32109  http://store.steampowered.com/app/90007/International_Online_Soccer/   \n",
       "32121                http://store.steampowered.com/app/772180/Cricket_Club/   \n",
       "32123         http://store.steampowered.com/app/771810/The_spy_who_shot_me/   \n",
       "32126                       http://store.steampowered.com/app/769330/BAE_2/   \n",
       "\n",
       "       release_date           developer price  \n",
       "9        2018-01-04           RewindApp   NaN  \n",
       "10           Soon..             Qucheza   NaN  \n",
       "31       2018-01-01      BlueLine Games   NaN  \n",
       "32       2018-01-01    Games by Brundle   NaN  \n",
       "34       2018-01-01      ProjectorGames   NaN  \n",
       "...             ...                 ...   ...  \n",
       "32097    2018-01-19      Picorinne Soft   NaN  \n",
       "32109    2002-01-01         I.O.S. Team   NaN  \n",
       "32121  January 2018             VersoVR   NaN  \n",
       "32123    2018-10-01  Retro Army Limited   NaN  \n",
       "32126    2018-01-04            Riviysky   NaN  \n",
       "\n",
       "[1377 rows x 6 columns]"
      ]
     },
     "execution_count": 669,
     "metadata": {},
     "output_type": "execute_result"
    }
   ],
   "source": [
    "items[items.price.isna()]"
   ]
  },
  {
   "cell_type": "markdown",
   "metadata": {},
   "source": [
    "Tenemos 1377 filas con valores nulos en la columna price. Verificaremos si los usuarios han consumido estos items."
   ]
  },
  {
   "cell_type": "code",
   "execution_count": 670,
   "metadata": {},
   "outputs": [
    {
     "data": {
      "text/html": [
       "<div>\n",
       "<style scoped>\n",
       "    .dataframe tbody tr th:only-of-type {\n",
       "        vertical-align: middle;\n",
       "    }\n",
       "\n",
       "    .dataframe tbody tr th {\n",
       "        vertical-align: top;\n",
       "    }\n",
       "\n",
       "    .dataframe thead th {\n",
       "        text-align: right;\n",
       "    }\n",
       "</style>\n",
       "<table border=\"1\" class=\"dataframe\">\n",
       "  <thead>\n",
       "    <tr style=\"text-align: right;\">\n",
       "      <th></th>\n",
       "      <th>user_id</th>\n",
       "      <th>item_id</th>\n",
       "      <th>playtime_forever</th>\n",
       "    </tr>\n",
       "  </thead>\n",
       "  <tbody>\n",
       "  </tbody>\n",
       "</table>\n",
       "</div>"
      ],
      "text/plain": [
       "Empty DataFrame\n",
       "Columns: [user_id, item_id, playtime_forever]\n",
       "Index: []"
      ]
     },
     "execution_count": 670,
     "metadata": {},
     "output_type": "execute_result"
    }
   ],
   "source": [
    "# df de juegos sin precio\n",
    "priceless_items_df = items[items.price.isnull()]\n",
    "priceless_items_df.to_csv('data/priceless_items_df.csv',index=False)\n",
    "priceless_items_id_list = list(priceless_items_df.item_id)\n",
    "df_users_items[df_users_items.item_id.isin(priceless_items_id_list)]\n"
   ]
  },
  {
   "cell_type": "markdown",
   "metadata": {},
   "source": [
    "Podemos verificar que ningun usuario ha consumido los items que carecen de precio."
   ]
  },
  {
   "cell_type": "markdown",
   "metadata": {},
   "source": [
    " * 'Starting at $449.00' y 'Starting at $499.00'\n"
   ]
  },
  {
   "cell_type": "code",
   "execution_count": 671,
   "metadata": {},
   "outputs": [
    {
     "data": {
      "text/html": [
       "<div>\n",
       "<style scoped>\n",
       "    .dataframe tbody tr th:only-of-type {\n",
       "        vertical-align: middle;\n",
       "    }\n",
       "\n",
       "    .dataframe tbody tr th {\n",
       "        vertical-align: top;\n",
       "    }\n",
       "\n",
       "    .dataframe thead th {\n",
       "        text-align: right;\n",
       "    }\n",
       "</style>\n",
       "<table border=\"1\" class=\"dataframe\">\n",
       "  <thead>\n",
       "    <tr style=\"text-align: right;\">\n",
       "      <th></th>\n",
       "      <th>item_id</th>\n",
       "      <th>title</th>\n",
       "      <th>url</th>\n",
       "      <th>release_date</th>\n",
       "      <th>developer</th>\n",
       "      <th>price</th>\n",
       "    </tr>\n",
       "  </thead>\n",
       "  <tbody>\n",
       "    <tr>\n",
       "      <th>24999</th>\n",
       "      <td>353390</td>\n",
       "      <td>Alienware Steam Machine</td>\n",
       "      <td>http://store.steampowered.com/app/353390/Alienware_Steam_Machine/</td>\n",
       "      <td>2015-11-10</td>\n",
       "      <td>NaN</td>\n",
       "      <td>Starting at $449.00</td>\n",
       "    </tr>\n",
       "  </tbody>\n",
       "</table>\n",
       "</div>"
      ],
      "text/plain": [
       "       item_id                    title  \\\n",
       "24999   353390  Alienware Steam Machine   \n",
       "\n",
       "                                                                     url  \\\n",
       "24999  http://store.steampowered.com/app/353390/Alienware_Steam_Machine/   \n",
       "\n",
       "      release_date developer                price  \n",
       "24999   2015-11-10       NaN  Starting at $449.00  "
      ]
     },
     "execution_count": 671,
     "metadata": {},
     "output_type": "execute_result"
    }
   ],
   "source": [
    "items[items.price ==  'Starting at $449.00']"
   ]
  },
  {
   "cell_type": "code",
   "execution_count": 672,
   "metadata": {},
   "outputs": [
    {
     "data": {
      "text/html": [
       "<div>\n",
       "<style scoped>\n",
       "    .dataframe tbody tr th:only-of-type {\n",
       "        vertical-align: middle;\n",
       "    }\n",
       "\n",
       "    .dataframe tbody tr th {\n",
       "        vertical-align: top;\n",
       "    }\n",
       "\n",
       "    .dataframe thead th {\n",
       "        text-align: right;\n",
       "    }\n",
       "</style>\n",
       "<table border=\"1\" class=\"dataframe\">\n",
       "  <thead>\n",
       "    <tr style=\"text-align: right;\">\n",
       "      <th></th>\n",
       "      <th>item_id</th>\n",
       "      <th>title</th>\n",
       "      <th>url</th>\n",
       "      <th>release_date</th>\n",
       "      <th>developer</th>\n",
       "      <th>price</th>\n",
       "    </tr>\n",
       "  </thead>\n",
       "  <tbody>\n",
       "    <tr>\n",
       "      <th>24998</th>\n",
       "      <td>353420</td>\n",
       "      <td>Syber Steam Machine</td>\n",
       "      <td>http://store.steampowered.com/app/353420/Syber_Steam_Machine/</td>\n",
       "      <td>2015-11-10</td>\n",
       "      <td>NaN</td>\n",
       "      <td>Starting at $499.00</td>\n",
       "    </tr>\n",
       "  </tbody>\n",
       "</table>\n",
       "</div>"
      ],
      "text/plain": [
       "       item_id                title  \\\n",
       "24998   353420  Syber Steam Machine   \n",
       "\n",
       "                                                                 url  \\\n",
       "24998  http://store.steampowered.com/app/353420/Syber_Steam_Machine/   \n",
       "\n",
       "      release_date developer                price  \n",
       "24998   2015-11-10       NaN  Starting at $499.00  "
      ]
     },
     "execution_count": 672,
     "metadata": {},
     "output_type": "execute_result"
    }
   ],
   "source": [
    "items[items.price ==  'Starting at $499.00']"
   ]
  },
  {
   "cell_type": "code",
   "execution_count": 673,
   "metadata": {},
   "outputs": [
    {
     "data": {
      "text/html": [
       "<div>\n",
       "<style scoped>\n",
       "    .dataframe tbody tr th:only-of-type {\n",
       "        vertical-align: middle;\n",
       "    }\n",
       "\n",
       "    .dataframe tbody tr th {\n",
       "        vertical-align: top;\n",
       "    }\n",
       "\n",
       "    .dataframe thead th {\n",
       "        text-align: right;\n",
       "    }\n",
       "</style>\n",
       "<table border=\"1\" class=\"dataframe\">\n",
       "  <thead>\n",
       "    <tr style=\"text-align: right;\">\n",
       "      <th></th>\n",
       "      <th>item_id</th>\n",
       "      <th>title</th>\n",
       "      <th>url</th>\n",
       "      <th>release_date</th>\n",
       "      <th>developer</th>\n",
       "      <th>price</th>\n",
       "    </tr>\n",
       "  </thead>\n",
       "  <tbody>\n",
       "    <tr>\n",
       "      <th>24998</th>\n",
       "      <td>353420</td>\n",
       "      <td>Syber Steam Machine</td>\n",
       "      <td>http://store.steampowered.com/app/353420/Syber_Steam_Machine/</td>\n",
       "      <td>2015-11-10</td>\n",
       "      <td>NaN</td>\n",
       "      <td>Starting at $499.00</td>\n",
       "    </tr>\n",
       "    <tr>\n",
       "      <th>24999</th>\n",
       "      <td>353390</td>\n",
       "      <td>Alienware Steam Machine</td>\n",
       "      <td>http://store.steampowered.com/app/353390/Alienware_Steam_Machine/</td>\n",
       "      <td>2015-11-10</td>\n",
       "      <td>NaN</td>\n",
       "      <td>Starting at $449.00</td>\n",
       "    </tr>\n",
       "  </tbody>\n",
       "</table>\n",
       "</div>"
      ],
      "text/plain": [
       "       item_id                    title  \\\n",
       "24998   353420      Syber Steam Machine   \n",
       "24999   353390  Alienware Steam Machine   \n",
       "\n",
       "                                                                     url  \\\n",
       "24998      http://store.steampowered.com/app/353420/Syber_Steam_Machine/   \n",
       "24999  http://store.steampowered.com/app/353390/Alienware_Steam_Machine/   \n",
       "\n",
       "      release_date developer                price  \n",
       "24998   2015-11-10       NaN  Starting at $499.00  \n",
       "24999   2015-11-10       NaN  Starting at $449.00  "
      ]
     },
     "execution_count": 673,
     "metadata": {},
     "output_type": "execute_result"
    }
   ],
   "source": [
    "items[items.item_id.isin([353390,353420])]"
   ]
  },
  {
   "cell_type": "code",
   "execution_count": 674,
   "metadata": {},
   "outputs": [
    {
     "data": {
      "text/html": [
       "<div>\n",
       "<style scoped>\n",
       "    .dataframe tbody tr th:only-of-type {\n",
       "        vertical-align: middle;\n",
       "    }\n",
       "\n",
       "    .dataframe tbody tr th {\n",
       "        vertical-align: top;\n",
       "    }\n",
       "\n",
       "    .dataframe thead th {\n",
       "        text-align: right;\n",
       "    }\n",
       "</style>\n",
       "<table border=\"1\" class=\"dataframe\">\n",
       "  <thead>\n",
       "    <tr style=\"text-align: right;\">\n",
       "      <th></th>\n",
       "      <th>user_id</th>\n",
       "      <th>item_id</th>\n",
       "      <th>playtime_forever</th>\n",
       "    </tr>\n",
       "  </thead>\n",
       "  <tbody>\n",
       "  </tbody>\n",
       "</table>\n",
       "</div>"
      ],
      "text/plain": [
       "Empty DataFrame\n",
       "Columns: [user_id, item_id, playtime_forever]\n",
       "Index: []"
      ]
     },
     "execution_count": 674,
     "metadata": {},
     "output_type": "execute_result"
    }
   ],
   "source": [
    "df_users_items[df_users_items.item_id.isin([353390,353420])] # Fueron consumidos por los usuarios?"
   ]
  },
  {
   "cell_type": "markdown",
   "metadata": {},
   "source": [
    "Los items 353390 y 353420 serán eliminadas, ya que al ingresar a las urls de estos items hemos sido redirigidos a https://store.steampowered.com/ y al verificar si existen usuarios que hayan consumido estos items nos encontramos con que ningun usuario adquirió estos items. "
   ]
  },
  {
   "cell_type": "code",
   "execution_count": 675,
   "metadata": {},
   "outputs": [],
   "source": [
    "items = items[~(items.price.isin(['Starting at $449.00','Starting at $499.00']))]"
   ]
  },
  {
   "cell_type": "markdown",
   "metadata": {},
   "source": [
    "* Third-party\n"
   ]
  },
  {
   "cell_type": "code",
   "execution_count": 676,
   "metadata": {},
   "outputs": [
    {
     "data": {
      "text/html": [
       "<div>\n",
       "<style scoped>\n",
       "    .dataframe tbody tr th:only-of-type {\n",
       "        vertical-align: middle;\n",
       "    }\n",
       "\n",
       "    .dataframe tbody tr th {\n",
       "        vertical-align: top;\n",
       "    }\n",
       "\n",
       "    .dataframe thead th {\n",
       "        text-align: right;\n",
       "    }\n",
       "</style>\n",
       "<table border=\"1\" class=\"dataframe\">\n",
       "  <thead>\n",
       "    <tr style=\"text-align: right;\">\n",
       "      <th></th>\n",
       "      <th>item_id</th>\n",
       "      <th>title</th>\n",
       "      <th>url</th>\n",
       "      <th>release_date</th>\n",
       "      <th>developer</th>\n",
       "      <th>price</th>\n",
       "    </tr>\n",
       "  </thead>\n",
       "  <tbody>\n",
       "    <tr>\n",
       "      <th>3917</th>\n",
       "      <td>362970</td>\n",
       "      <td>Parcel - Soundtrack</td>\n",
       "      <td>http://store.steampowered.com/app/362970/Parcel__Soundtrack/</td>\n",
       "      <td>2015-07-02</td>\n",
       "      <td>Polar Bunny Ltd</td>\n",
       "      <td>Third-party</td>\n",
       "    </tr>\n",
       "    <tr>\n",
       "      <th>31836</th>\n",
       "      <td>3483</td>\n",
       "      <td>Peggle Extreme</td>\n",
       "      <td>http://store.steampowered.com/app/3483/Peggle_Extreme/</td>\n",
       "      <td>2007-09-11</td>\n",
       "      <td>PopCap Games, Inc.</td>\n",
       "      <td>Third-party</td>\n",
       "    </tr>\n",
       "  </tbody>\n",
       "</table>\n",
       "</div>"
      ],
      "text/plain": [
       "       item_id                title  \\\n",
       "3917    362970  Parcel - Soundtrack   \n",
       "31836     3483       Peggle Extreme   \n",
       "\n",
       "                                                                url  \\\n",
       "3917   http://store.steampowered.com/app/362970/Parcel__Soundtrack/   \n",
       "31836        http://store.steampowered.com/app/3483/Peggle_Extreme/   \n",
       "\n",
       "      release_date           developer        price  \n",
       "3917    2015-07-02     Polar Bunny Ltd  Third-party  \n",
       "31836   2007-09-11  PopCap Games, Inc.  Third-party  "
      ]
     },
     "execution_count": 676,
     "metadata": {},
     "output_type": "execute_result"
    }
   ],
   "source": [
    "items[items.price == 'Third-party']"
   ]
  },
  {
   "cell_type": "markdown",
   "metadata": {},
   "source": [
    "Investigando las urls de los items 362970 y 3483 verificamos que ambos son gratuitos."
   ]
  },
  {
   "cell_type": "markdown",
   "metadata": {},
   "source": [
    "* 'install now'"
   ]
  },
  {
   "cell_type": "code",
   "execution_count": 677,
   "metadata": {},
   "outputs": [
    {
     "data": {
      "text/html": [
       "<div>\n",
       "<style scoped>\n",
       "    .dataframe tbody tr th:only-of-type {\n",
       "        vertical-align: middle;\n",
       "    }\n",
       "\n",
       "    .dataframe tbody tr th {\n",
       "        vertical-align: top;\n",
       "    }\n",
       "\n",
       "    .dataframe thead th {\n",
       "        text-align: right;\n",
       "    }\n",
       "</style>\n",
       "<table border=\"1\" class=\"dataframe\">\n",
       "  <thead>\n",
       "    <tr style=\"text-align: right;\">\n",
       "      <th></th>\n",
       "      <th>item_id</th>\n",
       "      <th>title</th>\n",
       "      <th>url</th>\n",
       "      <th>release_date</th>\n",
       "      <th>developer</th>\n",
       "      <th>price</th>\n",
       "    </tr>\n",
       "  </thead>\n",
       "  <tbody>\n",
       "    <tr>\n",
       "      <th>2404</th>\n",
       "      <td>268850</td>\n",
       "      <td>EVGA Precision XOC</td>\n",
       "      <td>http://store.steampowered.com/app/268850/EVGA_Precision_XOC/</td>\n",
       "      <td>2014-09-19</td>\n",
       "      <td>EVGA</td>\n",
       "      <td>Install Now</td>\n",
       "    </tr>\n",
       "  </tbody>\n",
       "</table>\n",
       "</div>"
      ],
      "text/plain": [
       "      item_id               title  \\\n",
       "2404   268850  EVGA Precision XOC   \n",
       "\n",
       "                                                               url  \\\n",
       "2404  http://store.steampowered.com/app/268850/EVGA_Precision_XOC/   \n",
       "\n",
       "     release_date developer        price  \n",
       "2404   2014-09-19      EVGA  Install Now  "
      ]
     },
     "execution_count": 677,
     "metadata": {},
     "output_type": "execute_result"
    }
   ],
   "source": [
    "items[items.price == 'Install Now']"
   ]
  },
  {
   "cell_type": "markdown",
   "metadata": {},
   "source": [
    "Observando la url del item 268850 verificamos que es gratuito."
   ]
  },
  {
   "cell_type": "markdown",
   "metadata": {},
   "source": [
    "* 'Play Now'"
   ]
  },
  {
   "cell_type": "code",
   "execution_count": 678,
   "metadata": {},
   "outputs": [
    {
     "data": {
      "text/html": [
       "<div>\n",
       "<style scoped>\n",
       "    .dataframe tbody tr th:only-of-type {\n",
       "        vertical-align: middle;\n",
       "    }\n",
       "\n",
       "    .dataframe tbody tr th {\n",
       "        vertical-align: top;\n",
       "    }\n",
       "\n",
       "    .dataframe thead th {\n",
       "        text-align: right;\n",
       "    }\n",
       "</style>\n",
       "<table border=\"1\" class=\"dataframe\">\n",
       "  <thead>\n",
       "    <tr style=\"text-align: right;\">\n",
       "      <th></th>\n",
       "      <th>item_id</th>\n",
       "      <th>title</th>\n",
       "      <th>url</th>\n",
       "      <th>release_date</th>\n",
       "      <th>developer</th>\n",
       "      <th>price</th>\n",
       "    </tr>\n",
       "  </thead>\n",
       "  <tbody>\n",
       "    <tr>\n",
       "      <th>4025</th>\n",
       "      <td>345040</td>\n",
       "      <td>Oblivious Garden ~White Day</td>\n",
       "      <td>http://store.steampowered.com/app/345040/Oblivious_Garden_White_Day/</td>\n",
       "      <td>2015-07-20</td>\n",
       "      <td>CorypheeSoft,DigitalEZ</td>\n",
       "      <td>Play Now</td>\n",
       "    </tr>\n",
       "    <tr>\n",
       "      <th>26215</th>\n",
       "      <td>383860</td>\n",
       "      <td>Area-X - Extra Gallery</td>\n",
       "      <td>http://store.steampowered.com/app/383860/AreaX__Extra_Gallery/</td>\n",
       "      <td>2015-06-24</td>\n",
       "      <td>Zeiva Inc</td>\n",
       "      <td>Play Now</td>\n",
       "    </tr>\n",
       "  </tbody>\n",
       "</table>\n",
       "</div>"
      ],
      "text/plain": [
       "       item_id                        title  \\\n",
       "4025    345040  Oblivious Garden ~White Day   \n",
       "26215   383860       Area-X - Extra Gallery   \n",
       "\n",
       "                                                                        url  \\\n",
       "4025   http://store.steampowered.com/app/345040/Oblivious_Garden_White_Day/   \n",
       "26215        http://store.steampowered.com/app/383860/AreaX__Extra_Gallery/   \n",
       "\n",
       "      release_date               developer     price  \n",
       "4025    2015-07-20  CorypheeSoft,DigitalEZ  Play Now  \n",
       "26215   2015-06-24               Zeiva Inc  Play Now  "
      ]
     },
     "execution_count": 678,
     "metadata": {},
     "output_type": "execute_result"
    }
   ],
   "source": [
    "items[items.price == 'Play Now']"
   ]
  },
  {
   "cell_type": "markdown",
   "metadata": {},
   "source": [
    "Observando las urls de los items 345040 y 383860 verificamos que son gratuitos."
   ]
  },
  {
   "cell_type": "markdown",
   "metadata": {},
   "source": [
    "* Las descripciones: 'Free', 'Free to Play', 'Free To Play', 'Play WARMACHINE: Tactics Demo', 'Free HITMAN™ Holiday Pack', 'Free Movie', 'Play for Free!', 'Free to Use', 'Free Mod', 'Play the Demo' y 'Free to Try' indican que el item es gratuito. \n",
    "\n",
    "* Los items con las descripciones 'Starting at $449.00' y 'Starting at $499.00' fueron eliminadas ya que ningun usuario las consumió, carecen de datos del desarrollador y sus url nos redirigen a la página principal de la tienda.\n",
    "\n",
    "* Hemos verificado que las descripciones 'Third-party', 'Install Now' y 'Play Now' indican que los items son gratuitos.\n",
    "\n",
    "* Hemos verificado que los items que poseen valores nulos en precio no han sido consumidos por los usuarios por los que seran eliminados. Sin embargo hemos guardado la información de estos items en el DF priceless_items_df. Todos los demás items de la lista 'lista_sin_numericos' serán reemplazados por 0, ya que no representan un costo para el usuario."
   ]
  },
  {
   "cell_type": "code",
   "execution_count": 679,
   "metadata": {},
   "outputs": [],
   "source": [
    "items.dropna(subset='price',inplace=True)\n"
   ]
  },
  {
   "cell_type": "code",
   "execution_count": 680,
   "metadata": {},
   "outputs": [
    {
     "data": {
      "text/html": [
       "<div>\n",
       "<style scoped>\n",
       "    .dataframe tbody tr th:only-of-type {\n",
       "        vertical-align: middle;\n",
       "    }\n",
       "\n",
       "    .dataframe tbody tr th {\n",
       "        vertical-align: top;\n",
       "    }\n",
       "\n",
       "    .dataframe thead th {\n",
       "        text-align: right;\n",
       "    }\n",
       "</style>\n",
       "<table border=\"1\" class=\"dataframe\">\n",
       "  <thead>\n",
       "    <tr style=\"text-align: right;\">\n",
       "      <th></th>\n",
       "      <th>item_id</th>\n",
       "      <th>title</th>\n",
       "      <th>url</th>\n",
       "      <th>release_date</th>\n",
       "      <th>developer</th>\n",
       "      <th>price</th>\n",
       "    </tr>\n",
       "  </thead>\n",
       "  <tbody>\n",
       "    <tr>\n",
       "      <th>0</th>\n",
       "      <td>761140</td>\n",
       "      <td>Lost Summoner Kitty</td>\n",
       "      <td>http://store.steampowered.com/app/761140/Lost_Summoner_Kitty/</td>\n",
       "      <td>2018-01-04</td>\n",
       "      <td>Kotoshiro</td>\n",
       "      <td>4.99</td>\n",
       "    </tr>\n",
       "    <tr>\n",
       "      <th>1</th>\n",
       "      <td>643980</td>\n",
       "      <td>Ironbound</td>\n",
       "      <td>http://store.steampowered.com/app/643980/Ironbound/</td>\n",
       "      <td>2018-01-04</td>\n",
       "      <td>Secret Level SRL</td>\n",
       "      <td>0.00</td>\n",
       "    </tr>\n",
       "  </tbody>\n",
       "</table>\n",
       "</div>"
      ],
      "text/plain": [
       "   item_id                title  \\\n",
       "0   761140  Lost Summoner Kitty   \n",
       "1   643980            Ironbound   \n",
       "\n",
       "                                                             url release_date  \\\n",
       "0  http://store.steampowered.com/app/761140/Lost_Summoner_Kitty/   2018-01-04   \n",
       "1            http://store.steampowered.com/app/643980/Ironbound/   2018-01-04   \n",
       "\n",
       "          developer  price  \n",
       "0         Kotoshiro   4.99  \n",
       "1  Secret Level SRL   0.00  "
      ]
     },
     "execution_count": 680,
     "metadata": {},
     "output_type": "execute_result"
    }
   ],
   "source": [
    "items.price = items.price.replace(price_str, 0)\n",
    "items.price = items.price.astype(\"float64\")\n",
    "items.head(2)"
   ]
  },
  {
   "cell_type": "code",
   "execution_count": 681,
   "metadata": {},
   "outputs": [
    {
     "name": "stdout",
     "output_type": "stream",
     "text": [
      "Duplicados de  item_id :  0\n",
      "Duplicados de  title :  1983\n",
      "Duplicados de  url :  0\n",
      "Duplicados de  release_date :  29447\n",
      "Duplicados de  developer :  23795\n",
      "Duplicados de  price :  30682\n"
     ]
    }
   ],
   "source": [
    "duplicados_de(items)"
   ]
  },
  {
   "cell_type": "code",
   "execution_count": 682,
   "metadata": {},
   "outputs": [
    {
     "data": {
      "text/plain": [
       "item_id            0\n",
       "title           1932\n",
       "url                0\n",
       "release_date    1936\n",
       "developer       3154\n",
       "price              0\n",
       "dtype: int64"
      ]
     },
     "execution_count": 682,
     "metadata": {},
     "output_type": "execute_result"
    }
   ],
   "source": [
    "(\n",
    "    items\n",
    "    .isna()\n",
    "    .sum()\n",
    ")"
   ]
  },
  {
   "cell_type": "markdown",
   "metadata": {},
   "source": [
    "Los valores duplicados que podemos notar estan dentro de lo esperado, ya que un desarrollador puede presentar varios items, o items con igual título pueden poseer distintos desarrolladores. Varios items pueden lansarse en una misma fecha o poseer el mismo precio. Podemos notar valores faltantes en las columnas title, release_date y developer. No eliminaremos estas filas ya que poseen valores no nulos en item_id y price. "
   ]
  },
  {
   "cell_type": "code",
   "execution_count": 683,
   "metadata": {},
   "outputs": [],
   "source": [
    "items.to_csv(\"data/df_items.csv\",index=False)"
   ]
  },
  {
   "cell_type": "markdown",
   "metadata": {},
   "source": [
    "----"
   ]
  },
  {
   "cell_type": "markdown",
   "metadata": {},
   "source": [
    "# Tabla games_genres"
   ]
  },
  {
   "cell_type": "code",
   "execution_count": 684,
   "metadata": {},
   "outputs": [],
   "source": [
    "df_item_genre = tabla_intermedia(raw_steam_games,'item_id','genres')\n",
    "df_item_genre.genres = df_item_genre.genres.str.title()"
   ]
  },
  {
   "cell_type": "code",
   "execution_count": 685,
   "metadata": {},
   "outputs": [
    {
     "data": {
      "text/html": [
       "<div>\n",
       "<style scoped>\n",
       "    .dataframe tbody tr th:only-of-type {\n",
       "        vertical-align: middle;\n",
       "    }\n",
       "\n",
       "    .dataframe tbody tr th {\n",
       "        vertical-align: top;\n",
       "    }\n",
       "\n",
       "    .dataframe thead th {\n",
       "        text-align: right;\n",
       "    }\n",
       "</style>\n",
       "<table border=\"1\" class=\"dataframe\">\n",
       "  <thead>\n",
       "    <tr style=\"text-align: right;\">\n",
       "      <th></th>\n",
       "      <th>item_id</th>\n",
       "      <th>genres</th>\n",
       "    </tr>\n",
       "  </thead>\n",
       "  <tbody>\n",
       "    <tr>\n",
       "      <th>0</th>\n",
       "      <td>761140</td>\n",
       "      <td>Action</td>\n",
       "    </tr>\n",
       "    <tr>\n",
       "      <th>1</th>\n",
       "      <td>761140</td>\n",
       "      <td>Casual</td>\n",
       "    </tr>\n",
       "  </tbody>\n",
       "</table>\n",
       "</div>"
      ],
      "text/plain": [
       "   item_id  genres\n",
       "0   761140  Action\n",
       "1   761140  Casual"
      ]
     },
     "execution_count": 685,
     "metadata": {},
     "output_type": "execute_result"
    }
   ],
   "source": [
    "df_item_genre.head(2)"
   ]
  },
  {
   "cell_type": "code",
   "execution_count": 686,
   "metadata": {},
   "outputs": [
    {
     "name": "stdout",
     "output_type": "stream",
     "text": [
      "<class 'pandas.core.frame.DataFrame'>\n",
      "RangeIndex: 71553 entries, 0 to 71552\n",
      "Data columns (total 2 columns):\n",
      " #   Column   Non-Null Count  Dtype \n",
      "---  ------   --------------  ----- \n",
      " 0   item_id  71553 non-null  int64 \n",
      " 1   genres   71553 non-null  object\n",
      "dtypes: int64(1), object(1)\n",
      "memory usage: 1.1+ MB\n"
     ]
    }
   ],
   "source": [
    "df_item_genre.info()"
   ]
  },
  {
   "cell_type": "code",
   "execution_count": 687,
   "metadata": {},
   "outputs": [
    {
     "data": {
      "text/plain": [
       "0"
      ]
     },
     "execution_count": 687,
     "metadata": {},
     "output_type": "execute_result"
    }
   ],
   "source": [
    "(\n",
    "    df_item_genre\n",
    "    .duplicated()\n",
    "    .sum()\n",
    ")"
   ]
  },
  {
   "cell_type": "markdown",
   "metadata": {},
   "source": [
    "Esta tabla no tiene valores nulos ni filas duplicadas"
   ]
  },
  {
   "cell_type": "code",
   "execution_count": 688,
   "metadata": {},
   "outputs": [],
   "source": [
    "df_item_genre.to_csv(\"data/df_item_genre.csv\",index=False)"
   ]
  },
  {
   "cell_type": "markdown",
   "metadata": {},
   "source": [
    "----"
   ]
  },
  {
   "cell_type": "markdown",
   "metadata": {},
   "source": [
    "# Tabla genres"
   ]
  },
  {
   "cell_type": "code",
   "execution_count": 689,
   "metadata": {},
   "outputs": [
    {
     "data": {
      "text/html": [
       "<div>\n",
       "<style scoped>\n",
       "    .dataframe tbody tr th:only-of-type {\n",
       "        vertical-align: middle;\n",
       "    }\n",
       "\n",
       "    .dataframe tbody tr th {\n",
       "        vertical-align: top;\n",
       "    }\n",
       "\n",
       "    .dataframe thead th {\n",
       "        text-align: right;\n",
       "    }\n",
       "</style>\n",
       "<table border=\"1\" class=\"dataframe\">\n",
       "  <thead>\n",
       "    <tr style=\"text-align: right;\">\n",
       "      <th></th>\n",
       "      <th>publisher</th>\n",
       "      <th>genres</th>\n",
       "      <th>app_name</th>\n",
       "      <th>title</th>\n",
       "      <th>url</th>\n",
       "      <th>release_date</th>\n",
       "      <th>tags</th>\n",
       "      <th>reviews_url</th>\n",
       "      <th>discount_price</th>\n",
       "      <th>specs</th>\n",
       "      <th>price</th>\n",
       "      <th>early_access</th>\n",
       "      <th>item_id</th>\n",
       "      <th>metascore</th>\n",
       "      <th>developer</th>\n",
       "    </tr>\n",
       "  </thead>\n",
       "  <tbody>\n",
       "    <tr>\n",
       "      <th>0</th>\n",
       "      <td>Kotoshiro</td>\n",
       "      <td>['Action', 'Casual', 'Indie', 'Simulation', 'Strategy']</td>\n",
       "      <td>Lost Summoner Kitty</td>\n",
       "      <td>Lost Summoner Kitty</td>\n",
       "      <td>http://store.steampowered.com/app/761140/Lost_Summoner_Kitty/</td>\n",
       "      <td>2018-01-04</td>\n",
       "      <td>['Strategy', 'Action', 'Indie', 'Casual', 'Simulation']</td>\n",
       "      <td>http://steamcommunity.com/app/761140/reviews/?browsefilter=mostrecent&amp;p=1</td>\n",
       "      <td>4.49</td>\n",
       "      <td>['Single-player']</td>\n",
       "      <td>4.99</td>\n",
       "      <td>False</td>\n",
       "      <td>761140</td>\n",
       "      <td>NaN</td>\n",
       "      <td>Kotoshiro</td>\n",
       "    </tr>\n",
       "  </tbody>\n",
       "</table>\n",
       "</div>"
      ],
      "text/plain": [
       "   publisher                                                   genres  \\\n",
       "0  Kotoshiro  ['Action', 'Casual', 'Indie', 'Simulation', 'Strategy']   \n",
       "\n",
       "              app_name                title  \\\n",
       "0  Lost Summoner Kitty  Lost Summoner Kitty   \n",
       "\n",
       "                                                             url release_date  \\\n",
       "0  http://store.steampowered.com/app/761140/Lost_Summoner_Kitty/   2018-01-04   \n",
       "\n",
       "                                                      tags  \\\n",
       "0  ['Strategy', 'Action', 'Indie', 'Casual', 'Simulation']   \n",
       "\n",
       "                                                                 reviews_url  \\\n",
       "0  http://steamcommunity.com/app/761140/reviews/?browsefilter=mostrecent&p=1   \n",
       "\n",
       "   discount_price              specs price  early_access  item_id  metascore  \\\n",
       "0            4.49  ['Single-player']  4.99         False   761140        NaN   \n",
       "\n",
       "   developer  \n",
       "0  Kotoshiro  "
      ]
     },
     "execution_count": 689,
     "metadata": {},
     "output_type": "execute_result"
    }
   ],
   "source": [
    "raw_steam_games.head(1)"
   ]
  },
  {
   "cell_type": "code",
   "execution_count": 690,
   "metadata": {},
   "outputs": [],
   "source": [
    "genres = columna_con_listas_a_df(raw_steam_games,'genres')\n",
    "genres.name = genres.name.str.title()"
   ]
  },
  {
   "cell_type": "code",
   "execution_count": 691,
   "metadata": {},
   "outputs": [
    {
     "data": {
      "text/html": [
       "<div>\n",
       "<style scoped>\n",
       "    .dataframe tbody tr th:only-of-type {\n",
       "        vertical-align: middle;\n",
       "    }\n",
       "\n",
       "    .dataframe tbody tr th {\n",
       "        vertical-align: top;\n",
       "    }\n",
       "\n",
       "    .dataframe thead th {\n",
       "        text-align: right;\n",
       "    }\n",
       "</style>\n",
       "<table border=\"1\" class=\"dataframe\">\n",
       "  <thead>\n",
       "    <tr style=\"text-align: right;\">\n",
       "      <th></th>\n",
       "      <th>id_genres</th>\n",
       "      <th>name</th>\n",
       "    </tr>\n",
       "  </thead>\n",
       "  <tbody>\n",
       "    <tr>\n",
       "      <th>0</th>\n",
       "      <td>1</td>\n",
       "      <td>Action</td>\n",
       "    </tr>\n",
       "    <tr>\n",
       "      <th>1</th>\n",
       "      <td>2</td>\n",
       "      <td>Casual</td>\n",
       "    </tr>\n",
       "    <tr>\n",
       "      <th>2</th>\n",
       "      <td>3</td>\n",
       "      <td>Indie</td>\n",
       "    </tr>\n",
       "    <tr>\n",
       "      <th>3</th>\n",
       "      <td>4</td>\n",
       "      <td>Simulation</td>\n",
       "    </tr>\n",
       "    <tr>\n",
       "      <th>4</th>\n",
       "      <td>5</td>\n",
       "      <td>Strategy</td>\n",
       "    </tr>\n",
       "    <tr>\n",
       "      <th>5</th>\n",
       "      <td>6</td>\n",
       "      <td>Free To Play</td>\n",
       "    </tr>\n",
       "    <tr>\n",
       "      <th>6</th>\n",
       "      <td>7</td>\n",
       "      <td>Rpg</td>\n",
       "    </tr>\n",
       "    <tr>\n",
       "      <th>7</th>\n",
       "      <td>8</td>\n",
       "      <td>Sports</td>\n",
       "    </tr>\n",
       "    <tr>\n",
       "      <th>8</th>\n",
       "      <td>9</td>\n",
       "      <td>Adventure</td>\n",
       "    </tr>\n",
       "    <tr>\n",
       "      <th>9</th>\n",
       "      <td>10</td>\n",
       "      <td>Racing</td>\n",
       "    </tr>\n",
       "    <tr>\n",
       "      <th>10</th>\n",
       "      <td>11</td>\n",
       "      <td>Early Access</td>\n",
       "    </tr>\n",
       "    <tr>\n",
       "      <th>11</th>\n",
       "      <td>12</td>\n",
       "      <td>Massively Multiplayer</td>\n",
       "    </tr>\n",
       "    <tr>\n",
       "      <th>12</th>\n",
       "      <td>13</td>\n",
       "      <td>Animation &amp;Amp; Modeling</td>\n",
       "    </tr>\n",
       "    <tr>\n",
       "      <th>13</th>\n",
       "      <td>14</td>\n",
       "      <td>Video Production</td>\n",
       "    </tr>\n",
       "    <tr>\n",
       "      <th>14</th>\n",
       "      <td>15</td>\n",
       "      <td>Utilities</td>\n",
       "    </tr>\n",
       "    <tr>\n",
       "      <th>15</th>\n",
       "      <td>16</td>\n",
       "      <td>Web Publishing</td>\n",
       "    </tr>\n",
       "    <tr>\n",
       "      <th>16</th>\n",
       "      <td>17</td>\n",
       "      <td>Education</td>\n",
       "    </tr>\n",
       "    <tr>\n",
       "      <th>17</th>\n",
       "      <td>18</td>\n",
       "      <td>Software Training</td>\n",
       "    </tr>\n",
       "    <tr>\n",
       "      <th>18</th>\n",
       "      <td>19</td>\n",
       "      <td>Design &amp;Amp; Illustration</td>\n",
       "    </tr>\n",
       "    <tr>\n",
       "      <th>19</th>\n",
       "      <td>20</td>\n",
       "      <td>Audio Production</td>\n",
       "    </tr>\n",
       "    <tr>\n",
       "      <th>20</th>\n",
       "      <td>21</td>\n",
       "      <td>Photo Editing</td>\n",
       "    </tr>\n",
       "    <tr>\n",
       "      <th>21</th>\n",
       "      <td>22</td>\n",
       "      <td>Accounting</td>\n",
       "    </tr>\n",
       "  </tbody>\n",
       "</table>\n",
       "</div>"
      ],
      "text/plain": [
       "    id_genres                       name\n",
       "0           1                     Action\n",
       "1           2                     Casual\n",
       "2           3                      Indie\n",
       "3           4                 Simulation\n",
       "4           5                   Strategy\n",
       "5           6               Free To Play\n",
       "6           7                        Rpg\n",
       "7           8                     Sports\n",
       "8           9                  Adventure\n",
       "9          10                     Racing\n",
       "10         11               Early Access\n",
       "11         12      Massively Multiplayer\n",
       "12         13   Animation &Amp; Modeling\n",
       "13         14           Video Production\n",
       "14         15                  Utilities\n",
       "15         16             Web Publishing\n",
       "16         17                  Education\n",
       "17         18          Software Training\n",
       "18         19  Design &Amp; Illustration\n",
       "19         20           Audio Production\n",
       "20         21              Photo Editing\n",
       "21         22                 Accounting"
      ]
     },
     "execution_count": 691,
     "metadata": {},
     "output_type": "execute_result"
    }
   ],
   "source": [
    "genres"
   ]
  },
  {
   "cell_type": "markdown",
   "metadata": {},
   "source": [
    "anexo: columna playtime_forever"
   ]
  },
  {
   "cell_type": "code",
   "execution_count": 692,
   "metadata": {},
   "outputs": [],
   "source": [
    "item_id_playtime_forever = df_users_items[['item_id','playtime_forever']]\n",
    "item_id_playtime_forever = item_id_playtime_forever.groupby('item_id')['playtime_forever'].sum().reset_index()"
   ]
  },
  {
   "cell_type": "code",
   "execution_count": 693,
   "metadata": {},
   "outputs": [
    {
     "data": {
      "text/html": [
       "<div>\n",
       "<style scoped>\n",
       "    .dataframe tbody tr th:only-of-type {\n",
       "        vertical-align: middle;\n",
       "    }\n",
       "\n",
       "    .dataframe tbody tr th {\n",
       "        vertical-align: top;\n",
       "    }\n",
       "\n",
       "    .dataframe thead th {\n",
       "        text-align: right;\n",
       "    }\n",
       "</style>\n",
       "<table border=\"1\" class=\"dataframe\">\n",
       "  <thead>\n",
       "    <tr style=\"text-align: right;\">\n",
       "      <th></th>\n",
       "      <th>item_id</th>\n",
       "      <th>playtime_forever</th>\n",
       "    </tr>\n",
       "  </thead>\n",
       "  <tbody>\n",
       "    <tr>\n",
       "      <th>0</th>\n",
       "      <td>10</td>\n",
       "      <td>17107858</td>\n",
       "    </tr>\n",
       "    <tr>\n",
       "      <th>1</th>\n",
       "      <td>100</td>\n",
       "      <td>301732</td>\n",
       "    </tr>\n",
       "    <tr>\n",
       "      <th>2</th>\n",
       "      <td>10000</td>\n",
       "      <td>62685</td>\n",
       "    </tr>\n",
       "    <tr>\n",
       "      <th>3</th>\n",
       "      <td>1002</td>\n",
       "      <td>894</td>\n",
       "    </tr>\n",
       "    <tr>\n",
       "      <th>4</th>\n",
       "      <td>100400</td>\n",
       "      <td>6544</td>\n",
       "    </tr>\n",
       "    <tr>\n",
       "      <th>...</th>\n",
       "      <td>...</td>\n",
       "      <td>...</td>\n",
       "    </tr>\n",
       "    <tr>\n",
       "      <th>10045</th>\n",
       "      <td>99890</td>\n",
       "      <td>127442</td>\n",
       "    </tr>\n",
       "    <tr>\n",
       "      <th>10046</th>\n",
       "      <td>9990</td>\n",
       "      <td>2083</td>\n",
       "    </tr>\n",
       "    <tr>\n",
       "      <th>10047</th>\n",
       "      <td>99900</td>\n",
       "      <td>17083206</td>\n",
       "    </tr>\n",
       "    <tr>\n",
       "      <th>10048</th>\n",
       "      <td>99910</td>\n",
       "      <td>426210</td>\n",
       "    </tr>\n",
       "    <tr>\n",
       "      <th>10049</th>\n",
       "      <td>99920</td>\n",
       "      <td>2344</td>\n",
       "    </tr>\n",
       "  </tbody>\n",
       "</table>\n",
       "<p>10050 rows × 2 columns</p>\n",
       "</div>"
      ],
      "text/plain": [
       "      item_id  playtime_forever\n",
       "0          10          17107858\n",
       "1         100            301732\n",
       "2       10000             62685\n",
       "3        1002               894\n",
       "4      100400              6544\n",
       "...       ...               ...\n",
       "10045   99890            127442\n",
       "10046    9990              2083\n",
       "10047   99900          17083206\n",
       "10048   99910            426210\n",
       "10049   99920              2344\n",
       "\n",
       "[10050 rows x 2 columns]"
      ]
     },
     "execution_count": 693,
     "metadata": {},
     "output_type": "execute_result"
    }
   ],
   "source": [
    "item_id_playtime_forever"
   ]
  },
  {
   "cell_type": "code",
   "execution_count": 694,
   "metadata": {},
   "outputs": [
    {
     "name": "stdout",
     "output_type": "stream",
     "text": [
      "<class 'pandas.core.frame.DataFrame'>\n",
      "RangeIndex: 10050 entries, 0 to 10049\n",
      "Data columns (total 2 columns):\n",
      " #   Column            Non-Null Count  Dtype \n",
      "---  ------            --------------  ----- \n",
      " 0   item_id           10050 non-null  object\n",
      " 1   playtime_forever  10050 non-null  int64 \n",
      "dtypes: int64(1), object(1)\n",
      "memory usage: 157.2+ KB\n"
     ]
    }
   ],
   "source": [
    "item_id_playtime_forever.info()"
   ]
  },
  {
   "cell_type": "code",
   "execution_count": 695,
   "metadata": {},
   "outputs": [],
   "source": [
    "item_id_playtime_forever['item_id'] = item_id_playtime_forever['item_id'].astype('int64')\n"
   ]
  },
  {
   "cell_type": "code",
   "execution_count": 696,
   "metadata": {},
   "outputs": [
    {
     "data": {
      "text/plain": [
       "0"
      ]
     },
     "execution_count": 696,
     "metadata": {},
     "output_type": "execute_result"
    }
   ],
   "source": [
    "item_id_playtime_forever.duplicated().sum()"
   ]
  },
  {
   "cell_type": "markdown",
   "metadata": {},
   "source": [
    "No tenemos valores nulos ni duplicados."
   ]
  },
  {
   "cell_type": "code",
   "execution_count": 697,
   "metadata": {},
   "outputs": [],
   "source": [
    "play_4ever_x_genre_list = []\n",
    "for genero in genres.name:\n",
    "    play_4ever_x_genre_list.append((play_4ever_x_genre(genero)))\n",
    "genres['playtime_forever'] = play_4ever_x_genre_list"
   ]
  },
  {
   "cell_type": "code",
   "execution_count": 698,
   "metadata": {},
   "outputs": [
    {
     "data": {
      "text/html": [
       "<div>\n",
       "<style scoped>\n",
       "    .dataframe tbody tr th:only-of-type {\n",
       "        vertical-align: middle;\n",
       "    }\n",
       "\n",
       "    .dataframe tbody tr th {\n",
       "        vertical-align: top;\n",
       "    }\n",
       "\n",
       "    .dataframe thead th {\n",
       "        text-align: right;\n",
       "    }\n",
       "</style>\n",
       "<table border=\"1\" class=\"dataframe\">\n",
       "  <thead>\n",
       "    <tr style=\"text-align: right;\">\n",
       "      <th></th>\n",
       "      <th>id_genres</th>\n",
       "      <th>name</th>\n",
       "      <th>playtime_forever</th>\n",
       "      <th>ranking</th>\n",
       "    </tr>\n",
       "  </thead>\n",
       "  <tbody>\n",
       "    <tr>\n",
       "      <th>0</th>\n",
       "      <td>1</td>\n",
       "      <td>Action</td>\n",
       "      <td>3074865964</td>\n",
       "      <td>1</td>\n",
       "    </tr>\n",
       "    <tr>\n",
       "      <th>2</th>\n",
       "      <td>3</td>\n",
       "      <td>Indie</td>\n",
       "      <td>1475383715</td>\n",
       "      <td>2</td>\n",
       "    </tr>\n",
       "    <tr>\n",
       "      <th>6</th>\n",
       "      <td>7</td>\n",
       "      <td>Rpg</td>\n",
       "      <td>1027849083</td>\n",
       "      <td>3</td>\n",
       "    </tr>\n",
       "    <tr>\n",
       "      <th>8</th>\n",
       "      <td>9</td>\n",
       "      <td>Adventure</td>\n",
       "      <td>898675144</td>\n",
       "      <td>4</td>\n",
       "    </tr>\n",
       "    <tr>\n",
       "      <th>3</th>\n",
       "      <td>4</td>\n",
       "      <td>Simulation</td>\n",
       "      <td>855261582</td>\n",
       "      <td>5</td>\n",
       "    </tr>\n",
       "    <tr>\n",
       "      <th>4</th>\n",
       "      <td>5</td>\n",
       "      <td>Strategy</td>\n",
       "      <td>650991704</td>\n",
       "      <td>6</td>\n",
       "    </tr>\n",
       "    <tr>\n",
       "      <th>5</th>\n",
       "      <td>6</td>\n",
       "      <td>Free To Play</td>\n",
       "      <td>603563359</td>\n",
       "      <td>7</td>\n",
       "    </tr>\n",
       "    <tr>\n",
       "      <th>11</th>\n",
       "      <td>12</td>\n",
       "      <td>Massively Multiplayer</td>\n",
       "      <td>441038278</td>\n",
       "      <td>8</td>\n",
       "    </tr>\n",
       "    <tr>\n",
       "      <th>1</th>\n",
       "      <td>2</td>\n",
       "      <td>Casual</td>\n",
       "      <td>249315170</td>\n",
       "      <td>9</td>\n",
       "    </tr>\n",
       "    <tr>\n",
       "      <th>10</th>\n",
       "      <td>11</td>\n",
       "      <td>Early Access</td>\n",
       "      <td>156682370</td>\n",
       "      <td>10</td>\n",
       "    </tr>\n",
       "    <tr>\n",
       "      <th>7</th>\n",
       "      <td>8</td>\n",
       "      <td>Sports</td>\n",
       "      <td>64912685</td>\n",
       "      <td>11</td>\n",
       "    </tr>\n",
       "    <tr>\n",
       "      <th>9</th>\n",
       "      <td>10</td>\n",
       "      <td>Racing</td>\n",
       "      <td>62982260</td>\n",
       "      <td>12</td>\n",
       "    </tr>\n",
       "    <tr>\n",
       "      <th>14</th>\n",
       "      <td>15</td>\n",
       "      <td>Utilities</td>\n",
       "      <td>4677356</td>\n",
       "      <td>13</td>\n",
       "    </tr>\n",
       "    <tr>\n",
       "      <th>18</th>\n",
       "      <td>19</td>\n",
       "      <td>Design &amp;Amp; Illustration</td>\n",
       "      <td>4075534</td>\n",
       "      <td>14</td>\n",
       "    </tr>\n",
       "    <tr>\n",
       "      <th>15</th>\n",
       "      <td>16</td>\n",
       "      <td>Web Publishing</td>\n",
       "      <td>2760751</td>\n",
       "      <td>15</td>\n",
       "    </tr>\n",
       "    <tr>\n",
       "      <th>13</th>\n",
       "      <td>14</td>\n",
       "      <td>Video Production</td>\n",
       "      <td>2387840</td>\n",
       "      <td>16</td>\n",
       "    </tr>\n",
       "    <tr>\n",
       "      <th>12</th>\n",
       "      <td>13</td>\n",
       "      <td>Animation &amp;Amp; Modeling</td>\n",
       "      <td>1994171</td>\n",
       "      <td>17</td>\n",
       "    </tr>\n",
       "    <tr>\n",
       "      <th>17</th>\n",
       "      <td>18</td>\n",
       "      <td>Software Training</td>\n",
       "      <td>559988</td>\n",
       "      <td>18</td>\n",
       "    </tr>\n",
       "    <tr>\n",
       "      <th>19</th>\n",
       "      <td>20</td>\n",
       "      <td>Audio Production</td>\n",
       "      <td>545201</td>\n",
       "      <td>19</td>\n",
       "    </tr>\n",
       "    <tr>\n",
       "      <th>16</th>\n",
       "      <td>17</td>\n",
       "      <td>Education</td>\n",
       "      <td>412955</td>\n",
       "      <td>20</td>\n",
       "    </tr>\n",
       "    <tr>\n",
       "      <th>20</th>\n",
       "      <td>21</td>\n",
       "      <td>Photo Editing</td>\n",
       "      <td>114502</td>\n",
       "      <td>21</td>\n",
       "    </tr>\n",
       "    <tr>\n",
       "      <th>21</th>\n",
       "      <td>22</td>\n",
       "      <td>Accounting</td>\n",
       "      <td>0</td>\n",
       "      <td>22</td>\n",
       "    </tr>\n",
       "  </tbody>\n",
       "</table>\n",
       "</div>"
      ],
      "text/plain": [
       "    id_genres                       name  playtime_forever  ranking\n",
       "0           1                     Action        3074865964        1\n",
       "2           3                      Indie        1475383715        2\n",
       "6           7                        Rpg        1027849083        3\n",
       "8           9                  Adventure         898675144        4\n",
       "3           4                 Simulation         855261582        5\n",
       "4           5                   Strategy         650991704        6\n",
       "5           6               Free To Play         603563359        7\n",
       "11         12      Massively Multiplayer         441038278        8\n",
       "1           2                     Casual         249315170        9\n",
       "10         11               Early Access         156682370       10\n",
       "7           8                     Sports          64912685       11\n",
       "9          10                     Racing          62982260       12\n",
       "14         15                  Utilities           4677356       13\n",
       "18         19  Design &Amp; Illustration           4075534       14\n",
       "15         16             Web Publishing           2760751       15\n",
       "13         14           Video Production           2387840       16\n",
       "12         13   Animation &Amp; Modeling           1994171       17\n",
       "17         18          Software Training            559988       18\n",
       "19         20           Audio Production            545201       19\n",
       "16         17                  Education            412955       20\n",
       "20         21              Photo Editing            114502       21\n",
       "21         22                 Accounting                 0       22"
      ]
     },
     "execution_count": 698,
     "metadata": {},
     "output_type": "execute_result"
    }
   ],
   "source": [
    "genres = genres.sort_values(by='playtime_forever', ascending=False)\n",
    "genres['ranking'] = range(1, len(genres) + 1)\n",
    "genres"
   ]
  },
  {
   "cell_type": "code",
   "execution_count": 699,
   "metadata": {},
   "outputs": [],
   "source": [
    "genres.to_csv(\"data/df_genres.csv\",index=False)"
   ]
  },
  {
   "cell_type": "markdown",
   "metadata": {},
   "source": [
    "-----"
   ]
  },
  {
   "cell_type": "markdown",
   "metadata": {},
   "source": [
    "## Tabla df_reviews "
   ]
  },
  {
   "cell_type": "code",
   "execution_count": 700,
   "metadata": {},
   "outputs": [
    {
     "data": {
      "text/html": [
       "<div>\n",
       "<style scoped>\n",
       "    .dataframe tbody tr th:only-of-type {\n",
       "        vertical-align: middle;\n",
       "    }\n",
       "\n",
       "    .dataframe tbody tr th {\n",
       "        vertical-align: top;\n",
       "    }\n",
       "\n",
       "    .dataframe thead th {\n",
       "        text-align: right;\n",
       "    }\n",
       "</style>\n",
       "<table border=\"1\" class=\"dataframe\">\n",
       "  <thead>\n",
       "    <tr style=\"text-align: right;\">\n",
       "      <th></th>\n",
       "      <th>user_id</th>\n",
       "      <th>user_url</th>\n",
       "      <th>reviews</th>\n",
       "    </tr>\n",
       "  </thead>\n",
       "  <tbody>\n",
       "    <tr>\n",
       "      <th>0</th>\n",
       "      <td>76561197970982479</td>\n",
       "      <td>http://steamcommunity.com/profiles/76561197970982479</td>\n",
       "      <td>[{\"funny\": \"\", \"posted\": \"Posted November 5, 2011.\", \"last_edited\": \"\", \"item_id\": \"1250\", \"help...</td>\n",
       "    </tr>\n",
       "    <tr>\n",
       "      <th>1</th>\n",
       "      <td>js41637</td>\n",
       "      <td>http://steamcommunity.com/id/js41637</td>\n",
       "      <td>[{\"funny\": \"\", \"posted\": \"Posted June 24, 2014.\", \"last_edited\": \"\", \"item_id\": \"251610\", \"helpf...</td>\n",
       "    </tr>\n",
       "  </tbody>\n",
       "</table>\n",
       "</div>"
      ],
      "text/plain": [
       "             user_id                                              user_url  \\\n",
       "0  76561197970982479  http://steamcommunity.com/profiles/76561197970982479   \n",
       "1            js41637                  http://steamcommunity.com/id/js41637   \n",
       "\n",
       "                                                                                               reviews  \n",
       "0  [{\"funny\": \"\", \"posted\": \"Posted November 5, 2011.\", \"last_edited\": \"\", \"item_id\": \"1250\", \"help...  \n",
       "1  [{\"funny\": \"\", \"posted\": \"Posted June 24, 2014.\", \"last_edited\": \"\", \"item_id\": \"251610\", \"helpf...  "
      ]
     },
     "execution_count": 700,
     "metadata": {},
     "output_type": "execute_result"
    }
   ],
   "source": [
    "raw_user_reviews.head(2)"
   ]
  },
  {
   "cell_type": "code",
   "execution_count": 701,
   "metadata": {},
   "outputs": [],
   "source": [
    "df_reviews = raw_user_reviews[['user_id','reviews']]\n",
    "df_reviews.reviews = df_reviews.reviews.apply(json.loads) # transforma el str en lista\n",
    "df_reviews = df_reviews.explode('reviews').reset_index(drop=True) # analiza lo que  hay dentro de la lista y en este cado lo transforma en un diccionario"
   ]
  },
  {
   "cell_type": "code",
   "execution_count": 702,
   "metadata": {},
   "outputs": [
    {
     "data": {
      "text/plain": [
       "['funny', 'posted', 'last_edited', 'item_id', 'helpful', 'recommend', 'review']"
      ]
     },
     "execution_count": 702,
     "metadata": {},
     "output_type": "execute_result"
    }
   ],
   "source": [
    "llaves = list(df_reviews[['reviews']].iloc[0,0].keys())\n",
    "llaves"
   ]
  },
  {
   "cell_type": "code",
   "execution_count": 703,
   "metadata": {},
   "outputs": [],
   "source": [
    "for llave in llaves:\n",
    "    df_reviews[llave] = df_reviews['reviews'].apply(lambda x: x[llave]) # creamos columnas para el contenido de cada llave"
   ]
  },
  {
   "cell_type": "code",
   "execution_count": 704,
   "metadata": {},
   "outputs": [],
   "source": [
    "df_reviews = df_reviews.drop(columns=['reviews']) # eliminamos la columna con datos anidados\n"
   ]
  },
  {
   "cell_type": "code",
   "execution_count": 705,
   "metadata": {},
   "outputs": [
    {
     "data": {
      "text/html": [
       "<div>\n",
       "<style scoped>\n",
       "    .dataframe tbody tr th:only-of-type {\n",
       "        vertical-align: middle;\n",
       "    }\n",
       "\n",
       "    .dataframe tbody tr th {\n",
       "        vertical-align: top;\n",
       "    }\n",
       "\n",
       "    .dataframe thead th {\n",
       "        text-align: right;\n",
       "    }\n",
       "</style>\n",
       "<table border=\"1\" class=\"dataframe\">\n",
       "  <thead>\n",
       "    <tr style=\"text-align: right;\">\n",
       "      <th></th>\n",
       "      <th>user_id</th>\n",
       "      <th>funny</th>\n",
       "      <th>posted</th>\n",
       "      <th>last_edited</th>\n",
       "      <th>item_id</th>\n",
       "      <th>helpful</th>\n",
       "      <th>recommend</th>\n",
       "      <th>review</th>\n",
       "    </tr>\n",
       "  </thead>\n",
       "  <tbody>\n",
       "    <tr>\n",
       "      <th>0</th>\n",
       "      <td>76561197970982479</td>\n",
       "      <td></td>\n",
       "      <td>Posted November 5, 2011.</td>\n",
       "      <td></td>\n",
       "      <td>1250</td>\n",
       "      <td>No ratings yet</td>\n",
       "      <td>True</td>\n",
       "      <td>Simple yet with great replayability. In my opinion does \"zombie\" hordes and team work better tha...</td>\n",
       "    </tr>\n",
       "    <tr>\n",
       "      <th>1</th>\n",
       "      <td>76561197970982479</td>\n",
       "      <td></td>\n",
       "      <td>Posted July 15, 2011.</td>\n",
       "      <td></td>\n",
       "      <td>22200</td>\n",
       "      <td>No ratings yet</td>\n",
       "      <td>True</td>\n",
       "      <td>It's unique and worth a playthrough.</td>\n",
       "    </tr>\n",
       "  </tbody>\n",
       "</table>\n",
       "</div>"
      ],
      "text/plain": [
       "             user_id funny                    posted last_edited item_id  \\\n",
       "0  76561197970982479        Posted November 5, 2011.                1250   \n",
       "1  76561197970982479           Posted July 15, 2011.               22200   \n",
       "\n",
       "          helpful  recommend  \\\n",
       "0  No ratings yet       True   \n",
       "1  No ratings yet       True   \n",
       "\n",
       "                                                                                                review  \n",
       "0  Simple yet with great replayability. In my opinion does \"zombie\" hordes and team work better tha...  \n",
       "1                                                                 It's unique and worth a playthrough.  "
      ]
     },
     "execution_count": 705,
     "metadata": {},
     "output_type": "execute_result"
    }
   ],
   "source": [
    "df_reviews.head(2)"
   ]
  },
  {
   "cell_type": "code",
   "execution_count": 706,
   "metadata": {},
   "outputs": [
    {
     "name": "stdout",
     "output_type": "stream",
     "text": [
      "<class 'pandas.core.frame.DataFrame'>\n",
      "RangeIndex: 52234 entries, 0 to 52233\n",
      "Data columns (total 8 columns):\n",
      " #   Column       Non-Null Count  Dtype \n",
      "---  ------       --------------  ----- \n",
      " 0   user_id      52234 non-null  object\n",
      " 1   funny        52234 non-null  object\n",
      " 2   posted       52234 non-null  object\n",
      " 3   last_edited  52234 non-null  object\n",
      " 4   item_id      52234 non-null  object\n",
      " 5   helpful      52234 non-null  object\n",
      " 6   recommend    52234 non-null  bool  \n",
      " 7   review       52234 non-null  object\n",
      "dtypes: bool(1), object(7)\n",
      "memory usage: 2.8+ MB\n"
     ]
    }
   ],
   "source": [
    "df_reviews.info()"
   ]
  },
  {
   "cell_type": "code",
   "execution_count": 707,
   "metadata": {},
   "outputs": [
    {
     "data": {
      "text/plain": [
       "0"
      ]
     },
     "execution_count": 707,
     "metadata": {},
     "output_type": "execute_result"
    }
   ],
   "source": [
    "df_reviews.duplicated().sum()"
   ]
  },
  {
   "cell_type": "markdown",
   "metadata": {},
   "source": [
    "No tenemos valores nulos ni filas duplicadas."
   ]
  },
  {
   "cell_type": "markdown",
   "metadata": {},
   "source": [
    "Crearemos la columna posted_data con la info de la columna posted. Aquellas que se encuentran incompletas se condideraran como valores nulos."
   ]
  },
  {
   "cell_type": "code",
   "execution_count": 708,
   "metadata": {},
   "outputs": [
    {
     "data": {
      "text/html": [
       "<div>\n",
       "<style scoped>\n",
       "    .dataframe tbody tr th:only-of-type {\n",
       "        vertical-align: middle;\n",
       "    }\n",
       "\n",
       "    .dataframe tbody tr th {\n",
       "        vertical-align: top;\n",
       "    }\n",
       "\n",
       "    .dataframe thead th {\n",
       "        text-align: right;\n",
       "    }\n",
       "</style>\n",
       "<table border=\"1\" class=\"dataframe\">\n",
       "  <thead>\n",
       "    <tr style=\"text-align: right;\">\n",
       "      <th></th>\n",
       "      <th>user_id</th>\n",
       "      <th>funny</th>\n",
       "      <th>posted</th>\n",
       "      <th>last_edited</th>\n",
       "      <th>item_id</th>\n",
       "      <th>helpful</th>\n",
       "      <th>recommend</th>\n",
       "      <th>review</th>\n",
       "    </tr>\n",
       "  </thead>\n",
       "  <tbody>\n",
       "    <tr>\n",
       "      <th>29343</th>\n",
       "      <td>76561198052399653</td>\n",
       "      <td></td>\n",
       "      <td>Posted September 9.</td>\n",
       "      <td></td>\n",
       "      <td>452780</td>\n",
       "      <td>1 of 2 people (50%) found this review helpful</td>\n",
       "      <td>True</td>\n",
       "      <td>This game is really fun to play, you can have it on in the background training, while almost doi...</td>\n",
       "    </tr>\n",
       "    <tr>\n",
       "      <th>16272</th>\n",
       "      <td>whisperrrrrrr</td>\n",
       "      <td></td>\n",
       "      <td>Posted September 9.</td>\n",
       "      <td></td>\n",
       "      <td>49520</td>\n",
       "      <td>No ratings yet</td>\n",
       "      <td>True</td>\n",
       "      <td>This game is so ♥♥♥♥ing fun. You get to run around shooting psychos, the humour is great, and th...</td>\n",
       "    </tr>\n",
       "    <tr>\n",
       "      <th>35855</th>\n",
       "      <td>SpiceyPanda</td>\n",
       "      <td></td>\n",
       "      <td>Posted September 9.</td>\n",
       "      <td></td>\n",
       "      <td>268500</td>\n",
       "      <td>1 of 2 people (50%) found this review helpful</td>\n",
       "      <td>True</td>\n",
       "      <td>Such an amazing TBS, Love it &lt;3</td>\n",
       "    </tr>\n",
       "    <tr>\n",
       "      <th>7773</th>\n",
       "      <td>olivercooli</td>\n",
       "      <td></td>\n",
       "      <td>Posted September 9.</td>\n",
       "      <td></td>\n",
       "      <td>294100</td>\n",
       "      <td>1 of 2 people (50%) found this review helpful</td>\n",
       "      <td>True</td>\n",
       "      <td>I have always been a fan of the management game genre but there are few that do it well. And the...</td>\n",
       "    </tr>\n",
       "    <tr>\n",
       "      <th>14119</th>\n",
       "      <td>76561198094264350</td>\n",
       "      <td></td>\n",
       "      <td>Posted September 9.</td>\n",
       "      <td></td>\n",
       "      <td>304050</td>\n",
       "      <td>No ratings yet</td>\n",
       "      <td>True</td>\n",
       "      <td>It's very good game!!!</td>\n",
       "    </tr>\n",
       "  </tbody>\n",
       "</table>\n",
       "</div>"
      ],
      "text/plain": [
       "                 user_id funny               posted last_edited item_id  \\\n",
       "29343  76561198052399653        Posted September 9.              452780   \n",
       "16272      whisperrrrrrr        Posted September 9.               49520   \n",
       "35855        SpiceyPanda        Posted September 9.              268500   \n",
       "7773         olivercooli        Posted September 9.              294100   \n",
       "14119  76561198094264350        Posted September 9.              304050   \n",
       "\n",
       "                                             helpful  recommend  \\\n",
       "29343  1 of 2 people (50%) found this review helpful       True   \n",
       "16272                                 No ratings yet       True   \n",
       "35855  1 of 2 people (50%) found this review helpful       True   \n",
       "7773   1 of 2 people (50%) found this review helpful       True   \n",
       "14119                                 No ratings yet       True   \n",
       "\n",
       "                                                                                                    review  \n",
       "29343  This game is really fun to play, you can have it on in the background training, while almost doi...  \n",
       "16272  This game is so ♥♥♥♥ing fun. You get to run around shooting psychos, the humour is great, and th...  \n",
       "35855                                                                      Such an amazing TBS, Love it <3  \n",
       "7773   I have always been a fan of the management game genre but there are few that do it well. And the...  \n",
       "14119                                                                               It's very good game!!!  "
      ]
     },
     "execution_count": 708,
     "metadata": {},
     "output_type": "execute_result"
    }
   ],
   "source": [
    "df_reviews.sort_values('posted').tail(5)"
   ]
  },
  {
   "cell_type": "code",
   "execution_count": 709,
   "metadata": {},
   "outputs": [],
   "source": [
    "formato_de_la_fecha = r'Posted (\\w+ \\d{1,2}, \\d{4})'\n",
    "df_reviews['posted_date'] = df_reviews['posted'].str.extract(formato_de_la_fecha)\n",
    "df_reviews['posted_date'] = pd.to_datetime(df_reviews['posted_date'], format='%B %d, %Y')\n"
   ]
  },
  {
   "cell_type": "code",
   "execution_count": 710,
   "metadata": {},
   "outputs": [],
   "source": [
    "df_reviews['year'] = df_reviews['posted_date'].dt.year"
   ]
  },
  {
   "cell_type": "code",
   "execution_count": 711,
   "metadata": {},
   "outputs": [],
   "source": [
    "df_reviews['sentiment_analysis'] = df_reviews['review'].apply(analisis_de_sentimientos)"
   ]
  },
  {
   "cell_type": "code",
   "execution_count": 712,
   "metadata": {},
   "outputs": [],
   "source": [
    "df_reviews = df_reviews[['user_id', 'item_id','recommend', 'posted_date','year', 'sentiment_analysis']]"
   ]
  },
  {
   "cell_type": "code",
   "execution_count": 713,
   "metadata": {},
   "outputs": [
    {
     "data": {
      "text/html": [
       "<div>\n",
       "<style scoped>\n",
       "    .dataframe tbody tr th:only-of-type {\n",
       "        vertical-align: middle;\n",
       "    }\n",
       "\n",
       "    .dataframe tbody tr th {\n",
       "        vertical-align: top;\n",
       "    }\n",
       "\n",
       "    .dataframe thead th {\n",
       "        text-align: right;\n",
       "    }\n",
       "</style>\n",
       "<table border=\"1\" class=\"dataframe\">\n",
       "  <thead>\n",
       "    <tr style=\"text-align: right;\">\n",
       "      <th></th>\n",
       "      <th>user_id</th>\n",
       "      <th>item_id</th>\n",
       "      <th>recommend</th>\n",
       "      <th>posted_date</th>\n",
       "      <th>year</th>\n",
       "      <th>sentiment_analysis</th>\n",
       "    </tr>\n",
       "  </thead>\n",
       "  <tbody>\n",
       "    <tr>\n",
       "      <th>0</th>\n",
       "      <td>76561197970982479</td>\n",
       "      <td>1250</td>\n",
       "      <td>True</td>\n",
       "      <td>2011-11-05</td>\n",
       "      <td>2011.0</td>\n",
       "      <td>2</td>\n",
       "    </tr>\n",
       "    <tr>\n",
       "      <th>1</th>\n",
       "      <td>76561197970982479</td>\n",
       "      <td>22200</td>\n",
       "      <td>True</td>\n",
       "      <td>2011-07-15</td>\n",
       "      <td>2011.0</td>\n",
       "      <td>2</td>\n",
       "    </tr>\n",
       "    <tr>\n",
       "      <th>2</th>\n",
       "      <td>76561197970982479</td>\n",
       "      <td>43110</td>\n",
       "      <td>True</td>\n",
       "      <td>2011-04-21</td>\n",
       "      <td>2011.0</td>\n",
       "      <td>2</td>\n",
       "    </tr>\n",
       "    <tr>\n",
       "      <th>3</th>\n",
       "      <td>js41637</td>\n",
       "      <td>251610</td>\n",
       "      <td>True</td>\n",
       "      <td>2014-06-24</td>\n",
       "      <td>2014.0</td>\n",
       "      <td>2</td>\n",
       "    </tr>\n",
       "    <tr>\n",
       "      <th>4</th>\n",
       "      <td>js41637</td>\n",
       "      <td>227300</td>\n",
       "      <td>True</td>\n",
       "      <td>2013-09-08</td>\n",
       "      <td>2013.0</td>\n",
       "      <td>0</td>\n",
       "    </tr>\n",
       "    <tr>\n",
       "      <th>...</th>\n",
       "      <td>...</td>\n",
       "      <td>...</td>\n",
       "      <td>...</td>\n",
       "      <td>...</td>\n",
       "      <td>...</td>\n",
       "      <td>...</td>\n",
       "    </tr>\n",
       "    <tr>\n",
       "      <th>52229</th>\n",
       "      <td>76561198310819422</td>\n",
       "      <td>570</td>\n",
       "      <td>True</td>\n",
       "      <td>NaT</td>\n",
       "      <td>NaN</td>\n",
       "      <td>1</td>\n",
       "    </tr>\n",
       "    <tr>\n",
       "      <th>52230</th>\n",
       "      <td>76561198312638244</td>\n",
       "      <td>233270</td>\n",
       "      <td>True</td>\n",
       "      <td>NaT</td>\n",
       "      <td>NaN</td>\n",
       "      <td>2</td>\n",
       "    </tr>\n",
       "    <tr>\n",
       "      <th>52231</th>\n",
       "      <td>76561198312638244</td>\n",
       "      <td>130</td>\n",
       "      <td>True</td>\n",
       "      <td>NaT</td>\n",
       "      <td>NaN</td>\n",
       "      <td>2</td>\n",
       "    </tr>\n",
       "    <tr>\n",
       "      <th>52232</th>\n",
       "      <td>76561198312638244</td>\n",
       "      <td>70</td>\n",
       "      <td>True</td>\n",
       "      <td>NaT</td>\n",
       "      <td>NaN</td>\n",
       "      <td>2</td>\n",
       "    </tr>\n",
       "    <tr>\n",
       "      <th>52233</th>\n",
       "      <td>76561198312638244</td>\n",
       "      <td>362890</td>\n",
       "      <td>True</td>\n",
       "      <td>NaT</td>\n",
       "      <td>NaN</td>\n",
       "      <td>2</td>\n",
       "    </tr>\n",
       "  </tbody>\n",
       "</table>\n",
       "<p>52234 rows × 6 columns</p>\n",
       "</div>"
      ],
      "text/plain": [
       "                 user_id item_id  recommend posted_date    year  \\\n",
       "0      76561197970982479    1250       True  2011-11-05  2011.0   \n",
       "1      76561197970982479   22200       True  2011-07-15  2011.0   \n",
       "2      76561197970982479   43110       True  2011-04-21  2011.0   \n",
       "3                js41637  251610       True  2014-06-24  2014.0   \n",
       "4                js41637  227300       True  2013-09-08  2013.0   \n",
       "...                  ...     ...        ...         ...     ...   \n",
       "52229  76561198310819422     570       True         NaT     NaN   \n",
       "52230  76561198312638244  233270       True         NaT     NaN   \n",
       "52231  76561198312638244     130       True         NaT     NaN   \n",
       "52232  76561198312638244      70       True         NaT     NaN   \n",
       "52233  76561198312638244  362890       True         NaT     NaN   \n",
       "\n",
       "       sentiment_analysis  \n",
       "0                       2  \n",
       "1                       2  \n",
       "2                       2  \n",
       "3                       2  \n",
       "4                       0  \n",
       "...                   ...  \n",
       "52229                   1  \n",
       "52230                   2  \n",
       "52231                   2  \n",
       "52232                   2  \n",
       "52233                   2  \n",
       "\n",
       "[52234 rows x 6 columns]"
      ]
     },
     "execution_count": 713,
     "metadata": {},
     "output_type": "execute_result"
    }
   ],
   "source": [
    "df_reviews"
   ]
  },
  {
   "cell_type": "code",
   "execution_count": 714,
   "metadata": {},
   "outputs": [],
   "source": [
    "df_reviews.year = df_reviews.year.fillna(0)\n",
    "df_reviews.year = df_reviews.year.astype(int)"
   ]
  },
  {
   "cell_type": "code",
   "execution_count": 715,
   "metadata": {},
   "outputs": [
    {
     "data": {
      "text/html": [
       "<div>\n",
       "<style scoped>\n",
       "    .dataframe tbody tr th:only-of-type {\n",
       "        vertical-align: middle;\n",
       "    }\n",
       "\n",
       "    .dataframe tbody tr th {\n",
       "        vertical-align: top;\n",
       "    }\n",
       "\n",
       "    .dataframe thead th {\n",
       "        text-align: right;\n",
       "    }\n",
       "</style>\n",
       "<table border=\"1\" class=\"dataframe\">\n",
       "  <thead>\n",
       "    <tr style=\"text-align: right;\">\n",
       "      <th></th>\n",
       "      <th>user_id</th>\n",
       "      <th>item_id</th>\n",
       "      <th>recommend</th>\n",
       "      <th>posted_date</th>\n",
       "      <th>year</th>\n",
       "      <th>sentiment_analysis</th>\n",
       "    </tr>\n",
       "  </thead>\n",
       "  <tbody>\n",
       "    <tr>\n",
       "      <th>0</th>\n",
       "      <td>76561197970982479</td>\n",
       "      <td>1250</td>\n",
       "      <td>True</td>\n",
       "      <td>2011-11-05</td>\n",
       "      <td>2011</td>\n",
       "      <td>2</td>\n",
       "    </tr>\n",
       "    <tr>\n",
       "      <th>1</th>\n",
       "      <td>76561197970982479</td>\n",
       "      <td>22200</td>\n",
       "      <td>True</td>\n",
       "      <td>2011-07-15</td>\n",
       "      <td>2011</td>\n",
       "      <td>2</td>\n",
       "    </tr>\n",
       "    <tr>\n",
       "      <th>2</th>\n",
       "      <td>76561197970982479</td>\n",
       "      <td>43110</td>\n",
       "      <td>True</td>\n",
       "      <td>2011-04-21</td>\n",
       "      <td>2011</td>\n",
       "      <td>2</td>\n",
       "    </tr>\n",
       "    <tr>\n",
       "      <th>3</th>\n",
       "      <td>js41637</td>\n",
       "      <td>251610</td>\n",
       "      <td>True</td>\n",
       "      <td>2014-06-24</td>\n",
       "      <td>2014</td>\n",
       "      <td>2</td>\n",
       "    </tr>\n",
       "    <tr>\n",
       "      <th>4</th>\n",
       "      <td>js41637</td>\n",
       "      <td>227300</td>\n",
       "      <td>True</td>\n",
       "      <td>2013-09-08</td>\n",
       "      <td>2013</td>\n",
       "      <td>0</td>\n",
       "    </tr>\n",
       "    <tr>\n",
       "      <th>...</th>\n",
       "      <td>...</td>\n",
       "      <td>...</td>\n",
       "      <td>...</td>\n",
       "      <td>...</td>\n",
       "      <td>...</td>\n",
       "      <td>...</td>\n",
       "    </tr>\n",
       "    <tr>\n",
       "      <th>52229</th>\n",
       "      <td>76561198310819422</td>\n",
       "      <td>570</td>\n",
       "      <td>True</td>\n",
       "      <td>NaT</td>\n",
       "      <td>0</td>\n",
       "      <td>1</td>\n",
       "    </tr>\n",
       "    <tr>\n",
       "      <th>52230</th>\n",
       "      <td>76561198312638244</td>\n",
       "      <td>233270</td>\n",
       "      <td>True</td>\n",
       "      <td>NaT</td>\n",
       "      <td>0</td>\n",
       "      <td>2</td>\n",
       "    </tr>\n",
       "    <tr>\n",
       "      <th>52231</th>\n",
       "      <td>76561198312638244</td>\n",
       "      <td>130</td>\n",
       "      <td>True</td>\n",
       "      <td>NaT</td>\n",
       "      <td>0</td>\n",
       "      <td>2</td>\n",
       "    </tr>\n",
       "    <tr>\n",
       "      <th>52232</th>\n",
       "      <td>76561198312638244</td>\n",
       "      <td>70</td>\n",
       "      <td>True</td>\n",
       "      <td>NaT</td>\n",
       "      <td>0</td>\n",
       "      <td>2</td>\n",
       "    </tr>\n",
       "    <tr>\n",
       "      <th>52233</th>\n",
       "      <td>76561198312638244</td>\n",
       "      <td>362890</td>\n",
       "      <td>True</td>\n",
       "      <td>NaT</td>\n",
       "      <td>0</td>\n",
       "      <td>2</td>\n",
       "    </tr>\n",
       "  </tbody>\n",
       "</table>\n",
       "<p>52234 rows × 6 columns</p>\n",
       "</div>"
      ],
      "text/plain": [
       "                 user_id item_id  recommend posted_date  year  \\\n",
       "0      76561197970982479    1250       True  2011-11-05  2011   \n",
       "1      76561197970982479   22200       True  2011-07-15  2011   \n",
       "2      76561197970982479   43110       True  2011-04-21  2011   \n",
       "3                js41637  251610       True  2014-06-24  2014   \n",
       "4                js41637  227300       True  2013-09-08  2013   \n",
       "...                  ...     ...        ...         ...   ...   \n",
       "52229  76561198310819422     570       True         NaT     0   \n",
       "52230  76561198312638244  233270       True         NaT     0   \n",
       "52231  76561198312638244     130       True         NaT     0   \n",
       "52232  76561198312638244      70       True         NaT     0   \n",
       "52233  76561198312638244  362890       True         NaT     0   \n",
       "\n",
       "       sentiment_analysis  \n",
       "0                       2  \n",
       "1                       2  \n",
       "2                       2  \n",
       "3                       2  \n",
       "4                       0  \n",
       "...                   ...  \n",
       "52229                   1  \n",
       "52230                   2  \n",
       "52231                   2  \n",
       "52232                   2  \n",
       "52233                   2  \n",
       "\n",
       "[52234 rows x 6 columns]"
      ]
     },
     "execution_count": 715,
     "metadata": {},
     "output_type": "execute_result"
    }
   ],
   "source": [
    "df_reviews"
   ]
  },
  {
   "cell_type": "code",
   "execution_count": 716,
   "metadata": {},
   "outputs": [],
   "source": [
    "df_reviews.to_csv('data/df_reviews.csv',index=False)"
   ]
  },
  {
   "cell_type": "markdown",
   "metadata": {},
   "source": [
    "----"
   ]
  }
 ],
 "metadata": {
  "kernelspec": {
   "display_name": "Python 3",
   "language": "python",
   "name": "python3"
  },
  "language_info": {
   "codemirror_mode": {
    "name": "ipython",
    "version": 3
   },
   "file_extension": ".py",
   "mimetype": "text/x-python",
   "name": "python",
   "nbconvert_exporter": "python",
   "pygments_lexer": "ipython3",
   "version": "3.11.0"
  },
  "orig_nbformat": 4
 },
 "nbformat": 4,
 "nbformat_minor": 2
}
