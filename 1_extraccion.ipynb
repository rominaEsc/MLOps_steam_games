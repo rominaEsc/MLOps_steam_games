{
 "cells": [
  {
   "cell_type": "code",
   "execution_count": 55,
   "metadata": {},
   "outputs": [],
   "source": [
    "import gzip\n",
    "import ast\n",
    "import json\n",
    "import pandas as pd"
   ]
  },
  {
   "cell_type": "code",
   "execution_count": 56,
   "metadata": {},
   "outputs": [],
   "source": [
    "pd.set_option('display.max_colwidth', 100)"
   ]
  },
  {
   "cell_type": "code",
   "execution_count": 57,
   "metadata": {},
   "outputs": [],
   "source": [
    "def duplicados_de(df):\n",
    "    df_columns = df.columns.tolist()\n",
    "    for i in df.columns:\n",
    "        print( 'Duplicados de ',i,': ', df.duplicated(subset=i,keep=False).sum())"
   ]
  },
  {
   "cell_type": "markdown",
   "metadata": {},
   "source": [
    "----------------"
   ]
  },
  {
   "cell_type": "markdown",
   "metadata": {},
   "source": [
    "----"
   ]
  },
  {
   "cell_type": "markdown",
   "metadata": {},
   "source": [
    "# user_reviews"
   ]
  },
  {
   "cell_type": "markdown",
   "metadata": {},
   "source": [
    "----------------"
   ]
  },
  {
   "cell_type": "markdown",
   "metadata": {},
   "source": [
    "Carga de datos"
   ]
  },
  {
   "cell_type": "code",
   "execution_count": 58,
   "metadata": {},
   "outputs": [
    {
     "data": {
      "text/html": [
       "<div>\n",
       "<style scoped>\n",
       "    .dataframe tbody tr th:only-of-type {\n",
       "        vertical-align: middle;\n",
       "    }\n",
       "\n",
       "    .dataframe tbody tr th {\n",
       "        vertical-align: top;\n",
       "    }\n",
       "\n",
       "    .dataframe thead th {\n",
       "        text-align: right;\n",
       "    }\n",
       "</style>\n",
       "<table border=\"1\" class=\"dataframe\">\n",
       "  <thead>\n",
       "    <tr style=\"text-align: right;\">\n",
       "      <th></th>\n",
       "      <th>user_id</th>\n",
       "      <th>user_url</th>\n",
       "      <th>reviews</th>\n",
       "    </tr>\n",
       "  </thead>\n",
       "  <tbody>\n",
       "    <tr>\n",
       "      <th>0</th>\n",
       "      <td>76561197970982479</td>\n",
       "      <td>http://steamcommunity.com/profiles/76561197970982479</td>\n",
       "      <td>[{'funny': '', 'posted': 'Posted November 5, 2011.', 'last_edited': '', 'item_id': '1250', 'help...</td>\n",
       "    </tr>\n",
       "    <tr>\n",
       "      <th>1</th>\n",
       "      <td>js41637</td>\n",
       "      <td>http://steamcommunity.com/id/js41637</td>\n",
       "      <td>[{'funny': '', 'posted': 'Posted June 24, 2014.', 'last_edited': '', 'item_id': '251610', 'helpf...</td>\n",
       "    </tr>\n",
       "    <tr>\n",
       "      <th>2</th>\n",
       "      <td>evcentric</td>\n",
       "      <td>http://steamcommunity.com/id/evcentric</td>\n",
       "      <td>[{'funny': '', 'posted': 'Posted February 3.', 'last_edited': '', 'item_id': '248820', 'helpful'...</td>\n",
       "    </tr>\n",
       "    <tr>\n",
       "      <th>3</th>\n",
       "      <td>doctr</td>\n",
       "      <td>http://steamcommunity.com/id/doctr</td>\n",
       "      <td>[{'funny': '', 'posted': 'Posted October 14, 2013.', 'last_edited': '', 'item_id': '250320', 'he...</td>\n",
       "    </tr>\n",
       "    <tr>\n",
       "      <th>4</th>\n",
       "      <td>maplemage</td>\n",
       "      <td>http://steamcommunity.com/id/maplemage</td>\n",
       "      <td>[{'funny': '3 people found this review funny', 'posted': 'Posted April 15, 2014.', 'last_edited'...</td>\n",
       "    </tr>\n",
       "    <tr>\n",
       "      <th>...</th>\n",
       "      <td>...</td>\n",
       "      <td>...</td>\n",
       "      <td>...</td>\n",
       "    </tr>\n",
       "    <tr>\n",
       "      <th>25794</th>\n",
       "      <td>76561198306599751</td>\n",
       "      <td>http://steamcommunity.com/profiles/76561198306599751</td>\n",
       "      <td>[{'funny': '', 'posted': 'Posted May 31.', 'last_edited': '', 'item_id': '261030', 'helpful': '0...</td>\n",
       "    </tr>\n",
       "    <tr>\n",
       "      <th>25795</th>\n",
       "      <td>Ghoustik</td>\n",
       "      <td>http://steamcommunity.com/id/Ghoustik</td>\n",
       "      <td>[{'funny': '', 'posted': 'Posted June 17.', 'last_edited': '', 'item_id': '730', 'helpful': '0 o...</td>\n",
       "    </tr>\n",
       "    <tr>\n",
       "      <th>25796</th>\n",
       "      <td>76561198310819422</td>\n",
       "      <td>http://steamcommunity.com/profiles/76561198310819422</td>\n",
       "      <td>[{'funny': '1 person found this review funny', 'posted': 'Posted June 23.', 'last_edited': '', '...</td>\n",
       "    </tr>\n",
       "    <tr>\n",
       "      <th>25797</th>\n",
       "      <td>76561198312638244</td>\n",
       "      <td>http://steamcommunity.com/profiles/76561198312638244</td>\n",
       "      <td>[{'funny': '', 'posted': 'Posted July 21.', 'last_edited': '', 'item_id': '233270', 'helpful': '...</td>\n",
       "    </tr>\n",
       "    <tr>\n",
       "      <th>25798</th>\n",
       "      <td>LydiaMorley</td>\n",
       "      <td>http://steamcommunity.com/id/LydiaMorley</td>\n",
       "      <td>[{'funny': '1 person found this review funny', 'posted': 'Posted July 3.', 'last_edited': '', 'i...</td>\n",
       "    </tr>\n",
       "  </tbody>\n",
       "</table>\n",
       "<p>25799 rows × 3 columns</p>\n",
       "</div>"
      ],
      "text/plain": [
       "                 user_id  \\\n",
       "0      76561197970982479   \n",
       "1                js41637   \n",
       "2              evcentric   \n",
       "3                  doctr   \n",
       "4              maplemage   \n",
       "...                  ...   \n",
       "25794  76561198306599751   \n",
       "25795           Ghoustik   \n",
       "25796  76561198310819422   \n",
       "25797  76561198312638244   \n",
       "25798        LydiaMorley   \n",
       "\n",
       "                                                   user_url  \\\n",
       "0      http://steamcommunity.com/profiles/76561197970982479   \n",
       "1                      http://steamcommunity.com/id/js41637   \n",
       "2                    http://steamcommunity.com/id/evcentric   \n",
       "3                        http://steamcommunity.com/id/doctr   \n",
       "4                    http://steamcommunity.com/id/maplemage   \n",
       "...                                                     ...   \n",
       "25794  http://steamcommunity.com/profiles/76561198306599751   \n",
       "25795                 http://steamcommunity.com/id/Ghoustik   \n",
       "25796  http://steamcommunity.com/profiles/76561198310819422   \n",
       "25797  http://steamcommunity.com/profiles/76561198312638244   \n",
       "25798              http://steamcommunity.com/id/LydiaMorley   \n",
       "\n",
       "                                                                                                   reviews  \n",
       "0      [{'funny': '', 'posted': 'Posted November 5, 2011.', 'last_edited': '', 'item_id': '1250', 'help...  \n",
       "1      [{'funny': '', 'posted': 'Posted June 24, 2014.', 'last_edited': '', 'item_id': '251610', 'helpf...  \n",
       "2      [{'funny': '', 'posted': 'Posted February 3.', 'last_edited': '', 'item_id': '248820', 'helpful'...  \n",
       "3      [{'funny': '', 'posted': 'Posted October 14, 2013.', 'last_edited': '', 'item_id': '250320', 'he...  \n",
       "4      [{'funny': '3 people found this review funny', 'posted': 'Posted April 15, 2014.', 'last_edited'...  \n",
       "...                                                                                                    ...  \n",
       "25794  [{'funny': '', 'posted': 'Posted May 31.', 'last_edited': '', 'item_id': '261030', 'helpful': '0...  \n",
       "25795  [{'funny': '', 'posted': 'Posted June 17.', 'last_edited': '', 'item_id': '730', 'helpful': '0 o...  \n",
       "25796  [{'funny': '1 person found this review funny', 'posted': 'Posted June 23.', 'last_edited': '', '...  \n",
       "25797  [{'funny': '', 'posted': 'Posted July 21.', 'last_edited': '', 'item_id': '233270', 'helpful': '...  \n",
       "25798  [{'funny': '1 person found this review funny', 'posted': 'Posted July 3.', 'last_edited': '', 'i...  \n",
       "\n",
       "[25799 rows x 3 columns]"
      ]
     },
     "execution_count": 58,
     "metadata": {},
     "output_type": "execute_result"
    }
   ],
   "source": [
    "datos = []\n",
    "\n",
    "# Usamos with porque es una declaración de contexto en Python. \n",
    "# Se utiliza para asegurar que un recurso se abra y se cierre correctamente.\n",
    "# Usamos gzip para abrir y descomprimir el archivo\n",
    "with gzip.open(\"data/raws/user_reviews.json.gz\", 'rt', encoding='utf-8') as archivo_descomprimido:\n",
    "    \n",
    "    for linea in archivo_descomprimido:\n",
    "        # eval() evalua una cadena de texto (string) que contiene una expresión o código Python.\n",
    "        # En este caso evalua cada los strings de cada línea y nos devuelve un diccionario por línea\n",
    "        dato = eval(linea)\n",
    "\n",
    "        datos.append(dato)\n",
    "\n",
    "user_reviews_raw = pd.DataFrame(datos)\n",
    "user_reviews_raw"
   ]
  },
  {
   "cell_type": "markdown",
   "metadata": {},
   "source": [
    "----------"
   ]
  },
  {
   "cell_type": "markdown",
   "metadata": {},
   "source": [
    "Análisis de duplicados y nulos."
   ]
  },
  {
   "cell_type": "code",
   "execution_count": 59,
   "metadata": {},
   "outputs": [
    {
     "name": "stdout",
     "output_type": "stream",
     "text": [
      "<class 'pandas.core.frame.DataFrame'>\n",
      "RangeIndex: 25799 entries, 0 to 25798\n",
      "Data columns (total 3 columns):\n",
      " #   Column    Non-Null Count  Dtype \n",
      "---  ------    --------------  ----- \n",
      " 0   user_id   25799 non-null  object\n",
      " 1   user_url  25799 non-null  object\n",
      " 2   reviews   25799 non-null  object\n",
      "dtypes: object(3)\n",
      "memory usage: 604.8+ KB\n"
     ]
    }
   ],
   "source": [
    "user_reviews_raw.info()"
   ]
  },
  {
   "cell_type": "markdown",
   "metadata": {},
   "source": [
    "La función .info() nos dice que todos los valores de la tabla son no nulos."
   ]
  },
  {
   "cell_type": "markdown",
   "metadata": {},
   "source": [
    "Trabajaremos en una tabla user_reviews para no afectar los datos crudos."
   ]
  },
  {
   "cell_type": "code",
   "execution_count": 60,
   "metadata": {},
   "outputs": [],
   "source": [
    "user_reviews = user_reviews_raw"
   ]
  },
  {
   "cell_type": "code",
   "execution_count": 61,
   "metadata": {},
   "outputs": [],
   "source": [
    "user_reviews['reviews'] = user_reviews['reviews'].apply(lambda x: json.dumps(x)) # convertimos los datos de reviews en str para poder usar duplicated()\n",
    "print('Filas duplicadas: ',user_reviews.duplicated().sum())"
   ]
  },
  {
   "cell_type": "markdown",
   "metadata": {},
   "source": [
    "Tenemos 313 filas duplicadas que eliminaremos."
   ]
  },
  {
   "cell_type": "code",
   "execution_count": 63,
   "metadata": {},
   "outputs": [],
   "source": [
    "user_reviews = user_reviews.drop_duplicates().reset_index(drop=True)"
   ]
  },
  {
   "cell_type": "code",
   "execution_count": 64,
   "metadata": {},
   "outputs": [
    {
     "name": "stdout",
     "output_type": "stream",
     "text": [
      "Duplicados de  user_id :  2\n",
      "Duplicados de  user_url :  2\n",
      "Duplicados de  reviews :  28\n"
     ]
    }
   ],
   "source": [
    "duplicados_de(user_reviews)"
   ]
  },
  {
   "cell_type": "code",
   "execution_count": 65,
   "metadata": {},
   "outputs": [
    {
     "data": {
      "text/html": [
       "<div>\n",
       "<style scoped>\n",
       "    .dataframe tbody tr th:only-of-type {\n",
       "        vertical-align: middle;\n",
       "    }\n",
       "\n",
       "    .dataframe tbody tr th {\n",
       "        vertical-align: top;\n",
       "    }\n",
       "\n",
       "    .dataframe thead th {\n",
       "        text-align: right;\n",
       "    }\n",
       "</style>\n",
       "<table border=\"1\" class=\"dataframe\">\n",
       "  <thead>\n",
       "    <tr style=\"text-align: right;\">\n",
       "      <th></th>\n",
       "      <th>user_id</th>\n",
       "      <th>user_url</th>\n",
       "      <th>reviews</th>\n",
       "    </tr>\n",
       "  </thead>\n",
       "  <tbody>\n",
       "    <tr>\n",
       "      <th>83</th>\n",
       "      <td>76561198094224872</td>\n",
       "      <td>http://steamcommunity.com/profiles/76561198094224872</td>\n",
       "      <td>[]</td>\n",
       "    </tr>\n",
       "    <tr>\n",
       "      <th>8865</th>\n",
       "      <td>76561198094224872</td>\n",
       "      <td>http://steamcommunity.com/profiles/76561198094224872</td>\n",
       "      <td>[{\"funny\": \"\", \"posted\": \"Posted April 30.\", \"last_edited\": \"\", \"item_id\": \"72850\", \"helpful\": \"...</td>\n",
       "    </tr>\n",
       "  </tbody>\n",
       "</table>\n",
       "</div>"
      ],
      "text/plain": [
       "                user_id                                              user_url  \\\n",
       "83    76561198094224872  http://steamcommunity.com/profiles/76561198094224872   \n",
       "8865  76561198094224872  http://steamcommunity.com/profiles/76561198094224872   \n",
       "\n",
       "                                                                                                  reviews  \n",
       "83                                                                                                     []  \n",
       "8865  [{\"funny\": \"\", \"posted\": \"Posted April 30.\", \"last_edited\": \"\", \"item_id\": \"72850\", \"helpful\": \"...  "
      ]
     },
     "execution_count": 65,
     "metadata": {},
     "output_type": "execute_result"
    }
   ],
   "source": [
    "(\n",
    "    user_reviews[user_reviews.duplicated(subset='user_id',keep=False)]\n",
    ")"
   ]
  },
  {
   "cell_type": "markdown",
   "metadata": {},
   "source": [
    "Podemos observar que tenemos reviews en blanco marcados por '[]'. Procederemos a eliminarlos"
   ]
  },
  {
   "cell_type": "code",
   "execution_count": 66,
   "metadata": {},
   "outputs": [],
   "source": [
    "user_reviews = user_reviews[user_reviews.reviews !='[]'].reset_index(drop=True)"
   ]
  },
  {
   "cell_type": "code",
   "execution_count": 67,
   "metadata": {},
   "outputs": [
    {
     "name": "stdout",
     "output_type": "stream",
     "text": [
      "Duplicados de user_id:  0\n",
      "Duplicados de user_url:  0\n",
      "Duplicados de reviews:  0\n"
     ]
    }
   ],
   "source": [
    "print( 'Duplicados de user_id: ', user_reviews.duplicated(subset='user_id',keep=False).sum())\n",
    "print( 'Duplicados de user_url: ', user_reviews.duplicated(subset='user_url',keep=False).sum())\n",
    "print( 'Duplicados de reviews: ', user_reviews.duplicated(subset='reviews',keep=False).sum())\n"
   ]
  },
  {
   "cell_type": "markdown",
   "metadata": {},
   "source": [
    "La tabla ya no posee datos nulos ni duplicados."
   ]
  },
  {
   "cell_type": "code",
   "execution_count": 68,
   "metadata": {},
   "outputs": [
    {
     "data": {
      "text/html": [
       "<div>\n",
       "<style scoped>\n",
       "    .dataframe tbody tr th:only-of-type {\n",
       "        vertical-align: middle;\n",
       "    }\n",
       "\n",
       "    .dataframe tbody tr th {\n",
       "        vertical-align: top;\n",
       "    }\n",
       "\n",
       "    .dataframe thead th {\n",
       "        text-align: right;\n",
       "    }\n",
       "</style>\n",
       "<table border=\"1\" class=\"dataframe\">\n",
       "  <thead>\n",
       "    <tr style=\"text-align: right;\">\n",
       "      <th></th>\n",
       "      <th>user_id</th>\n",
       "      <th>user_url</th>\n",
       "      <th>reviews</th>\n",
       "    </tr>\n",
       "  </thead>\n",
       "  <tbody>\n",
       "    <tr>\n",
       "      <th>0</th>\n",
       "      <td>76561197970982479</td>\n",
       "      <td>http://steamcommunity.com/profiles/76561197970982479</td>\n",
       "      <td>[{\"funny\": \"\", \"posted\": \"Posted November 5, 2011.\", \"last_edited\": \"\", \"item_id\": \"1250\", \"help...</td>\n",
       "    </tr>\n",
       "    <tr>\n",
       "      <th>1</th>\n",
       "      <td>js41637</td>\n",
       "      <td>http://steamcommunity.com/id/js41637</td>\n",
       "      <td>[{\"funny\": \"\", \"posted\": \"Posted June 24, 2014.\", \"last_edited\": \"\", \"item_id\": \"251610\", \"helpf...</td>\n",
       "    </tr>\n",
       "    <tr>\n",
       "      <th>2</th>\n",
       "      <td>evcentric</td>\n",
       "      <td>http://steamcommunity.com/id/evcentric</td>\n",
       "      <td>[{\"funny\": \"\", \"posted\": \"Posted February 3.\", \"last_edited\": \"\", \"item_id\": \"248820\", \"helpful\"...</td>\n",
       "    </tr>\n",
       "    <tr>\n",
       "      <th>3</th>\n",
       "      <td>doctr</td>\n",
       "      <td>http://steamcommunity.com/id/doctr</td>\n",
       "      <td>[{\"funny\": \"\", \"posted\": \"Posted October 14, 2013.\", \"last_edited\": \"\", \"item_id\": \"250320\", \"he...</td>\n",
       "    </tr>\n",
       "    <tr>\n",
       "      <th>4</th>\n",
       "      <td>maplemage</td>\n",
       "      <td>http://steamcommunity.com/id/maplemage</td>\n",
       "      <td>[{\"funny\": \"3 people found this review funny\", \"posted\": \"Posted April 15, 2014.\", \"last_edited\"...</td>\n",
       "    </tr>\n",
       "    <tr>\n",
       "      <th>...</th>\n",
       "      <td>...</td>\n",
       "      <td>...</td>\n",
       "      <td>...</td>\n",
       "    </tr>\n",
       "    <tr>\n",
       "      <th>25453</th>\n",
       "      <td>76561198306599751</td>\n",
       "      <td>http://steamcommunity.com/profiles/76561198306599751</td>\n",
       "      <td>[{\"funny\": \"\", \"posted\": \"Posted May 31.\", \"last_edited\": \"\", \"item_id\": \"261030\", \"helpful\": \"0...</td>\n",
       "    </tr>\n",
       "    <tr>\n",
       "      <th>25454</th>\n",
       "      <td>Ghoustik</td>\n",
       "      <td>http://steamcommunity.com/id/Ghoustik</td>\n",
       "      <td>[{\"funny\": \"\", \"posted\": \"Posted June 17.\", \"last_edited\": \"\", \"item_id\": \"730\", \"helpful\": \"0 o...</td>\n",
       "    </tr>\n",
       "    <tr>\n",
       "      <th>25455</th>\n",
       "      <td>76561198310819422</td>\n",
       "      <td>http://steamcommunity.com/profiles/76561198310819422</td>\n",
       "      <td>[{\"funny\": \"1 person found this review funny\", \"posted\": \"Posted June 23.\", \"last_edited\": \"\", \"...</td>\n",
       "    </tr>\n",
       "    <tr>\n",
       "      <th>25456</th>\n",
       "      <td>76561198312638244</td>\n",
       "      <td>http://steamcommunity.com/profiles/76561198312638244</td>\n",
       "      <td>[{\"funny\": \"\", \"posted\": \"Posted July 21.\", \"last_edited\": \"\", \"item_id\": \"233270\", \"helpful\": \"...</td>\n",
       "    </tr>\n",
       "    <tr>\n",
       "      <th>25457</th>\n",
       "      <td>LydiaMorley</td>\n",
       "      <td>http://steamcommunity.com/id/LydiaMorley</td>\n",
       "      <td>[{\"funny\": \"1 person found this review funny\", \"posted\": \"Posted July 3.\", \"last_edited\": \"\", \"i...</td>\n",
       "    </tr>\n",
       "  </tbody>\n",
       "</table>\n",
       "<p>25458 rows × 3 columns</p>\n",
       "</div>"
      ],
      "text/plain": [
       "                 user_id  \\\n",
       "0      76561197970982479   \n",
       "1                js41637   \n",
       "2              evcentric   \n",
       "3                  doctr   \n",
       "4              maplemage   \n",
       "...                  ...   \n",
       "25453  76561198306599751   \n",
       "25454           Ghoustik   \n",
       "25455  76561198310819422   \n",
       "25456  76561198312638244   \n",
       "25457        LydiaMorley   \n",
       "\n",
       "                                                   user_url  \\\n",
       "0      http://steamcommunity.com/profiles/76561197970982479   \n",
       "1                      http://steamcommunity.com/id/js41637   \n",
       "2                    http://steamcommunity.com/id/evcentric   \n",
       "3                        http://steamcommunity.com/id/doctr   \n",
       "4                    http://steamcommunity.com/id/maplemage   \n",
       "...                                                     ...   \n",
       "25453  http://steamcommunity.com/profiles/76561198306599751   \n",
       "25454                 http://steamcommunity.com/id/Ghoustik   \n",
       "25455  http://steamcommunity.com/profiles/76561198310819422   \n",
       "25456  http://steamcommunity.com/profiles/76561198312638244   \n",
       "25457              http://steamcommunity.com/id/LydiaMorley   \n",
       "\n",
       "                                                                                                   reviews  \n",
       "0      [{\"funny\": \"\", \"posted\": \"Posted November 5, 2011.\", \"last_edited\": \"\", \"item_id\": \"1250\", \"help...  \n",
       "1      [{\"funny\": \"\", \"posted\": \"Posted June 24, 2014.\", \"last_edited\": \"\", \"item_id\": \"251610\", \"helpf...  \n",
       "2      [{\"funny\": \"\", \"posted\": \"Posted February 3.\", \"last_edited\": \"\", \"item_id\": \"248820\", \"helpful\"...  \n",
       "3      [{\"funny\": \"\", \"posted\": \"Posted October 14, 2013.\", \"last_edited\": \"\", \"item_id\": \"250320\", \"he...  \n",
       "4      [{\"funny\": \"3 people found this review funny\", \"posted\": \"Posted April 15, 2014.\", \"last_edited\"...  \n",
       "...                                                                                                    ...  \n",
       "25453  [{\"funny\": \"\", \"posted\": \"Posted May 31.\", \"last_edited\": \"\", \"item_id\": \"261030\", \"helpful\": \"0...  \n",
       "25454  [{\"funny\": \"\", \"posted\": \"Posted June 17.\", \"last_edited\": \"\", \"item_id\": \"730\", \"helpful\": \"0 o...  \n",
       "25455  [{\"funny\": \"1 person found this review funny\", \"posted\": \"Posted June 23.\", \"last_edited\": \"\", \"...  \n",
       "25456  [{\"funny\": \"\", \"posted\": \"Posted July 21.\", \"last_edited\": \"\", \"item_id\": \"233270\", \"helpful\": \"...  \n",
       "25457  [{\"funny\": \"1 person found this review funny\", \"posted\": \"Posted July 3.\", \"last_edited\": \"\", \"i...  \n",
       "\n",
       "[25458 rows x 3 columns]"
      ]
     },
     "execution_count": 68,
     "metadata": {},
     "output_type": "execute_result"
    }
   ],
   "source": [
    "user_reviews"
   ]
  },
  {
   "cell_type": "markdown",
   "metadata": {},
   "source": [
    "---------"
   ]
  },
  {
   "cell_type": "markdown",
   "metadata": {},
   "source": [
    "----"
   ]
  },
  {
   "cell_type": "markdown",
   "metadata": {},
   "source": [
    "# users_items"
   ]
  },
  {
   "cell_type": "markdown",
   "metadata": {},
   "source": [
    "----"
   ]
  },
  {
   "cell_type": "code",
   "execution_count": 69,
   "metadata": {},
   "outputs": [],
   "source": [
    "# Abre el archivo .gz y lo descomprime\n",
    "datos = []\n",
    "with gzip.open('data/raws/users_items.json.gz', 'rt', encoding='utf-8') as archivo_descomprimido:\n",
    "    for linea in archivo_descomprimido:\n",
    "        dato = eval(linea)\n",
    "        datos.append(dato)\n",
    "\n",
    "users_items_raw = pd.DataFrame(datos)"
   ]
  },
  {
   "cell_type": "code",
   "execution_count": 70,
   "metadata": {},
   "outputs": [
    {
     "data": {
      "text/html": [
       "<div>\n",
       "<style scoped>\n",
       "    .dataframe tbody tr th:only-of-type {\n",
       "        vertical-align: middle;\n",
       "    }\n",
       "\n",
       "    .dataframe tbody tr th {\n",
       "        vertical-align: top;\n",
       "    }\n",
       "\n",
       "    .dataframe thead th {\n",
       "        text-align: right;\n",
       "    }\n",
       "</style>\n",
       "<table border=\"1\" class=\"dataframe\">\n",
       "  <thead>\n",
       "    <tr style=\"text-align: right;\">\n",
       "      <th></th>\n",
       "      <th>user_id</th>\n",
       "      <th>items_count</th>\n",
       "      <th>steam_id</th>\n",
       "      <th>user_url</th>\n",
       "      <th>items</th>\n",
       "    </tr>\n",
       "  </thead>\n",
       "  <tbody>\n",
       "    <tr>\n",
       "      <th>0</th>\n",
       "      <td>76561197970982479</td>\n",
       "      <td>277</td>\n",
       "      <td>76561197970982479</td>\n",
       "      <td>http://steamcommunity.com/profiles/76561197970982479</td>\n",
       "      <td>[{'item_id': '10', 'item_name': 'Counter-Strike', 'playtime_forever': 6, 'playtime_2weeks': 0}, ...</td>\n",
       "    </tr>\n",
       "    <tr>\n",
       "      <th>1</th>\n",
       "      <td>js41637</td>\n",
       "      <td>888</td>\n",
       "      <td>76561198035864385</td>\n",
       "      <td>http://steamcommunity.com/id/js41637</td>\n",
       "      <td>[{'item_id': '10', 'item_name': 'Counter-Strike', 'playtime_forever': 0, 'playtime_2weeks': 0}, ...</td>\n",
       "    </tr>\n",
       "    <tr>\n",
       "      <th>2</th>\n",
       "      <td>evcentric</td>\n",
       "      <td>137</td>\n",
       "      <td>76561198007712555</td>\n",
       "      <td>http://steamcommunity.com/id/evcentric</td>\n",
       "      <td>[{'item_id': '1200', 'item_name': 'Red Orchestra: Ostfront 41-45', 'playtime_forever': 923, 'pla...</td>\n",
       "    </tr>\n",
       "    <tr>\n",
       "      <th>3</th>\n",
       "      <td>Riot-Punch</td>\n",
       "      <td>328</td>\n",
       "      <td>76561197963445855</td>\n",
       "      <td>http://steamcommunity.com/id/Riot-Punch</td>\n",
       "      <td>[{'item_id': '10', 'item_name': 'Counter-Strike', 'playtime_forever': 0, 'playtime_2weeks': 0}, ...</td>\n",
       "    </tr>\n",
       "    <tr>\n",
       "      <th>4</th>\n",
       "      <td>doctr</td>\n",
       "      <td>541</td>\n",
       "      <td>76561198002099482</td>\n",
       "      <td>http://steamcommunity.com/id/doctr</td>\n",
       "      <td>[{'item_id': '300', 'item_name': 'Day of Defeat: Source', 'playtime_forever': 1131, 'playtime_2w...</td>\n",
       "    </tr>\n",
       "    <tr>\n",
       "      <th>...</th>\n",
       "      <td>...</td>\n",
       "      <td>...</td>\n",
       "      <td>...</td>\n",
       "      <td>...</td>\n",
       "      <td>...</td>\n",
       "    </tr>\n",
       "    <tr>\n",
       "      <th>88305</th>\n",
       "      <td>76561198323066619</td>\n",
       "      <td>22</td>\n",
       "      <td>76561198323066619</td>\n",
       "      <td>http://steamcommunity.com/profiles/76561198323066619</td>\n",
       "      <td>[{'item_id': '413850', 'item_name': 'CS:GO Player Profiles', 'playtime_forever': 0, 'playtime_2w...</td>\n",
       "    </tr>\n",
       "    <tr>\n",
       "      <th>88306</th>\n",
       "      <td>76561198326700687</td>\n",
       "      <td>177</td>\n",
       "      <td>76561198326700687</td>\n",
       "      <td>http://steamcommunity.com/profiles/76561198326700687</td>\n",
       "      <td>[{'item_id': '11020', 'item_name': 'TrackMania Nations Forever', 'playtime_forever': 0, 'playtim...</td>\n",
       "    </tr>\n",
       "    <tr>\n",
       "      <th>88307</th>\n",
       "      <td>XxLaughingJackClown77xX</td>\n",
       "      <td>0</td>\n",
       "      <td>76561198328759259</td>\n",
       "      <td>http://steamcommunity.com/id/XxLaughingJackClown77xX</td>\n",
       "      <td>[]</td>\n",
       "    </tr>\n",
       "    <tr>\n",
       "      <th>88308</th>\n",
       "      <td>76561198329548331</td>\n",
       "      <td>7</td>\n",
       "      <td>76561198329548331</td>\n",
       "      <td>http://steamcommunity.com/profiles/76561198329548331</td>\n",
       "      <td>[{'item_id': '304930', 'item_name': 'Unturned', 'playtime_forever': 677, 'playtime_2weeks': 677}...</td>\n",
       "    </tr>\n",
       "    <tr>\n",
       "      <th>88309</th>\n",
       "      <td>edward_tremethick</td>\n",
       "      <td>0</td>\n",
       "      <td>76561198331598578</td>\n",
       "      <td>http://steamcommunity.com/id/edward_tremethick</td>\n",
       "      <td>[]</td>\n",
       "    </tr>\n",
       "  </tbody>\n",
       "</table>\n",
       "<p>88310 rows × 5 columns</p>\n",
       "</div>"
      ],
      "text/plain": [
       "                       user_id  items_count           steam_id  \\\n",
       "0            76561197970982479          277  76561197970982479   \n",
       "1                      js41637          888  76561198035864385   \n",
       "2                    evcentric          137  76561198007712555   \n",
       "3                   Riot-Punch          328  76561197963445855   \n",
       "4                        doctr          541  76561198002099482   \n",
       "...                        ...          ...                ...   \n",
       "88305        76561198323066619           22  76561198323066619   \n",
       "88306        76561198326700687          177  76561198326700687   \n",
       "88307  XxLaughingJackClown77xX            0  76561198328759259   \n",
       "88308        76561198329548331            7  76561198329548331   \n",
       "88309        edward_tremethick            0  76561198331598578   \n",
       "\n",
       "                                                   user_url  \\\n",
       "0      http://steamcommunity.com/profiles/76561197970982479   \n",
       "1                      http://steamcommunity.com/id/js41637   \n",
       "2                    http://steamcommunity.com/id/evcentric   \n",
       "3                   http://steamcommunity.com/id/Riot-Punch   \n",
       "4                        http://steamcommunity.com/id/doctr   \n",
       "...                                                     ...   \n",
       "88305  http://steamcommunity.com/profiles/76561198323066619   \n",
       "88306  http://steamcommunity.com/profiles/76561198326700687   \n",
       "88307  http://steamcommunity.com/id/XxLaughingJackClown77xX   \n",
       "88308  http://steamcommunity.com/profiles/76561198329548331   \n",
       "88309        http://steamcommunity.com/id/edward_tremethick   \n",
       "\n",
       "                                                                                                     items  \n",
       "0      [{'item_id': '10', 'item_name': 'Counter-Strike', 'playtime_forever': 6, 'playtime_2weeks': 0}, ...  \n",
       "1      [{'item_id': '10', 'item_name': 'Counter-Strike', 'playtime_forever': 0, 'playtime_2weeks': 0}, ...  \n",
       "2      [{'item_id': '1200', 'item_name': 'Red Orchestra: Ostfront 41-45', 'playtime_forever': 923, 'pla...  \n",
       "3      [{'item_id': '10', 'item_name': 'Counter-Strike', 'playtime_forever': 0, 'playtime_2weeks': 0}, ...  \n",
       "4      [{'item_id': '300', 'item_name': 'Day of Defeat: Source', 'playtime_forever': 1131, 'playtime_2w...  \n",
       "...                                                                                                    ...  \n",
       "88305  [{'item_id': '413850', 'item_name': 'CS:GO Player Profiles', 'playtime_forever': 0, 'playtime_2w...  \n",
       "88306  [{'item_id': '11020', 'item_name': 'TrackMania Nations Forever', 'playtime_forever': 0, 'playtim...  \n",
       "88307                                                                                                   []  \n",
       "88308  [{'item_id': '304930', 'item_name': 'Unturned', 'playtime_forever': 677, 'playtime_2weeks': 677}...  \n",
       "88309                                                                                                   []  \n",
       "\n",
       "[88310 rows x 5 columns]"
      ]
     },
     "execution_count": 70,
     "metadata": {},
     "output_type": "execute_result"
    }
   ],
   "source": [
    "users_items_raw"
   ]
  },
  {
   "cell_type": "code",
   "execution_count": 71,
   "metadata": {},
   "outputs": [
    {
     "name": "stdout",
     "output_type": "stream",
     "text": [
      "<class 'pandas.core.frame.DataFrame'>\n",
      "RangeIndex: 88310 entries, 0 to 88309\n",
      "Data columns (total 5 columns):\n",
      " #   Column       Non-Null Count  Dtype \n",
      "---  ------       --------------  ----- \n",
      " 0   user_id      88310 non-null  object\n",
      " 1   items_count  88310 non-null  int64 \n",
      " 2   steam_id     88310 non-null  object\n",
      " 3   user_url     88310 non-null  object\n",
      " 4   items        88310 non-null  object\n",
      "dtypes: int64(1), object(4)\n",
      "memory usage: 3.4+ MB\n"
     ]
    }
   ],
   "source": [
    "users_items_raw.info()"
   ]
  },
  {
   "cell_type": "markdown",
   "metadata": {},
   "source": [
    "Podemos ver que todos los datos de user_items son no nulos."
   ]
  },
  {
   "cell_type": "markdown",
   "metadata": {},
   "source": [
    "----"
   ]
  },
  {
   "cell_type": "markdown",
   "metadata": {},
   "source": [
    "Análisis de duplicados y nulos."
   ]
  },
  {
   "cell_type": "code",
   "execution_count": 72,
   "metadata": {},
   "outputs": [],
   "source": [
    "users_items = users_items_raw\n",
    "users_items['items'] = users_items['items'].apply(lambda x: json.dumps(x)) # convertimos los datos de reviews en str para poder usar duplicated()"
   ]
  },
  {
   "cell_type": "code",
   "execution_count": 73,
   "metadata": {},
   "outputs": [
    {
     "data": {
      "text/plain": [
       "'[{\"item_id\": \"10\", \"item_name\": \"Counter-Strike\", \"playtime_forever\": 6, \"playtime_2weeks\": 0}, {\"item_id\": \"20\", \"item_name\": \"Team Fortress Classic\", \"playtime_forever\": 0, \"playtime_2weeks\": 0}, {\"item_id\": \"30\", \"item_name\": \"Day of Defeat\", \"playtime_forever\": 7, \"playtime_2weeks\": 0}, {\"item_id\": \"40\", \"item_name\": \"Deathmatch Classic\", \"playtime_forever\": 0, \"playtime_2weeks\": 0}, {\"item_id\": \"50\", \"item_name\": \"Half-Life: Opposing Force\", \"playtime_forever\": 0, \"playtime_2weeks\": 0}, {\"item_id\": \"60\", \"item_name\": \"Ricochet\", \"playtime_forever\": 0, \"playtime_2weeks\": 0}, {\"item_id\": \"70\", \"item_name\": \"Half-Life\", \"playtime_forever\": 0, \"playtime_2weeks\": 0}, {\"item_id\": \"130\", \"item_name\": \"Half-Life: Blue Shift\", \"playtime_forever\": 0, \"playtime_2weeks\": 0}, {\"item_id\": \"300\", \"item_name\": \"Day of Defeat: Source\", \"playtime_forever\": 4733, \"playtime_2weeks\": 0}, {\"item_id\": \"240\", \"item_name\": \"Counter-Strike: Source\", \"playtime_forever\": 1853, \"playtime_2weeks\": 0}, {\"item_id\": \"3830\", \"item_name\": \"Psychonauts\", \"playtime_forever\": 333, \"playtime_2weeks\": 0}, {\"item_id\": \"2630\", \"item_name\": \"Call of Duty 2\", \"playtime_forever\": 75, \"playtime_2weeks\": 0}, {\"item_id\": \"3900\", \"item_name\": \"Sid Meier\\'s Civilization IV\", \"playtime_forever\": 338, \"playtime_2weeks\": 0}, {\"item_id\": \"34440\", \"item_name\": \"Sid Meier\\'s Civilization IV\", \"playtime_forever\": 0, \"playtime_2weeks\": 0}, {\"item_id\": \"3920\", \"item_name\": \"Sid Meier\\'s Pirates!\", \"playtime_forever\": 2, \"playtime_2weeks\": 0}, {\"item_id\": \"6400\", \"item_name\": \"Joint Task Force\", \"playtime_forever\": 286, \"playtime_2weeks\": 0}, {\"item_id\": \"6910\", \"item_name\": \"Deus Ex: Game of the Year Edition\", \"playtime_forever\": 2685, \"playtime_2weeks\": 0}, {\"item_id\": \"7670\", \"item_name\": \"BioShock\", \"playtime_forever\": 633, \"playtime_2weeks\": 0}, {\"item_id\": \"409710\", \"item_name\": \"BioShock Remastered\", \"playtime_forever\": 0, \"playtime_2weeks\": 0}, {\"item_id\": \"220\", \"item_name\": \"Half-Life 2\", \"playtime_forever\": 696, \"playtime_2weeks\": 0}, {\"item_id\": \"320\", \"item_name\": \"Half-Life 2: Deathmatch\", \"playtime_forever\": 0, \"playtime_2weeks\": 0}, {\"item_id\": \"340\", \"item_name\": \"Half-Life 2: Lost Coast\", \"playtime_forever\": 37, \"playtime_2weeks\": 0}, {\"item_id\": \"360\", \"item_name\": \"Half-Life Deathmatch: Source\", \"playtime_forever\": 0, \"playtime_2weeks\": 0}, {\"item_id\": \"380\", \"item_name\": \"Half-Life 2: Episode One\", \"playtime_forever\": 168, \"playtime_2weeks\": 0}, {\"item_id\": \"400\", \"item_name\": \"Portal\", \"playtime_forever\": 173, \"playtime_2weeks\": 0}, {\"item_id\": \"420\", \"item_name\": \"Half-Life 2: Episode Two\", \"playtime_forever\": 323, \"playtime_2weeks\": 0}, {\"item_id\": \"9340\", \"item_name\": \"Company of Heroes: Opposing Fronts\", \"playtime_forever\": 692, \"playtime_2weeks\": 0}, {\"item_id\": \"228200\", \"item_name\": \"Company of Heroes (New Steam Version)\", \"playtime_forever\": 0, \"playtime_2weeks\": 0}, {\"item_id\": \"11450\", \"item_name\": \"Overlord\", \"playtime_forever\": 0, \"playtime_2weeks\": 0}, {\"item_id\": \"7940\", \"item_name\": \"Call of Duty 4: Modern Warfare\", \"playtime_forever\": 1185, \"playtime_2weeks\": 0}, {\"item_id\": \"4700\", \"item_name\": \"Medieval II: Total War\", \"playtime_forever\": 477, \"playtime_2weeks\": 0}, {\"item_id\": \"12900\", \"item_name\": \"Audiosurf\", \"playtime_forever\": 115, \"playtime_2weeks\": 0}, {\"item_id\": \"13250\", \"item_name\": \"Unreal Gold\", \"playtime_forever\": 0, \"playtime_2weeks\": 0}, {\"item_id\": \"16100\", \"item_name\": \"Virtual Villagers: A New Home\", \"playtime_forever\": 0, \"playtime_2weeks\": 0}, {\"item_id\": \"15700\", \"item_name\": \"Oddworld: Abe\\'s Oddysee\", \"playtime_forever\": 28, \"playtime_2weeks\": 0}, {\"item_id\": \"15710\", \"item_name\": \"Oddworld: Abe\\'s Exoddus\", \"playtime_forever\": 0, \"playtime_2weeks\": 0}, {\"item_id\": \"17330\", \"item_name\": \"Crysis Warhead\", \"playtime_forever\": 31, \"playtime_2weeks\": 0}, {\"item_id\": \"17340\", \"item_name\": \"Crysis Wars\", \"playtime_forever\": 0, \"playtime_2weeks\": 0}, {\"item_id\": \"22000\", \"item_name\": \"World of Goo\", \"playtime_forever\": 195, \"playtime_2weeks\": 0}, {\"item_id\": \"500\", \"item_name\": \"Left 4 Dead\", \"playtime_forever\": 513, \"playtime_2weeks\": 0}, {\"item_id\": \"4560\", \"item_name\": \"Company of Heroes\", \"playtime_forever\": 1061, \"playtime_2weeks\": 0}, {\"item_id\": \"17460\", \"item_name\": \"Mass Effect\", \"playtime_forever\": 1613, \"playtime_2weeks\": 0}, {\"item_id\": \"10500\", \"item_name\": \"Empire: Total War\", \"playtime_forever\": 186, \"playtime_2weeks\": 0}, {\"item_id\": \"24740\", \"item_name\": \"Burnout Paradise: The Ultimate Box\", \"playtime_forever\": 0, \"playtime_2weeks\": 0}, {\"item_id\": \"22200\", \"item_name\": \"Zeno Clash\", \"playtime_forever\": 271, \"playtime_2weeks\": 0}, {\"item_id\": \"26800\", \"item_name\": \"Braid\", \"playtime_forever\": 445, \"playtime_2weeks\": 0}, {\"item_id\": \"1250\", \"item_name\": \"Killing Floor\", \"playtime_forever\": 10006, \"playtime_2weeks\": 0}, {\"item_id\": \"35420\", \"item_name\": \"Killing Floor Mod: Defence Alliance 2\", \"playtime_forever\": 0, \"playtime_2weeks\": 0}, {\"item_id\": \"3590\", \"item_name\": \"Plants vs. Zombies: Game of the Year\", \"playtime_forever\": 4413, \"playtime_2weeks\": 0}, {\"item_id\": \"8880\", \"item_name\": \"Freedom Force\", \"playtime_forever\": 0, \"playtime_2weeks\": 0}, {\"item_id\": \"8890\", \"item_name\": \"Freedom Force vs. the 3rd Reich\", \"playtime_forever\": 0, \"playtime_2weeks\": 0}, {\"item_id\": \"23120\", \"item_name\": \"Droplitz\", \"playtime_forever\": 53, \"playtime_2weeks\": 0}, {\"item_id\": \"35700\", \"item_name\": \"Trine\", \"playtime_forever\": 199, \"playtime_2weeks\": 0}, {\"item_id\": \"10140\", \"item_name\": \"3D Ultra Minigolf Adventures Deluxe\", \"playtime_forever\": 25, \"playtime_2weeks\": 0}, {\"item_id\": \"35010\", \"item_name\": \"Batman: Arkham Asylum\", \"playtime_forever\": 570, \"playtime_2weeks\": 0}, {\"item_id\": \"35140\", \"item_name\": \"Batman: Arkham Asylum GOTY Edition\", \"playtime_forever\": 0, \"playtime_2weeks\": 0}, {\"item_id\": \"29180\", \"item_name\": \"Osmos\", \"playtime_forever\": 940, \"playtime_2weeks\": 0}, {\"item_id\": \"15520\", \"item_name\": \"AaAaAA!!! - A Reckless Disregard for Gravity\", \"playtime_forever\": 110, \"playtime_2weeks\": 0}, {\"item_id\": \"32370\", \"item_name\": \"STAR WARS\\\\u2122: Knights of the Old Republic\\\\u2122\", \"playtime_forever\": 5, \"playtime_2weeks\": 0}, {\"item_id\": \"37700\", \"item_name\": \"Darkest of Days\", \"playtime_forever\": 782, \"playtime_2weeks\": 0}, {\"item_id\": \"6020\", \"item_name\": \"STAR WARS\\\\u2122 Jedi Knight: Jedi Academy\\\\u2122\", \"playtime_forever\": 77, \"playtime_2weeks\": 0}, {\"item_id\": \"24860\", \"item_name\": \"Battlefield 2\", \"playtime_forever\": 437, \"playtime_2weeks\": 0}, {\"item_id\": \"39530\", \"item_name\": \"Painkiller: Black Edition\", \"playtime_forever\": 503, \"playtime_2weeks\": 0}, {\"item_id\": \"550\", \"item_name\": \"Left 4 Dead 2\", \"playtime_forever\": 1474, \"playtime_2weeks\": 0}, {\"item_id\": \"223530\", \"item_name\": \"Left 4 Dead 2 Beta\", \"playtime_forever\": 0, \"playtime_2weeks\": 0}, {\"item_id\": \"8980\", \"item_name\": \"Borderlands\", \"playtime_forever\": 3061, \"playtime_2weeks\": 0}, {\"item_id\": \"41500\", \"item_name\": \"Torchlight\", \"playtime_forever\": 536, \"playtime_2weeks\": 0}, {\"item_id\": \"20900\", \"item_name\": \"The Witcher: Enhanced Edition\", \"playtime_forever\": 139, \"playtime_2weeks\": 0}, {\"item_id\": \"10180\", \"item_name\": \"Call of Duty: Modern Warfare 2\", \"playtime_forever\": 1886, \"playtime_2weeks\": 0}, {\"item_id\": \"10190\", \"item_name\": \"Call of Duty: Modern Warfare 2 - Multiplayer\", \"playtime_forever\": 1784, \"playtime_2weeks\": 0}, {\"item_id\": \"17450\", \"item_name\": \"Dragon Age: Origins\", \"playtime_forever\": 4431, \"playtime_2weeks\": 0}, {\"item_id\": \"3170\", \"item_name\": \"King\\'s Bounty: Armored Princess\", \"playtime_forever\": 1021, \"playtime_2weeks\": 0}, {\"item_id\": \"25900\", \"item_name\": \"King\\'s Bounty: The Legend\", \"playtime_forever\": 1389, \"playtime_2weeks\": 0}, {\"item_id\": \"31410\", \"item_name\": \"Zombie Driver\", \"playtime_forever\": 95, \"playtime_2weeks\": 0}, {\"item_id\": \"24980\", \"item_name\": \"Mass Effect 2\", \"playtime_forever\": 5001, \"playtime_2weeks\": 0}, {\"item_id\": \"8850\", \"item_name\": \"BioShock 2\", \"playtime_forever\": 1504, \"playtime_2weeks\": 0}, {\"item_id\": \"409720\", \"item_name\": \"BioShock 2 Remastered\", \"playtime_forever\": 0, \"playtime_2weeks\": 0}, {\"item_id\": \"46000\", \"item_name\": \"Bob Came in Pieces\", \"playtime_forever\": 11, \"playtime_2weeks\": 0}, {\"item_id\": \"33230\", \"item_name\": \"Assassin\\'s Creed II\", \"playtime_forever\": 1636, \"playtime_2weeks\": 0}, {\"item_id\": \"20820\", \"item_name\": \"Shatter\", \"playtime_forever\": 46, \"playtime_2weeks\": 0}, {\"item_id\": \"47700\", \"item_name\": \"Command and Conquer 4: Tiberian Twilight\", \"playtime_forever\": 85, \"playtime_2weeks\": 0}, {\"item_id\": \"24960\", \"item_name\": \"Battlefield: Bad Company 2\", \"playtime_forever\": 5716, \"playtime_2weeks\": 0}, {\"item_id\": \"43110\", \"item_name\": \"Metro 2033\", \"playtime_forever\": 834, \"playtime_2weeks\": 0}, {\"item_id\": \"8190\", \"item_name\": \"Just Cause 2\", \"playtime_forever\": 3083, \"playtime_2weeks\": 0}, {\"item_id\": \"49600\", \"item_name\": \"Beat Hazard\", \"playtime_forever\": 127, \"playtime_2weeks\": 0}, {\"item_id\": \"31220\", \"item_name\": \"Sam & Max 301: The Penal Zone\", \"playtime_forever\": 71, \"playtime_2weeks\": 0}, {\"item_id\": \"31230\", \"item_name\": \"Sam & Max 302: The Tomb of Sammun-Mak\", \"playtime_forever\": 0, \"playtime_2weeks\": 0}, {\"item_id\": \"31240\", \"item_name\": \"Sam & Max 303: They Stole Max\\'s Brain!\", \"playtime_forever\": 0, \"playtime_2weeks\": 0}, {\"item_id\": \"31250\", \"item_name\": \"Sam & Max 304: Beyond the Alley of the Dolls\", \"playtime_forever\": 0, \"playtime_2weeks\": 0}, {\"item_id\": \"31260\", \"item_name\": \"Sam & Max 305: The City that Dares not Sleep\", \"playtime_forever\": 0, \"playtime_2weeks\": 0}, {\"item_id\": \"21090\", \"item_name\": \"F.E.A.R.\", \"playtime_forever\": 585, \"playtime_2weeks\": 0}, {\"item_id\": \"21110\", \"item_name\": \"F.E.A.R.: Extraction Point\", \"playtime_forever\": 146, \"playtime_2weeks\": 0}, {\"item_id\": \"21120\", \"item_name\": \"F.E.A.R.: Perseus Mandate\", \"playtime_forever\": 0, \"playtime_2weeks\": 0}, {\"item_id\": \"49400\", \"item_name\": \"Magic: The Gathering - Duels of the Planeswalkers\", \"playtime_forever\": 32, \"playtime_2weeks\": 0}, {\"item_id\": \"33910\", \"item_name\": \"Arma 2\", \"playtime_forever\": 3, \"playtime_2weeks\": 0}, {\"item_id\": \"33930\", \"item_name\": \"Arma 2: Operation Arrowhead\", \"playtime_forever\": 3, \"playtime_2weeks\": 0}, {\"item_id\": \"219540\", \"item_name\": \"Arma 2: Operation Arrowhead Beta (Obsolete)\", \"playtime_forever\": 0, \"playtime_2weeks\": 0}, {\"item_id\": \"17410\", \"item_name\": \"Mirror\\'s Edge\", \"playtime_forever\": 0, \"playtime_2weeks\": 0}, {\"item_id\": \"205790\", \"item_name\": \"Dota 2 Test\", \"playtime_forever\": 0, \"playtime_2weeks\": 0}, {\"item_id\": \"50130\", \"item_name\": \"Mafia II\", \"playtime_forever\": 707, \"playtime_2weeks\": 0}, {\"item_id\": \"62100\", \"item_name\": \"Chime\", \"playtime_forever\": 50, \"playtime_2weeks\": 0}, {\"item_id\": \"31280\", \"item_name\": \"Poker Night at the Inventory\", \"playtime_forever\": 206, \"playtime_2weeks\": 0}, {\"item_id\": \"57300\", \"item_name\": \"Amnesia: The Dark Descent\", \"playtime_forever\": 12, \"playtime_2weeks\": 0}, {\"item_id\": \"21970\", \"item_name\": \"R.U.S.E\", \"playtime_forever\": 64, \"playtime_2weeks\": 0}, {\"item_id\": \"8930\", \"item_name\": \"Sid Meier\\'s Civilization V\", \"playtime_forever\": 10345, \"playtime_2weeks\": 0}, {\"item_id\": \"41000\", \"item_name\": \"Serious Sam HD: The First Encounter\", \"playtime_forever\": 369, \"playtime_2weeks\": 0}, {\"item_id\": \"41050\", \"item_name\": \"Serious Sam Classic: The First Encounter\", \"playtime_forever\": 76, \"playtime_2weeks\": 0}, {\"item_id\": \"41060\", \"item_name\": \"Serious Sam Classic: The Second Encounter\", \"playtime_forever\": 0, \"playtime_2weeks\": 0}, {\"item_id\": \"227780\", \"item_name\": \"Serious Sam Classics: Revolution\", \"playtime_forever\": 0, \"playtime_2weeks\": 0}, {\"item_id\": \"18040\", \"item_name\": \"DeathSpank\", \"playtime_forever\": 594, \"playtime_2weeks\": 0}, {\"item_id\": \"22380\", \"item_name\": \"Fallout: New Vegas\", \"playtime_forever\": 43, \"playtime_2weeks\": 0}, {\"item_id\": \"42700\", \"item_name\": \"Call of Duty: Black Ops\", \"playtime_forever\": 966, \"playtime_2weeks\": 0}, {\"item_id\": \"42710\", \"item_name\": \"Call of Duty: Black Ops - Multiplayer\", \"playtime_forever\": 2452, \"playtime_2weeks\": 0}, {\"item_id\": \"62000\", \"item_name\": \"Flight Control HD\", \"playtime_forever\": 25, \"playtime_2weeks\": 0}, {\"item_id\": \"40800\", \"item_name\": \"Super Meat Boy\", \"playtime_forever\": 119, \"playtime_2weeks\": 0}, {\"item_id\": \"9500\", \"item_name\": \"Gish\", \"playtime_forever\": 6, \"playtime_2weeks\": 0}, {\"item_id\": \"18700\", \"item_name\": \"And Yet It Moves\", \"playtime_forever\": 0, \"playtime_2weeks\": 0}, {\"item_id\": \"31270\", \"item_name\": \"Puzzle Agent\", \"playtime_forever\": 0, \"playtime_2weeks\": 0}, {\"item_id\": \"58200\", \"item_name\": \"Jolly Rover\", \"playtime_forever\": 0, \"playtime_2weeks\": 0}, {\"item_id\": \"70400\", \"item_name\": \"Recettear: An Item Shop\\'s Tale\", \"playtime_forever\": 537, \"playtime_2weeks\": 0}, {\"item_id\": \"41300\", \"item_name\": \"Altitude\", \"playtime_forever\": 50, \"playtime_2weeks\": 0}, {\"item_id\": \"41800\", \"item_name\": \"Gratuitous Space Battles\", \"playtime_forever\": 149, \"playtime_2weeks\": 0}, {\"item_id\": \"42500\", \"item_name\": \"DogFighter\", \"playtime_forever\": 0, \"playtime_2weeks\": 0}, {\"item_id\": \"49900\", \"item_name\": \"Plain Sight\", \"playtime_forever\": 23, \"playtime_2weeks\": 0}, {\"item_id\": \"55000\", \"item_name\": \"Flotilla\", \"playtime_forever\": 0, \"playtime_2weeks\": 0}, {\"item_id\": \"34330\", \"item_name\": \"Total War: SHOGUN 2\", \"playtime_forever\": 1538, \"playtime_2weeks\": 0}, {\"item_id\": \"63200\", \"item_name\": \"Monday Night Combat\", \"playtime_forever\": 573, \"playtime_2weeks\": 0}, {\"item_id\": \"99810\", \"item_name\": \"Bulletstorm\", \"playtime_forever\": 2, \"playtime_2weeks\": 0}, {\"item_id\": \"620\", \"item_name\": \"Portal 2\", \"playtime_forever\": 887, \"playtime_2weeks\": 0}, {\"item_id\": \"42910\", \"item_name\": \"Magicka\", \"playtime_forever\": 588, \"playtime_2weeks\": 0}, {\"item_id\": \"15500\", \"item_name\": \"The Wonderful End of the World\", \"playtime_forever\": 0, \"playtime_2weeks\": 0}, {\"item_id\": \"15540\", \"item_name\": \"1... 2... 3... KICK IT! (Drop That Beat Like an Ugly Baby)\", \"playtime_forever\": 4, \"playtime_2weeks\": 0}, {\"item_id\": \"18500\", \"item_name\": \"Defense Grid: The Awakening\", \"playtime_forever\": 126, \"playtime_2weeks\": 0}, {\"item_id\": \"26500\", \"item_name\": \"Cogs\", \"playtime_forever\": 0, \"playtime_2weeks\": 0}, {\"item_id\": \"35460\", \"item_name\": \"The Ball\", \"playtime_forever\": 0, \"playtime_2weeks\": 0}, {\"item_id\": \"38700\", \"item_name\": \"Toki Tori\", \"playtime_forever\": 0, \"playtime_2weeks\": 0}, {\"item_id\": \"38720\", \"item_name\": \"RUSH\", \"playtime_forever\": 0, \"playtime_2weeks\": 0}, {\"item_id\": \"63700\", \"item_name\": \"BIT.TRIP BEAT\", \"playtime_forever\": 0, \"playtime_2weeks\": 0}, {\"item_id\": \"280\", \"item_name\": \"Half-Life: Source\", \"playtime_forever\": 0, \"playtime_2weeks\": 0}, {\"item_id\": \"20920\", \"item_name\": \"The Witcher 2: Assassins of Kings Enhanced Edition\", \"playtime_forever\": 1343, \"playtime_2weeks\": 0}, {\"item_id\": \"105600\", \"item_name\": \"Terraria\", \"playtime_forever\": 772, \"playtime_2weeks\": 0}, {\"item_id\": \"98200\", \"item_name\": \"Frozen Synapse\", \"playtime_forever\": 9, \"playtime_2weeks\": 0}, {\"item_id\": \"4500\", \"item_name\": \"S.T.A.L.K.E.R.: Shadow of Chernobyl\", \"playtime_forever\": 0, \"playtime_2weeks\": 0}, {\"item_id\": \"4540\", \"item_name\": \"Titan Quest\", \"playtime_forever\": 3, \"playtime_2weeks\": 0}, {\"item_id\": \"4550\", \"item_name\": \"Titan Quest: Immortal Throne\", \"playtime_forever\": 76, \"playtime_2weeks\": 0}, {\"item_id\": \"9480\", \"item_name\": \"Saints Row 2\", \"playtime_forever\": 0, \"playtime_2weeks\": 0}, {\"item_id\": \"15620\", \"item_name\": \"Warhammer\\\\u00ae 40,000\\\\u2122: Dawn of War\\\\u00ae II\", \"playtime_forever\": 2085, \"playtime_2weeks\": 0}, {\"item_id\": \"20500\", \"item_name\": \"Red Faction: Guerrilla Steam Edition\", \"playtime_forever\": 0, \"playtime_2weeks\": 0}, {\"item_id\": \"20570\", \"item_name\": \"Warhammer\\\\u00ae 40,000\\\\u2122: Dawn of War\\\\u00ae II - Chaos Rising\\\\u2122\", \"playtime_forever\": 69, \"playtime_2weeks\": 0}, {\"item_id\": \"50620\", \"item_name\": \"Darksiders\", \"playtime_forever\": 101, \"playtime_2weeks\": 0}, {\"item_id\": \"55100\", \"item_name\": \"Homefront\", \"playtime_forever\": 51, \"playtime_2weeks\": 0}, {\"item_id\": \"55140\", \"item_name\": \"MX vs. ATV Reflex\", \"playtime_forever\": 0, \"playtime_2weeks\": 0}, {\"item_id\": \"56400\", \"item_name\": \"Warhammer\\\\u00ae 40,000\\\\u2122: Dawn of War\\\\u00ae II \\\\u2013 Retribution\\\\u2122\", \"playtime_forever\": 678, \"playtime_2weeks\": 0}, {\"item_id\": \"475150\", \"item_name\": \"Titan Quest Anniversary Edition\", \"playtime_forever\": 0, \"playtime_2weeks\": 0}, {\"item_id\": \"96100\", \"item_name\": \"Defy Gravity\", \"playtime_forever\": 9, \"playtime_2weeks\": 0}, {\"item_id\": \"35450\", \"item_name\": \"Rising Storm/Red Orchestra 2 Multiplayer\", \"playtime_forever\": 14194, \"playtime_2weeks\": 0}, {\"item_id\": \"236830\", \"item_name\": \"Red Orchestra 2: Heroes of Stalingrad - Single Player\", \"playtime_forever\": 0, \"playtime_2weeks\": 0}, {\"item_id\": \"72850\", \"item_name\": \"The Elder Scrolls V: Skyrim\", \"playtime_forever\": 2512, \"playtime_2weeks\": 0}, {\"item_id\": \"107100\", \"item_name\": \"Bastion\", \"playtime_forever\": 640, \"playtime_2weeks\": 0}, {\"item_id\": \"57690\", \"item_name\": \"Tropico 4\", \"playtime_forever\": 1815, \"playtime_2weeks\": 0}, {\"item_id\": \"91310\", \"item_name\": \"Dead Island\", \"playtime_forever\": 2078, \"playtime_2weeks\": 0}, {\"item_id\": \"113200\", \"item_name\": \"The Binding of Isaac\", \"playtime_forever\": 1494, \"playtime_2weeks\": 0}, {\"item_id\": \"65800\", \"item_name\": \"Dungeon Defenders\", \"playtime_forever\": 130, \"playtime_2weeks\": 0}, {\"item_id\": \"9200\", \"item_name\": \"RAGE\", \"playtime_forever\": 653, \"playtime_2weeks\": 0}, {\"item_id\": \"41070\", \"item_name\": \"Serious Sam 3: BFE\", \"playtime_forever\": 716, \"playtime_2weeks\": 0}, {\"item_id\": \"48950\", \"item_name\": \"Greed Corp\", \"playtime_forever\": 72, \"playtime_2weeks\": 0}, {\"item_id\": \"92800\", \"item_name\": \"SpaceChem\", \"playtime_forever\": 262, \"playtime_2weeks\": 0}, {\"item_id\": \"104700\", \"item_name\": \"Super Monday Night Combat\", \"playtime_forever\": 44, \"playtime_2weeks\": 0}, {\"item_id\": \"203770\", \"item_name\": \"Crusader Kings II\", \"playtime_forever\": 18, \"playtime_2weeks\": 0}, {\"item_id\": \"203810\", \"item_name\": \"Dear Esther\", \"playtime_forever\": 86, \"playtime_2weeks\": 0}, {\"item_id\": \"110800\", \"item_name\": \"L.A. Noire\", \"playtime_forever\": 1204, \"playtime_2weeks\": 0}, {\"item_id\": \"207610\", \"item_name\": \"The Walking Dead\", \"playtime_forever\": 798, \"playtime_2weeks\": 0}, {\"item_id\": \"98300\", \"item_name\": \"Toy Soldiers\", \"playtime_forever\": 110, \"playtime_2weeks\": 0}, {\"item_id\": \"50300\", \"item_name\": \"Spec Ops: The Line\", \"playtime_forever\": 296, \"playtime_2weeks\": 0}, {\"item_id\": \"204300\", \"item_name\": \"Awesomenauts\", \"playtime_forever\": 0, \"playtime_2weeks\": 0}, {\"item_id\": \"1700\", \"item_name\": \"Arx Fatalis\", \"playtime_forever\": 0, \"playtime_2weeks\": 0}, {\"item_id\": \"205100\", \"item_name\": \"Dishonored\", \"playtime_forever\": 1429, \"playtime_2weeks\": 0}, {\"item_id\": \"211120\", \"item_name\": \"The Political Machine\", \"playtime_forever\": 1, \"playtime_2weeks\": 0}, {\"item_id\": \"730\", \"item_name\": \"Counter-Strike: Global Offensive\", \"playtime_forever\": 23532, \"playtime_2weeks\": 0}, {\"item_id\": \"49520\", \"item_name\": \"Borderlands 2\", \"playtime_forever\": 1303, \"playtime_2weeks\": 0}, {\"item_id\": \"200260\", \"item_name\": \"Batman: Arkham City GOTY\", \"playtime_forever\": 100, \"playtime_2weeks\": 0}, {\"item_id\": \"212680\", \"item_name\": \"FTL: Faster Than Light\", \"playtime_forever\": 500, \"playtime_2weeks\": 0}, {\"item_id\": \"200710\", \"item_name\": \"Torchlight II\", \"playtime_forever\": 459, \"playtime_2weeks\": 0}, {\"item_id\": \"219150\", \"item_name\": \"Hotline Miami\", \"playtime_forever\": 0, \"playtime_2weeks\": 0}, {\"item_id\": \"215510\", \"item_name\": \"Rocketbirds: Hardboiled Chicken\", \"playtime_forever\": 0, \"playtime_2weeks\": 0}, {\"item_id\": \"8870\", \"item_name\": \"BioShock Infinite\", \"playtime_forever\": 2084, \"playtime_2weeks\": 0}, {\"item_id\": \"200510\", \"item_name\": \"XCOM: Enemy Unknown\", \"playtime_forever\": 3478, \"playtime_2weeks\": 0}, {\"item_id\": \"220240\", \"item_name\": \"Far Cry\\\\u00ae 3\", \"playtime_forever\": 182, \"playtime_2weeks\": 0}, {\"item_id\": \"218680\", \"item_name\": \"Scribblenauts Unlimited\", \"playtime_forever\": 0, \"playtime_2weeks\": 0}, {\"item_id\": \"228280\", \"item_name\": \"Baldur\\'s Gate: Enhanced Edition\", \"playtime_forever\": 905, \"playtime_2weeks\": 0}, {\"item_id\": \"212070\", \"item_name\": \"Star Conflict\", \"playtime_forever\": 0, \"playtime_2weeks\": 0}, {\"item_id\": \"218230\", \"item_name\": \"PlanetSide 2\", \"playtime_forever\": 51, \"playtime_2weeks\": 0}, {\"item_id\": \"236390\", \"item_name\": \"War Thunder\", \"playtime_forever\": 50, \"playtime_2weeks\": 0}, {\"item_id\": \"3483\", \"item_name\": \"Peggle Extreme\", \"playtime_forever\": 0, \"playtime_2weeks\": 0}, {\"item_id\": \"203160\", \"item_name\": \"Tomb Raider\", \"playtime_forever\": 0, \"playtime_2weeks\": 0}, {\"item_id\": \"227080\", \"item_name\": \"Papo & Yo\", \"playtime_forever\": 81, \"playtime_2weeks\": 0}, {\"item_id\": \"233450\", \"item_name\": \"Prison Architect\", \"playtime_forever\": 24, \"playtime_2weeks\": 0}, {\"item_id\": \"43160\", \"item_name\": \"Metro: Last Light\", \"playtime_forever\": 712, \"playtime_2weeks\": 0}, {\"item_id\": \"219740\", \"item_name\": \"Don\\'t Starve\", \"playtime_forever\": 139, \"playtime_2weeks\": 0}, {\"item_id\": \"322330\", \"item_name\": \"Don\\'t Starve Together\", \"playtime_forever\": 0, \"playtime_2weeks\": 0}, {\"item_id\": \"222730\", \"item_name\": \"Reus\", \"playtime_forever\": 319, \"playtime_2weeks\": 0}, {\"item_id\": \"241600\", \"item_name\": \"Rogue Legacy\", \"playtime_forever\": 73, \"playtime_2weeks\": 0}, {\"item_id\": \"238930\", \"item_name\": \"7 Grand Steps, Step 1: What Ancients Begat\", \"playtime_forever\": 159, \"playtime_2weeks\": 0}, {\"item_id\": \"217140\", \"item_name\": \"Rise of the Triad\", \"playtime_forever\": 199, \"playtime_2weeks\": 0}, {\"item_id\": \"39140\", \"item_name\": \"FINAL FANTASY VII\", \"playtime_forever\": 2896, \"playtime_2weeks\": 0}, {\"item_id\": \"225080\", \"item_name\": \"Brothers - A Tale of Two Sons\", \"playtime_forever\": 0, \"playtime_2weeks\": 0}, {\"item_id\": \"239030\", \"item_name\": \"Papers, Please\", \"playtime_forever\": 194, \"playtime_2weeks\": 0}, {\"item_id\": \"248820\", \"item_name\": \"Risk of Rain\", \"playtime_forever\": 272, \"playtime_2weeks\": 0}, {\"item_id\": \"239350\", \"item_name\": \"Spelunky\", \"playtime_forever\": 458, \"playtime_2weeks\": 0}, {\"item_id\": \"218620\", \"item_name\": \"PAYDAY 2\", \"playtime_forever\": 574, \"playtime_2weeks\": 0}, {\"item_id\": \"206420\", \"item_name\": \"Saints Row IV\", \"playtime_forever\": 0, \"playtime_2weeks\": 0}, {\"item_id\": \"236850\", \"item_name\": \"Europa Universalis IV\", \"playtime_forever\": 89, \"playtime_2weeks\": 0}, {\"item_id\": \"47790\", \"item_name\": \"Medal of Honor(TM) Single Player\", \"playtime_forever\": 230, \"playtime_2weeks\": 0}, {\"item_id\": \"47830\", \"item_name\": \"Medal of Honor(TM) Multiplayer\", \"playtime_forever\": 0, \"playtime_2weeks\": 0}, {\"item_id\": \"250320\", \"item_name\": \"The Wolf Among Us\", \"playtime_forever\": 500, \"playtime_2weeks\": 0}, {\"item_id\": \"250900\", \"item_name\": \"The Binding of Isaac: Rebirth\", \"playtime_forever\": 329, \"playtime_2weeks\": 0}, {\"item_id\": \"204450\", \"item_name\": \"Call of Juarez Gunslinger\", \"playtime_forever\": 241, \"playtime_2weeks\": 0}, {\"item_id\": \"233270\", \"item_name\": \"Far Cry\\\\u00ae 3 Blood Dragon\", \"playtime_forever\": 0, \"playtime_2weeks\": 0}, {\"item_id\": \"251990\", \"item_name\": \"Long Live The Queen\", \"playtime_forever\": 135, \"playtime_2weeks\": 0}, {\"item_id\": \"253980\", \"item_name\": \"Enclave\", \"playtime_forever\": 0, \"playtime_2weeks\": 0}, {\"item_id\": \"236450\", \"item_name\": \"PAC-MAN Championship Edition DX+\", \"playtime_forever\": 154, \"playtime_2weeks\": 0}, {\"item_id\": \"242050\", \"item_name\": \"Assassin\\'s Creed IV Black Flag\", \"playtime_forever\": 1377, \"playtime_2weeks\": 0}, {\"item_id\": \"257350\", \"item_name\": \"Baldur\\'s Gate II: Enhanced Edition\", \"playtime_forever\": 0, \"playtime_2weeks\": 0}, {\"item_id\": \"213670\", \"item_name\": \"South Park\\\\u2122: The Stick of Truth\\\\u2122\", \"playtime_forever\": 121, \"playtime_2weeks\": 0}, {\"item_id\": \"238010\", \"item_name\": \"Deus Ex: Human Revolution - Director\\'s Cut\", \"playtime_forever\": 2176, \"playtime_2weeks\": 0}, {\"item_id\": \"245470\", \"item_name\": \"Democracy 3\", \"playtime_forever\": 246, \"playtime_2weeks\": 0}, {\"item_id\": \"221910\", \"item_name\": \"The Stanley Parable\", \"playtime_forever\": 157, \"playtime_2weeks\": 0}, {\"item_id\": \"260230\", \"item_name\": \"Valiant Hearts: The Great War\\\\u2122 / Soldats Inconnus : M\\\\u00e9moires de la Grande Guerre\\\\u2122\", \"playtime_forever\": 467, \"playtime_2weeks\": 0}, {\"item_id\": \"238430\", \"item_name\": \"Contagion\", \"playtime_forever\": 77, \"playtime_2weeks\": 0}, {\"item_id\": \"261030\", \"item_name\": \"The Walking Dead: Season Two\", \"playtime_forever\": 567, \"playtime_2weeks\": 0}, {\"item_id\": \"261570\", \"item_name\": \"Ori and the Blind Forest\", \"playtime_forever\": 39, \"playtime_2weeks\": 0}, {\"item_id\": \"263980\", \"item_name\": \"Out There Somewhere\", \"playtime_forever\": 0, \"playtime_2weeks\": 0}, {\"item_id\": \"39150\", \"item_name\": \"FINAL FANTASY VIII\", \"playtime_forever\": 15, \"playtime_2weeks\": 0}, {\"item_id\": \"230230\", \"item_name\": \"Divinity: Original Sin (Classic)\", \"playtime_forever\": 522, \"playtime_2weeks\": 0}, {\"item_id\": \"373420\", \"item_name\": \"Divinity: Original Sin Enhanced Edition\", \"playtime_forever\": 0, \"playtime_2weeks\": 0}, {\"item_id\": \"232790\", \"item_name\": \"Broken Age\", \"playtime_forever\": 216, \"playtime_2weeks\": 0}, {\"item_id\": \"237990\", \"item_name\": \"The Banner Saga\", \"playtime_forever\": 19, \"playtime_2weeks\": 0}, {\"item_id\": \"273620\", \"item_name\": \"Freespace 2\", \"playtime_forever\": 848, \"playtime_2weeks\": 0}, {\"item_id\": \"222880\", \"item_name\": \"Insurgency\", \"playtime_forever\": 3031, \"playtime_2weeks\": 0}, {\"item_id\": \"225840\", \"item_name\": \"Sven Co-op\", \"playtime_forever\": 26, \"playtime_2weeks\": 0}, {\"item_id\": \"222900\", \"item_name\": \"Dead Island: Epidemic\", \"playtime_forever\": 0, \"playtime_2weeks\": 0}, {\"item_id\": \"280220\", \"item_name\": \"Creeper World 3: Arc Eternal\", \"playtime_forever\": 941, \"playtime_2weeks\": 0}, {\"item_id\": \"236430\", \"item_name\": \"DARK SOULS\\\\u2122 II\", \"playtime_forever\": 592, \"playtime_2weeks\": 0}, {\"item_id\": \"201810\", \"item_name\": \"Wolfenstein: The New Order\", \"playtime_forever\": 599, \"playtime_2weeks\": 0}, {\"item_id\": \"294860\", \"item_name\": \"Valkyria Chronicles\\\\u2122\", \"playtime_forever\": 1735, \"playtime_2weeks\": 0}, {\"item_id\": \"295690\", \"item_name\": \"PARTICLE MACE\", \"playtime_forever\": 0, \"playtime_2weeks\": 0}, {\"item_id\": \"238460\", \"item_name\": \"BattleBlock Theater\", \"playtime_forever\": 407, \"playtime_2weeks\": 0}, {\"item_id\": \"237930\", \"item_name\": \"Transistor\", \"playtime_forever\": 154, \"playtime_2weeks\": 0}, {\"item_id\": \"301480\", \"item_name\": \"GEARCRACK Arena\", \"playtime_forever\": 0, \"playtime_2weeks\": 0}, {\"item_id\": \"303390\", \"item_name\": \"Dead Bits\", \"playtime_forever\": 0, \"playtime_2weeks\": 0}, {\"item_id\": \"306660\", \"item_name\": \"Ultimate General: Gettysburg\", \"playtime_forever\": 1245, \"playtime_2weeks\": 0}, {\"item_id\": \"316790\", \"item_name\": \"Grim Fandango Remastered\", \"playtime_forever\": 42, \"playtime_2weeks\": 0}, {\"item_id\": \"318430\", \"item_name\": \"Squishy the Suicidal Pig\", \"playtime_forever\": 0, \"playtime_2weeks\": 0}, {\"item_id\": \"241930\", \"item_name\": \"Middle-earth: Shadow of Mordor\", \"playtime_forever\": 889, \"playtime_2weeks\": 0}, {\"item_id\": \"328080\", \"item_name\": \"Retro-Pixel Castles\", \"playtime_forever\": 5, \"playtime_2weeks\": 0}, {\"item_id\": \"282070\", \"item_name\": \"This War of Mine\", \"playtime_forever\": 3, \"playtime_2weeks\": 0}, {\"item_id\": \"333930\", \"item_name\": \"Dirty Bomb\", \"playtime_forever\": 2782, \"playtime_2weeks\": 0}, {\"item_id\": \"334120\", \"item_name\": \"Armikrog\", \"playtime_forever\": 109, \"playtime_2weeks\": 0}, {\"item_id\": \"257510\", \"item_name\": \"The Talos Principle\", \"playtime_forever\": 0, \"playtime_2weeks\": 0}, {\"item_id\": \"319630\", \"item_name\": \"Life Is Strange\\\\u2122\", \"playtime_forever\": 37, \"playtime_2weeks\": 0}, {\"item_id\": \"346010\", \"item_name\": \"Besiege\", \"playtime_forever\": 464, \"playtime_2weeks\": 0}, {\"item_id\": \"255710\", \"item_name\": \"Cities: Skylines\", \"playtime_forever\": 246, \"playtime_2weeks\": 0}, {\"item_id\": \"232090\", \"item_name\": \"Killing Floor 2\", \"playtime_forever\": 6494, \"playtime_2weeks\": 0}, {\"item_id\": \"232150\", \"item_name\": \"Killing Floor 2 - SDK\", \"playtime_forever\": 0, \"playtime_2weeks\": 0}, {\"item_id\": \"377160\", \"item_name\": \"Fallout 4\", \"playtime_forever\": 2001, \"playtime_2weeks\": 0}, {\"item_id\": \"340170\", \"item_name\": \"FINAL FANTASY TYPE-0 HD\", \"playtime_forever\": 170, \"playtime_2weeks\": 0}, {\"item_id\": \"391540\", \"item_name\": \"Undertale\", \"playtime_forever\": 395, \"playtime_2weeks\": 0}, {\"item_id\": \"396660\", \"item_name\": \"Tahira: Echoes of the Astral Empire\", \"playtime_forever\": 0, \"playtime_2weeks\": 0}, {\"item_id\": \"337000\", \"item_name\": \"Deus Ex: Mankind Divided\\\\u2122\", \"playtime_forever\": 1159, \"playtime_2weeks\": 0}, {\"item_id\": \"368230\", \"item_name\": \"Kingdom: Classic\", \"playtime_forever\": 83, \"playtime_2weeks\": 0}, {\"item_id\": \"496300\", \"item_name\": \"Kingdom: New Lands\", \"playtime_forever\": 0, \"playtime_2weeks\": 0}, {\"item_id\": \"231430\", \"item_name\": \"Company of Heroes 2\", \"playtime_forever\": 0, \"playtime_2weeks\": 0}, {\"item_id\": \"289130\", \"item_name\": \"Endless Legend\", \"playtime_forever\": 593, \"playtime_2weeks\": 0}, {\"item_id\": \"268500\", \"item_name\": \"XCOM 2\", \"playtime_forever\": 1495, \"playtime_2weeks\": 0}, {\"item_id\": \"461640\", \"item_name\": \"Sins Of The Demon RPG\", \"playtime_forever\": 0, \"playtime_2weeks\": 0}, {\"item_id\": \"379720\", \"item_name\": \"DOOM\", \"playtime_forever\": 793, \"playtime_2weeks\": 0}, {\"item_id\": \"273350\", \"item_name\": \"Evolve Stage 2\", \"playtime_forever\": 58, \"playtime_2weeks\": 0}]'"
      ]
     },
     "execution_count": 73,
     "metadata": {},
     "output_type": "execute_result"
    }
   ],
   "source": [
    "users_items_raw.at[0, 'items']"
   ]
  },
  {
   "cell_type": "code",
   "execution_count": 74,
   "metadata": {},
   "outputs": [
    {
     "name": "stdout",
     "output_type": "stream",
     "text": [
      "Filas duplicadas:  657\n"
     ]
    }
   ],
   "source": [
    "print('Filas duplicadas: ',users_items.duplicated().sum())"
   ]
  },
  {
   "cell_type": "markdown",
   "metadata": {},
   "source": [
    "Tenemos 657 filas duplicadas que eliminaremos."
   ]
  },
  {
   "cell_type": "code",
   "execution_count": 75,
   "metadata": {},
   "outputs": [],
   "source": [
    "users_items = users_items.drop_duplicates().reset_index(drop=True)"
   ]
  },
  {
   "cell_type": "code",
   "execution_count": 76,
   "metadata": {},
   "outputs": [
    {
     "name": "stdout",
     "output_type": "stream",
     "text": [
      "Duplicados de  user_id :  53\n",
      "Duplicados de  items_count :  87355\n",
      "Duplicados de  steam_id :  55\n",
      "Duplicados de  user_url :  53\n",
      "Duplicados de  items :  18857\n"
     ]
    }
   ],
   "source": [
    "duplicados_de(users_items)"
   ]
  },
  {
   "cell_type": "markdown",
   "metadata": {},
   "source": [
    "Podemos observar que tenemos 53 user_id duplicados y 53 user_url duplicados."
   ]
  },
  {
   "cell_type": "code",
   "execution_count": 77,
   "metadata": {},
   "outputs": [
    {
     "data": {
      "text/html": [
       "<div>\n",
       "<style scoped>\n",
       "    .dataframe tbody tr th:only-of-type {\n",
       "        vertical-align: middle;\n",
       "    }\n",
       "\n",
       "    .dataframe tbody tr th {\n",
       "        vertical-align: top;\n",
       "    }\n",
       "\n",
       "    .dataframe thead th {\n",
       "        text-align: right;\n",
       "    }\n",
       "</style>\n",
       "<table border=\"1\" class=\"dataframe\">\n",
       "  <thead>\n",
       "    <tr style=\"text-align: right;\">\n",
       "      <th></th>\n",
       "      <th>user_id</th>\n",
       "      <th>items_count</th>\n",
       "      <th>steam_id</th>\n",
       "      <th>user_url</th>\n",
       "      <th>items</th>\n",
       "    </tr>\n",
       "  </thead>\n",
       "  <tbody>\n",
       "    <tr>\n",
       "      <th>4075</th>\n",
       "      <td>76561198050680344</td>\n",
       "      <td>125</td>\n",
       "      <td>76561198050680344</td>\n",
       "      <td>http://steamcommunity.com/profiles/76561198050680344</td>\n",
       "      <td>[{\"item_id\": \"4000\", \"item_name\": \"Garry's Mod\", \"playtime_forever\": 4128, \"playtime_2weeks\": 12...</td>\n",
       "    </tr>\n",
       "    <tr>\n",
       "      <th>14958</th>\n",
       "      <td>76561198050680344</td>\n",
       "      <td>125</td>\n",
       "      <td>76561198050680344</td>\n",
       "      <td>http://steamcommunity.com/profiles/76561198050680344</td>\n",
       "      <td>[{\"item_id\": \"4000\", \"item_name\": \"Garry's Mod\", \"playtime_forever\": 4128, \"playtime_2weeks\": 12...</td>\n",
       "    </tr>\n",
       "    <tr>\n",
       "      <th>32714</th>\n",
       "      <td>76561198063371165</td>\n",
       "      <td>45</td>\n",
       "      <td>76561198063371165</td>\n",
       "      <td>http://steamcommunity.com/profiles/76561198063371165</td>\n",
       "      <td>[{\"item_id\": \"3320\", \"item_name\": \"Insaniquarium! Deluxe\", \"playtime_forever\": 390, \"playtime_2w...</td>\n",
       "    </tr>\n",
       "    <tr>\n",
       "      <th>32713</th>\n",
       "      <td>76561198063371165</td>\n",
       "      <td>45</td>\n",
       "      <td>76561198063371165</td>\n",
       "      <td>http://steamcommunity.com/profiles/76561198063371165</td>\n",
       "      <td>[{\"item_id\": \"3320\", \"item_name\": \"Insaniquarium! Deluxe\", \"playtime_forever\": 390, \"playtime_2w...</td>\n",
       "    </tr>\n",
       "    <tr>\n",
       "      <th>35104</th>\n",
       "      <td>76561198064484479</td>\n",
       "      <td>336</td>\n",
       "      <td>76561198064484479</td>\n",
       "      <td>http://steamcommunity.com/profiles/76561198064484479</td>\n",
       "      <td>[{\"item_id\": \"10\", \"item_name\": \"Counter-Strike\", \"playtime_forever\": 1436, \"playtime_2weeks\": 0...</td>\n",
       "    </tr>\n",
       "  </tbody>\n",
       "</table>\n",
       "</div>"
      ],
      "text/plain": [
       "                 user_id  items_count           steam_id  \\\n",
       "4075   76561198050680344          125  76561198050680344   \n",
       "14958  76561198050680344          125  76561198050680344   \n",
       "32714  76561198063371165           45  76561198063371165   \n",
       "32713  76561198063371165           45  76561198063371165   \n",
       "35104  76561198064484479          336  76561198064484479   \n",
       "\n",
       "                                                   user_url  \\\n",
       "4075   http://steamcommunity.com/profiles/76561198050680344   \n",
       "14958  http://steamcommunity.com/profiles/76561198050680344   \n",
       "32714  http://steamcommunity.com/profiles/76561198063371165   \n",
       "32713  http://steamcommunity.com/profiles/76561198063371165   \n",
       "35104  http://steamcommunity.com/profiles/76561198064484479   \n",
       "\n",
       "                                                                                                     items  \n",
       "4075   [{\"item_id\": \"4000\", \"item_name\": \"Garry's Mod\", \"playtime_forever\": 4128, \"playtime_2weeks\": 12...  \n",
       "14958  [{\"item_id\": \"4000\", \"item_name\": \"Garry's Mod\", \"playtime_forever\": 4128, \"playtime_2weeks\": 12...  \n",
       "32714  [{\"item_id\": \"3320\", \"item_name\": \"Insaniquarium! Deluxe\", \"playtime_forever\": 390, \"playtime_2w...  \n",
       "32713  [{\"item_id\": \"3320\", \"item_name\": \"Insaniquarium! Deluxe\", \"playtime_forever\": 390, \"playtime_2w...  \n",
       "35104  [{\"item_id\": \"10\", \"item_name\": \"Counter-Strike\", \"playtime_forever\": 1436, \"playtime_2weeks\": 0...  "
      ]
     },
     "execution_count": 77,
     "metadata": {},
     "output_type": "execute_result"
    }
   ],
   "source": [
    "users_items[users_items.duplicated(subset='user_id',keep=False)].sort_values('user_id').head(5)"
   ]
  },
  {
   "cell_type": "code",
   "execution_count": 78,
   "metadata": {},
   "outputs": [
    {
     "name": "stdout",
     "output_type": "stream",
     "text": [
      "[{\"item_id\": \"4000\", \"item_name\": \"Garry's Mod\", \"playtime_forever\": 4128, \"playtime_2weeks\": 128}, {\"item_id\": \"17300\", \"item_name\": \"Crysis\", \"playtime_forever\": 39, \"playtime_2weeks\": 0}, {\"item_id\": \"17330\", \"item_name\": \"Crysis Warhead\", \"playtime_forever\": 0, \"playtime_2weeks\": 0}, {\"item_id\": \"17340\", \"item_name\": \"Crysis Wars\", \"playtime_forever\": 0, \"playtime_2weeks\": 0}, {\"item_id\": \"6060\", \"item_name\": \"STAR WARS\\u2122 Battlefront\\u2122 II\", \"playtime_forever\": 654, \"playtime_2weeks\": 0}, {\"item_id\": \"34900\", \"item_name\": \"Bad Rats\", \"playtime_forever\": 267, \"playtime_2weeks\": 0}, {\"item_id\": \"6020\", \"item_name\": \"STAR WARS\\u2122 Jedi Knight: Jedi Academy\\u2122\", \"playtime_forever\": 108, \"playtime_2weeks\": 0}, {\"item_id\": \"500\", \"item_name\": \"Left 4 Dead\", \"playtime_forever\": 48, \"playtime_2weeks\": 0}, {\"item_id\": \"550\", \"item_name\": \"Left 4 Dead 2\", \"playtime_forever\": 1414, \"playtime_2weeks\": 0}, {\"item_id\": \"223530\", \"item_name\": \"Left 4 Dead 2 Beta\", \"playtime_forever\": 0, \"playtime_2weeks\": 0}, {\"item_id\": \"8190\", \"item_name\": \"Just Cause 2\", \"playtime_forever\": 29, \"playtime_2weeks\": 0}, {\"item_id\": \"43110\", \"item_name\": \"Metro 2033\", \"playtime_forever\": 0, \"playtime_2weeks\": 0}, {\"item_id\": \"17410\", \"item_name\": \"Mirror's Edge\", \"playtime_forever\": 0, \"playtime_2weeks\": 0}, {\"item_id\": \"8930\", \"item_name\": \"Sid Meier's Civilization V\", \"playtime_forever\": 1400, \"playtime_2weeks\": 0}, {\"item_id\": \"42700\", \"item_name\": \"Call of Duty: Black Ops\", \"playtime_forever\": 1489, \"playtime_2weeks\": 0}, {\"item_id\": \"42710\", \"item_name\": \"Call of Duty: Black Ops - Multiplayer\", \"playtime_forever\": 937, \"playtime_2weeks\": 0}, {\"item_id\": \"40800\", \"item_name\": \"Super Meat Boy\", \"playtime_forever\": 178, \"playtime_2weeks\": 0}, {\"item_id\": \"50300\", \"item_name\": \"Spec Ops: The Line\", \"playtime_forever\": 11, \"playtime_2weeks\": 0}, {\"item_id\": \"21100\", \"item_name\": \"F.E.A.R. 3\", \"playtime_forever\": 0, \"playtime_2weeks\": 0}, {\"item_id\": \"105600\", \"item_name\": \"Terraria\", \"playtime_forever\": 13834, \"playtime_2weeks\": 0}, {\"item_id\": \"20920\", \"item_name\": \"The Witcher 2: Assassins of Kings Enhanced Edition\", \"playtime_forever\": 297, \"playtime_2weeks\": 0}, {\"item_id\": \"57900\", \"item_name\": \"Duke Nukem Forever\", \"playtime_forever\": 0, \"playtime_2weeks\": 0}, {\"item_id\": \"21090\", \"item_name\": \"F.E.A.R.\", \"playtime_forever\": 11, \"playtime_2weeks\": 0}, {\"item_id\": \"21110\", \"item_name\": \"F.E.A.R.: Extraction Point\", \"playtime_forever\": 0, \"playtime_2weeks\": 0}, {\"item_id\": \"21120\", \"item_name\": \"F.E.A.R.: Perseus Mandate\", \"playtime_forever\": 0, \"playtime_2weeks\": 0}, {\"item_id\": \"16450\", \"item_name\": \"F.E.A.R. 2: Project Origin\", \"playtime_forever\": 0, \"playtime_2weeks\": 0}, {\"item_id\": \"32800\", \"item_name\": \"The Lord of the Rings: War in the North\", \"playtime_forever\": 497, \"playtime_2weeks\": 0}, {\"item_id\": \"107100\", \"item_name\": \"Bastion\", \"playtime_forever\": 719, \"playtime_2weeks\": 0}, {\"item_id\": \"24240\", \"item_name\": \"PAYDAY: The Heist\", \"playtime_forever\": 656, \"playtime_2weeks\": 0}, {\"item_id\": \"3830\", \"item_name\": \"Psychonauts\", \"playtime_forever\": 254, \"playtime_2weeks\": 0}, {\"item_id\": \"110800\", \"item_name\": \"L.A. Noire\", \"playtime_forever\": 137, \"playtime_2weeks\": 55}, {\"item_id\": \"67370\", \"item_name\": \"The Darkness II\", \"playtime_forever\": 65, \"playtime_2weeks\": 0}, {\"item_id\": \"7520\", \"item_name\": \"Two Worlds II\", \"playtime_forever\": 0, \"playtime_2weeks\": 0}, {\"item_id\": \"22380\", \"item_name\": \"Fallout: New Vegas\", \"playtime_forever\": 4845, \"playtime_2weeks\": 42}, {\"item_id\": \"200710\", \"item_name\": \"Torchlight II\", \"playtime_forever\": 2994, \"playtime_2weeks\": 0}, {\"item_id\": \"205350\", \"item_name\": \"Mortal Kombat Kollection\", \"playtime_forever\": 10, \"playtime_2weeks\": 0}, {\"item_id\": \"200260\", \"item_name\": \"Batman: Arkham City GOTY\", \"playtime_forever\": 1061, \"playtime_2weeks\": 0}, {\"item_id\": \"35140\", \"item_name\": \"Batman: Arkham Asylum GOTY Edition\", \"playtime_forever\": 627, \"playtime_2weeks\": 0}, {\"item_id\": \"209080\", \"item_name\": \"Guns of Icarus Online\", \"playtime_forever\": 192, \"playtime_2weeks\": 0}, {\"item_id\": \"208580\", \"item_name\": \"STAR WARS\\u2122 Knights of the Old Republic\\u2122 II: The Sith Lords\\u2122\", \"playtime_forever\": 34, \"playtime_2weeks\": 0}, {\"item_id\": \"219150\", \"item_name\": \"Hotline Miami\", \"playtime_forever\": 261, \"playtime_2weeks\": 0}, {\"item_id\": \"205790\", \"item_name\": \"Dota 2 Test\", \"playtime_forever\": 0, \"playtime_2weeks\": 0}, {\"item_id\": \"218680\", \"item_name\": \"Scribblenauts Unlimited\", \"playtime_forever\": 430, \"playtime_2weeks\": 0}, {\"item_id\": \"1900\", \"item_name\": \"Earth 2160\", \"playtime_forever\": 0, \"playtime_2weeks\": 0}, {\"item_id\": \"55230\", \"item_name\": \"Saints Row: The Third\", \"playtime_forever\": 2245, \"playtime_2weeks\": 4}, {\"item_id\": \"203140\", \"item_name\": \"Hitman: Absolution\", \"playtime_forever\": 1179, \"playtime_2weeks\": 9}, {\"item_id\": \"205930\", \"item_name\": \"Hitman: Sniper Challenge\", \"playtime_forever\": 8, \"playtime_2weeks\": 0}, {\"item_id\": \"17460\", \"item_name\": \"Mass Effect\", \"playtime_forever\": 192, \"playtime_2weeks\": 0}, {\"item_id\": \"24980\", \"item_name\": \"Mass Effect 2\", \"playtime_forever\": 416, \"playtime_2weeks\": 0}, {\"item_id\": \"109600\", \"item_name\": \"Neverwinter\", \"playtime_forever\": 953, \"playtime_2weeks\": 0}, {\"item_id\": \"200210\", \"item_name\": \"Realm of the Mad God\", \"playtime_forever\": 60, \"playtime_2weeks\": 0}, {\"item_id\": \"208090\", \"item_name\": \"Loadout\", \"playtime_forever\": 589, \"playtime_2weeks\": 0}, {\"item_id\": \"218230\", \"item_name\": \"PlanetSide 2\", \"playtime_forever\": 2896, \"playtime_2weeks\": 0}, {\"item_id\": \"230410\", \"item_name\": \"Warframe\", \"playtime_forever\": 119440, \"playtime_2weeks\": 1649}, {\"item_id\": \"236390\", \"item_name\": \"War Thunder\", \"playtime_forever\": 861, \"playtime_2weeks\": 0}, {\"item_id\": \"238960\", \"item_name\": \"Path of Exile\", \"playtime_forever\": 14, \"playtime_2weeks\": 0}, {\"item_id\": \"243870\", \"item_name\": \"Tom Clancy's Ghost Recon Phantoms - NA\", \"playtime_forever\": 1035, \"playtime_2weeks\": 0}, {\"item_id\": \"209870\", \"item_name\": \"Blacklight: Retribution\", \"playtime_forever\": 8531, \"playtime_2weeks\": 0}, {\"item_id\": \"286100\", \"item_name\": \"You Have to Win the Game\", \"playtime_forever\": 0, \"playtime_2weeks\": 0}, {\"item_id\": \"226320\", \"item_name\": \"Marvel Heroes 2016\", \"playtime_forever\": 30, \"playtime_2weeks\": 0}, {\"item_id\": \"72850\", \"item_name\": \"The Elder Scrolls V: Skyrim\", \"playtime_forever\": 4414, \"playtime_2weeks\": 0}, {\"item_id\": \"234190\", \"item_name\": \"Receiver\", \"playtime_forever\": 42, \"playtime_2weeks\": 0}, {\"item_id\": \"65930\", \"item_name\": \"The Bureau: XCOM Declassified\", \"playtime_forever\": 7, \"playtime_2weeks\": 0}, {\"item_id\": \"43160\", \"item_name\": \"Metro: Last Light\", \"playtime_forever\": 1047, \"playtime_2weeks\": 0}, {\"item_id\": \"242760\", \"item_name\": \"The Forest\", \"playtime_forever\": 642, \"playtime_2weeks\": 0}, {\"item_id\": \"247020\", \"item_name\": \"Cook, Serve, Delicious!\", \"playtime_forever\": 0, \"playtime_2weeks\": 0}, {\"item_id\": \"209000\", \"item_name\": \"Batman\\u2122: Arkham Origins\", \"playtime_forever\": 1331, \"playtime_2weeks\": 0}, {\"item_id\": \"218620\", \"item_name\": \"PAYDAY 2\", \"playtime_forever\": 25366, \"playtime_2weeks\": 7}, {\"item_id\": \"207140\", \"item_name\": \"SpeedRunners\", \"playtime_forever\": 140, \"playtime_2weeks\": 0}, {\"item_id\": \"111900\", \"item_name\": \"Guardians of Middle-earth\", \"playtime_forever\": 195, \"playtime_2weeks\": 0}, {\"item_id\": \"251570\", \"item_name\": \"7 Days to Die\", \"playtime_forever\": 60, \"playtime_2weeks\": 0}, {\"item_id\": \"252490\", \"item_name\": \"Rust\", \"playtime_forever\": 350, \"playtime_2weeks\": 16}, {\"item_id\": \"253880\", \"item_name\": \"Earth 2150 Trilogy\", \"playtime_forever\": 0, \"playtime_2weeks\": 0}, {\"item_id\": \"259280\", \"item_name\": \"Earth 2150: The Moon Project\", \"playtime_forever\": 0, \"playtime_2weeks\": 0}, {\"item_id\": \"259300\", \"item_name\": \"Earth 2150: Lost Souls\", \"playtime_forever\": 0, \"playtime_2weeks\": 0}, {\"item_id\": \"253940\", \"item_name\": \"Septerra Core\", \"playtime_forever\": 0, \"playtime_2weeks\": 0}, {\"item_id\": \"254080\", \"item_name\": \"World War III: Black Gold\", \"playtime_forever\": 0, \"playtime_2weeks\": 0}, {\"item_id\": \"249990\", \"item_name\": \"FORCED\", \"playtime_forever\": 130, \"playtime_2weeks\": 0}, {\"item_id\": \"205100\", \"item_name\": \"Dishonored\", \"playtime_forever\": 334, \"playtime_2weeks\": 334}, {\"item_id\": \"236510\", \"item_name\": \"Takedown: Red Sabre\", \"playtime_forever\": 178, \"playtime_2weeks\": 0}, {\"item_id\": \"261640\", \"item_name\": \"Borderlands: The Pre-Sequel\", \"playtime_forever\": 96, \"playtime_2weeks\": 0}, {\"item_id\": \"266130\", \"item_name\": \"Breach & Clear\", \"playtime_forever\": 173, \"playtime_2weeks\": 0}, {\"item_id\": \"221100\", \"item_name\": \"DayZ\", \"playtime_forever\": 1551, \"playtime_2weeks\": 10}, {\"item_id\": \"273110\", \"item_name\": \"Counter-Strike Nexon: Zombies\", \"playtime_forever\": 26, \"playtime_2weeks\": 0}, {\"item_id\": \"222880\", \"item_name\": \"Insurgency\", \"playtime_forever\": 136, \"playtime_2weeks\": 0}, {\"item_id\": \"274190\", \"item_name\": \"Broforce\", \"playtime_forever\": 219, \"playtime_2weeks\": 0}, {\"item_id\": \"290080\", \"item_name\": \"Life is Feudal: Your Own\", \"playtime_forever\": 523, \"playtime_2weeks\": 0}, {\"item_id\": \"293260\", \"item_name\": \"Card Hunter\", \"playtime_forever\": 0, \"playtime_2weeks\": 0}, {\"item_id\": \"201810\", \"item_name\": \"Wolfenstein: The New Order\", \"playtime_forever\": 85, \"playtime_2weeks\": 44}, {\"item_id\": \"237930\", \"item_name\": \"Transistor\", \"playtime_forever\": 225, \"playtime_2weeks\": 0}, {\"item_id\": \"301520\", \"item_name\": \"Robocraft\", \"playtime_forever\": 116, \"playtime_2weeks\": 0}, {\"item_id\": \"304050\", \"item_name\": \"Trove\", \"playtime_forever\": 15, \"playtime_2weeks\": 0}, {\"item_id\": \"304930\", \"item_name\": \"Unturned\", \"playtime_forever\": 3238, \"playtime_2weeks\": 105}, {\"item_id\": \"63380\", \"item_name\": \"Sniper Elite V2\", \"playtime_forever\": 455, \"playtime_2weeks\": 0}, {\"item_id\": \"224600\", \"item_name\": \"Defiance\", \"playtime_forever\": 308, \"playtime_2weeks\": 0}, {\"item_id\": \"306830\", \"item_name\": \"Zombies Monsters Robots\", \"playtime_forever\": 58, \"playtime_2weeks\": 0}, {\"item_id\": \"8980\", \"item_name\": \"Borderlands\", \"playtime_forever\": 146, \"playtime_2weeks\": 0}, {\"item_id\": \"49520\", \"item_name\": \"Borderlands 2\", \"playtime_forever\": 15584, \"playtime_2weeks\": 0}, {\"item_id\": \"227700\", \"item_name\": \"Firefall\", \"playtime_forever\": 53, \"playtime_2weeks\": 0}, {\"item_id\": \"291480\", \"item_name\": \"Warface\", \"playtime_forever\": 11, \"playtime_2weeks\": 0}, {\"item_id\": \"227940\", \"item_name\": \"Heroes & Generals\", \"playtime_forever\": 0, \"playtime_2weeks\": 0}, {\"item_id\": \"222900\", \"item_name\": \"Dead Island: Epidemic\", \"playtime_forever\": 15, \"playtime_2weeks\": 0}, {\"item_id\": \"313340\", \"item_name\": \"Mountain\", \"playtime_forever\": 10, \"playtime_2weeks\": 0}, {\"item_id\": \"274170\", \"item_name\": \"Hotline Miami 2: Wrong Number\", \"playtime_forever\": 166, \"playtime_2weeks\": 0}, {\"item_id\": \"221380\", \"item_name\": \"Age of Empires II: HD Edition\", \"playtime_forever\": 1184, \"playtime_2weeks\": 0}, {\"item_id\": \"238590\", \"item_name\": \"Loadout Campaign Beta\", \"playtime_forever\": 15, \"playtime_2weeks\": 0}, {\"item_id\": \"277430\", \"item_name\": \"Halo: Spartan Assault\", \"playtime_forever\": 100, \"playtime_2weeks\": 0}, {\"item_id\": \"324570\", \"item_name\": \"Halo: Spartan Strike\", \"playtime_forever\": 72, \"playtime_2weeks\": 0}, {\"item_id\": \"730\", \"item_name\": \"Counter-Strike: Global Offensive\", \"playtime_forever\": 673, \"playtime_2weeks\": 0}, {\"item_id\": \"333930\", \"item_name\": \"Dirty Bomb\", \"playtime_forever\": 255, \"playtime_2weeks\": 0}, {\"item_id\": \"346010\", \"item_name\": \"Besiege\", \"playtime_forever\": 731, \"playtime_2weeks\": 0}, {\"item_id\": \"359050\", \"item_name\": \"Shower With Your Dad Simulator 2015: Do You Still Shower With Your Dad\", \"playtime_forever\": 143, \"playtime_2weeks\": 0}, {\"item_id\": \"365720\", \"item_name\": \"Skyrim Script Extender (SKSE)\", \"playtime_forever\": 0, \"playtime_2weeks\": 0}, {\"item_id\": \"370240\", \"item_name\": \"NBA 2K16\", \"playtime_forever\": 0, \"playtime_2weeks\": 0}, {\"item_id\": \"269670\", \"item_name\": \"BADLAND: Game of the Year Edition\", \"playtime_forever\": 0, \"playtime_2weeks\": 0}, {\"item_id\": \"386360\", \"item_name\": \"SMITE\", \"playtime_forever\": 270, \"playtime_2weeks\": 0}, {\"item_id\": \"291550\", \"item_name\": \"Brawlhalla\", \"playtime_forever\": 45, \"playtime_2weeks\": 0}, {\"item_id\": \"299360\", \"item_name\": \"Block N Load\", \"playtime_forever\": 0, \"playtime_2weeks\": 0}, {\"item_id\": \"290790\", \"item_name\": \"Grey Goo\", \"playtime_forever\": 402, \"playtime_2weeks\": 0}, {\"item_id\": \"394230\", \"item_name\": \"Battleborn\", \"playtime_forever\": 22, \"playtime_2weeks\": 11}, {\"item_id\": \"377160\", \"item_name\": \"Fallout 4\", \"playtime_forever\": 1997, \"playtime_2weeks\": 1997}, {\"item_id\": \"50130\", \"item_name\": \"Mafia II\", \"playtime_forever\": 49, \"playtime_2weeks\": 0}, {\"item_id\": \"369200\", \"item_name\": \"Ghost in the Shell Stand Alone Complex First Assault Online\", \"playtime_forever\": 633, \"playtime_2weeks\": 0}, {\"item_id\": \"48000\", \"item_name\": \"LIMBO\", \"playtime_forever\": 0, \"playtime_2weeks\": 0}, {\"item_id\": \"273350\", \"item_name\": \"Evolve Stage 2\", \"playtime_forever\": 64, \"playtime_2weeks\": 0}]\n",
      "[{\"item_id\": \"4000\", \"item_name\": \"Garry's Mod\", \"playtime_forever\": 4128, \"playtime_2weeks\": 128}, {\"item_id\": \"17300\", \"item_name\": \"Crysis\", \"playtime_forever\": 39, \"playtime_2weeks\": 0}, {\"item_id\": \"17330\", \"item_name\": \"Crysis Warhead\", \"playtime_forever\": 0, \"playtime_2weeks\": 0}, {\"item_id\": \"17340\", \"item_name\": \"Crysis Wars\", \"playtime_forever\": 0, \"playtime_2weeks\": 0}, {\"item_id\": \"6060\", \"item_name\": \"STAR WARS\\u2122 Battlefront\\u2122 II\", \"playtime_forever\": 654, \"playtime_2weeks\": 0}, {\"item_id\": \"34900\", \"item_name\": \"Bad Rats\", \"playtime_forever\": 267, \"playtime_2weeks\": 0}, {\"item_id\": \"6020\", \"item_name\": \"STAR WARS\\u2122 Jedi Knight: Jedi Academy\\u2122\", \"playtime_forever\": 108, \"playtime_2weeks\": 0}, {\"item_id\": \"500\", \"item_name\": \"Left 4 Dead\", \"playtime_forever\": 48, \"playtime_2weeks\": 0}, {\"item_id\": \"550\", \"item_name\": \"Left 4 Dead 2\", \"playtime_forever\": 1414, \"playtime_2weeks\": 0}, {\"item_id\": \"223530\", \"item_name\": \"Left 4 Dead 2 Beta\", \"playtime_forever\": 0, \"playtime_2weeks\": 0}, {\"item_id\": \"8190\", \"item_name\": \"Just Cause 2\", \"playtime_forever\": 29, \"playtime_2weeks\": 0}, {\"item_id\": \"43110\", \"item_name\": \"Metro 2033\", \"playtime_forever\": 0, \"playtime_2weeks\": 0}, {\"item_id\": \"17410\", \"item_name\": \"Mirror's Edge\", \"playtime_forever\": 0, \"playtime_2weeks\": 0}, {\"item_id\": \"8930\", \"item_name\": \"Sid Meier's Civilization V\", \"playtime_forever\": 1400, \"playtime_2weeks\": 0}, {\"item_id\": \"42700\", \"item_name\": \"Call of Duty: Black Ops\", \"playtime_forever\": 1489, \"playtime_2weeks\": 0}, {\"item_id\": \"42710\", \"item_name\": \"Call of Duty: Black Ops - Multiplayer\", \"playtime_forever\": 937, \"playtime_2weeks\": 0}, {\"item_id\": \"40800\", \"item_name\": \"Super Meat Boy\", \"playtime_forever\": 178, \"playtime_2weeks\": 0}, {\"item_id\": \"50300\", \"item_name\": \"Spec Ops: The Line\", \"playtime_forever\": 11, \"playtime_2weeks\": 0}, {\"item_id\": \"21100\", \"item_name\": \"F.E.A.R. 3\", \"playtime_forever\": 0, \"playtime_2weeks\": 0}, {\"item_id\": \"105600\", \"item_name\": \"Terraria\", \"playtime_forever\": 13834, \"playtime_2weeks\": 0}, {\"item_id\": \"20920\", \"item_name\": \"The Witcher 2: Assassins of Kings Enhanced Edition\", \"playtime_forever\": 297, \"playtime_2weeks\": 0}, {\"item_id\": \"57900\", \"item_name\": \"Duke Nukem Forever\", \"playtime_forever\": 0, \"playtime_2weeks\": 0}, {\"item_id\": \"21090\", \"item_name\": \"F.E.A.R.\", \"playtime_forever\": 11, \"playtime_2weeks\": 0}, {\"item_id\": \"21110\", \"item_name\": \"F.E.A.R.: Extraction Point\", \"playtime_forever\": 0, \"playtime_2weeks\": 0}, {\"item_id\": \"21120\", \"item_name\": \"F.E.A.R.: Perseus Mandate\", \"playtime_forever\": 0, \"playtime_2weeks\": 0}, {\"item_id\": \"16450\", \"item_name\": \"F.E.A.R. 2: Project Origin\", \"playtime_forever\": 0, \"playtime_2weeks\": 0}, {\"item_id\": \"32800\", \"item_name\": \"The Lord of the Rings: War in the North\", \"playtime_forever\": 497, \"playtime_2weeks\": 0}, {\"item_id\": \"107100\", \"item_name\": \"Bastion\", \"playtime_forever\": 719, \"playtime_2weeks\": 0}, {\"item_id\": \"24240\", \"item_name\": \"PAYDAY: The Heist\", \"playtime_forever\": 656, \"playtime_2weeks\": 0}, {\"item_id\": \"3830\", \"item_name\": \"Psychonauts\", \"playtime_forever\": 254, \"playtime_2weeks\": 0}, {\"item_id\": \"110800\", \"item_name\": \"L.A. Noire\", \"playtime_forever\": 137, \"playtime_2weeks\": 55}, {\"item_id\": \"67370\", \"item_name\": \"The Darkness II\", \"playtime_forever\": 65, \"playtime_2weeks\": 0}, {\"item_id\": \"7520\", \"item_name\": \"Two Worlds II\", \"playtime_forever\": 0, \"playtime_2weeks\": 0}, {\"item_id\": \"22380\", \"item_name\": \"Fallout: New Vegas\", \"playtime_forever\": 4845, \"playtime_2weeks\": 42}, {\"item_id\": \"200710\", \"item_name\": \"Torchlight II\", \"playtime_forever\": 2994, \"playtime_2weeks\": 0}, {\"item_id\": \"205350\", \"item_name\": \"Mortal Kombat Kollection\", \"playtime_forever\": 10, \"playtime_2weeks\": 0}, {\"item_id\": \"200260\", \"item_name\": \"Batman: Arkham City GOTY\", \"playtime_forever\": 1061, \"playtime_2weeks\": 0}, {\"item_id\": \"35140\", \"item_name\": \"Batman: Arkham Asylum GOTY Edition\", \"playtime_forever\": 627, \"playtime_2weeks\": 0}, {\"item_id\": \"209080\", \"item_name\": \"Guns of Icarus Online\", \"playtime_forever\": 192, \"playtime_2weeks\": 0}, {\"item_id\": \"208580\", \"item_name\": \"STAR WARS\\u2122 Knights of the Old Republic\\u2122 II: The Sith Lords\\u2122\", \"playtime_forever\": 34, \"playtime_2weeks\": 0}, {\"item_id\": \"219150\", \"item_name\": \"Hotline Miami\", \"playtime_forever\": 261, \"playtime_2weeks\": 0}, {\"item_id\": \"205790\", \"item_name\": \"Dota 2 Test\", \"playtime_forever\": 0, \"playtime_2weeks\": 0}, {\"item_id\": \"218680\", \"item_name\": \"Scribblenauts Unlimited\", \"playtime_forever\": 430, \"playtime_2weeks\": 0}, {\"item_id\": \"1900\", \"item_name\": \"Earth 2160\", \"playtime_forever\": 0, \"playtime_2weeks\": 0}, {\"item_id\": \"55230\", \"item_name\": \"Saints Row: The Third\", \"playtime_forever\": 2245, \"playtime_2weeks\": 4}, {\"item_id\": \"203140\", \"item_name\": \"Hitman: Absolution\", \"playtime_forever\": 1179, \"playtime_2weeks\": 9}, {\"item_id\": \"205930\", \"item_name\": \"Hitman: Sniper Challenge\", \"playtime_forever\": 8, \"playtime_2weeks\": 0}, {\"item_id\": \"17460\", \"item_name\": \"Mass Effect\", \"playtime_forever\": 192, \"playtime_2weeks\": 0}, {\"item_id\": \"24980\", \"item_name\": \"Mass Effect 2\", \"playtime_forever\": 416, \"playtime_2weeks\": 0}, {\"item_id\": \"109600\", \"item_name\": \"Neverwinter\", \"playtime_forever\": 953, \"playtime_2weeks\": 0}, {\"item_id\": \"200210\", \"item_name\": \"Realm of the Mad God\", \"playtime_forever\": 60, \"playtime_2weeks\": 0}, {\"item_id\": \"208090\", \"item_name\": \"Loadout\", \"playtime_forever\": 589, \"playtime_2weeks\": 0}, {\"item_id\": \"218230\", \"item_name\": \"PlanetSide 2\", \"playtime_forever\": 2896, \"playtime_2weeks\": 0}, {\"item_id\": \"230410\", \"item_name\": \"Warframe\", \"playtime_forever\": 119440, \"playtime_2weeks\": 1649}, {\"item_id\": \"236390\", \"item_name\": \"War Thunder\", \"playtime_forever\": 861, \"playtime_2weeks\": 0}, {\"item_id\": \"238960\", \"item_name\": \"Path of Exile\", \"playtime_forever\": 14, \"playtime_2weeks\": 0}, {\"item_id\": \"243870\", \"item_name\": \"Tom Clancy's Ghost Recon Phantoms - NA\", \"playtime_forever\": 1035, \"playtime_2weeks\": 0}, {\"item_id\": \"209870\", \"item_name\": \"Blacklight: Retribution\", \"playtime_forever\": 8531, \"playtime_2weeks\": 0}, {\"item_id\": \"286100\", \"item_name\": \"You Have to Win the Game\", \"playtime_forever\": 0, \"playtime_2weeks\": 0}, {\"item_id\": \"226320\", \"item_name\": \"Marvel Heroes 2016\", \"playtime_forever\": 30, \"playtime_2weeks\": 0}, {\"item_id\": \"72850\", \"item_name\": \"The Elder Scrolls V: Skyrim\", \"playtime_forever\": 4414, \"playtime_2weeks\": 0}, {\"item_id\": \"234190\", \"item_name\": \"Receiver\", \"playtime_forever\": 42, \"playtime_2weeks\": 0}, {\"item_id\": \"65930\", \"item_name\": \"The Bureau: XCOM Declassified\", \"playtime_forever\": 7, \"playtime_2weeks\": 0}, {\"item_id\": \"43160\", \"item_name\": \"Metro: Last Light\", \"playtime_forever\": 1047, \"playtime_2weeks\": 0}, {\"item_id\": \"242760\", \"item_name\": \"The Forest\", \"playtime_forever\": 642, \"playtime_2weeks\": 0}, {\"item_id\": \"247020\", \"item_name\": \"Cook, Serve, Delicious!\", \"playtime_forever\": 0, \"playtime_2weeks\": 0}, {\"item_id\": \"209000\", \"item_name\": \"Batman\\u2122: Arkham Origins\", \"playtime_forever\": 1331, \"playtime_2weeks\": 0}, {\"item_id\": \"218620\", \"item_name\": \"PAYDAY 2\", \"playtime_forever\": 25366, \"playtime_2weeks\": 7}, {\"item_id\": \"207140\", \"item_name\": \"SpeedRunners\", \"playtime_forever\": 140, \"playtime_2weeks\": 0}, {\"item_id\": \"111900\", \"item_name\": \"Guardians of Middle-earth\", \"playtime_forever\": 195, \"playtime_2weeks\": 0}, {\"item_id\": \"251570\", \"item_name\": \"7 Days to Die\", \"playtime_forever\": 60, \"playtime_2weeks\": 0}, {\"item_id\": \"252490\", \"item_name\": \"Rust\", \"playtime_forever\": 350, \"playtime_2weeks\": 16}, {\"item_id\": \"253880\", \"item_name\": \"Earth 2150 Trilogy\", \"playtime_forever\": 0, \"playtime_2weeks\": 0}, {\"item_id\": \"259280\", \"item_name\": \"Earth 2150: The Moon Project\", \"playtime_forever\": 0, \"playtime_2weeks\": 0}, {\"item_id\": \"259300\", \"item_name\": \"Earth 2150: Lost Souls\", \"playtime_forever\": 0, \"playtime_2weeks\": 0}, {\"item_id\": \"253940\", \"item_name\": \"Septerra Core\", \"playtime_forever\": 0, \"playtime_2weeks\": 0}, {\"item_id\": \"254080\", \"item_name\": \"World War III: Black Gold\", \"playtime_forever\": 0, \"playtime_2weeks\": 0}, {\"item_id\": \"249990\", \"item_name\": \"FORCED\", \"playtime_forever\": 130, \"playtime_2weeks\": 0}, {\"item_id\": \"205100\", \"item_name\": \"Dishonored\", \"playtime_forever\": 334, \"playtime_2weeks\": 334}, {\"item_id\": \"236510\", \"item_name\": \"Takedown: Red Sabre\", \"playtime_forever\": 178, \"playtime_2weeks\": 0}, {\"item_id\": \"261640\", \"item_name\": \"Borderlands: The Pre-Sequel\", \"playtime_forever\": 96, \"playtime_2weeks\": 0}, {\"item_id\": \"266130\", \"item_name\": \"Breach & Clear\", \"playtime_forever\": 173, \"playtime_2weeks\": 0}, {\"item_id\": \"221100\", \"item_name\": \"DayZ\", \"playtime_forever\": 1551, \"playtime_2weeks\": 10}, {\"item_id\": \"273110\", \"item_name\": \"Counter-Strike Nexon: Zombies\", \"playtime_forever\": 26, \"playtime_2weeks\": 0}, {\"item_id\": \"222880\", \"item_name\": \"Insurgency\", \"playtime_forever\": 136, \"playtime_2weeks\": 0}, {\"item_id\": \"274190\", \"item_name\": \"Broforce\", \"playtime_forever\": 219, \"playtime_2weeks\": 0}, {\"item_id\": \"290080\", \"item_name\": \"Life is Feudal: Your Own\", \"playtime_forever\": 523, \"playtime_2weeks\": 0}, {\"item_id\": \"293260\", \"item_name\": \"Card Hunter\", \"playtime_forever\": 0, \"playtime_2weeks\": 0}, {\"item_id\": \"201810\", \"item_name\": \"Wolfenstein: The New Order\", \"playtime_forever\": 85, \"playtime_2weeks\": 44}, {\"item_id\": \"237930\", \"item_name\": \"Transistor\", \"playtime_forever\": 225, \"playtime_2weeks\": 0}, {\"item_id\": \"301520\", \"item_name\": \"Robocraft\", \"playtime_forever\": 116, \"playtime_2weeks\": 0}, {\"item_id\": \"304050\", \"item_name\": \"Trove\", \"playtime_forever\": 15, \"playtime_2weeks\": 0}, {\"item_id\": \"304930\", \"item_name\": \"Unturned\", \"playtime_forever\": 3238, \"playtime_2weeks\": 105}, {\"item_id\": \"63380\", \"item_name\": \"Sniper Elite V2\", \"playtime_forever\": 455, \"playtime_2weeks\": 0}, {\"item_id\": \"224600\", \"item_name\": \"Defiance\", \"playtime_forever\": 308, \"playtime_2weeks\": 0}, {\"item_id\": \"306830\", \"item_name\": \"Zombies Monsters Robots\", \"playtime_forever\": 58, \"playtime_2weeks\": 0}, {\"item_id\": \"8980\", \"item_name\": \"Borderlands\", \"playtime_forever\": 146, \"playtime_2weeks\": 0}, {\"item_id\": \"49520\", \"item_name\": \"Borderlands 2\", \"playtime_forever\": 15584, \"playtime_2weeks\": 0}, {\"item_id\": \"227700\", \"item_name\": \"Firefall\", \"playtime_forever\": 53, \"playtime_2weeks\": 0}, {\"item_id\": \"291480\", \"item_name\": \"Warface\", \"playtime_forever\": 11, \"playtime_2weeks\": 0}, {\"item_id\": \"227940\", \"item_name\": \"Heroes & Generals\", \"playtime_forever\": 0, \"playtime_2weeks\": 0}, {\"item_id\": \"222900\", \"item_name\": \"Dead Island: Epidemic\", \"playtime_forever\": 15, \"playtime_2weeks\": 0}, {\"item_id\": \"313340\", \"item_name\": \"Mountain\", \"playtime_forever\": 10, \"playtime_2weeks\": 0}, {\"item_id\": \"274170\", \"item_name\": \"Hotline Miami 2: Wrong Number\", \"playtime_forever\": 166, \"playtime_2weeks\": 0}, {\"item_id\": \"221380\", \"item_name\": \"Age of Empires II: HD Edition\", \"playtime_forever\": 1184, \"playtime_2weeks\": 0}, {\"item_id\": \"238590\", \"item_name\": \"Loadout Campaign Beta\", \"playtime_forever\": 15, \"playtime_2weeks\": 0}, {\"item_id\": \"277430\", \"item_name\": \"Halo: Spartan Assault\", \"playtime_forever\": 100, \"playtime_2weeks\": 0}, {\"item_id\": \"324570\", \"item_name\": \"Halo: Spartan Strike\", \"playtime_forever\": 72, \"playtime_2weeks\": 0}, {\"item_id\": \"730\", \"item_name\": \"Counter-Strike: Global Offensive\", \"playtime_forever\": 673, \"playtime_2weeks\": 0}, {\"item_id\": \"333930\", \"item_name\": \"Dirty Bomb\", \"playtime_forever\": 255, \"playtime_2weeks\": 0}, {\"item_id\": \"346010\", \"item_name\": \"Besiege\", \"playtime_forever\": 731, \"playtime_2weeks\": 0}, {\"item_id\": \"359050\", \"item_name\": \"Shower With Your Dad Simulator 2015: Do You Still Shower With Your Dad\", \"playtime_forever\": 143, \"playtime_2weeks\": 0}, {\"item_id\": \"365720\", \"item_name\": \"Skyrim Script Extender (SKSE)\", \"playtime_forever\": 0, \"playtime_2weeks\": 0}, {\"item_id\": \"370240\", \"item_name\": \"NBA 2K16\", \"playtime_forever\": 0, \"playtime_2weeks\": 0}, {\"item_id\": \"269670\", \"item_name\": \"BADLAND: Game of the Year Edition\", \"playtime_forever\": 0, \"playtime_2weeks\": 0}, {\"item_id\": \"386360\", \"item_name\": \"SMITE\", \"playtime_forever\": 270, \"playtime_2weeks\": 0}, {\"item_id\": \"291550\", \"item_name\": \"Brawlhalla\", \"playtime_forever\": 45, \"playtime_2weeks\": 0}, {\"item_id\": \"299360\", \"item_name\": \"Block N Load\", \"playtime_forever\": 0, \"playtime_2weeks\": 0}, {\"item_id\": \"290790\", \"item_name\": \"Grey Goo\", \"playtime_forever\": 402, \"playtime_2weeks\": 0}, {\"item_id\": \"394230\", \"item_name\": \"Battleborn\", \"playtime_forever\": 22, \"playtime_2weeks\": 11}, {\"item_id\": \"377160\", \"item_name\": \"Fallout 4\", \"playtime_forever\": 2058, \"playtime_2weeks\": 2058}, {\"item_id\": \"50130\", \"item_name\": \"Mafia II\", \"playtime_forever\": 49, \"playtime_2weeks\": 0}, {\"item_id\": \"369200\", \"item_name\": \"Ghost in the Shell Stand Alone Complex First Assault Online\", \"playtime_forever\": 633, \"playtime_2weeks\": 0}, {\"item_id\": \"48000\", \"item_name\": \"LIMBO\", \"playtime_forever\": 0, \"playtime_2weeks\": 0}, {\"item_id\": \"273350\", \"item_name\": \"Evolve Stage 2\", \"playtime_forever\": 64, \"playtime_2weeks\": 0}]\n"
     ]
    }
   ],
   "source": [
    "print(\n",
    "    users_items[users_items.duplicated(subset='user_id',keep=False)].sort_values('user_id').at[4075,'items']\n",
    ")\n",
    "print(\n",
    "    users_items[users_items.duplicated(subset='user_id',keep=False)].sort_values('user_id').at[14958,'items']\n",
    ")"
   ]
  },
  {
   "cell_type": "markdown",
   "metadata": {},
   "source": [
    "Podemos ver que estas filas difieren en la cantidad de horas que jugó un usuario. Luego de desanidar esta columna se decidirá que hacer con los datos duplicados en el campo user_id."
   ]
  },
  {
   "cell_type": "markdown",
   "metadata": {},
   "source": [
    "Exploraremos si existen listas vacias en los datos de la columna items."
   ]
  },
  {
   "cell_type": "code",
   "execution_count": 79,
   "metadata": {},
   "outputs": [
    {
     "data": {
      "text/html": [
       "<div>\n",
       "<style scoped>\n",
       "    .dataframe tbody tr th:only-of-type {\n",
       "        vertical-align: middle;\n",
       "    }\n",
       "\n",
       "    .dataframe tbody tr th {\n",
       "        vertical-align: top;\n",
       "    }\n",
       "\n",
       "    .dataframe thead th {\n",
       "        text-align: right;\n",
       "    }\n",
       "</style>\n",
       "<table border=\"1\" class=\"dataframe\">\n",
       "  <thead>\n",
       "    <tr style=\"text-align: right;\">\n",
       "      <th></th>\n",
       "      <th>user_id</th>\n",
       "      <th>items_count</th>\n",
       "      <th>steam_id</th>\n",
       "      <th>user_url</th>\n",
       "      <th>items</th>\n",
       "    </tr>\n",
       "  </thead>\n",
       "  <tbody>\n",
       "    <tr>\n",
       "      <th>9</th>\n",
       "      <td>Wackky</td>\n",
       "      <td>0</td>\n",
       "      <td>76561198039117046</td>\n",
       "      <td>http://steamcommunity.com/id/Wackky</td>\n",
       "      <td>[]</td>\n",
       "    </tr>\n",
       "    <tr>\n",
       "      <th>11</th>\n",
       "      <td>76561198079601835</td>\n",
       "      <td>0</td>\n",
       "      <td>76561198079601835</td>\n",
       "      <td>http://steamcommunity.com/profiles/76561198079601835</td>\n",
       "      <td>[]</td>\n",
       "    </tr>\n",
       "    <tr>\n",
       "      <th>31</th>\n",
       "      <td>hellom8o</td>\n",
       "      <td>0</td>\n",
       "      <td>76561198117222320</td>\n",
       "      <td>http://steamcommunity.com/id/hellom8o</td>\n",
       "      <td>[]</td>\n",
       "    </tr>\n",
       "    <tr>\n",
       "      <th>38</th>\n",
       "      <td>starkillershadow553</td>\n",
       "      <td>0</td>\n",
       "      <td>76561198059648579</td>\n",
       "      <td>http://steamcommunity.com/id/starkillershadow553</td>\n",
       "      <td>[]</td>\n",
       "    </tr>\n",
       "    <tr>\n",
       "      <th>54</th>\n",
       "      <td>darkenkane</td>\n",
       "      <td>0</td>\n",
       "      <td>76561198058876001</td>\n",
       "      <td>http://steamcommunity.com/id/darkenkane</td>\n",
       "      <td>[]</td>\n",
       "    </tr>\n",
       "    <tr>\n",
       "      <th>...</th>\n",
       "      <td>...</td>\n",
       "      <td>...</td>\n",
       "      <td>...</td>\n",
       "      <td>...</td>\n",
       "      <td>...</td>\n",
       "    </tr>\n",
       "    <tr>\n",
       "      <th>87641</th>\n",
       "      <td>76561198316380182</td>\n",
       "      <td>0</td>\n",
       "      <td>76561198316380182</td>\n",
       "      <td>http://steamcommunity.com/profiles/76561198316380182</td>\n",
       "      <td>[]</td>\n",
       "    </tr>\n",
       "    <tr>\n",
       "      <th>87642</th>\n",
       "      <td>76561198316970597</td>\n",
       "      <td>0</td>\n",
       "      <td>76561198316970597</td>\n",
       "      <td>http://steamcommunity.com/profiles/76561198316970597</td>\n",
       "      <td>[]</td>\n",
       "    </tr>\n",
       "    <tr>\n",
       "      <th>87643</th>\n",
       "      <td>76561198318100691</td>\n",
       "      <td>0</td>\n",
       "      <td>76561198318100691</td>\n",
       "      <td>http://steamcommunity.com/profiles/76561198318100691</td>\n",
       "      <td>[]</td>\n",
       "    </tr>\n",
       "    <tr>\n",
       "      <th>87650</th>\n",
       "      <td>XxLaughingJackClown77xX</td>\n",
       "      <td>0</td>\n",
       "      <td>76561198328759259</td>\n",
       "      <td>http://steamcommunity.com/id/XxLaughingJackClown77xX</td>\n",
       "      <td>[]</td>\n",
       "    </tr>\n",
       "    <tr>\n",
       "      <th>87652</th>\n",
       "      <td>edward_tremethick</td>\n",
       "      <td>0</td>\n",
       "      <td>76561198331598578</td>\n",
       "      <td>http://steamcommunity.com/id/edward_tremethick</td>\n",
       "      <td>[]</td>\n",
       "    </tr>\n",
       "  </tbody>\n",
       "</table>\n",
       "<p>16714 rows × 5 columns</p>\n",
       "</div>"
      ],
      "text/plain": [
       "                       user_id  items_count           steam_id  \\\n",
       "9                       Wackky            0  76561198039117046   \n",
       "11           76561198079601835            0  76561198079601835   \n",
       "31                    hellom8o            0  76561198117222320   \n",
       "38         starkillershadow553            0  76561198059648579   \n",
       "54                  darkenkane            0  76561198058876001   \n",
       "...                        ...          ...                ...   \n",
       "87641        76561198316380182            0  76561198316380182   \n",
       "87642        76561198316970597            0  76561198316970597   \n",
       "87643        76561198318100691            0  76561198318100691   \n",
       "87650  XxLaughingJackClown77xX            0  76561198328759259   \n",
       "87652        edward_tremethick            0  76561198331598578   \n",
       "\n",
       "                                                   user_url items  \n",
       "9                       http://steamcommunity.com/id/Wackky    []  \n",
       "11     http://steamcommunity.com/profiles/76561198079601835    []  \n",
       "31                    http://steamcommunity.com/id/hellom8o    []  \n",
       "38         http://steamcommunity.com/id/starkillershadow553    []  \n",
       "54                  http://steamcommunity.com/id/darkenkane    []  \n",
       "...                                                     ...   ...  \n",
       "87641  http://steamcommunity.com/profiles/76561198316380182    []  \n",
       "87642  http://steamcommunity.com/profiles/76561198316970597    []  \n",
       "87643  http://steamcommunity.com/profiles/76561198318100691    []  \n",
       "87650  http://steamcommunity.com/id/XxLaughingJackClown77xX    []  \n",
       "87652        http://steamcommunity.com/id/edward_tremethick    []  \n",
       "\n",
       "[16714 rows x 5 columns]"
      ]
     },
     "execution_count": 79,
     "metadata": {},
     "output_type": "execute_result"
    }
   ],
   "source": [
    "users_items[users_items['items'] == '[]']"
   ]
  },
  {
   "cell_type": "markdown",
   "metadata": {},
   "source": [
    "Podemos observar que tenemos usuarios que no han consumido ningun item por lo que items_count es 0 e items posee '[]'. Eliminaremos estos usuarios del df principal pero guardaremos esta información en una tabla."
   ]
  },
  {
   "cell_type": "code",
   "execution_count": 80,
   "metadata": {},
   "outputs": [],
   "source": [
    "users_0items_count = users_items[users_items['items'] == '[]']"
   ]
  },
  {
   "cell_type": "code",
   "execution_count": 81,
   "metadata": {},
   "outputs": [],
   "source": [
    "users_items = users_items[users_items['items'] !='[]'].reset_index(drop=True)"
   ]
  },
  {
   "cell_type": "markdown",
   "metadata": {},
   "source": [
    "revisemos nuevamente los duplicados"
   ]
  },
  {
   "cell_type": "code",
   "execution_count": 82,
   "metadata": {},
   "outputs": [
    {
     "name": "stdout",
     "output_type": "stream",
     "text": [
      "Duplicados de  user_id :  53\n"
     ]
    },
    {
     "name": "stdout",
     "output_type": "stream",
     "text": [
      "Duplicados de  items_count :  70641\n",
      "Duplicados de  steam_id :  53\n",
      "Duplicados de  user_url :  53\n",
      "Duplicados de  items :  2143\n"
     ]
    }
   ],
   "source": [
    "duplicados_de(users_items)"
   ]
  },
  {
   "cell_type": "markdown",
   "metadata": {},
   "source": [
    "Tenemos 53 duplicados de los que nos ocuparemos en un análisis posterior. Los valores duplicados de items_count e items son esperados así que los mantendremos."
   ]
  },
  {
   "cell_type": "markdown",
   "metadata": {},
   "source": [
    "---------"
   ]
  },
  {
   "cell_type": "markdown",
   "metadata": {},
   "source": [
    "-----"
   ]
  },
  {
   "cell_type": "markdown",
   "metadata": {},
   "source": [
    "# steam_games"
   ]
  },
  {
   "cell_type": "markdown",
   "metadata": {},
   "source": [
    "Cargamos los datos del archivo steam_games.json.gz"
   ]
  },
  {
   "cell_type": "code",
   "execution_count": 83,
   "metadata": {},
   "outputs": [],
   "source": [
    "datos = []\n",
    "\n",
    "# Usamos with porque es una declaración de contexto en Python. \n",
    "# Se utiliza para asegurar que un recurso se abra y se cierre correctamente.\n",
    "# Usamos gzip para abrir y descomprimir el archivo games_ruta\n",
    "with gzip.open(\"data/raws/steam_games.json.gz\", 'rt', encoding='utf-8') as archivo_descomprimido:\n",
    "    for linea in archivo_descomprimido:\n",
    "        # Cargamos cada línea como un objeto JSON\n",
    "        obj_json = json.loads(linea)\n",
    "        # Los agregamos a la lista 'datos'\n",
    "        datos.append(obj_json)\n",
    "# creamos un df a partir de la lista 'datos'\n",
    "gamesRaw = pd.DataFrame(datos)"
   ]
  },
  {
   "cell_type": "markdown",
   "metadata": {},
   "source": [
    "Exploramos esos datos"
   ]
  },
  {
   "cell_type": "code",
   "execution_count": 84,
   "metadata": {},
   "outputs": [
    {
     "data": {
      "text/plain": [
       "Index(['publisher', 'genres', 'app_name', 'title', 'url', 'release_date',\n",
       "       'tags', 'reviews_url', 'discount_price', 'specs', 'price',\n",
       "       'early_access', 'id', 'metascore', 'developer', 'user_id', 'steam_id',\n",
       "       'items', 'items_count'],\n",
       "      dtype='object')"
      ]
     },
     "execution_count": 84,
     "metadata": {},
     "output_type": "execute_result"
    }
   ],
   "source": [
    "gamesRaw.columns"
   ]
  },
  {
   "cell_type": "code",
   "execution_count": 85,
   "metadata": {},
   "outputs": [
    {
     "name": "stdout",
     "output_type": "stream",
     "text": [
      "<class 'pandas.core.frame.DataFrame'>\n",
      "RangeIndex: 120445 entries, 0 to 120444\n",
      "Data columns (total 19 columns):\n",
      " #   Column          Non-Null Count  Dtype  \n",
      "---  ------          --------------  -----  \n",
      " 0   publisher       24083 non-null  object \n",
      " 1   genres          28852 non-null  object \n",
      " 2   app_name        32133 non-null  object \n",
      " 3   title           30085 non-null  object \n",
      " 4   url             32135 non-null  object \n",
      " 5   release_date    30068 non-null  object \n",
      " 6   tags            31972 non-null  object \n",
      " 7   reviews_url     32133 non-null  object \n",
      " 8   discount_price  225 non-null    float64\n",
      " 9   specs           31465 non-null  object \n",
      " 10  price           30758 non-null  object \n",
      " 11  early_access    32135 non-null  object \n",
      " 12  id              32133 non-null  object \n",
      " 13  metascore       2677 non-null   object \n",
      " 14  developer       28836 non-null  object \n",
      " 15  user_id         88310 non-null  object \n",
      " 16  steam_id        88310 non-null  object \n",
      " 17  items           88310 non-null  object \n",
      " 18  items_count     88310 non-null  float64\n",
      "dtypes: float64(2), object(17)\n",
      "memory usage: 17.5+ MB\n"
     ]
    }
   ],
   "source": [
    "gamesRaw.info()"
   ]
  },
  {
   "cell_type": "markdown",
   "metadata": {},
   "source": [
    "-----"
   ]
  },
  {
   "cell_type": "markdown",
   "metadata": {},
   "source": [
    "Vamos a revisar la cantidad de datos nulos"
   ]
  },
  {
   "cell_type": "code",
   "execution_count": 86,
   "metadata": {},
   "outputs": [
    {
     "data": {
      "text/plain": [
       "publisher          96362\n",
       "genres             91593\n",
       "app_name           88312\n",
       "title              90360\n",
       "url                88310\n",
       "release_date       90377\n",
       "tags               88473\n",
       "reviews_url        88312\n",
       "discount_price    120220\n",
       "specs              88980\n",
       "price              89687\n",
       "early_access       88310\n",
       "id                 88312\n",
       "metascore         117768\n",
       "developer          91609\n",
       "user_id            32135\n",
       "steam_id           32135\n",
       "items              32135\n",
       "items_count        32135\n",
       "dtype: int64"
      ]
     },
     "execution_count": 86,
     "metadata": {},
     "output_type": "execute_result"
    }
   ],
   "source": [
    "(\n",
    "    gamesRaw\n",
    "    .isna()\n",
    "    .sum()\n",
    ")"
   ]
  },
  {
   "cell_type": "markdown",
   "metadata": {},
   "source": [
    "Podemos notar que las las columnas 'user_id', 'steam_id','items' e 'items_count' poseen la misma cantidad de datos nulos."
   ]
  },
  {
   "cell_type": "markdown",
   "metadata": {},
   "source": [
    "veamos la cantidad de filas que poseen nulos en todas sus columnas"
   ]
  },
  {
   "cell_type": "code",
   "execution_count": 87,
   "metadata": {},
   "outputs": [
    {
     "name": "stdout",
     "output_type": "stream",
     "text": [
      "0 filas con todos sus valores nulos\n"
     ]
    }
   ],
   "source": [
    "cant_filas_solo_nulos = gamesRaw[gamesRaw.isna().all(axis=1)].shape[0]\n",
    "print (cant_filas_solo_nulos, 'filas con todos sus valores nulos')"
   ]
  },
  {
   "cell_type": "markdown",
   "metadata": {},
   "source": [
    "Revisaremos ahora las filas que no tienen valores nulos en user_id"
   ]
  },
  {
   "cell_type": "code",
   "execution_count": 88,
   "metadata": {},
   "outputs": [
    {
     "name": "stdout",
     "output_type": "stream",
     "text": [
      "<class 'pandas.core.frame.DataFrame'>\n",
      "Int64Index: 88310 entries, 0 to 88309\n",
      "Data columns (total 19 columns):\n",
      " #   Column          Non-Null Count  Dtype  \n",
      "---  ------          --------------  -----  \n",
      " 0   publisher       0 non-null      object \n",
      " 1   genres          0 non-null      object \n",
      " 2   app_name        0 non-null      object \n",
      " 3   title           0 non-null      object \n",
      " 4   url             0 non-null      object \n",
      " 5   release_date    0 non-null      object \n",
      " 6   tags            0 non-null      object \n",
      " 7   reviews_url     0 non-null      object \n",
      " 8   discount_price  0 non-null      float64\n",
      " 9   specs           0 non-null      object \n",
      " 10  price           0 non-null      object \n",
      " 11  early_access    0 non-null      object \n",
      " 12  id              0 non-null      object \n",
      " 13  metascore       0 non-null      object \n",
      " 14  developer       0 non-null      object \n",
      " 15  user_id         88310 non-null  object \n",
      " 16  steam_id        88310 non-null  object \n",
      " 17  items           88310 non-null  object \n",
      " 18  items_count     88310 non-null  float64\n",
      "dtypes: float64(2), object(17)\n",
      "memory usage: 13.5+ MB\n"
     ]
    }
   ],
   "source": [
    "gamesRaw[gamesRaw['user_id'].notna()].info()"
   ]
  },
  {
   "cell_type": "markdown",
   "metadata": {},
   "source": [
    "Podemos ver que todas las filas no contienen valores no nulos en user_id, poseen valores nulos en las primeras 15 columnas de la tabla. Por lo que entendemos que estamos en presencia de dos tablas independientes unidas."
   ]
  },
  {
   "cell_type": "markdown",
   "metadata": {},
   "source": [
    "-------"
   ]
  },
  {
   "cell_type": "markdown",
   "metadata": {},
   "source": [
    "Revisaremos si la tabla items obtenida del archivo 'users_items.json.gz' es la que se encuentrea anexada a stam_games"
   ]
  },
  {
   "cell_type": "code",
   "execution_count": 89,
   "metadata": {},
   "outputs": [
    {
     "data": {
      "text/plain": [
       "Index(['publisher', 'genres', 'app_name', 'title', 'url', 'release_date',\n",
       "       'tags', 'reviews_url', 'discount_price', 'specs', 'price',\n",
       "       'early_access', 'id', 'metascore', 'developer', 'user_id', 'steam_id',\n",
       "       'items', 'items_count'],\n",
       "      dtype='object')"
      ]
     },
     "execution_count": 89,
     "metadata": {},
     "output_type": "execute_result"
    }
   ],
   "source": [
    "gamesRaw.columns"
   ]
  },
  {
   "cell_type": "code",
   "execution_count": 90,
   "metadata": {},
   "outputs": [
    {
     "data": {
      "text/plain": [
       "Index(['user_id', 'items_count', 'steam_id', 'user_url', 'items'], dtype='object')"
      ]
     },
     "execution_count": 90,
     "metadata": {},
     "output_type": "execute_result"
    }
   ],
   "source": [
    "users_items.columns"
   ]
  },
  {
   "cell_type": "code",
   "execution_count": 91,
   "metadata": {},
   "outputs": [
    {
     "name": "stdout",
     "output_type": "stream",
     "text": [
      "users_items_raw = items_anexados_a_steam_games? False\n",
      "users_items_raw.user_id = items_anexados_a_steam_games.user_id? True\n",
      "users_items_raw.items_count = items_anexados_a_steam_games.items_count? False\n",
      "users_items_raw.steam_id = items_anexados_a_steam_games.steam_id? True\n",
      "users_items_raw.items = items_anexados_a_steam_games.items? False\n"
     ]
    }
   ],
   "source": [
    "items_anexados_a_steam_games = gamesRaw[['user_id','items_count','steam_id','items']]\n",
    "items_anexados_a_steam_games = items_anexados_a_steam_games.dropna()\n",
    "print('users_items_raw = items_anexados_a_steam_games?', users_items_raw.equals(items_anexados_a_steam_games))\n",
    "print('users_items_raw.user_id = items_anexados_a_steam_games.user_id?', users_items_raw.user_id.equals(items_anexados_a_steam_games.user_id))\n",
    "print('users_items_raw.items_count = items_anexados_a_steam_games.items_count?', users_items_raw.items_count.equals(items_anexados_a_steam_games.items_count))\n",
    "print('users_items_raw.steam_id = items_anexados_a_steam_games.steam_id?', users_items_raw.steam_id.equals(items_anexados_a_steam_games.steam_id))\n",
    "print('users_items_raw.items = items_anexados_a_steam_games.items?', users_items_raw['items'].equals(items_anexados_a_steam_games['items']))\n"
   ]
  },
  {
   "cell_type": "markdown",
   "metadata": {},
   "source": [
    "Las columnas items tienen valores nulos?"
   ]
  },
  {
   "cell_type": "code",
   "execution_count": 92,
   "metadata": {},
   "outputs": [
    {
     "name": "stdout",
     "output_type": "stream",
     "text": [
      "<class 'pandas.core.frame.DataFrame'>\n",
      "RangeIndex: 88310 entries, 0 to 88309\n",
      "Data columns (total 5 columns):\n",
      " #   Column       Non-Null Count  Dtype \n",
      "---  ------       --------------  ----- \n",
      " 0   user_id      88310 non-null  object\n",
      " 1   items_count  88310 non-null  int64 \n",
      " 2   steam_id     88310 non-null  object\n",
      " 3   user_url     88310 non-null  object\n",
      " 4   items        88310 non-null  object\n",
      "dtypes: int64(1), object(4)\n",
      "memory usage: 3.4+ MB\n"
     ]
    }
   ],
   "source": [
    "users_items_raw.info()"
   ]
  },
  {
   "cell_type": "code",
   "execution_count": 93,
   "metadata": {},
   "outputs": [
    {
     "name": "stdout",
     "output_type": "stream",
     "text": [
      "<class 'pandas.core.frame.DataFrame'>\n",
      "Int64Index: 88310 entries, 0 to 88309\n",
      "Data columns (total 4 columns):\n",
      " #   Column       Non-Null Count  Dtype  \n",
      "---  ------       --------------  -----  \n",
      " 0   user_id      88310 non-null  object \n",
      " 1   items_count  88310 non-null  float64\n",
      " 2   steam_id     88310 non-null  object \n",
      " 3   items        88310 non-null  object \n",
      "dtypes: float64(1), object(3)\n",
      "memory usage: 3.4+ MB\n"
     ]
    }
   ],
   "source": [
    "items_anexados_a_steam_games.info()"
   ]
  },
  {
   "cell_type": "markdown",
   "metadata": {},
   "source": [
    "No poseen valores nulos pero podemos notar que difieren en el tipo de dato."
   ]
  },
  {
   "cell_type": "code",
   "execution_count": 94,
   "metadata": {},
   "outputs": [
    {
     "name": "stdout",
     "output_type": "stream",
     "text": [
      "El tipo de la columna 'users_items.items_count' es  int64\n",
      "El tipo de la columna 'items_anexados_a_steam_games.items_count' es  float64\n"
     ]
    }
   ],
   "source": [
    "print(\"El tipo de la columna 'users_items.items_count' es \", users_items_raw.items_count.dtypes)\n",
    "print(\"El tipo de la columna 'items_anexados_a_steam_games.items_count' es \", items_anexados_a_steam_games.items_count.dtypes)"
   ]
  },
  {
   "cell_type": "markdown",
   "metadata": {},
   "source": [
    "Cambiaremos el tipo de 'items_anexados_a_steam_games.items_count' para hacer nuevamente la comparación."
   ]
  },
  {
   "cell_type": "code",
   "execution_count": 95,
   "metadata": {},
   "outputs": [
    {
     "name": "stdout",
     "output_type": "stream",
     "text": [
      "El tipo de la columna 'users_items_raw_comparacion.items_count' es  float64\n"
     ]
    }
   ],
   "source": [
    "users_items_raw_comparacion = users_items_raw\n",
    "users_items_raw_comparacion.items_count = users_items_raw.items_count.astype(\"float64\")\n",
    "print(\"El tipo de la columna 'users_items_raw_comparacion.items_count' es \", users_items_raw.items_count.dtypes)"
   ]
  },
  {
   "cell_type": "code",
   "execution_count": 96,
   "metadata": {},
   "outputs": [
    {
     "name": "stdout",
     "output_type": "stream",
     "text": [
      "users_items.items_count = items_anexados_a_steam_games.items_count? True\n"
     ]
    }
   ],
   "source": [
    "print('users_items.items_count = items_anexados_a_steam_games.items_count?', users_items_raw.items_count.equals(items_anexados_a_steam_games.items_count))"
   ]
  },
  {
   "cell_type": "markdown",
   "metadata": {},
   "source": [
    "Hemos confirmado que la tabla items es la que se encuentra anexada a games por lo que procederemos a eliminarla."
   ]
  },
  {
   "cell_type": "code",
   "execution_count": 97,
   "metadata": {},
   "outputs": [
    {
     "data": {
      "text/plain": [
       "Index(['publisher', 'genres', 'app_name', 'title', 'url', 'release_date',\n",
       "       'tags', 'reviews_url', 'discount_price', 'specs', 'price',\n",
       "       'early_access', 'id', 'metascore', 'developer', 'user_id', 'steam_id',\n",
       "       'items', 'items_count'],\n",
       "      dtype='object')"
      ]
     },
     "execution_count": 97,
     "metadata": {},
     "output_type": "execute_result"
    }
   ],
   "source": [
    "gamesRaw.columns"
   ]
  },
  {
   "cell_type": "markdown",
   "metadata": {},
   "source": [
    "----"
   ]
  },
  {
   "cell_type": "code",
   "execution_count": 98,
   "metadata": {},
   "outputs": [
    {
     "name": "stderr",
     "output_type": "stream",
     "text": [
      "C:\\Users\\Usuario\\AppData\\Local\\Temp\\ipykernel_6316\\1216846831.py:2: SettingWithCopyWarning: \n",
      "A value is trying to be set on a copy of a slice from a DataFrame\n",
      "\n",
      "See the caveats in the documentation: https://pandas.pydata.org/pandas-docs/stable/user_guide/indexing.html#returning-a-view-versus-a-copy\n",
      "  steam_games_df.drop(columns=['user_id', 'steam_id','items', 'items_count'], inplace=True)\n"
     ]
    },
    {
     "data": {
      "text/html": [
       "<div>\n",
       "<style scoped>\n",
       "    .dataframe tbody tr th:only-of-type {\n",
       "        vertical-align: middle;\n",
       "    }\n",
       "\n",
       "    .dataframe tbody tr th {\n",
       "        vertical-align: top;\n",
       "    }\n",
       "\n",
       "    .dataframe thead th {\n",
       "        text-align: right;\n",
       "    }\n",
       "</style>\n",
       "<table border=\"1\" class=\"dataframe\">\n",
       "  <thead>\n",
       "    <tr style=\"text-align: right;\">\n",
       "      <th></th>\n",
       "      <th>publisher</th>\n",
       "      <th>genres</th>\n",
       "      <th>app_name</th>\n",
       "      <th>title</th>\n",
       "      <th>url</th>\n",
       "      <th>release_date</th>\n",
       "      <th>tags</th>\n",
       "      <th>reviews_url</th>\n",
       "      <th>discount_price</th>\n",
       "      <th>specs</th>\n",
       "      <th>price</th>\n",
       "      <th>early_access</th>\n",
       "      <th>item_id</th>\n",
       "      <th>metascore</th>\n",
       "      <th>developer</th>\n",
       "    </tr>\n",
       "  </thead>\n",
       "  <tbody>\n",
       "    <tr>\n",
       "      <th>0</th>\n",
       "      <td>Kotoshiro</td>\n",
       "      <td>[Action, Casual, Indie, Simulation, Strategy]</td>\n",
       "      <td>Lost Summoner Kitty</td>\n",
       "      <td>Lost Summoner Kitty</td>\n",
       "      <td>http://store.steampowered.com/app/761140/Lost_Summoner_Kitty/</td>\n",
       "      <td>2018-01-04</td>\n",
       "      <td>[Strategy, Action, Indie, Casual, Simulation]</td>\n",
       "      <td>http://steamcommunity.com/app/761140/reviews/?browsefilter=mostrecent&amp;p=1</td>\n",
       "      <td>4.49</td>\n",
       "      <td>[Single-player]</td>\n",
       "      <td>4.99</td>\n",
       "      <td>False</td>\n",
       "      <td>761140</td>\n",
       "      <td>NaN</td>\n",
       "      <td>Kotoshiro</td>\n",
       "    </tr>\n",
       "    <tr>\n",
       "      <th>1</th>\n",
       "      <td>Making Fun, Inc.</td>\n",
       "      <td>[Free to Play, Indie, RPG, Strategy]</td>\n",
       "      <td>Ironbound</td>\n",
       "      <td>Ironbound</td>\n",
       "      <td>http://store.steampowered.com/app/643980/Ironbound/</td>\n",
       "      <td>2018-01-04</td>\n",
       "      <td>[Free to Play, Strategy, Indie, RPG, Card Game, Trading Card Game, Turn-Based, Fantasy, Tactical...</td>\n",
       "      <td>http://steamcommunity.com/app/643980/reviews/?browsefilter=mostrecent&amp;p=1</td>\n",
       "      <td>NaN</td>\n",
       "      <td>[Single-player, Multi-player, Online Multi-Player, Cross-Platform Multiplayer, Steam Achievement...</td>\n",
       "      <td>Free To Play</td>\n",
       "      <td>False</td>\n",
       "      <td>643980</td>\n",
       "      <td>NaN</td>\n",
       "      <td>Secret Level SRL</td>\n",
       "    </tr>\n",
       "  </tbody>\n",
       "</table>\n",
       "</div>"
      ],
      "text/plain": [
       "          publisher                                         genres  \\\n",
       "0         Kotoshiro  [Action, Casual, Indie, Simulation, Strategy]   \n",
       "1  Making Fun, Inc.           [Free to Play, Indie, RPG, Strategy]   \n",
       "\n",
       "              app_name                title  \\\n",
       "0  Lost Summoner Kitty  Lost Summoner Kitty   \n",
       "1            Ironbound            Ironbound   \n",
       "\n",
       "                                                             url release_date  \\\n",
       "0  http://store.steampowered.com/app/761140/Lost_Summoner_Kitty/   2018-01-04   \n",
       "1            http://store.steampowered.com/app/643980/Ironbound/   2018-01-04   \n",
       "\n",
       "                                                                                                  tags  \\\n",
       "0                                                        [Strategy, Action, Indie, Casual, Simulation]   \n",
       "1  [Free to Play, Strategy, Indie, RPG, Card Game, Trading Card Game, Turn-Based, Fantasy, Tactical...   \n",
       "\n",
       "                                                                 reviews_url  \\\n",
       "0  http://steamcommunity.com/app/761140/reviews/?browsefilter=mostrecent&p=1   \n",
       "1  http://steamcommunity.com/app/643980/reviews/?browsefilter=mostrecent&p=1   \n",
       "\n",
       "   discount_price  \\\n",
       "0            4.49   \n",
       "1             NaN   \n",
       "\n",
       "                                                                                                 specs  \\\n",
       "0                                                                                      [Single-player]   \n",
       "1  [Single-player, Multi-player, Online Multi-Player, Cross-Platform Multiplayer, Steam Achievement...   \n",
       "\n",
       "          price early_access item_id metascore         developer  \n",
       "0          4.99        False  761140       NaN         Kotoshiro  \n",
       "1  Free To Play        False  643980       NaN  Secret Level SRL  "
      ]
     },
     "execution_count": 98,
     "metadata": {},
     "output_type": "execute_result"
    }
   ],
   "source": [
    "steam_games_df = gamesRaw[~gamesRaw['user_id'].notna()] #  eliminamos las filas donde 'user_id' posee valores distintos de NaN\n",
    "steam_games_df.drop(columns=['user_id', 'steam_id','items', 'items_count'], inplace=True)\n",
    "steam_games_df = steam_games_df.rename(columns={'id':'item_id'})\n",
    "steam_games_df.reset_index(drop=True, inplace=True)\n",
    "steam_games_df.head(2)"
   ]
  },
  {
   "cell_type": "code",
   "execution_count": 99,
   "metadata": {},
   "outputs": [
    {
     "name": "stdout",
     "output_type": "stream",
     "text": [
      "<class 'pandas.core.frame.DataFrame'>\n",
      "RangeIndex: 32135 entries, 0 to 32134\n",
      "Data columns (total 15 columns):\n",
      " #   Column          Non-Null Count  Dtype  \n",
      "---  ------          --------------  -----  \n",
      " 0   publisher       24083 non-null  object \n",
      " 1   genres          28852 non-null  object \n",
      " 2   app_name        32133 non-null  object \n",
      " 3   title           30085 non-null  object \n",
      " 4   url             32135 non-null  object \n",
      " 5   release_date    30068 non-null  object \n",
      " 6   tags            31972 non-null  object \n",
      " 7   reviews_url     32133 non-null  object \n",
      " 8   discount_price  225 non-null    float64\n",
      " 9   specs           31465 non-null  object \n",
      " 10  price           30758 non-null  object \n",
      " 11  early_access    32135 non-null  object \n",
      " 12  item_id         32133 non-null  object \n",
      " 13  metascore       2677 non-null   object \n",
      " 14  developer       28836 non-null  object \n",
      "dtypes: float64(1), object(14)\n",
      "memory usage: 3.7+ MB\n"
     ]
    }
   ],
   "source": [
    "steam_games_df.info()"
   ]
  },
  {
   "cell_type": "code",
   "execution_count": 100,
   "metadata": {},
   "outputs": [
    {
     "data": {
      "text/plain": [
       "0.7331955099465312"
      ]
     },
     "execution_count": 100,
     "metadata": {},
     "output_type": "execute_result"
    }
   ],
   "source": [
    "(120444-32135) / 120444"
   ]
  },
  {
   "cell_type": "markdown",
   "metadata": {},
   "source": [
    "Al eliminar las columnas 'user_id', 'steam_id', 'items' y 'items_count', hemos reducido un 75% del dataframe games."
   ]
  },
  {
   "cell_type": "markdown",
   "metadata": {},
   "source": [
    "---------"
   ]
  },
  {
   "cell_type": "markdown",
   "metadata": {},
   "source": [
    "Analisis de los valores duplicados de steam_games_df"
   ]
  },
  {
   "cell_type": "code",
   "execution_count": 101,
   "metadata": {},
   "outputs": [],
   "source": [
    "# (\n",
    "#     steam_games_df\n",
    "#     .duplicated()\n",
    "#     .sum()\n",
    "# )"
   ]
  },
  {
   "cell_type": "code",
   "execution_count": 102,
   "metadata": {},
   "outputs": [
    {
     "data": {
      "text/plain": [
       "2"
      ]
     },
     "execution_count": 102,
     "metadata": {},
     "output_type": "execute_result"
    }
   ],
   "source": [
    "(\n",
    "    steam_games_df\n",
    "    .duplicated(subset='item_id')\n",
    "    .sum()\n",
    ")\n"
   ]
  },
  {
   "cell_type": "code",
   "execution_count": 103,
   "metadata": {},
   "outputs": [
    {
     "data": {
      "text/html": [
       "<div>\n",
       "<style scoped>\n",
       "    .dataframe tbody tr th:only-of-type {\n",
       "        vertical-align: middle;\n",
       "    }\n",
       "\n",
       "    .dataframe tbody tr th {\n",
       "        vertical-align: top;\n",
       "    }\n",
       "\n",
       "    .dataframe thead th {\n",
       "        text-align: right;\n",
       "    }\n",
       "</style>\n",
       "<table border=\"1\" class=\"dataframe\">\n",
       "  <thead>\n",
       "    <tr style=\"text-align: right;\">\n",
       "      <th></th>\n",
       "      <th>publisher</th>\n",
       "      <th>genres</th>\n",
       "      <th>app_name</th>\n",
       "      <th>title</th>\n",
       "      <th>url</th>\n",
       "      <th>release_date</th>\n",
       "      <th>tags</th>\n",
       "      <th>reviews_url</th>\n",
       "      <th>discount_price</th>\n",
       "      <th>specs</th>\n",
       "      <th>price</th>\n",
       "      <th>early_access</th>\n",
       "      <th>item_id</th>\n",
       "      <th>metascore</th>\n",
       "      <th>developer</th>\n",
       "    </tr>\n",
       "  </thead>\n",
       "  <tbody>\n",
       "    <tr>\n",
       "      <th>74</th>\n",
       "      <td>NaN</td>\n",
       "      <td>NaN</td>\n",
       "      <td>NaN</td>\n",
       "      <td>NaN</td>\n",
       "      <td>http://store.steampowered.com/</td>\n",
       "      <td>NaN</td>\n",
       "      <td>NaN</td>\n",
       "      <td>NaN</td>\n",
       "      <td>14.99</td>\n",
       "      <td>NaN</td>\n",
       "      <td>19.99</td>\n",
       "      <td>False</td>\n",
       "      <td>NaN</td>\n",
       "      <td>NaN</td>\n",
       "      <td>NaN</td>\n",
       "    </tr>\n",
       "    <tr>\n",
       "      <th>13894</th>\n",
       "      <td>Bethesda Softworks</td>\n",
       "      <td>[Action]</td>\n",
       "      <td>Wolfenstein II: The New Colossus</td>\n",
       "      <td>Wolfenstein II: The New Colossus</td>\n",
       "      <td>http://store.steampowered.com/app/612880/</td>\n",
       "      <td>2017-10-26</td>\n",
       "      <td>[Action, FPS, Gore, Violent, Alternate History, Singleplayer, First-Person, Shooter, Story Rich,...</td>\n",
       "      <td>http://steamcommunity.com/app/612880/reviews/?browsefilter=mostrecent&amp;p=1</td>\n",
       "      <td>NaN</td>\n",
       "      <td>[Single-player, Steam Achievements, Full controller support, Steam Cloud]</td>\n",
       "      <td>59.99</td>\n",
       "      <td>False</td>\n",
       "      <td>612880</td>\n",
       "      <td>86</td>\n",
       "      <td>Machine Games</td>\n",
       "    </tr>\n",
       "    <tr>\n",
       "      <th>14573</th>\n",
       "      <td>Bethesda Softworks</td>\n",
       "      <td>[Action]</td>\n",
       "      <td>Wolfenstein II: The New Colossus</td>\n",
       "      <td>Wolfenstein II: The New Colossus</td>\n",
       "      <td>http://store.steampowered.com/app/612880/Wolfenstein_II_The_New_Colossus/</td>\n",
       "      <td>2017-10-26</td>\n",
       "      <td>[Action, FPS, Gore, Violent, Alternate History, Singleplayer, First-Person, Shooter, Story Rich,...</td>\n",
       "      <td>http://steamcommunity.com/app/612880/reviews/?browsefilter=mostrecent&amp;p=1</td>\n",
       "      <td>NaN</td>\n",
       "      <td>[Single-player, Steam Achievements, Full controller support, Steam Cloud]</td>\n",
       "      <td>59.99</td>\n",
       "      <td>False</td>\n",
       "      <td>612880</td>\n",
       "      <td>86</td>\n",
       "      <td>Machine Games</td>\n",
       "    </tr>\n",
       "    <tr>\n",
       "      <th>30961</th>\n",
       "      <td>Warner Bros. Interactive Entertainment, Feral Interactive (Mac)</td>\n",
       "      <td>[Action, Adventure]</td>\n",
       "      <td>Batman: Arkham City - Game of the Year Edition</td>\n",
       "      <td>Batman: Arkham City - Game of the Year Edition</td>\n",
       "      <td>http://store.steampowered.com/app/200260</td>\n",
       "      <td>2012-09-07</td>\n",
       "      <td>[Action, Open World, Batman, Adventure, Stealth, Third Person, Superhero, Singleplayer, Beat 'em...</td>\n",
       "      <td>NaN</td>\n",
       "      <td>NaN</td>\n",
       "      <td>[Single-player, Steam Achievements, Steam Trading Cards, Partial Controller Support, Steam Cloud]</td>\n",
       "      <td>19.99</td>\n",
       "      <td>False</td>\n",
       "      <td>NaN</td>\n",
       "      <td>91</td>\n",
       "      <td>Rocksteady Studios,Feral Interactive (Mac)</td>\n",
       "    </tr>\n",
       "  </tbody>\n",
       "</table>\n",
       "</div>"
      ],
      "text/plain": [
       "                                                             publisher  \\\n",
       "74                                                                 NaN   \n",
       "13894                                               Bethesda Softworks   \n",
       "14573                                               Bethesda Softworks   \n",
       "30961  Warner Bros. Interactive Entertainment, Feral Interactive (Mac)   \n",
       "\n",
       "                    genres                                        app_name  \\\n",
       "74                     NaN                                             NaN   \n",
       "13894             [Action]                Wolfenstein II: The New Colossus   \n",
       "14573             [Action]                Wolfenstein II: The New Colossus   \n",
       "30961  [Action, Adventure]  Batman: Arkham City - Game of the Year Edition   \n",
       "\n",
       "                                                title  \\\n",
       "74                                                NaN   \n",
       "13894                Wolfenstein II: The New Colossus   \n",
       "14573                Wolfenstein II: The New Colossus   \n",
       "30961  Batman: Arkham City - Game of the Year Edition   \n",
       "\n",
       "                                                                             url  \\\n",
       "74                                                http://store.steampowered.com/   \n",
       "13894                                  http://store.steampowered.com/app/612880/   \n",
       "14573  http://store.steampowered.com/app/612880/Wolfenstein_II_The_New_Colossus/   \n",
       "30961                                   http://store.steampowered.com/app/200260   \n",
       "\n",
       "      release_date  \\\n",
       "74             NaN   \n",
       "13894   2017-10-26   \n",
       "14573   2017-10-26   \n",
       "30961   2012-09-07   \n",
       "\n",
       "                                                                                                      tags  \\\n",
       "74                                                                                                     NaN   \n",
       "13894  [Action, FPS, Gore, Violent, Alternate History, Singleplayer, First-Person, Shooter, Story Rich,...   \n",
       "14573  [Action, FPS, Gore, Violent, Alternate History, Singleplayer, First-Person, Shooter, Story Rich,...   \n",
       "30961  [Action, Open World, Batman, Adventure, Stealth, Third Person, Superhero, Singleplayer, Beat 'em...   \n",
       "\n",
       "                                                                     reviews_url  \\\n",
       "74                                                                           NaN   \n",
       "13894  http://steamcommunity.com/app/612880/reviews/?browsefilter=mostrecent&p=1   \n",
       "14573  http://steamcommunity.com/app/612880/reviews/?browsefilter=mostrecent&p=1   \n",
       "30961                                                                        NaN   \n",
       "\n",
       "       discount_price  \\\n",
       "74              14.99   \n",
       "13894             NaN   \n",
       "14573             NaN   \n",
       "30961             NaN   \n",
       "\n",
       "                                                                                                   specs  \\\n",
       "74                                                                                                   NaN   \n",
       "13894                          [Single-player, Steam Achievements, Full controller support, Steam Cloud]   \n",
       "14573                          [Single-player, Steam Achievements, Full controller support, Steam Cloud]   \n",
       "30961  [Single-player, Steam Achievements, Steam Trading Cards, Partial Controller Support, Steam Cloud]   \n",
       "\n",
       "       price early_access item_id metascore  \\\n",
       "74     19.99        False     NaN       NaN   \n",
       "13894  59.99        False  612880        86   \n",
       "14573  59.99        False  612880        86   \n",
       "30961  19.99        False     NaN        91   \n",
       "\n",
       "                                        developer  \n",
       "74                                            NaN  \n",
       "13894                               Machine Games  \n",
       "14573                               Machine Games  \n",
       "30961  Rocksteady Studios,Feral Interactive (Mac)  "
      ]
     },
     "execution_count": 103,
     "metadata": {},
     "output_type": "execute_result"
    }
   ],
   "source": [
    "steam_games_df[steam_games_df.duplicated(subset='item_id',keep=False)]"
   ]
  },
  {
   "cell_type": "code",
   "execution_count": 104,
   "metadata": {},
   "outputs": [],
   "source": [
    "# steam_games_df = steam_games_df.dropna(subset='item_id') esta mas abajo,"
   ]
  },
  {
   "cell_type": "code",
   "execution_count": 105,
   "metadata": {},
   "outputs": [
    {
     "name": "stdout",
     "output_type": "stream",
     "text": [
      "Columnas en las que difieren las filas:\n",
      "['url', 'discount_price']\n"
     ]
    }
   ],
   "source": [
    "fila1 = steam_games_df.loc[13894]\n",
    "fila2 = steam_games_df.loc[14573]\n",
    "\n",
    "columnas_diferentes = fila1 != fila2 # me devuelve true/false \n",
    "columnas_diferentes = columnas_diferentes[columnas_diferentes] # filtra las columnas que son true\n",
    "\n",
    "print(\"Columnas en las que difieren las filas:\")\n",
    "print(columnas_diferentes.index.tolist()) # Hace una lista con los nombres de las columnas diferentes"
   ]
  },
  {
   "cell_type": "code",
   "execution_count": 106,
   "metadata": {},
   "outputs": [
    {
     "name": "stdout",
     "output_type": "stream",
     "text": [
      "nan\n",
      "nan\n"
     ]
    }
   ],
   "source": [
    "print (steam_games_df.at[13894,'discount_price'])\n",
    "print (steam_games_df.at[14573,'discount_price'])"
   ]
  },
  {
   "cell_type": "code",
   "execution_count": 107,
   "metadata": {},
   "outputs": [
    {
     "name": "stdout",
     "output_type": "stream",
     "text": [
      "http://store.steampowered.com/app/612880/\n",
      "http://store.steampowered.com/app/612880/Wolfenstein_II_The_New_Colossus/\n"
     ]
    }
   ],
   "source": [
    "print (steam_games_df.at[13894,'url'])\n",
    "print (steam_games_df.at[14573,'url'])"
   ]
  },
  {
   "cell_type": "markdown",
   "metadata": {},
   "source": [
    "Hemos probado ambos links y llevan al mismo sitio por lo que solo dejaremos un registro"
   ]
  },
  {
   "cell_type": "code",
   "execution_count": 108,
   "metadata": {},
   "outputs": [],
   "source": [
    "steam_games_df = steam_games_df.drop([74,14573])"
   ]
  },
  {
   "cell_type": "markdown",
   "metadata": {},
   "source": [
    "Observando la tabla podemos deducir que el id del juego se encuentra en la url por lo que se completará con el id 200260 el valor faltante en la fila 30961"
   ]
  },
  {
   "cell_type": "code",
   "execution_count": 109,
   "metadata": {},
   "outputs": [],
   "source": [
    "steam_games_df.at[30961,'item_id'] = 30961"
   ]
  },
  {
   "cell_type": "code",
   "execution_count": 110,
   "metadata": {},
   "outputs": [],
   "source": [
    "steam_games_df = steam_games_df.reset_index(drop=True)\n"
   ]
  },
  {
   "cell_type": "code",
   "execution_count": 111,
   "metadata": {},
   "outputs": [
    {
     "data": {
      "text/html": [
       "<div>\n",
       "<style scoped>\n",
       "    .dataframe tbody tr th:only-of-type {\n",
       "        vertical-align: middle;\n",
       "    }\n",
       "\n",
       "    .dataframe tbody tr th {\n",
       "        vertical-align: top;\n",
       "    }\n",
       "\n",
       "    .dataframe thead th {\n",
       "        text-align: right;\n",
       "    }\n",
       "</style>\n",
       "<table border=\"1\" class=\"dataframe\">\n",
       "  <thead>\n",
       "    <tr style=\"text-align: right;\">\n",
       "      <th></th>\n",
       "      <th>publisher</th>\n",
       "      <th>genres</th>\n",
       "      <th>app_name</th>\n",
       "      <th>title</th>\n",
       "      <th>url</th>\n",
       "      <th>release_date</th>\n",
       "      <th>tags</th>\n",
       "      <th>reviews_url</th>\n",
       "      <th>discount_price</th>\n",
       "      <th>specs</th>\n",
       "      <th>price</th>\n",
       "      <th>early_access</th>\n",
       "      <th>item_id</th>\n",
       "      <th>metascore</th>\n",
       "      <th>developer</th>\n",
       "    </tr>\n",
       "  </thead>\n",
       "  <tbody>\n",
       "    <tr>\n",
       "      <th>0</th>\n",
       "      <td>Kotoshiro</td>\n",
       "      <td>[Action, Casual, Indie, Simulation, Strategy]</td>\n",
       "      <td>Lost Summoner Kitty</td>\n",
       "      <td>Lost Summoner Kitty</td>\n",
       "      <td>http://store.steampowered.com/app/761140/Lost_Summoner_Kitty/</td>\n",
       "      <td>2018-01-04</td>\n",
       "      <td>[Strategy, Action, Indie, Casual, Simulation]</td>\n",
       "      <td>http://steamcommunity.com/app/761140/reviews/?browsefilter=mostrecent&amp;p=1</td>\n",
       "      <td>4.49</td>\n",
       "      <td>[Single-player]</td>\n",
       "      <td>4.99</td>\n",
       "      <td>False</td>\n",
       "      <td>761140</td>\n",
       "      <td>NaN</td>\n",
       "      <td>Kotoshiro</td>\n",
       "    </tr>\n",
       "    <tr>\n",
       "      <th>1</th>\n",
       "      <td>Making Fun, Inc.</td>\n",
       "      <td>[Free to Play, Indie, RPG, Strategy]</td>\n",
       "      <td>Ironbound</td>\n",
       "      <td>Ironbound</td>\n",
       "      <td>http://store.steampowered.com/app/643980/Ironbound/</td>\n",
       "      <td>2018-01-04</td>\n",
       "      <td>[Free to Play, Strategy, Indie, RPG, Card Game, Trading Card Game, Turn-Based, Fantasy, Tactical...</td>\n",
       "      <td>http://steamcommunity.com/app/643980/reviews/?browsefilter=mostrecent&amp;p=1</td>\n",
       "      <td>NaN</td>\n",
       "      <td>[Single-player, Multi-player, Online Multi-Player, Cross-Platform Multiplayer, Steam Achievement...</td>\n",
       "      <td>Free To Play</td>\n",
       "      <td>False</td>\n",
       "      <td>643980</td>\n",
       "      <td>NaN</td>\n",
       "      <td>Secret Level SRL</td>\n",
       "    </tr>\n",
       "    <tr>\n",
       "      <th>2</th>\n",
       "      <td>Poolians.com</td>\n",
       "      <td>[Casual, Free to Play, Indie, Simulation, Sports]</td>\n",
       "      <td>Real Pool 3D - Poolians</td>\n",
       "      <td>Real Pool 3D - Poolians</td>\n",
       "      <td>http://store.steampowered.com/app/670290/Real_Pool_3D__Poolians/</td>\n",
       "      <td>2017-07-24</td>\n",
       "      <td>[Free to Play, Simulation, Sports, Casual, Indie, Multiplayer]</td>\n",
       "      <td>http://steamcommunity.com/app/670290/reviews/?browsefilter=mostrecent&amp;p=1</td>\n",
       "      <td>NaN</td>\n",
       "      <td>[Single-player, Multi-player, Online Multi-Player, In-App Purchases, Stats]</td>\n",
       "      <td>Free to Play</td>\n",
       "      <td>False</td>\n",
       "      <td>670290</td>\n",
       "      <td>NaN</td>\n",
       "      <td>Poolians.com</td>\n",
       "    </tr>\n",
       "    <tr>\n",
       "      <th>3</th>\n",
       "      <td>彼岸领域</td>\n",
       "      <td>[Action, Adventure, Casual]</td>\n",
       "      <td>弹炸人2222</td>\n",
       "      <td>弹炸人2222</td>\n",
       "      <td>http://store.steampowered.com/app/767400/2222/</td>\n",
       "      <td>2017-12-07</td>\n",
       "      <td>[Action, Adventure, Casual]</td>\n",
       "      <td>http://steamcommunity.com/app/767400/reviews/?browsefilter=mostrecent&amp;p=1</td>\n",
       "      <td>0.83</td>\n",
       "      <td>[Single-player]</td>\n",
       "      <td>0.99</td>\n",
       "      <td>False</td>\n",
       "      <td>767400</td>\n",
       "      <td>NaN</td>\n",
       "      <td>彼岸领域</td>\n",
       "    </tr>\n",
       "    <tr>\n",
       "      <th>4</th>\n",
       "      <td>NaN</td>\n",
       "      <td>NaN</td>\n",
       "      <td>Log Challenge</td>\n",
       "      <td>NaN</td>\n",
       "      <td>http://store.steampowered.com/app/773570/Log_Challenge/</td>\n",
       "      <td>NaN</td>\n",
       "      <td>[Action, Indie, Casual, Sports]</td>\n",
       "      <td>http://steamcommunity.com/app/773570/reviews/?browsefilter=mostrecent&amp;p=1</td>\n",
       "      <td>1.79</td>\n",
       "      <td>[Single-player, Full controller support, HTC Vive, Oculus Rift, Tracked Motion Controllers, Room...</td>\n",
       "      <td>2.99</td>\n",
       "      <td>False</td>\n",
       "      <td>773570</td>\n",
       "      <td>NaN</td>\n",
       "      <td>NaN</td>\n",
       "    </tr>\n",
       "    <tr>\n",
       "      <th>...</th>\n",
       "      <td>...</td>\n",
       "      <td>...</td>\n",
       "      <td>...</td>\n",
       "      <td>...</td>\n",
       "      <td>...</td>\n",
       "      <td>...</td>\n",
       "      <td>...</td>\n",
       "      <td>...</td>\n",
       "      <td>...</td>\n",
       "      <td>...</td>\n",
       "      <td>...</td>\n",
       "      <td>...</td>\n",
       "      <td>...</td>\n",
       "      <td>...</td>\n",
       "      <td>...</td>\n",
       "    </tr>\n",
       "    <tr>\n",
       "      <th>32128</th>\n",
       "      <td>Ghost_RUS Games</td>\n",
       "      <td>[Casual, Indie, Simulation, Strategy]</td>\n",
       "      <td>Colony On Mars</td>\n",
       "      <td>Colony On Mars</td>\n",
       "      <td>http://store.steampowered.com/app/773640/Colony_On_Mars/</td>\n",
       "      <td>2018-01-04</td>\n",
       "      <td>[Strategy, Indie, Casual, Simulation]</td>\n",
       "      <td>http://steamcommunity.com/app/773640/reviews/?browsefilter=mostrecent&amp;p=1</td>\n",
       "      <td>1.49</td>\n",
       "      <td>[Single-player, Steam Achievements]</td>\n",
       "      <td>1.99</td>\n",
       "      <td>False</td>\n",
       "      <td>773640</td>\n",
       "      <td>NaN</td>\n",
       "      <td>Nikita \"Ghost_RUS\"</td>\n",
       "    </tr>\n",
       "    <tr>\n",
       "      <th>32129</th>\n",
       "      <td>Sacada</td>\n",
       "      <td>[Casual, Indie, Strategy]</td>\n",
       "      <td>LOGistICAL: South Africa</td>\n",
       "      <td>LOGistICAL: South Africa</td>\n",
       "      <td>http://store.steampowered.com/app/733530/LOGistICAL_South_Africa/</td>\n",
       "      <td>2018-01-04</td>\n",
       "      <td>[Strategy, Indie, Casual]</td>\n",
       "      <td>http://steamcommunity.com/app/733530/reviews/?browsefilter=mostrecent&amp;p=1</td>\n",
       "      <td>4.24</td>\n",
       "      <td>[Single-player, Steam Achievements, Steam Cloud, Stats, Steam Leaderboards]</td>\n",
       "      <td>4.99</td>\n",
       "      <td>False</td>\n",
       "      <td>733530</td>\n",
       "      <td>NaN</td>\n",
       "      <td>Sacada</td>\n",
       "    </tr>\n",
       "    <tr>\n",
       "      <th>32130</th>\n",
       "      <td>Laush Studio</td>\n",
       "      <td>[Indie, Racing, Simulation]</td>\n",
       "      <td>Russian Roads</td>\n",
       "      <td>Russian Roads</td>\n",
       "      <td>http://store.steampowered.com/app/610660/Russian_Roads/</td>\n",
       "      <td>2018-01-04</td>\n",
       "      <td>[Indie, Simulation, Racing]</td>\n",
       "      <td>http://steamcommunity.com/app/610660/reviews/?browsefilter=mostrecent&amp;p=1</td>\n",
       "      <td>1.39</td>\n",
       "      <td>[Single-player, Steam Achievements, Steam Trading Cards]</td>\n",
       "      <td>1.99</td>\n",
       "      <td>False</td>\n",
       "      <td>610660</td>\n",
       "      <td>NaN</td>\n",
       "      <td>Laush Dmitriy Sergeevich</td>\n",
       "    </tr>\n",
       "    <tr>\n",
       "      <th>32131</th>\n",
       "      <td>SIXNAILS</td>\n",
       "      <td>[Casual, Indie]</td>\n",
       "      <td>EXIT 2 - Directions</td>\n",
       "      <td>EXIT 2 - Directions</td>\n",
       "      <td>http://store.steampowered.com/app/658870/EXIT_2__Directions/</td>\n",
       "      <td>2017-09-02</td>\n",
       "      <td>[Indie, Casual, Puzzle, Singleplayer, Atmospheric, Relaxing]</td>\n",
       "      <td>http://steamcommunity.com/app/658870/reviews/?browsefilter=mostrecent&amp;p=1</td>\n",
       "      <td>NaN</td>\n",
       "      <td>[Single-player, Steam Achievements, Steam Cloud]</td>\n",
       "      <td>4.99</td>\n",
       "      <td>False</td>\n",
       "      <td>658870</td>\n",
       "      <td>NaN</td>\n",
       "      <td>xropi,stev3ns</td>\n",
       "    </tr>\n",
       "    <tr>\n",
       "      <th>32132</th>\n",
       "      <td>NaN</td>\n",
       "      <td>NaN</td>\n",
       "      <td>Maze Run VR</td>\n",
       "      <td>NaN</td>\n",
       "      <td>http://store.steampowered.com/app/681550/Maze_Run_VR/</td>\n",
       "      <td>NaN</td>\n",
       "      <td>[Early Access, Adventure, Indie, Action, Simulation, VR]</td>\n",
       "      <td>http://steamcommunity.com/app/681550/reviews/?browsefilter=mostrecent&amp;p=1</td>\n",
       "      <td>NaN</td>\n",
       "      <td>[Single-player, Stats, Steam Leaderboards, HTC Vive, Oculus Rift, Tracked Motion Controllers, St...</td>\n",
       "      <td>4.99</td>\n",
       "      <td>True</td>\n",
       "      <td>681550</td>\n",
       "      <td>NaN</td>\n",
       "      <td>NaN</td>\n",
       "    </tr>\n",
       "  </tbody>\n",
       "</table>\n",
       "<p>32133 rows × 15 columns</p>\n",
       "</div>"
      ],
      "text/plain": [
       "              publisher                                             genres  \\\n",
       "0             Kotoshiro      [Action, Casual, Indie, Simulation, Strategy]   \n",
       "1      Making Fun, Inc.               [Free to Play, Indie, RPG, Strategy]   \n",
       "2          Poolians.com  [Casual, Free to Play, Indie, Simulation, Sports]   \n",
       "3                  彼岸领域                        [Action, Adventure, Casual]   \n",
       "4                   NaN                                                NaN   \n",
       "...                 ...                                                ...   \n",
       "32128   Ghost_RUS Games              [Casual, Indie, Simulation, Strategy]   \n",
       "32129            Sacada                          [Casual, Indie, Strategy]   \n",
       "32130      Laush Studio                        [Indie, Racing, Simulation]   \n",
       "32131          SIXNAILS                                    [Casual, Indie]   \n",
       "32132               NaN                                                NaN   \n",
       "\n",
       "                       app_name                     title  \\\n",
       "0           Lost Summoner Kitty       Lost Summoner Kitty   \n",
       "1                     Ironbound                 Ironbound   \n",
       "2       Real Pool 3D - Poolians   Real Pool 3D - Poolians   \n",
       "3                       弹炸人2222                   弹炸人2222   \n",
       "4                 Log Challenge                       NaN   \n",
       "...                         ...                       ...   \n",
       "32128            Colony On Mars            Colony On Mars   \n",
       "32129  LOGistICAL: South Africa  LOGistICAL: South Africa   \n",
       "32130             Russian Roads             Russian Roads   \n",
       "32131       EXIT 2 - Directions       EXIT 2 - Directions   \n",
       "32132               Maze Run VR                       NaN   \n",
       "\n",
       "                                                                     url  \\\n",
       "0          http://store.steampowered.com/app/761140/Lost_Summoner_Kitty/   \n",
       "1                    http://store.steampowered.com/app/643980/Ironbound/   \n",
       "2       http://store.steampowered.com/app/670290/Real_Pool_3D__Poolians/   \n",
       "3                         http://store.steampowered.com/app/767400/2222/   \n",
       "4                http://store.steampowered.com/app/773570/Log_Challenge/   \n",
       "...                                                                  ...   \n",
       "32128           http://store.steampowered.com/app/773640/Colony_On_Mars/   \n",
       "32129  http://store.steampowered.com/app/733530/LOGistICAL_South_Africa/   \n",
       "32130            http://store.steampowered.com/app/610660/Russian_Roads/   \n",
       "32131       http://store.steampowered.com/app/658870/EXIT_2__Directions/   \n",
       "32132              http://store.steampowered.com/app/681550/Maze_Run_VR/   \n",
       "\n",
       "      release_date  \\\n",
       "0       2018-01-04   \n",
       "1       2018-01-04   \n",
       "2       2017-07-24   \n",
       "3       2017-12-07   \n",
       "4              NaN   \n",
       "...            ...   \n",
       "32128   2018-01-04   \n",
       "32129   2018-01-04   \n",
       "32130   2018-01-04   \n",
       "32131   2017-09-02   \n",
       "32132          NaN   \n",
       "\n",
       "                                                                                                      tags  \\\n",
       "0                                                            [Strategy, Action, Indie, Casual, Simulation]   \n",
       "1      [Free to Play, Strategy, Indie, RPG, Card Game, Trading Card Game, Turn-Based, Fantasy, Tactical...   \n",
       "2                                           [Free to Play, Simulation, Sports, Casual, Indie, Multiplayer]   \n",
       "3                                                                              [Action, Adventure, Casual]   \n",
       "4                                                                          [Action, Indie, Casual, Sports]   \n",
       "...                                                                                                    ...   \n",
       "32128                                                                [Strategy, Indie, Casual, Simulation]   \n",
       "32129                                                                            [Strategy, Indie, Casual]   \n",
       "32130                                                                          [Indie, Simulation, Racing]   \n",
       "32131                                         [Indie, Casual, Puzzle, Singleplayer, Atmospheric, Relaxing]   \n",
       "32132                                             [Early Access, Adventure, Indie, Action, Simulation, VR]   \n",
       "\n",
       "                                                                     reviews_url  \\\n",
       "0      http://steamcommunity.com/app/761140/reviews/?browsefilter=mostrecent&p=1   \n",
       "1      http://steamcommunity.com/app/643980/reviews/?browsefilter=mostrecent&p=1   \n",
       "2      http://steamcommunity.com/app/670290/reviews/?browsefilter=mostrecent&p=1   \n",
       "3      http://steamcommunity.com/app/767400/reviews/?browsefilter=mostrecent&p=1   \n",
       "4      http://steamcommunity.com/app/773570/reviews/?browsefilter=mostrecent&p=1   \n",
       "...                                                                          ...   \n",
       "32128  http://steamcommunity.com/app/773640/reviews/?browsefilter=mostrecent&p=1   \n",
       "32129  http://steamcommunity.com/app/733530/reviews/?browsefilter=mostrecent&p=1   \n",
       "32130  http://steamcommunity.com/app/610660/reviews/?browsefilter=mostrecent&p=1   \n",
       "32131  http://steamcommunity.com/app/658870/reviews/?browsefilter=mostrecent&p=1   \n",
       "32132  http://steamcommunity.com/app/681550/reviews/?browsefilter=mostrecent&p=1   \n",
       "\n",
       "       discount_price  \\\n",
       "0                4.49   \n",
       "1                 NaN   \n",
       "2                 NaN   \n",
       "3                0.83   \n",
       "4                1.79   \n",
       "...               ...   \n",
       "32128            1.49   \n",
       "32129            4.24   \n",
       "32130            1.39   \n",
       "32131             NaN   \n",
       "32132             NaN   \n",
       "\n",
       "                                                                                                     specs  \\\n",
       "0                                                                                          [Single-player]   \n",
       "1      [Single-player, Multi-player, Online Multi-Player, Cross-Platform Multiplayer, Steam Achievement...   \n",
       "2                              [Single-player, Multi-player, Online Multi-Player, In-App Purchases, Stats]   \n",
       "3                                                                                          [Single-player]   \n",
       "4      [Single-player, Full controller support, HTC Vive, Oculus Rift, Tracked Motion Controllers, Room...   \n",
       "...                                                                                                    ...   \n",
       "32128                                                                  [Single-player, Steam Achievements]   \n",
       "32129                          [Single-player, Steam Achievements, Steam Cloud, Stats, Steam Leaderboards]   \n",
       "32130                                             [Single-player, Steam Achievements, Steam Trading Cards]   \n",
       "32131                                                     [Single-player, Steam Achievements, Steam Cloud]   \n",
       "32132  [Single-player, Stats, Steam Leaderboards, HTC Vive, Oculus Rift, Tracked Motion Controllers, St...   \n",
       "\n",
       "              price early_access item_id metascore                 developer  \n",
       "0              4.99        False  761140       NaN                 Kotoshiro  \n",
       "1      Free To Play        False  643980       NaN          Secret Level SRL  \n",
       "2      Free to Play        False  670290       NaN              Poolians.com  \n",
       "3              0.99        False  767400       NaN                      彼岸领域  \n",
       "4              2.99        False  773570       NaN                       NaN  \n",
       "...             ...          ...     ...       ...                       ...  \n",
       "32128          1.99        False  773640       NaN        Nikita \"Ghost_RUS\"  \n",
       "32129          4.99        False  733530       NaN                    Sacada  \n",
       "32130          1.99        False  610660       NaN  Laush Dmitriy Sergeevich  \n",
       "32131          4.99        False  658870       NaN             xropi,stev3ns  \n",
       "32132          4.99         True  681550       NaN                       NaN  \n",
       "\n",
       "[32133 rows x 15 columns]"
      ]
     },
     "execution_count": 111,
     "metadata": {},
     "output_type": "execute_result"
    }
   ],
   "source": [
    "steam_games_df"
   ]
  },
  {
   "cell_type": "markdown",
   "metadata": {},
   "source": [
    "-------"
   ]
  },
  {
   "cell_type": "markdown",
   "metadata": {},
   "source": [
    "Análisis de valores nulos de steam_games_df sin las columnas anexadas."
   ]
  },
  {
   "cell_type": "code",
   "execution_count": 112,
   "metadata": {},
   "outputs": [
    {
     "data": {
      "text/plain": [
       "publisher          8051\n",
       "genres             3282\n",
       "app_name              1\n",
       "title              2049\n",
       "url                   0\n",
       "release_date       2066\n",
       "tags                162\n",
       "reviews_url           1\n",
       "discount_price    31909\n",
       "specs               669\n",
       "price              1377\n",
       "early_access          0\n",
       "item_id               0\n",
       "metascore         29457\n",
       "developer          3298\n",
       "dtype: int64"
      ]
     },
     "execution_count": 112,
     "metadata": {},
     "output_type": "execute_result"
    }
   ],
   "source": [
    "(\n",
    "    steam_games_df\n",
    "    .isnull()\n",
    "    .sum()\n",
    ")"
   ]
  },
  {
   "cell_type": "code",
   "execution_count": 113,
   "metadata": {},
   "outputs": [
    {
     "data": {
      "text/html": [
       "<div>\n",
       "<style scoped>\n",
       "    .dataframe tbody tr th:only-of-type {\n",
       "        vertical-align: middle;\n",
       "    }\n",
       "\n",
       "    .dataframe tbody tr th {\n",
       "        vertical-align: top;\n",
       "    }\n",
       "\n",
       "    .dataframe thead th {\n",
       "        text-align: right;\n",
       "    }\n",
       "</style>\n",
       "<table border=\"1\" class=\"dataframe\">\n",
       "  <thead>\n",
       "    <tr style=\"text-align: right;\">\n",
       "      <th></th>\n",
       "      <th>publisher</th>\n",
       "      <th>genres</th>\n",
       "      <th>app_name</th>\n",
       "      <th>title</th>\n",
       "      <th>url</th>\n",
       "      <th>release_date</th>\n",
       "      <th>tags</th>\n",
       "      <th>reviews_url</th>\n",
       "      <th>discount_price</th>\n",
       "      <th>specs</th>\n",
       "      <th>price</th>\n",
       "      <th>early_access</th>\n",
       "      <th>item_id</th>\n",
       "      <th>metascore</th>\n",
       "      <th>developer</th>\n",
       "    </tr>\n",
       "  </thead>\n",
       "  <tbody>\n",
       "  </tbody>\n",
       "</table>\n",
       "</div>"
      ],
      "text/plain": [
       "Empty DataFrame\n",
       "Columns: [publisher, genres, app_name, title, url, release_date, tags, reviews_url, discount_price, specs, price, early_access, item_id, metascore, developer]\n",
       "Index: []"
      ]
     },
     "execution_count": 113,
     "metadata": {},
     "output_type": "execute_result"
    }
   ],
   "source": [
    "steam_games_df[steam_games_df.item_id.isna()]"
   ]
  },
  {
   "cell_type": "markdown",
   "metadata": {},
   "source": [
    "Eliminaresmos este registro ya que la mayoría de sus valores son nulos."
   ]
  },
  {
   "cell_type": "code",
   "execution_count": 114,
   "metadata": {},
   "outputs": [],
   "source": [
    "steam_games_df = steam_games_df.dropna(subset='item_id')"
   ]
  },
  {
   "cell_type": "markdown",
   "metadata": {},
   "source": [
    "Mas adelante, en la creación de tablas para los endpoint se tomaran decisiones pertinentes sobres los valores nulos que presenta este df en las restantes columnas."
   ]
  },
  {
   "cell_type": "code",
   "execution_count": 115,
   "metadata": {},
   "outputs": [
    {
     "name": "stdout",
     "output_type": "stream",
     "text": [
      "<class 'pandas.core.frame.DataFrame'>\n",
      "RangeIndex: 32133 entries, 0 to 32132\n",
      "Data columns (total 15 columns):\n",
      " #   Column          Non-Null Count  Dtype  \n",
      "---  ------          --------------  -----  \n",
      " 0   publisher       24082 non-null  object \n",
      " 1   genres          28851 non-null  object \n",
      " 2   app_name        32132 non-null  object \n",
      " 3   title           30084 non-null  object \n",
      " 4   url             32133 non-null  object \n",
      " 5   release_date    30067 non-null  object \n",
      " 6   tags            31971 non-null  object \n",
      " 7   reviews_url     32132 non-null  object \n",
      " 8   discount_price  224 non-null    float64\n",
      " 9   specs           31464 non-null  object \n",
      " 10  price           30756 non-null  object \n",
      " 11  early_access    32133 non-null  object \n",
      " 12  item_id         32133 non-null  object \n",
      " 13  metascore       2676 non-null   object \n",
      " 14  developer       28835 non-null  object \n",
      "dtypes: float64(1), object(14)\n",
      "memory usage: 3.7+ MB\n"
     ]
    }
   ],
   "source": [
    "steam_games_df.info()"
   ]
  },
  {
   "cell_type": "code",
   "execution_count": 116,
   "metadata": {},
   "outputs": [],
   "source": [
    "steam_games_df.item_id = steam_games_df.item_id.astype(\"int\")\n"
   ]
  },
  {
   "cell_type": "markdown",
   "metadata": {},
   "source": [
    "------"
   ]
  },
  {
   "cell_type": "markdown",
   "metadata": {},
   "source": [
    "Los Datasets users_items y raw_steam_games_df estan relacionados. Entendemos que si un usuario no esta registrado y no ha consumido ningun item no debería realizar comentarios del mismo. Por lo que revisaremos si en el df users_reviews existen usuarios que no se encuentran en users_items."
   ]
  },
  {
   "cell_type": "code",
   "execution_count": 117,
   "metadata": {},
   "outputs": [
    {
     "data": {
      "text/html": [
       "<div>\n",
       "<style scoped>\n",
       "    .dataframe tbody tr th:only-of-type {\n",
       "        vertical-align: middle;\n",
       "    }\n",
       "\n",
       "    .dataframe tbody tr th {\n",
       "        vertical-align: top;\n",
       "    }\n",
       "\n",
       "    .dataframe thead th {\n",
       "        text-align: right;\n",
       "    }\n",
       "</style>\n",
       "<table border=\"1\" class=\"dataframe\">\n",
       "  <thead>\n",
       "    <tr style=\"text-align: right;\">\n",
       "      <th></th>\n",
       "      <th>user_id</th>\n",
       "      <th>items_count</th>\n",
       "      <th>steam_id</th>\n",
       "      <th>user_url</th>\n",
       "      <th>items</th>\n",
       "    </tr>\n",
       "  </thead>\n",
       "  <tbody>\n",
       "    <tr>\n",
       "      <th>0</th>\n",
       "      <td>76561197970982479</td>\n",
       "      <td>277</td>\n",
       "      <td>76561197970982479</td>\n",
       "      <td>http://steamcommunity.com/profiles/76561197970982479</td>\n",
       "      <td>[{\"item_id\": \"10\", \"item_name\": \"Counter-Strike\", \"playtime_forever\": 6, \"playtime_2weeks\": 0}, ...</td>\n",
       "    </tr>\n",
       "    <tr>\n",
       "      <th>1</th>\n",
       "      <td>js41637</td>\n",
       "      <td>888</td>\n",
       "      <td>76561198035864385</td>\n",
       "      <td>http://steamcommunity.com/id/js41637</td>\n",
       "      <td>[{\"item_id\": \"10\", \"item_name\": \"Counter-Strike\", \"playtime_forever\": 0, \"playtime_2weeks\": 0}, ...</td>\n",
       "    </tr>\n",
       "  </tbody>\n",
       "</table>\n",
       "</div>"
      ],
      "text/plain": [
       "             user_id  items_count           steam_id  \\\n",
       "0  76561197970982479          277  76561197970982479   \n",
       "1            js41637          888  76561198035864385   \n",
       "\n",
       "                                               user_url  \\\n",
       "0  http://steamcommunity.com/profiles/76561197970982479   \n",
       "1                  http://steamcommunity.com/id/js41637   \n",
       "\n",
       "                                                                                                 items  \n",
       "0  [{\"item_id\": \"10\", \"item_name\": \"Counter-Strike\", \"playtime_forever\": 6, \"playtime_2weeks\": 0}, ...  \n",
       "1  [{\"item_id\": \"10\", \"item_name\": \"Counter-Strike\", \"playtime_forever\": 0, \"playtime_2weeks\": 0}, ...  "
      ]
     },
     "execution_count": 117,
     "metadata": {},
     "output_type": "execute_result"
    }
   ],
   "source": [
    "users_items.head(2)"
   ]
  },
  {
   "cell_type": "code",
   "execution_count": 118,
   "metadata": {},
   "outputs": [
    {
     "data": {
      "text/html": [
       "<div>\n",
       "<style scoped>\n",
       "    .dataframe tbody tr th:only-of-type {\n",
       "        vertical-align: middle;\n",
       "    }\n",
       "\n",
       "    .dataframe tbody tr th {\n",
       "        vertical-align: top;\n",
       "    }\n",
       "\n",
       "    .dataframe thead th {\n",
       "        text-align: right;\n",
       "    }\n",
       "</style>\n",
       "<table border=\"1\" class=\"dataframe\">\n",
       "  <thead>\n",
       "    <tr style=\"text-align: right;\">\n",
       "      <th></th>\n",
       "      <th>user_id</th>\n",
       "      <th>user_url</th>\n",
       "      <th>reviews</th>\n",
       "    </tr>\n",
       "  </thead>\n",
       "  <tbody>\n",
       "    <tr>\n",
       "      <th>0</th>\n",
       "      <td>76561197970982479</td>\n",
       "      <td>http://steamcommunity.com/profiles/76561197970982479</td>\n",
       "      <td>[{\"funny\": \"\", \"posted\": \"Posted November 5, 2011.\", \"last_edited\": \"\", \"item_id\": \"1250\", \"help...</td>\n",
       "    </tr>\n",
       "    <tr>\n",
       "      <th>1</th>\n",
       "      <td>js41637</td>\n",
       "      <td>http://steamcommunity.com/id/js41637</td>\n",
       "      <td>[{\"funny\": \"\", \"posted\": \"Posted June 24, 2014.\", \"last_edited\": \"\", \"item_id\": \"251610\", \"helpf...</td>\n",
       "    </tr>\n",
       "  </tbody>\n",
       "</table>\n",
       "</div>"
      ],
      "text/plain": [
       "             user_id                                              user_url  \\\n",
       "0  76561197970982479  http://steamcommunity.com/profiles/76561197970982479   \n",
       "1            js41637                  http://steamcommunity.com/id/js41637   \n",
       "\n",
       "                                                                                               reviews  \n",
       "0  [{\"funny\": \"\", \"posted\": \"Posted November 5, 2011.\", \"last_edited\": \"\", \"item_id\": \"1250\", \"help...  \n",
       "1  [{\"funny\": \"\", \"posted\": \"Posted June 24, 2014.\", \"last_edited\": \"\", \"item_id\": \"251610\", \"helpf...  "
      ]
     },
     "execution_count": 118,
     "metadata": {},
     "output_type": "execute_result"
    }
   ],
   "source": [
    "user_reviews.head(2)"
   ]
  },
  {
   "cell_type": "code",
   "execution_count": 119,
   "metadata": {},
   "outputs": [
    {
     "name": "stdout",
     "output_type": "stream",
     "text": [
      " cantidad de users de users_items:  70912\n",
      " cantidad de users de user_reviews:  25458\n",
      "Elementos en users_de_user_reviews que no están en users_de_users_items: {'76561198040259612', '76561197972017423', '76561197985644714', '76561197994033447', 'Sir_Javier', '76561198056735890', '76561198062741031', 'punkinoz', 'DankHades', '76561198093250521', '76561198071383193', 'ddoogg', '76561198104700278', 'teriyakichiken', '76561198027260537', 'pleasedontvotefortrump', '76561198041366429', '76561198063116217', '76561198055544059', '76561198056772858', '76561198049392366', '76561197970931849', 'Mortwolf', 'pvt_pineapple', '76561198070475810', '76561197980834629', '76561198078987534', '76561197986709258', '76561198057988695', '76561197999539608', '76561198076293018', 'thewhk', '76561198073916938', '76561198195842698', '76561198007309128', '76561198003607025', 'heavy_back', '76561198087375527', 'D3V3D', 'Rawex', 'zrustz16', 'VenomVenti', '76561198071986441', 'jamesreesonswingspanis6ft', '76561197971532272', '76561198131459436', '08254669696969696969', '76561198087716285', '76561198070940556', 'RamboHawk', '76561198056893835', 'BrookeAH', '76561198006537919', '76561198073104304', '76561197976684435', '76561198065776361', '76561198069567985', '76561198073749507', '76561198068777697', '76561198081062889', '76561198057119793', 'YANZHUO', '76561198078732258', '76561198084079139', '76561198061171632', 'DreamBigFallHardOfficial', 'Bigodyddasa', '76561198061777322', 'switchnation', '76561197974172778', 'blighty666', 'wublord', '76561198132183055', 'Aredus', 'aLLCAPS', '76561198079518166', 'ambamberam', '76561198066206472', '76561198091138643', '76561198202799729', '76561198084489567', 'DezDarkshard', 'teimportaesto', '76561198086664250', 'scottbrady', '76561198121958688', '76561198069180924', 'meatiebuns', 'PassiveAggressivePancake', 'permanently-a-cat-lady', '76561198080024214', '76561198043642424', '76561197960565429', 'odenp', '76561198025344728', 'oldskool_retro', '76561198065988138', '76561198090206489', 'ZombieKiller17_', 'lavitz_reinhart', '76561198097565503', '76561198202877783', '76561198061042318', '76561198072724653', '76561198084394317', 'wavewizard', '76561198031838821', '76561198107703934', '76561198047693993', '76561198097864769', 'The_Toast_Man', '76561198097153372', 'Jasper7798', 'DethInvictus', '76561198077512531', '76561198008267403', '76561198033884763', '76561198088044024', 'Thomas1910', '76561198043664811', '2slippy', '76561198071578622', 'TheDarkSteveh', '76561198098402417', 'raquja', 'djhoneybadger', 'cherlovesaliens', '76561198069949345', 'LuccaTelles', '76561198068256010', 'kurtling1', 'SillyWinZ', '76561198135997971', '76561198104555370', 'D_L_S', 'dexterthelex', 'Dogeminati', '76561198064195598', '76561198092377526', '76561198019548281', 'feedhimmungo', '76561198082959565', '112367263762', '76561198087597289', '76561198059970051', '76561198079194020', '76561198027549144', 'BlueCow5', 'RanbowJankins', '76561198056942792', 'macintosh1122', '76561197972209961', '76561198045334803', '76561198010339484', 'AnqioniC', '76561198083095219', 'legendary799', 'nathan00107', '76561198070263209', 'Lavaginator', 'cactus3', 'adadadad88', 'StayMad', 'mycar11', 'hnnnggg', '76561198055685900', '76561198106844945', '76561198061332254', '76561198024566463', 'CottonDrop', 'regester', 'batman0180', '76561198103816527', '76561198039082446', '76561198123879774', 'thecoolraven', '76561198080748313', '76561198048992856', 'cavedigger11', 'ThatLevelOfMastery', 'vergecollection', '76561198125270928', '76561198112871140', 'Steam-Community-2002-2006', '76561198067232559', '76561198070180161', 'GsinA', 'goneckahorse', '76561198068605419', 'DazzaLCFC', '76561198092054106', '76561198086613935', '76561198045242807', 'CITIZENOFYORK', 'pavelfurie', '76561198061518838', 'austondragon', 'chriz2010', 'MwahHahHa', 'czshomer', 'mrooxx', 'PI312', '76561198066162030', 'FacelessSweatshopWorker', 'vegetable89', 'barnziee_', 'officialrobo', 'Jorgencho', '76561198103169817', 'madhouseau', '76561198065375748', '76561198095169213', 'Theramajik', '76561198036742033', 'nytewolfaa2k7', 'MalaysiaxGermany', 'HorrorSympathy', '76561198070672847', 'BadMadMurphy', '76561198078317599', '76561198104410707', '76561198037124068', 'rawrcakez', '76561198093478636', '76561198100537065', '76561198082310259', 'bail420', 'reliquiaen', '76561197996182296', 'GeminiRJ', '76561198011369854', '76561198092576259', 'zraicis', 'bradlah', '76561198020583276', 'FatalPoint', 'ZeroLithium', '76561198050864519', '76561198050242018', 'GetSchwiftyInHere', '76561198091755029', '76561198066287933', 'ziko21', '76561198067283158', '76561198019117351', 'Way2Saltyyy', 'RangaMan13', '76561198061187428', '7656319335278779', 'MT-101', 'Man_Bear_Shark', 'haungaraho', '76561198005820284', 'dnnclarke66', '76561198069514229', 'MurQzilla', '76561198031208554', '_absolutezero_', 'keepit1hunid', '76561198027555735', 'Alexwai04', '76561198070081680', '76561198153966721', 'ips3', 'queenaphrodite', 'DatWombat', 'nottakenyet', 'basejumper99', '76561198004011791', '76561198065072317', '11111121111122221', '76561198005343510', '76561198074056379', '76561197971730470', '76561197977976937', '76561198089669021', '76561198056935583', 'norsktf', '76561198026315215', '76561198111978125', 'iamwatchingyoubywindow', '76561198030376428', 'keaun', 'Dr-Medic', 'Madrake', 'jasmine-is-fab-not-rlly', 'Gamer0009', '76561198090933512', '76561198053439793', '76561198026332069', 'adzadz7', '76561198068655726', 'Bush_Maori', 'FiLoBoI', '76561198009198597', '76561198090921255', 'I_Am_Krazy_For_ApplePie', 'NicNukem', '76561198036909594', '76561198091548646', 'theshatay', 'djfordj', 'tsumikai', '_Seal', 'rushyy', '76561198059715439', '76561198011806334', 'euromikeym', 'HunterSLAYERR', 'gRFLX', '76561198066298183', 'freeskinseu', 'SnXImmortal', 'amillionlemons', '_Wings_', 'The_Gamer_Next_Door', 'wade12wilson', '76561198044678148', '76561198038192707', '76561198011742990', '76561198006016224', '76561197970769295', '76561197983697443', 'aamonrai132', 'ShadicTripleSeven', 'bokkkbokkk', '76561198015083155', '76561198088065011', '76561198042728201', '76561198075817980', '76561198041890490', '76561198059936479', 'corruptedphoenix', 'SDAFAWRFGRSEG', '76561198111542788', '76561197970643976', '76561198032836473', '76561198081219970', '76561198067176074', '76561198052055791', 'SuspiciousSteam', '76561198084548334', '76561198090219991', 'yosshi3', 'Minecraftonwow', 'Underpaidassassin', '76561198097614899', 'brawlisforwii', '76561198065840121', '76561198044592183', 'PWKV', '76561198079874637', 'Anarchismatitsfinist', 'Jackiewins', '76561198090431959', '9876565434213034323', 'MrChumps', 'jxwp', 'linespaceasphyxia', '76561198061375925', 'LuGusta', '76561198107918902', '76561198139533051', 'akavirikatana', 'DiamondMaiden', 'BleedingClear', '76561198086687010', 'defalt14', 'animobeda', 'DylanHimself', 'Nitrousrun', '76561198074468919', 'ImaTigerRaa', '76561198043112528', 'Samsamkill4fun', 'cookie4me', 'suctioncuphands', '76561198046668535', 'cameroondormer', '76561198082960297', 'SethDrez', '76561198052591219', '76561198032003632', 'kards', '76561198045002205', '76561198081470570', '76561198113245248', '76561198106239471', '76561198167847213', 'globalLV', 'SpookyScaryGhosts', 'geckglobal', '76561198070982854', '76561198046145782', '76561198017747531', 'Pnakotic_etheldreda', 'kicking_ass_for_the_lord', '76561198057773824', 'monkeymoodleloo', '76561198090530209', '76561198068268726', '76561198060176355', '76561198095674132', '76561198077815717', '420Club', 'portjackson', 'Stazza19', '3X5G3', 'HENRYADDA2161997', '76561198094073056', 'DarkSniperz', 'Spiderfu', 'bignath3', '76561198093796919', 'jacej3', '76561198067841857', 'nolvatrash', '76561197993617677', 'Revan_Aldrei', 'stopstealingmyurlnames', '76561198077783045', '76561198053716599', '76561198066226905', 'MySmilie', 'john117777688888', '76561198076829564', '76561198040602090', 'eckodelta209', 'Shadowsport', 'Squash', '76561198045484030', '76561198048827467', '76561198013227556', 'Blackboy72', '76561198071938837', '76561198093507873', '76561198072569018', 'Tylluan', '76561198125059790', 'CruelZor', '76561198052516862', 'PatoMeh', '76561198062015406', '76561198045474388', 'westy38', 'Arimitage_Shanks', '76561198126667463', '76561198090264587', 'banjoabbyshelly', 'nerds4lyfe', '76561198072852555', 'matiaswat', 'sTruggl3s', '76561198045808913', '76561198010900889', '76561198134722647', 'FromTheDepthsOfHell', '76561198053619980', '76561198132039660', '76561198085408536', '76561198028619650', '76561198049506705', 'elitex101', '76561198001658920', '76561198043226584', '76561198040184950', '76561198016602703', 'iAmToxic', 'y7h8o', 'dfsjfasdjfasjfakpenisbreathds', '76561198017060194', '76561197990972548', '76561198076690019', '76561198027221854', '76561198101689269', '76561198059053798', 'Tankingtype', 'thewindinthewullos', 'RemiliaCN', 'budboy73m', 'm1staf1sh', '76561198065425605', 'huehue13213', '76561198070069030', 'JhayellTrol', '76561198027000639', '76561198071083918', 'LifeOfPeder', 'Mitch1307', 'allwright2000', 'springah', 'moomooandu', '76561198025979243', 'pouyf', '2828838282', 'AntoniosB', '76561198126505382', '76561198080081049', 'Wooderino', '76561198033665040', '76561197983633274', 'dsadassadasdasdasdsadasdasdas', '76561198078641610', 'waddledum', '76561198057643805', '76561198053897790', '76561197968933410', '76561198081493836', '76561198046912445', '76561198142969038', 'LordDomin8r', 'utulien82', 'avh', 'Fisticle', '76561198074937351', '76561197976109742', 'h2ojustaddwater', '76561198055911628', 'moxiwize', 'chicanery101', '76561198105170325', '76561198081756988', '76561198055756587', 'theprettybunch', 'EDeSpAiR21', '76561198068832606', '76561198071464612', 'senhorrenao', 'lucaswerg', 'Sneakyscopez', '76561197987394736', '76561198078814673', '76561198095184401', '5p1d3r5', 'mazzabro', '76561198059874617', 'arcturian_sign', '76561198061644587', 'Orias69', 'Aizaak', 'fghjndaguihuigheir', 'putaurlplzupsid', '76561198092363101', 'HeyGoodCookin', '76561198053540558', 'Raiseyourdongersss', '76561198072420528', '76561198055762774', 'DrScully', '76561198098467152', 'akirawwww', '76561198071561558', '76561197969727244', 'DrCrackers', '76561198018578582', 'bunjee999', '76561198064162552', 'uhhallo', 'timtim123211', '76561198070780240', 'Doperman', '76561198157987157', '76561198078334800', '76561198054906611', '76561198067973340', 'loco72', 'happyparenting', 'Abominog6', 'AcesCyraxGaming', 'code10009', 'AlejoSchlogl', 'RavneelPrasad', '76561198075425119', '76561198038563395', '76561198084586080', 'iownladies69', '1v08', 'freedom_justice', 'lil_bradsta', '76561198061414894', 'EdgyAllenPoe', '76561198064426231', 'ybot27', '76561198081363754', 'KyelTheGreat', '76561198060618380', 'Zeen3n', '76561198062337556', 'dynk_ender', '76561198025470889', '76561198059677335', '76561198080347018', '76561198075532361', '76561198062830468', '76561198078513713', '76561198079220364', 'baroncrovax', 'mancract', '76561198090367828', '76561198041952670', 'profile_edit', 'ActuallyBonobo', '76561198068718484', 'noscopedninja', '76561198116277643', '76561198063894782', 'CRAZYASIANGAMER1', '76561198031693155', 'alfcapone', 'LinnieLin', '76561198033029557', '76561198070070375', '76561198026200381', '76561197963459411', '76561198093725111', '76561197970952528', 'BTYK', 'examiner', 'SanDWG', '76561198084994842', 'quite_the', '76561198022826604', 'loracidical', 'Sarrby', 'taptaptappy86', '76561198059987084', 'wettube', '76561198056968272', 'tombin8tor', '76561198043818962', '76561197968625140', '76561198093069589', '76561198012258242', 'Gribil', 'croniczambie', '76561198084112448', '76561198074783932', 'zoozles', '76561198101239847', 'grmd2', '76561198116574183', 'jimmyt2002', 'kitarei', '76561198028249774', '76561198072118386', '76561198076232842', '76561198079774158', 'doubleh8', '76561198053582262', 'jirokanz', 'lg5554', '76561198057810628', 'Mrezy', '76561198069732280', '76561198056745387', '76561198064985698', 'KKKrazy', 'porterbeans', 'DafuqUL00kinAt', 'Onlyme88', '76561198113767906', 'Kaiser9100', '76561198064634478', '76561197970980211', '76561198062638977', 'akame11', 'Bellator1206', 'DjPhoon', 'Lenny_Boy', 'Vandaz', '76561198064993980', 'Fuckfhaisjnsnsjakaka', 'sirzabblepants', '76561198041840982', '76561198016761283', '76561198075943492', '76561198091164094', 'thelandshark', 'AlexNoClutch', '76561198067598930', '76561198047586862', '76561198097168319', '76561198040576691', 'cylink', '76561198093557146', 'amoocow', '76561198058625025', 'pupapooh', '76561198084930628', '76561198034392853', 'saintino', 'TrainerJoey', 'moutopher', 'JAMIEX1988', 'LordDozahkingRe', 'Bradz', '00284702', 'UnseenEvangelist', 'shzh01', '76561198067439454', 'CatsWhale', 'yomamaishere', '76561198063809322', 'DUALIESMLG', '76561198065560688', 'halo1010', '76561198021700114', '76561198093267405', 'As0asZePikachu', '76561197980634828', '76561198046538902', 'waizell', 'HammerTheGodOfWar', 'ppusssy', 'jietzaii', 'Scorpionking255', '76561198094362866', '76561198081992978', '76561198084295600', '76561198100410698', 'ad1h53mech', '76561198065774347', 'jamesh98', '76561198010674657', 'ginntron', 'SeviHusky', 'bentommy', 'MickSlim', 'thejl2', 'DancingIpod', '76561198032231960', 'Salvotore', '1234148932401', '76561198092989777', 'gtrace', '76561198068340253', 'Zombie_Assassin', 'dark_skeleton', '76561198085850670', '76561198049382758', 'cass_h01', 'Dissimilar', 'bloodspilla', 'whoisENIGMA', 'smartikools', '76561197992466945', '76561198072088242', 'pursanator', 'Functionalz', '76561198097888790', '76561197968496988', 'MrDonKay', '76561198078925993', 'heetesh', 'TheJackedex', 'nathrem1', '76561198087371948', '76561198045698228', 'hunterkiller247', 'perox1de', '76561198075244108', 'GTAadam', 'mrfoxy17', '76561198062236203', 'Prathik', '76561198051777058', 'rusticrobbo', '76561198070113262', 'thelazybrowniemkii', '1263512533427542734', '76561198067960387', 'Oxea', 'bullmastiffs', '76561198077021283', '9k42c60d', 'ZeikoJoestar', 'darkniya', '76561198086448358', '76561198077267655', 'kcharding', 'Skye04', '76561198048315303', 'h0dAyUm', '76561198043936220', '6667779', 'Jonesy_1999', 'iilonestarii', 'ezratm14', 'ihaveduff', '76561198055803962', '76561198103361900', '76561198044745022', '76561198031132541', 'angrymanxl', 'godblazeyou', 'korndigger', '76561198093078781', '76561198119376787', '76561198092540221', 'commonfood', '76561198076104363', 'darhmonkey', 'Hobo_Ed', '76561198019923966', '76561198033167818', '76561198134104596', '76561198063501316', '76561198054607863', '76561198066587015', '76561198017427392', '76561198019915029', 'time4b', '14125161412', 'GemGem1997', 'hengfadeng', 'phie_black_arrow', 'LeedleLeedleLeedleLee', 'Brensarinn_', 'phazorr', 'atymoe', '76561198194887542', '76561198040576023', 'sh06un1', '76561198081774093', '76561198073761454', '76561198051567275', 'funitureoflawinforcement', '76561198049927258', '76561198038191817', '1stJamestar', '93769201', '76561198120107003', 'Endkry', 'Dobble', 'usaussie', '76561198090713504', '76561198051313306', '76561198055310480', 'Putnum', '76561198074935997', 'Texnocsgo', '76561198064910840', '76561198045877315', 'stabz0r', '76561198261200685', '76561198043880297', 'Cl0udX', '76561198079345306', 'dominator221', '76561198001963605', '76561198085514510', '76561198061236038', '_jono', 'collinmaraan', 'Lockhearte', '76561198026256686', 'NiPGetRightEizooo', '76561198083091405', '76561198078712087', 'chicka123', '76561198056331727', '76561198019970090', '76561198029797262', '76561198072339171', '76561198064146286', '76561198026766790', '76561198104575054', '76561198054895038', '76561198097408489', '76561198237650078', 'katacaz', '76561198018766159', '76561198033256694', 'AH_Rablah17', '5512FAG365123BOi27', '09879655452567', '76561198062130309', 'garypoh18', '76561198073811740', '416940127', '76561197970561135', 'Brennan2036', 'deatheffekt', 'Hound-Kun', '76561198049503316', 'flexi_12', '76561198089585145', 'dhon_', '76561198053843099', '76561198040925596', 'AndyIzNogud', 'ZevereKryor', 'yodadda', '76561198114423428', 'dominicmarti', '76561198068666800', '76561198054000628', 'rkd', '76561198084175007', '76561198027750275', '76561198033266228', '76561198094051172', '76561198102272170', '76561198042083443', '76561198057228629', 'jackodave', 'ch0na1171za', 'divorahk', 'epicsquid', 'Rirakon', 'chrisbooth', 'Tattzie', '76561198064434624', 'Milzbrandthrox', '76561198054924361', 'woshiretard', '76561198042112752', 'ninjadust77', 'Thegreatboxbox', '76561198076144807', '76561198047692497', 't-baggin_the_dragon', 'Cabey64', 'vampros', '76561198065084226', '2345254252312312', '76561198059429616', '76561198084470651', '76561198063901299', '76561198100326818', 'NoGameWillDie', 'thepersonfromfarbeyond', '76561198142398530', '76561198063391282', 'Runforitman', 'RedKeyMonGOPRO', 'ArMeDNeo', '76561198020937602', '76561198006679831', '76561198057762830', '76561198098553595', '76561198016574636', '76561198065240425', 'DankASFMemes', 'Nineleader', 'jewxxl', '76561198060153709', '76561198057883381', 'BENA1337', '76561198013459229', 'shadyone', 'Spacedotjaypeg', '76561198069628927', 'murilopr', '76561198070139450', '76561198080704551', 'keptiin', 'Yuriss', '76561198066916388', '76561198093541850', '76561198069467772', 'kiiro123', 'PurpelPingu', 'DomJBrash', '76561198077457233', '76561198075166884', '76561198040864814', '76561198063848540', '76561197963397231', '76561198082991406', '76561198014210785', 'sniparsxx', '76561198042797758', '76561198002311337', 'wannas493', 'rustyspoon14', '76561198058168124', '76561198062267241', 'smaltninja', '76561198049701451', '76561198091537009', '76561198029284067', 'Kazutoisherem8', '76561198049968398', '76561198056101934', 'CornBeard', '76561198091250353', 'mochajung', '76561198079601835', 'NoCnNoJustice', 'TheMagicalFishTaco', '76561198073673753', 'sarge_017', '76561198042219417', '76561198091558466', 'ByzGirl', 'dudushang', 'humanx25', 'renegade_sock', 'snorlakunbanme', 'Dynsomnia', '76561198079309278', 'mrsamo', 'DeadFishCorporation', 'KorosenseiGoD', '76561197989758447', 'xaneinfinity', '76561198065038974', '76561198075231791', 'likeashpee', 'MAZZA768', 'Lexor11037', '76561198070155006', 'popojoe', '76561198067662729', '76561198079218488', 'archsniper9', 'Caelstrasza', '76561198101093216', 'GoatsGoatsGoatsGoatsGoatsGoats', '76561198076246541', '76561198092555785', '76561198105130240', '76561198043173492', 'thatfiloguy', '76561198061006789', '76561198005821848', '76561198087459627', '76561198090805056', '76561198035716480', 'danield123dd', '76561198103497161', '76561198031636221', '76561198098039615', 'DylanOgle2', 'Nidowa', 'illumimarti', '76561198121940435', 'yissssssssssssssssssssssssss', '76561198063423478', '76561198068207168', '76561198027193755', '76561198041240133', '76561198076885214', 'Yawky', 'wavezero', '76561198085551766', '76561198107078809', '76561198043139195', 'ItsKawaiiSenpai', 'im-ze-Gun-Slinger', '76561198071399737', 'Pro2rk', 'habibiandtheboies', 'Chicken01MA', '76561198099034624', 'monjibee', 'iaintachikenbutiamashitplayer', 'denglong', 'IronSerb', 'famouse4', '76561198088630638', 'Pungent_Fart', 'silver4ismypeak', '76561197993819764', '76561198070690856', '76561198056339034', 'deadawesome', '76561198117710446', '76561197966079422', '76561198091190397', 'lilim', 'flypussy', '76561198070415543', 'eddygotts', 'jptrickz23', '76561198082597238', '76561198087540888', 'marchic', 'Bellakoelquelee', '76561198013428024', '76561198047625991', 'adamsucksdick', '76561197996157332', 'pen15inmymouth', 'pleaky', '76561198071952798', '76561198047765065', 'fasterthanlegal', 'ermanurmagersh', 'ca_ra_cal', '76561198085522813', '76561198115853213', '76561198093381429', 'kelvinlaojh', '76561198093686401', '76561198066378009', '76561198014143677', 'asdman11', '76561198096750939', 'FinalBreakers', '76561198077882964', '76561197971407276', '76561198057276193', 'RED_STAR', 'Volknur', '76561198042520511', '76561198073094125', '76561198087264465', 'xMsPanda', '76561198097129448', '76561198084570218', 'CataclysmPlays', '76561198084142174', 'debstup', 'Norf_Norf', '76561198089501467', 'theninjallama', 'mad_dog_99', 'Ohlmay', '76561198052407696', 'jordeisawesomeduh', 'TheHunter42', '76561198048599402', '76561198056549524', '76561198049861640', 'AusBacon', '76561198051533745', 'WardPimp', '76561198280439853', 'Goochie62', '76561197972024039', 'Cookiemonster82', '76561198041012252', 'randomaddressfornow', '76561198066862793', '76561198083423726', '76561198020235815', '76561198031663320', '76561198130579057', 'memmzy', 'naser9930', '76561198065098570', '76561198006889139', '76561198129147895', 'ripvision', '76561198077294556', '76561198079885795', '76561198083797462', 'CptBonnie', 'swaggggggg', 'Dedle3', '76561198047245194', '76561198142813123', '210396', '76561198082767148', '76561198091898889', '76561198034985315', 'eliteacez21', 'blenderxd', 'TheOfficalDiabl0', '76561198088144000', 'TheDrShades', 'noone37363627', '76561198064214213', 'FonZ9134', '76561197976250649', 'Sarahisthecooolest', 'superduckman100', '76561198055790408', 'miniondemarco', 'MattBowles', 'bigmangina', 'LOOPY-M', '76561198037157290', '76561197999886086', '76561198072331629', '76561198088473518', '76561198089821852', 'localadelaideman', 'ZuRbii', '76561197992152968', 'MysticRayn', 'epicbudgie', '76561198068653657', '76561198096137714', 'killerroo', '76561198003798869', '76561198092078915', 'shanic83', '76561198065868047', '76561197996424549', '76561198084056692', '76561198036004633', '76561198049213233', 'Kiwi4Life', '76561198062711426', '76561198062892701', '76561198061763452', '76561198024310116', '76561198055563643', '76561198126185850', 'seeejayy', '76561198146811682', '76561198091051848', '76561198209894493', 'akj93', '76561198110711150', 'godberry', '76561198123215010', '76561198047306749', '76561198042951100', '988988MePls', '76561198093124034', '76561198004669632', 'JoeyyKem', '76561198087985459', 'HappyPrime', '76561198015461883', '76561198026496892', '76561198093269733', '76561198129035619', 'Sn3akYb3akY', '76561198075234235', 'kushikushigani', 'Itsismynature', 'linzwatt', '76561198014580082', 'NightlyHealer32YT', 'walrusjesus', 'masterdevilish', 'kiricky', 'EDLM', 'goodjobyoufoundmyaccount', 'SpuffyG', '76561198031056726', '33215469', 'AndogZAR', '76561198051461196', 'Durp1234', '76561198082252530', 'Gabbies_S', '76561198042305409', '76561198005263965', '76561198048121441', 'h-glee', '76561198042535860', '76561198109423093', 'sunnyu', '76561198064358345', '76561198091741812', 'wackytobaccy', 'zombifiedddd', '76561198109814181', '76561198051065449', '76561198022149086', '76561198087957707', 'rfgrgdrgrg', '76561198069254820', '76561198083731654', '76561198081016729', 'Destero', '76561198122402735', 'd1ckflip', 'sananaderi', 'STAELEVEN', 'kota40', '76561198022611161', '76561197988934555', '76561198326180109', 'richy12879', 'Auditore70', 'nicolas_pedobears', 'Antecwarrior', '76561198088486552', '76561198062048153', 'ben_oco1', '76561198081411302', '76561198071815977', 'atiadosgato', 'boaty7_3_21', '76561198045321868', '76561198085577617', '76561198095928099', 'queenmuck', 'aerodynasaur', '97184', 'earthminer1', 'SeahDefault', '76561198130721776', '76561198100155466', '76561198085013601', '76561198092013490', '76561198007570632', '76561198013532168', '76561198046120865', '76561198054211660', '76561198097623724', 'ehrrhanwjr12', '76561198089439191', 'agentphil', 'Sansthespoopyskeleton', 'euphoria72', 'IgorHM', 'KiraNotte', '76561198087816498', 'CDTH', '4u5ur0', '76561198079945816', '76561198049343162', '76561198090934295', '76561198099442511', '76561198091826904', 'jackmaster1212', '76561197978628035', 'starkillershadow553', 'polandismycountry', '76561198044348706', '76561198042121023', '76561198027003885', 'Atl4s_DCE', '76561198015454441', '76561198058064060', '76561198068168906', '76561197975973976', 'sameinator', 'Ch3nst3r', '76561198096686903', '76561198065444285', '76561198020285970', '76561198035704817', 'hhhhjhhjjhjh', 'jaxee', '76561197970476149', '76561198055334207', 'OfficialvnmZz', '76561198014200832', 'HAPPi420', '76561197962071692', '76561198124333252', '76561198078799569', 'dragondrift', '76561198049458838', 'themenaceonpc', '76561198066935844', '76561198015179413', 'genuinejazz', '76561198068887466', 'JCDon12', '76561198090836955', '76561198047309532', 'WagglyBump', '76561198014047236', '76561198041149604', '76561198085544455', 'aktiveXkontrol', '76561198065625313', 'justsomecat', '76561198066638492', '76561198082220592', '76561198019159115', '76561198053371704', '76561198084875025', 'xoffy', '76561198063004695', '76561198020241941', 'ottonot', 'NerfNadia', '76561198043946184', '76561198063424815', '76561198052180481', 'Lord_Scubbs', 'josephjge', 'bongsweremadebybongocomics', '76561198099643480', '76561198073094072', 'ethreneral', '76561198086405567', 'Zordick', '76561198084471457', 'sticky1770', '76561198047147962', '76561198108059051', 'lozaga', '76561198034823626', '76561198091613577', 'Wackky', 'superfly480', 'sickkunt007', 'heavybinary', '76561198066582913', '76561198081604689', 'AussieSerpine', '76561198088660441', '76561198015802290', '76561198086560332', 'sem12347', 'DnLocky', '76561198049148992', '76561198011526765', 'alpha75', '76561198092235082', '76561197990045164', '76561198073970893', '76561197975058559', 'baratus93', '76561198065613069', '76561198099851380', 'lNightlRaven', '76561198084351484', 'inmater', '76561198067201254', 'laddougl', 'reminator1234', 'azwray', 'SLWonderChild', '76561198011128888', 'HMPatu', '76561198078242573', 'Lightning_Wolf', '76561198078241519', '76561198026921632', '91221301', '76561198093938729', '76561198069747054', 'thfbgfsbgfbgfbgfsbgbffb', '76561198077886411', 'ETomb', 'cockblockula', 'hypermemes', '76561198078665679', '76561198028697751', 'kavindra12', '76561198133288603', '76561198007988877', '76561198084363527', '76561198057389499', 'NamerGamer69', 'FlyingJewgong', '76561198046343688', 'dragonairx', '76561198073939756', 'Left-Shark', '76561198085774896', '76561198095924536', '76561198088587850', '76561198034629539', '07824', 'viprin', 'XiphiqiX', '76561197990557433', '76561198098156317', '76561197998915965', '76561198083488731', 'Gotcharrr', 'Vrilyax', '76561198076208088', '76561198058842042', 'gmaster5510', '76561197967405669', '76561197968314999', 'MR-mine-addiction', '76561198053114643', '76561198057944974', 'Galaxy_Raptor', 'CharaTheHuman', 'xhog', '76561198069762451', 'BrotherlyBullet', '76561197970989261', '76561198017609172', 'Liam-0452501909', '76561198074357143', '76561198059606810', 'tualmasok', 'GamingDirewolf', '76561198043884249', '76561198043226578', 'vitoprofile', '76561198070796900', 'tinypiemaster', 'EHS-R3AP3R', '76561198070616259', '76561197970814132', '76561198066536188', 'Caeso', 'martythepanda', 'Donttellem', 'mshee', '76561198082705819', '76561198031487280', '76561198105635842', 'Nope342', '76561198075034526', '76561198010698336', 'lightsabotage', '76561198087950285', '76561198045708291', '76561198036779891', '76561198082640689', '76561197980311109', '76561198012064862', 'beepboopbop', 'Don7panic', '76561198062469316', '76561198091213907', '76561198046735880', 'N0P3_56', 'stressedout123', '76561198058464655', '76561198009053218', '76561198080459478', '2910463', '76561198046614897', '76561198078052595', '76561198045816839', 'ReverseHotel', '76561197969812413', '76561198044458846', '76561198071457723', '76561198061779714', 'DeadNiggaStorage', '76561198035062661', '76561198075890337', '76561198026229747', '76561197970849273', 'brantrix', '76561197970519274', 'Scarface22753', 'Ninjo200', '76561198065776724', '76561198080278106', '76561198055459130', 'pilini22', '76561198048256508', 'Scypher406', 'ItsJerryAndHarry', '76561198073828677', 'simon19920', '76561198095385702', '76561198106127352', '76561198079354308', '76561197965640732', 'goddamnterrorists', '76561198042259281', '76561198077187420', '76561198041642085', '76561198071782537', 'kofeyh', '76561198100802387', '76561197990113354', '76561198062414806', 'saewa', '76561198039480319', '76561198045657223', '76561198089242483', '76561198026460218', 'Daniel_Barrett', 'thefrog', '76561198046061239', '76561198047856001', '76561198070857828', '76561198060575190', '76561198081059406', '76561198045348791', 'wabbitpls', 'alphalegion', '28042005', '76561198077612701', 'xwang', '76561198044448809', '76561198047986243', 'profiles76561198094860288', 'mysquadisthefinest', 'Oweneil', 'xwitch', 'RagelessGamer', '76561198027343535', 'accforsale12', '76561198031390758', '76561198071436243', '76561198068356197', 'deqwas', '76561198030867972', '76561198067696973', '76561198065836764', '76561198059346705', 'SHUDOUGH', '76561198077602243', 'xtraincs', '76561198062884956', 'SupremeHIVE', 'gg3ds', '76561198097725340', '76561198120785462', 'ClydeBunny', 'bigbootyputin', 'cwizpeh', '76561197993557726', 'SaladsByAinsley', 'XZAGR', '76561197973337386', 'BDX777', '76561197963427169', '76561198068507282', 'djman56', '76561197970532600', 'inconi70', '76561198048493133', '76561198081657706', '76561198013059927', '76561198097641296', 'realSMFC', 'mazafuker3000', '76561198071338557', 'ay65', 'agentmccoy', 'gla123', '76561197993872196', 'yanz15', 'rninetynine', '76561198049802579', '76561198097534775', 'banteringnoscope', '76561198063180532', 'legendary_jake', '76561198014533167', 'meatheads', '76561198057623952', '76561198069458790', '76561197969602007', '76561197998568725', 'Shakezula_The_Mic_Rulla', '76561198090595012', '76561197989053217', 'waruikaijin', '76561198011740985', '76561198071896013', 'gettingrobbed', '76561198060767897', '76561198013524144', 'Fl3mOn80r', '76561198091926245', '76561198041086959', 'mrfunkyjunkie', 'JDMBRAH', '76561198044058502', 'xXnocommentXx', 'wecky', 'aket87', '76561198058598393', 'TheSadEmoKid', '76561198085660316', 'AtomicWoodchuck', 'adenbrazza', 'bmxliam', 'DSvictory', '76561198139694944', '76561198062477459', 'TheOfficialMickey', 'RedOctopusTent', 'geekosaurus', 'Flermpick', 'splitdip', 'bazzaw99', 'GroovyG0D', '76561198068991610', 'djcorrosive', 'Anywher', '76561198068085433', '76561198078586370', '76561198085569225', '76561198034943433', 'RoyalAlbatross', 'meeeechull', 'krispinwaaah', 'ervindancho', '_KenCarlos', 'madengineer', '76561198076436360', '76561198077255065', 'dan_skaf', '__UW0TM8__', '76561198098189754', '76561198076812814', 'sirkillsalot1337', 'FadedTemplar', '76561198010288624', '76561198210898561', '3546873516354', 'shakingthingsup', 'SCSI_AUS', 'getrichordieapleb', 'Twisted-Fate', '76561198045624072', '76561198059631818', '76561198091955922', 'iplusplus', '76561198012798475', 'Dr_Cannibalism', 'RexonGOn', '76561198089768747', 'madyellow', 'faaipdg', 'likascreb', 'Black_Dawn', 'TOMWAR1', 'whatreyouevendoing', 'darkdraco2704', 'shemwuw', '76561198073222743', '76561197971330852', '76561198018820822', 'Grozie', 'Lone_walker', '76561198061391077', 'pac_of_ace', '76561198071052616', 'RRRRRRoss', '76561198103472735', 'maddmann1991', '76561198058986434', 'gme13', 'telfie', 'MEXIGAM3R', '76561198044664331', '76561198073826390', 'Shaa-Li', '76561198003593278', '666_pl_Satan_pl_666', '76561198066772381', 'chainsawseverywhere', '76561197986214624', '76561198034643189', '76561198088724903', '76561198059845244', '76561198083406231', '76561198079319930', 'patrickdahatrick', '76561197966970006', '76561198027404648', 'TheAnima', '76561197970691715', '76561198012397577', 'ikickarse1', 'alvincso', 'mummbles1991', '76561198043449077', '76561198074942714', 'Brianseb', 'Lotte88', '76561198055070495', '76561197971744536', 'havoq11256', 'Red_M', '76561198147557097', 'kjw1021', '76561198067791616', '76561197970539254', 'Cry-Z', '76561198065433273', '76561197961778802', '76561198059794996', 'AzuriteBurst', '76561198078007369', '76561198066675436', 'TheDecapotato', 'IJustWantedToTalk', 'OperationNovember', 'ReturnedAlice', '76561198058836921', 'vernichten', 'kirihata', '76561198067352691', 'terralark', 'joeyv101', 'brazzershd', '76561198042113307', 'OBCyborg', 'faceofffuck', 'xMoBBzY', '76561198026401413', '76561198011144513', '76561197998557042', 'itsyonplume', 'Mowday', '76561198062068809', '76561198053761623', '76561198223442840', 'robotb9', '76561198062869989', 'hiimagay', '76561198015516156', '76561198047115423', 'gksrmftmxk12', '76561198086146150', '76561198035409075', '76561198008853610', '76561198098088298', 'Archimedesthemagicalbird', '76561197970980141', '76561198067568556', '76561198087393066', 'droool', '76561198037550217', '76561197985258383', '76561198134580826', '76561198082698401', '76561198085428446', 'Hamish_Birch', '76561198079526431', 'Mangeria', 'friedlychees', '76561198125368693', '76561198039469366', '76561198081154848', '76561198074419919', 'lovertan', '76561198059357757', '76561198052995497', '76561198012189830', '76561198078799606', '76561198063550753', 'ooovegitaooo', '76561198075591109', 'frostold', '76561198088356010', '76561198069903288', '76561198037144100', '76561198088742582', 'gfire555', '76561198088891398', '76561198136998398', '76561198063315572', '76561197995042824', 'Alex680', 'TheWildKermit', '76561198040398338', '76561198063046120', '76561198062145857', '76561197999370899', 'knytesaber', '76561198054605160', 'swill215', '76561198043393155', '76561198041340133', '76561198084000574', 'tokirix', 'tcruisemissile', 'SkateboardSquats', 'Mastermind1998', '76561198060887478', '76561198067490430', '76561198057534772', 'Monstershoes', 'kazanjo', '76561198060530197', '76561198111410893', '76561198052112449', 'islam_hemel', '76561198077468327', 'negao22cm', 'ItzABitRisky', 'theoverlordoftheplanet', '76561198071598894', '76561198096436727', 'flamjongun', 'justtheruth', '76561198068004397', '76561197997877709', 'TnyLS', '76561198079499177', 'SlenderTurtle', '76561197988814610', 'lokidokii', '76561198072729088', 'valvoman', '76561198036620575', 'galvanicturtles', 'danielfredo', '76561197969764991', 'browntown', '76561198030254125', '76561198054114081', '76561198040052824', '76561198052785886', '76561198045362276', '76561198083465196', 'reiak', '76561198050514366', 'razormate1', 'ufas69', '76561198020669652', 'EngesDesTodes', 'Waxhax92', '76561198065432608', '76561198032837913', '76561198083633997', 'flakka91', '76561198076708943', '76561198069407800', 'pandanman', '76561198084001780', 'dubsdoge', '76561198007991437', 'killer9458', 'bkjk', '76561198044052496', 'wheebs', '2547887', '76561197960909955', '76561198082283850', 'LightningHUH', 'Yourfacegodammit', '76561197982720689', '76561197971860091', '76561198095659852', '76561198057592648', '76561198083008209', 'cja2008', 'popo2k', '76561198048309884', '76561198025298197', 'hortycone', '76561198053195906', '76561198015882376', '76561198051645324', '76561198061257407', '76561198131675118', '76561198043109268', 'Jampd', '76561198069107852', 'fraserj', 'unbuff', 'getoffmeimdone', '76561198071620258', '76561198040960504', '76561198087741169', 'RuslaNLoveStefochka', '123123718417671290', 'consciencea', '76561198006527232', '76561198024316193', '76561198071154641', 'MrEpicz', 'Meticrift', '0132489', '76561198147204783', '76561198056913746', 'asdf555', 'impulsivityy', '76561198075427667', '76561198017233887', '76561198017650546', '76561197992670186', 'Pixelinguist', '76561198023454712', 'Koolcaz12', '76561198056401881', 'connbob', '76561198055723594', 'erraformer', '76561198045946517', 'Admiral_QuackBar', '76561198060870618', '76561198058864606', '76561198111304638', '76561198030215915', 'dragonrage14', 'Eternal_Infernal', 'inconsequential', 'idfkanymore', 'jelousy', '76561198056410587', '76561198079108766', '76561198068715208', 'fuzzygrilz', '76561198071297495', '76561198083213265', 'soupstore', '76561198147002164', 'hillcamper', '76561198030428856', 'Hunter101', '76561198140459669', '76561198070990011', '76561198046912687', 'Sam_Slade', '76561198065321410', '76561197998761331', 'Atlasthegreat', '76561198064174945', '76561198088541644', 'AsusGamerHD', '76561198077262819', '76561198045293123', '76561198064236073', '76561198151618926', '76561198080821101', 'LittleJimjam', '76561198074291619', '76561197994320177', 'GLaddy1337', '76561198076822919', 'diablowe', 'clopsicle', 'ShanonLilleyman', 'brenos619', 'TheGuyCryingInTheWest', '76561198047489572', '76561198000550272', '76561198059707073', 'aman98', 'miesmo', 'MrWeirdo', '76561198060481049', 'kiniston69', 'nammienoodles', 'AlphaPodbury', 'honkychonky', 'Roseonfire', '76561197970519408', 'rangerftw', '76561198052164759', 'Itsyaboijaehae', '76561198055314663', '76561198097860960', '76561198091756176', '76561198027077734', '76561198071815954', 'Richo931', 'nimwashere', '76561198056401947', 'xyzzi', '76561198013013096', 'Tredders6635', '76561198075202352', '76561198060423795', '76561198044018636', '76561198054072662', '76561198006158702', 'skylordjosh', 'NumbYourMind', '76561198063617154', '76561198089772554', 'dreamtimesf', '76561198091272808', '76561198067704936', 'raegmoar', 'mrljcm', 'rufus5x', 'antidamage', 'Tander09', 'thepolis', 'kristenKAOTIK', '76561198103270538', 'SuspiciousPackage', '76561198102490796', 'keyman015', 'corthesi220', 'Spooky_Scary', '76561198027925839', 'VanClash', 'hididdlyhoe', 'MoonNinja', 'Mozness', 'FlutterBrave', 'tharon1105', 'bakedpotaters', '76561198071009915', '76561198059708051', '76561198038998425', 'mrdexybru', '76561198068301819', '76561198082161883', '55411144321649875611', '76561198061261540', '12066gdc', '76561198078718666', 'moosmanor', 'SaanMcC', '76561198059015861', 'ToXiK-FtW', 'DatGuy3110', 'altoryu', 'darkforb', '76561198053675394', '76561198073711146', 'BOYKOOPS', '76561198081440127', '76561198061230159', '76561198079033308', '76561198057975040', '76561198039481909', '76561198064617303', '76561197979522870', '76561198067026617', '76561198079140101', 'New_World_Order', 'notmeisreal', '76561198095481393', 'KotomiBestCharacter', '76561198046813617', '76561198068855801', '76561198048137488', '76561198055325855', 'ittekimasu', 'smartypants3473', '76561198141383050', 'krystleee', '76561198072730323', '76561198051644506', '76561198087173211', '76561198069575870', '76561198038695064', '76561198059607160', 'isegambleden', '76561198056818846', '76561198107123149', '76561198054189637', 'funcountry', '76561198057197505', '76561198063464192', 'mark2216', '76561197961205196', 'mlgbongsquad', '76561198034888857', 'rpg_adventures', 'gesbhsfbgufbyudguesvyfy', 'lindaduong', '76561198104043703', '76561198014215298', '76561198046000848', '76561198053916134', '76561198094460843', '76561198042756236', 'SikZone', '76561198066251179', 'arhun', '76561198045183675', '76561198004163464', 'trainsmurf', 'niceone12345', '76561198093955352', '76561198126142125', 'Andrew301103', '76561198050558419', 'xxbleachedxx', 'danielbook', 'land-of-ramon', '76561198064205088', '76561198054686826', 'ted019', '76561198089699297', '76561198042450234', 'EnviroReal', 'Calumdruggo', '76561198065553328', '76561198046021047', 'LithiumPowered', '76561198067161818', 'combatwombat893', '76561198043712583', '0445233', '76561198036779203', 'adam_mer0011', '76561198100287032', '76561198083503210', '76561198040029843', '76561198102687781', 'clear_silver', '76561198087884834', '76561198059727818', '76561198173044905', 'CYACURTY', '76561198071111349', '76561198063185507', 'skivz', '76561198048909927', '76561198068069824', '76561198032143135', '76561198023473880', '76561198088529669', 'fraterNZ', '76561198062377940', 'Headset365', 'wankster', 'DimensionCrew', '76561198068177117', 'Afanofstaff', 'Hashy2010', 'MrGrapeGaming', 'Serwus00', '76561198095846048', '62245757454', 'Pendekar', 'Derpypotato', 'strumfreak', '76561198156015935', 'eternityquest', '76561197991899190', 'ParanoidTurtle', '76561198031967258', '76561198044038344', '76561198023381153', '76561198046089580', '76561198139687835', 'ur_a_Douchenozzle', 'sku11ey', '76561198019617935', '76561198077799578', '76561198067090020', 'The_Ultra_Llama', 'hodgo', 'Lachlan12345', 'somanyinstructions', 'UGPanda', 'WolfBlastFirez', '43643532', '76561198094718859', '47332585890115903727', 'Drizzless', 'BestCyanide', 'mittyt108', '76561198025499996', '76561198037337200', '76561198065448240', 'chpmnksnpr', 'probablynotzach', '76561198042950892', '76561197960788238', 'My_Immortal', 'dogetrellmmmbaconyesplease', 'BVXJX4Em', '76561198077447920', '76561198025563666', '76561198064324096', 'ZiReach', '76561198089905857', '76561198058315872', '76561198100170399', '76561198096670934', '76561198075227229', '76561198041106810', 'McGanja69', '76561198064649950', 'zimbalor', '76561198119358777', '76561198039811383', 'RMOS', '76561198064474936', '76561198072077164', '76561198062325783', '76561198071617315', '76561198079721051', '76561198137568508', '76561198100783402', '76561198065423310', '76561198077605147', 'luizturazzi', '76561198042925191', 'puhak', '76561198098215525', 'Riverthetf2medic', '76561198043550061', 'meiasvivarinapodeconfiar', 'Aggzz91', '76561198075272138', '76561198068354201', '76561198084155744', '76561198211054671', '76561198049916759', '76561198074249881', 'xenesquatro', '76561198103681937', '76561198012110724', '76561198001699914', '76561198085494884', 'kojak2000', 'halback4', 's3ba5t13n', '76561198027686208', 'lmaoslayer', 'Oil_Not_Loyal', '76561198077853581', 'Blitzkrieg2X', 'flynnyfire', '76561198019652792', 'ellzorrr', '76561198041308217', '76561198081686901', '76561198086127331', '76561198036822015', 'TheJewsDidNineEleven', '76561198050299860', '76561198088018211', 'nunkdamonk', '76561198084827752', '76561197996722445', 'mlklokodeitanhaem', '76561198098845763', 'Brendomir', 'readmedude', '76561198068637775', 'hashandtag', '76561198066845155', 'knoxy2001', '76561198071329574', 'doyalikemygun_player_of_games', 'PureGeneration', 'pedropyro', 'bmayall', 'snakentheninja', 'YodaHoda', 'kenkaniff', 'utok85', '76561198153975662', 'zixwot', 'ohmygodtheykilledkennyyoubastard', '76561198121562788', 'TheDetailedMovieTDM', '76561198054147740', '76561198034156056', 'fjackfair', 'brottchombors', '76561198054451849', '76561198030388123', 'Hate_domination', 'KyneticOfficial', '76561198129275085', '76561198080070794', '76561198077722291', '76561198078546874', 'IDKazuto', 'commandertomaz', 'rgauthams', 'kuhn_dog2323', '76561198054552052', 'aosifdjn', '76561198043608225', '76561198018408561', '76561198039328649', 'Zeusmate', 'absz', 'Weet_Bix_Kid_97', '76561198019975893', '76561197998681137', '76561198086647266', '76561197960877501', 'crossfire3240', 'oggylous', 'GERDAGUFERSD', 'AnimuIsLyfe', 'GUNIME', '76561198092635332', 'caionav', 'Cosilan', '76561198047354266', '76561198056212336', 'buddybuddy1red', '76561198057503575', 'PoreotixVail', '76561198067755161', '76561198079550949', '66655493948', '76561198068647964', 'KinkyyyCSGO', '76561198042607997', 'eksdeedeedee', '76561198100646196', '76561198066754925', '12839201', '76561198059493271', '76561198088605004', 'Gayleri', '76561198087913907', 'sumaker947', '76561198057003548', '76561198087919947', '76561198162831665', '76561198146806915', '76561197988647146', '76561198089305478', 'Znade', 'woahlevel20', '76561198033762424', 'hanbollo', 'dkdakter', 'screenshotthisanduploadittoimgur', 'lunaqua', '76561197968133716', 'MrLittleBoop', 'BarretaJrs', 'mavros88', '76561198128784084', '76561198141117919', 'd003', 'raider2knight', 'namkhing22', '76561198005615192', 'mokona', '76561198085383067', '76561198033882565', '76561198016603441', 'rEEzA_AU', '76561198070653163', '76561198084658226', '76561198073108663', 'n0thingirl_smurf', 'ragnolf32', '76561198068518806', 'wicky46', '76561198096176845', 'Zombies_Guardian', 'TomYoko', '76561198059361683', '76561197992498182', '70spots', '76561198060544136', 'TheAlphaTerran', 'notroben', 'unkowncode94', 'FlyingBajr', 'aeonyx', '76561198057787590', '76561198061228520', '76561198041632122', '76561198048016956', 'fuccboi_inc', 'padadula', '76561198016597219', 'fabledhyperdrive', '76561198051966070', 'claulau', '76561198065168512', '76561198114948844', 'd3r3q2e23', '76561198044873127', '76561198051760793', 'cjslattery', '76561198087374224', '76561197989634859', 'sibalnoma', 'Yadhplayer', 'FalconlordxxXXxxXXx', 'Monsta45', 'AkkarinDarkmoor', 'altairgamer', '76561198048754660', 'captainfez', '76561198061762817', 'Frosty_Surge', '76561198089170427', '1801010101', '76561198036999882', 'ShiroEggo', 'ViperV', 'driftertiger51', 'sithjjf', 'downedpanda', '76561198041579842', '76561198079206319', 'furbslice', 'No_Count', 'YUIO977KL', 'SandvichMan', 'fishcathabb', 'beamer3', 'tom1rox', 'TheCraftyYak', '76561198087706617', 'JoboSkull', 'itsmeDiegoXD', '76561197998355551', '5mok3y', '76561198078309023', '76561197978703788', '76561198028041619', '76561198076735654', '76561197960963309', '76561198007338267', '76561198038294997', 'lolijuygter', '76561198089291500', '100101011111000011111111', 'Bottomkiller', '76561198030169794', 'supermaorio', '76561198057076744', '76561198011214122', 'flamesnz', 'simplem8', '76561198034573935', 'bonzeye3', '76561197997056013', 'superaero', '76561198063895046', 'mezzamorph', 'jerrygetajob', 'YoureMyWifeNowDave', '76561198079246056', 'enari_steam', '13305678912', '76561198056182823', 'osmosisbinlaiden', 'thomasbertelli', '76561198082208315', '76561198070785891', 'primenz', '76561198055384264', '76561198064592170', '76561198074323290', '76561198041488013', 'ImWatchingYouFromYourWindow', '76561198042225412', '76561198079545764', 'Mr_Original', '76561198067466605', '76561198074215832', 'cranialperv', '76561198057234651', 'HOLDUPPPPP', '76561197980765740', '76561198106346859', 'Gunzerker1003', '76561198081438573', '76561198009171141', '76561198064217942', '76561198082183627', 'Aquilla96', '76561198065370307', '76561198115750015', 'josehobold', '76561198101896913', '76561198143785725', 'TheElmoDrop', 'ToxiiCDangerRisk', '76561198102254717', '76561198058074936', '76561198116458543', 'Resigning_Bow_The_Penguin_God', '76561198068233289', '76561197976763710', '76561198065450751', 'MS005', '76561198087417568', 'leadbman', '76561198138022508', 'GuyInTheGutter', 'dreadedfungus', '76561198087511576', 'DeathAdder4901', 'k_i_l_l_yourself', '76561198008551473', '4123223232', '76561198056288746', '1892322575', '76561197990979375', 'Technosis', '76561198043943432', 'fusvanhaim', '76561198081440969', '76561198061225607', 'FUCKINGkike', 'Punpun420', '76561197993683483', 'Mishman44', '76561198117877658', 'vizzi0nz', '76561198071324590', 'sanaret', '45667992', '76561198078210923', '76561198077457797', 'chris98981', 'rearae', 'theofficialmrfoo', '76561198049130969', 'cassiexDD', '76561198029286001', '76561198072889555', 'dinkd', 'awesomegillymxt', '76561198108800267', 'MrPolicimo', 'fall3n_archon', '76561197971124277', '76561198074284787', 'aProfileInTheMidOfNowhere', 'stevenw-s', '76561198096178902', 'WoofWofWof', 'Luccyous', '76561198047704110', '76561198072196225', '76561198039581495', '76561198068171319', '76561198078730600', 'marcsprofile', '76561198091493184', '76561198101379613', '76561198097130336', 'dwdas1', '76561197997698322', '76561198035605178', 'GamingDuck268', 'SamA3', '76561198070654567', '76561198104316360', 'cyborgeinstein', 'Mega_guycraft', '76561198073457020', '76561197994407560', 'TheBstard', 'Casowsky', '76561198134648837', '76561198093842609', '76561198069544176', 'TheDracoMC', 'maffoooo7', 'LayzeeBoi', '76561198038098665', 'pogapog', 'ihavebadballslol', '76561197993538123', 'Kayan890', 'diet_crack', 'snipergod31', '76561198136064861', '654986416581986168165', '76561197999174091', '76561197981959164', '76561197983046427', '76561198032351680', 'GunjiRu', '76561198055549430', '76561198077820914', 'curryguts', '76561198073784330', 'nofendsmoremadness', '76561198143918354', '76561198108034200', '76561198074789497', 'gamerman3828', '76561198091447998', '76561198022053608', 'Causation', 'AlexJuen', '76561197996741396', 'lunareaper562', 'moojc', 'cookisland-maori-scottish-thai', 'naomibby', 'IRunWithScissors', '76561198016359317', '76561198072802409', 'Spinafex87', 'NotVengeance', 'midwa', '76561198089754310', 'Rafax93', 'troll678', '76561198071851606', 'MrStealYourSandwich', '76561198039605834', '76561198054462836', 'Dead_Earth', 'TheYap', '76561198089154904', 'flourishx', '76561198104547955', '76561198056014188', 'empirestate96', 'sdgsdfgsdfhshdgh', 'manuel_vega182002', '76561198080037014', '76561198016307048', 'tinytags7', '76561198082173150', '76561198068056922', '76561198047324655', '99kk', 'TuakyGuy', 'tundersky', '76561198027169983', '76561198080157038', 'ThugDuckyOrange', '76561198042063898', '76561198044298623', 'TheMainEventer', '76561198093266099', '76561198075900533', 'The_Aviating_Butler', '76561198078292204', 'NSGLOLGAMER', '76561198040819276', '76561198018572079', '76561198015411069', '76561198080027020', 'netherjack1', '76561198050300819', '76561198066254470', '76561198077804963', 'baco65', '76561198058286440', '76561198080525203', 'lunakitty', 'Senioritis67789', '76561198079096218', 'Anuslicous', 'kibahz', '76561198019938571', '76561198034779239', 'torahiru', '76561198009133922', 'SabreHound', 'ridinyamum', 'FemBoy1998-AU', '76561198097307311', 'swag3333232', '76561198024978857', '76561198066750084', 'TumbleweedCorp', 'Dizzypoke', '76561198074516105', '76561198124225196', 'localgod', '76561198007166637', '76561198054291187', '76561198008263039', '76561198084714366', '76561198053608159', 'KaosGoddess', '76561198131033221', 'asjunnn', 'GetALifeStopLookingAtMyUrl', 'LydiaMorley', '76561198067366139', '76561198129346289', '76561198078752187', '76561198048422769', 'nerrma', '76561198086872866', '76561198070869544', '6367468774734664754', 'Glovezie', 'BADBOYBENNY100', 'SouthernCrux', 'wendyfiore', 'NineODoge', '76561198026999637', 'mightywallposter', 'TAKawesome', '76561198032582216', '62568973', '76561198089095498', '76561198017796978', 'Hawkez', 'Galactics', 'reddayesocks', '76561198052670796', 'skyactivyo', '76561198047563009', 'monkeymatt1211', 'gunslinger101', '76561198033883965', '76561197994405541', '76561198086479820', '76561198068939723', '76561198063235007', 'blndrdkcstrdbth', 'amative', '76561198053383314', 'Night_Hawk381', 'dickycabeza', 'computerqwerty', '76561198021849809', '76561198097062795', '76561198072596405', 'haydos454', '76561198057837016', 'jjas01', 'charmaps5', 'Jakey_Cee', 'Mystance', '76561198055511400', '76561198083911488', 'diabloxfade', '76561198032428003', 'SeanpH', 'vaumsefode', '76561198120937791', 'Oprah_FTWfrey', 'lord_of_the_dark', 'LegoBrownHat', 'Dubzac', 'evilkenshin', '76561198009002611', 'asaelin', '76561198049918506', 'Dessicrater', '42241', 'seedy1', '76561198073638584', '76561198079009167', '76561198045392198', '76561198051909025', '76561197963085108', 'alexanderjb', '76561198043454585', '76561198051976668', '76561197995087932', '76561198050757560', 'Khuth', 'unknightly', '76561198070077764', 'klmao911', '76561198079646585', 'HaydOS_', '76561198050945208', 'ewrewrwrewrewrwerew', '76561198021244661', 'whiplash_J', '76561197963587066', 'lefty25', '76561198084578443', 'ytrewqwert', '76561198058933691', 'dinglenips12', '76561197970809118', '76561198034629473', '76561198028982486', '76561198047321098', 'maggotdeath666', '76561198069070596', 'FunkMeister1', 'larrythebrony', '106816544', '76561198074656338', '76561198080634902', '76561198160543551', '76561198016635228', 'chloepetersen', '76561198008972209', '76561198049432111'}\n"
     ]
    },
    {
     "data": {
      "text/plain": [
       "2845"
      ]
     },
     "execution_count": 119,
     "metadata": {},
     "output_type": "execute_result"
    }
   ],
   "source": [
    "users_de_users_items = list(users_items.user_id.drop_duplicates())\n",
    "users_de_user_reviews = list(user_reviews.user_id.drop_duplicates())\n",
    "print (f' cantidad de users de users_items: ',len(users_de_users_items))\n",
    "print (f' cantidad de users de user_reviews: ',len(users_de_user_reviews))\n",
    "# Convierte las listas en conjuntos\n",
    "users_de_user_reviews_set = set(users_de_user_reviews)\n",
    "users_de_users_items_set = set(users_de_users_items)\n",
    "\n",
    "# Encuentra los elementos en lista1 que no están en lista2\n",
    "usuarios_faltantes = users_de_user_reviews_set - users_de_users_items_set\n",
    "\n",
    "print(\"Elementos en users_de_user_reviews que no están en users_de_users_items:\", usuarios_faltantes)\n",
    "\n",
    "usuarios_faltantes\n",
    "len(usuarios_faltantes)"
   ]
  },
  {
   "cell_type": "markdown",
   "metadata": {},
   "source": [
    "Efectivamente tenemos usuarios no registrados en users_items que se encuentran en user_reviews. Procederemos a eliminar estos usuarios para este primer mvp pero guardaremos los ids para informar de los 2845 usuarios que se encuentran en esta situación."
   ]
  },
  {
   "cell_type": "markdown",
   "metadata": {},
   "source": [
    "# info para el informe"
   ]
  },
  {
   "cell_type": "code",
   "execution_count": 120,
   "metadata": {},
   "outputs": [
    {
     "data": {
      "text/html": [
       "<div>\n",
       "<style scoped>\n",
       "    .dataframe tbody tr th:only-of-type {\n",
       "        vertical-align: middle;\n",
       "    }\n",
       "\n",
       "    .dataframe tbody tr th {\n",
       "        vertical-align: top;\n",
       "    }\n",
       "\n",
       "    .dataframe thead th {\n",
       "        text-align: right;\n",
       "    }\n",
       "</style>\n",
       "<table border=\"1\" class=\"dataframe\">\n",
       "  <thead>\n",
       "    <tr style=\"text-align: right;\">\n",
       "      <th></th>\n",
       "      <th>user_id</th>\n",
       "      <th>user_url</th>\n",
       "      <th>reviews</th>\n",
       "    </tr>\n",
       "  </thead>\n",
       "  <tbody>\n",
       "    <tr>\n",
       "      <th>0</th>\n",
       "      <td>76561197970982479</td>\n",
       "      <td>http://steamcommunity.com/profiles/76561197970982479</td>\n",
       "      <td>[{\"funny\": \"\", \"posted\": \"Posted November 5, 2011.\", \"last_edited\": \"\", \"item_id\": \"1250\", \"help...</td>\n",
       "    </tr>\n",
       "    <tr>\n",
       "      <th>1</th>\n",
       "      <td>js41637</td>\n",
       "      <td>http://steamcommunity.com/id/js41637</td>\n",
       "      <td>[{\"funny\": \"\", \"posted\": \"Posted June 24, 2014.\", \"last_edited\": \"\", \"item_id\": \"251610\", \"helpf...</td>\n",
       "    </tr>\n",
       "    <tr>\n",
       "      <th>2</th>\n",
       "      <td>evcentric</td>\n",
       "      <td>http://steamcommunity.com/id/evcentric</td>\n",
       "      <td>[{\"funny\": \"\", \"posted\": \"Posted February 3.\", \"last_edited\": \"\", \"item_id\": \"248820\", \"helpful\"...</td>\n",
       "    </tr>\n",
       "    <tr>\n",
       "      <th>3</th>\n",
       "      <td>doctr</td>\n",
       "      <td>http://steamcommunity.com/id/doctr</td>\n",
       "      <td>[{\"funny\": \"\", \"posted\": \"Posted October 14, 2013.\", \"last_edited\": \"\", \"item_id\": \"250320\", \"he...</td>\n",
       "    </tr>\n",
       "    <tr>\n",
       "      <th>4</th>\n",
       "      <td>maplemage</td>\n",
       "      <td>http://steamcommunity.com/id/maplemage</td>\n",
       "      <td>[{\"funny\": \"3 people found this review funny\", \"posted\": \"Posted April 15, 2014.\", \"last_edited\"...</td>\n",
       "    </tr>\n",
       "    <tr>\n",
       "      <th>...</th>\n",
       "      <td>...</td>\n",
       "      <td>...</td>\n",
       "      <td>...</td>\n",
       "    </tr>\n",
       "    <tr>\n",
       "      <th>25452</th>\n",
       "      <td>JustMielThings</td>\n",
       "      <td>http://steamcommunity.com/id/JustMielThings</td>\n",
       "      <td>[{\"funny\": \"\", \"posted\": \"Posted May 20.\", \"last_edited\": \"\", \"item_id\": \"570\", \"helpful\": \"No r...</td>\n",
       "    </tr>\n",
       "    <tr>\n",
       "      <th>25453</th>\n",
       "      <td>76561198306599751</td>\n",
       "      <td>http://steamcommunity.com/profiles/76561198306599751</td>\n",
       "      <td>[{\"funny\": \"\", \"posted\": \"Posted May 31.\", \"last_edited\": \"\", \"item_id\": \"261030\", \"helpful\": \"0...</td>\n",
       "    </tr>\n",
       "    <tr>\n",
       "      <th>25454</th>\n",
       "      <td>Ghoustik</td>\n",
       "      <td>http://steamcommunity.com/id/Ghoustik</td>\n",
       "      <td>[{\"funny\": \"\", \"posted\": \"Posted June 17.\", \"last_edited\": \"\", \"item_id\": \"730\", \"helpful\": \"0 o...</td>\n",
       "    </tr>\n",
       "    <tr>\n",
       "      <th>25455</th>\n",
       "      <td>76561198310819422</td>\n",
       "      <td>http://steamcommunity.com/profiles/76561198310819422</td>\n",
       "      <td>[{\"funny\": \"1 person found this review funny\", \"posted\": \"Posted June 23.\", \"last_edited\": \"\", \"...</td>\n",
       "    </tr>\n",
       "    <tr>\n",
       "      <th>25456</th>\n",
       "      <td>76561198312638244</td>\n",
       "      <td>http://steamcommunity.com/profiles/76561198312638244</td>\n",
       "      <td>[{\"funny\": \"\", \"posted\": \"Posted July 21.\", \"last_edited\": \"\", \"item_id\": \"233270\", \"helpful\": \"...</td>\n",
       "    </tr>\n",
       "  </tbody>\n",
       "</table>\n",
       "<p>22613 rows × 3 columns</p>\n",
       "</div>"
      ],
      "text/plain": [
       "                 user_id  \\\n",
       "0      76561197970982479   \n",
       "1                js41637   \n",
       "2              evcentric   \n",
       "3                  doctr   \n",
       "4              maplemage   \n",
       "...                  ...   \n",
       "25452     JustMielThings   \n",
       "25453  76561198306599751   \n",
       "25454           Ghoustik   \n",
       "25455  76561198310819422   \n",
       "25456  76561198312638244   \n",
       "\n",
       "                                                   user_url  \\\n",
       "0      http://steamcommunity.com/profiles/76561197970982479   \n",
       "1                      http://steamcommunity.com/id/js41637   \n",
       "2                    http://steamcommunity.com/id/evcentric   \n",
       "3                        http://steamcommunity.com/id/doctr   \n",
       "4                    http://steamcommunity.com/id/maplemage   \n",
       "...                                                     ...   \n",
       "25452           http://steamcommunity.com/id/JustMielThings   \n",
       "25453  http://steamcommunity.com/profiles/76561198306599751   \n",
       "25454                 http://steamcommunity.com/id/Ghoustik   \n",
       "25455  http://steamcommunity.com/profiles/76561198310819422   \n",
       "25456  http://steamcommunity.com/profiles/76561198312638244   \n",
       "\n",
       "                                                                                                   reviews  \n",
       "0      [{\"funny\": \"\", \"posted\": \"Posted November 5, 2011.\", \"last_edited\": \"\", \"item_id\": \"1250\", \"help...  \n",
       "1      [{\"funny\": \"\", \"posted\": \"Posted June 24, 2014.\", \"last_edited\": \"\", \"item_id\": \"251610\", \"helpf...  \n",
       "2      [{\"funny\": \"\", \"posted\": \"Posted February 3.\", \"last_edited\": \"\", \"item_id\": \"248820\", \"helpful\"...  \n",
       "3      [{\"funny\": \"\", \"posted\": \"Posted October 14, 2013.\", \"last_edited\": \"\", \"item_id\": \"250320\", \"he...  \n",
       "4      [{\"funny\": \"3 people found this review funny\", \"posted\": \"Posted April 15, 2014.\", \"last_edited\"...  \n",
       "...                                                                                                    ...  \n",
       "25452  [{\"funny\": \"\", \"posted\": \"Posted May 20.\", \"last_edited\": \"\", \"item_id\": \"570\", \"helpful\": \"No r...  \n",
       "25453  [{\"funny\": \"\", \"posted\": \"Posted May 31.\", \"last_edited\": \"\", \"item_id\": \"261030\", \"helpful\": \"0...  \n",
       "25454  [{\"funny\": \"\", \"posted\": \"Posted June 17.\", \"last_edited\": \"\", \"item_id\": \"730\", \"helpful\": \"0 o...  \n",
       "25455  [{\"funny\": \"1 person found this review funny\", \"posted\": \"Posted June 23.\", \"last_edited\": \"\", \"...  \n",
       "25456  [{\"funny\": \"\", \"posted\": \"Posted July 21.\", \"last_edited\": \"\", \"item_id\": \"233270\", \"helpful\": \"...  \n",
       "\n",
       "[22613 rows x 3 columns]"
      ]
     },
     "execution_count": 120,
     "metadata": {},
     "output_type": "execute_result"
    }
   ],
   "source": [
    "user_reviews = user_reviews[~(user_reviews.user_id.isin(usuarios_faltantes))]\n",
    "user_reviews"
   ]
  },
  {
   "cell_type": "code",
   "execution_count": 121,
   "metadata": {},
   "outputs": [],
   "source": [
    "user_reviews.to_csv(\"data/raw_user_reviews.csv\",index=False)\n",
    "steam_games_df.to_csv(\"data/raw_steam_games.csv\",index=False)\n",
    "users_items.to_csv(\"data/raw_user_items.csv\",index=False)"
   ]
  }
 ],
 "metadata": {
  "kernelspec": {
   "display_name": "Python 3",
   "language": "python",
   "name": "python3"
  },
  "language_info": {
   "codemirror_mode": {
    "name": "ipython",
    "version": 3
   },
   "file_extension": ".py",
   "mimetype": "text/x-python",
   "name": "python",
   "nbconvert_exporter": "python",
   "pygments_lexer": "ipython3",
   "version": "3.11.0"
  },
  "orig_nbformat": 4
 },
 "nbformat": 4,
 "nbformat_minor": 2
}
