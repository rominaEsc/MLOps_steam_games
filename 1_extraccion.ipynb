{
 "cells": [
  {
   "cell_type": "markdown",
   "metadata": {},
   "source": [
    "# Librerías y configuraciones\n"
   ]
  },
  {
   "cell_type": "code",
   "execution_count": 529,
   "metadata": {},
   "outputs": [],
   "source": [
    "import gzip\n",
    "import ast\n",
    "import json\n",
    "import pandas as pd"
   ]
  },
  {
   "cell_type": "code",
   "execution_count": 530,
   "metadata": {},
   "outputs": [],
   "source": [
    "pd.set_option('display.max_colwidth', 100)"
   ]
  },
  {
   "cell_type": "markdown",
   "metadata": {},
   "source": [
    "---"
   ]
  },
  {
   "cell_type": "markdown",
   "metadata": {},
   "source": [
    "# Funciones auxiliares."
   ]
  },
  {
   "cell_type": "code",
   "execution_count": 531,
   "metadata": {},
   "outputs": [],
   "source": [
    "def duplicados_de(df):\n",
    "    df_columns = df.columns.tolist()\n",
    "    for i in df.columns:\n",
    "        print( 'Duplicados de ',i,': ', df.duplicated(subset=i,keep=False).sum())"
   ]
  },
  {
   "cell_type": "markdown",
   "metadata": {},
   "source": [
    "----------------"
   ]
  },
  {
   "cell_type": "markdown",
   "metadata": {},
   "source": [
    "-----------"
   ]
  },
  {
   "cell_type": "markdown",
   "metadata": {},
   "source": [
    "# Extracción de datos"
   ]
  },
  {
   "cell_type": "markdown",
   "metadata": {},
   "source": [
    "----"
   ]
  },
  {
   "cell_type": "markdown",
   "metadata": {},
   "source": [
    "# user_reviews"
   ]
  },
  {
   "cell_type": "markdown",
   "metadata": {},
   "source": [
    "----------------"
   ]
  },
  {
   "cell_type": "markdown",
   "metadata": {},
   "source": [
    "Carga de datos"
   ]
  },
  {
   "cell_type": "code",
   "execution_count": 532,
   "metadata": {},
   "outputs": [
    {
     "data": {
      "text/html": [
       "<div>\n",
       "<style scoped>\n",
       "    .dataframe tbody tr th:only-of-type {\n",
       "        vertical-align: middle;\n",
       "    }\n",
       "\n",
       "    .dataframe tbody tr th {\n",
       "        vertical-align: top;\n",
       "    }\n",
       "\n",
       "    .dataframe thead th {\n",
       "        text-align: right;\n",
       "    }\n",
       "</style>\n",
       "<table border=\"1\" class=\"dataframe\">\n",
       "  <thead>\n",
       "    <tr style=\"text-align: right;\">\n",
       "      <th></th>\n",
       "      <th>user_id</th>\n",
       "      <th>user_url</th>\n",
       "      <th>reviews</th>\n",
       "    </tr>\n",
       "  </thead>\n",
       "  <tbody>\n",
       "    <tr>\n",
       "      <th>0</th>\n",
       "      <td>76561197970982479</td>\n",
       "      <td>http://steamcommunity.com/profiles/76561197970982479</td>\n",
       "      <td>[{'funny': '', 'posted': 'Posted November 5, 2011.', 'last_edited': '', 'item_id': '1250', 'help...</td>\n",
       "    </tr>\n",
       "    <tr>\n",
       "      <th>1</th>\n",
       "      <td>js41637</td>\n",
       "      <td>http://steamcommunity.com/id/js41637</td>\n",
       "      <td>[{'funny': '', 'posted': 'Posted June 24, 2014.', 'last_edited': '', 'item_id': '251610', 'helpf...</td>\n",
       "    </tr>\n",
       "  </tbody>\n",
       "</table>\n",
       "</div>"
      ],
      "text/plain": [
       "             user_id                                              user_url  \\\n",
       "0  76561197970982479  http://steamcommunity.com/profiles/76561197970982479   \n",
       "1            js41637                  http://steamcommunity.com/id/js41637   \n",
       "\n",
       "                                                                                               reviews  \n",
       "0  [{'funny': '', 'posted': 'Posted November 5, 2011.', 'last_edited': '', 'item_id': '1250', 'help...  \n",
       "1  [{'funny': '', 'posted': 'Posted June 24, 2014.', 'last_edited': '', 'item_id': '251610', 'helpf...  "
      ]
     },
     "execution_count": 532,
     "metadata": {},
     "output_type": "execute_result"
    }
   ],
   "source": [
    "datos = []\n",
    "\n",
    "# Usamos with porque es una declaración de contexto en Python. \n",
    "# Se utiliza para asegurar que un recurso se abra y se cierre correctamente.\n",
    "# Usamos gzip para abrir y descomprimir el archivo\n",
    "with gzip.open(\"data/raws/user_reviews.json.gz\", 'rt', encoding='utf-8') as archivo_descomprimido:\n",
    "    \n",
    "    for linea in archivo_descomprimido:\n",
    "        # eval() evalua una cadena de texto (string) que contiene una expresión o código Python.\n",
    "        # En este caso evalua los strings de cada línea y nos devuelve un diccionario por línea\n",
    "        dato = eval(linea)\n",
    "        # Los agregamos a la lista 'datos'\n",
    "        datos.append(dato)\n",
    "\n",
    "user_reviews_raw = pd.DataFrame(datos)\n",
    "user_reviews_raw.head(2)"
   ]
  },
  {
   "cell_type": "markdown",
   "metadata": {},
   "source": [
    "----------"
   ]
  },
  {
   "cell_type": "markdown",
   "metadata": {},
   "source": [
    "Análisis de duplicados y nulos."
   ]
  },
  {
   "cell_type": "code",
   "execution_count": 533,
   "metadata": {},
   "outputs": [
    {
     "name": "stdout",
     "output_type": "stream",
     "text": [
      "<class 'pandas.core.frame.DataFrame'>\n",
      "RangeIndex: 25799 entries, 0 to 25798\n",
      "Data columns (total 3 columns):\n",
      " #   Column    Non-Null Count  Dtype \n",
      "---  ------    --------------  ----- \n",
      " 0   user_id   25799 non-null  object\n",
      " 1   user_url  25799 non-null  object\n",
      " 2   reviews   25799 non-null  object\n",
      "dtypes: object(3)\n",
      "memory usage: 604.8+ KB\n"
     ]
    }
   ],
   "source": [
    "user_reviews_raw.info()"
   ]
  },
  {
   "cell_type": "markdown",
   "metadata": {},
   "source": [
    "La función .info() nos dice que todos los valores de la tabla son no nulos."
   ]
  },
  {
   "cell_type": "markdown",
   "metadata": {},
   "source": [
    "Trabajaremos en una tabla user_reviews para no afectar los datos crudos."
   ]
  },
  {
   "cell_type": "code",
   "execution_count": 534,
   "metadata": {},
   "outputs": [],
   "source": [
    "user_reviews = user_reviews_raw"
   ]
  },
  {
   "cell_type": "code",
   "execution_count": 535,
   "metadata": {},
   "outputs": [
    {
     "name": "stdout",
     "output_type": "stream",
     "text": [
      "Filas duplicadas:  313\n"
     ]
    }
   ],
   "source": [
    "user_reviews['reviews'] = user_reviews['reviews'].apply(lambda x: json.dumps(x)) \n",
    "# convertimos los datos de reviews en str para poder usar duplicated()\n",
    "print('Filas duplicadas: ',user_reviews.duplicated().sum())"
   ]
  },
  {
   "cell_type": "markdown",
   "metadata": {},
   "source": [
    "Tenemos 313 filas duplicadas que eliminaremos."
   ]
  },
  {
   "cell_type": "code",
   "execution_count": 536,
   "metadata": {},
   "outputs": [],
   "source": [
    "user_reviews = user_reviews.drop_duplicates().reset_index(drop=True)"
   ]
  },
  {
   "cell_type": "markdown",
   "metadata": {},
   "source": [
    "Ahora analizaremos las filas que poseen campos duplicados por columna."
   ]
  },
  {
   "cell_type": "code",
   "execution_count": 537,
   "metadata": {},
   "outputs": [
    {
     "name": "stdout",
     "output_type": "stream",
     "text": [
      "Duplicados de  user_id :  2\n",
      "Duplicados de  user_url :  2\n",
      "Duplicados de  reviews :  28\n"
     ]
    }
   ],
   "source": [
    "duplicados_de(user_reviews)"
   ]
  },
  {
   "cell_type": "code",
   "execution_count": 538,
   "metadata": {},
   "outputs": [
    {
     "data": {
      "text/html": [
       "<div>\n",
       "<style scoped>\n",
       "    .dataframe tbody tr th:only-of-type {\n",
       "        vertical-align: middle;\n",
       "    }\n",
       "\n",
       "    .dataframe tbody tr th {\n",
       "        vertical-align: top;\n",
       "    }\n",
       "\n",
       "    .dataframe thead th {\n",
       "        text-align: right;\n",
       "    }\n",
       "</style>\n",
       "<table border=\"1\" class=\"dataframe\">\n",
       "  <thead>\n",
       "    <tr style=\"text-align: right;\">\n",
       "      <th></th>\n",
       "      <th>user_id</th>\n",
       "      <th>user_url</th>\n",
       "      <th>reviews</th>\n",
       "    </tr>\n",
       "  </thead>\n",
       "  <tbody>\n",
       "    <tr>\n",
       "      <th>83</th>\n",
       "      <td>76561198094224872</td>\n",
       "      <td>http://steamcommunity.com/profiles/76561198094224872</td>\n",
       "      <td>[]</td>\n",
       "    </tr>\n",
       "    <tr>\n",
       "      <th>8865</th>\n",
       "      <td>76561198094224872</td>\n",
       "      <td>http://steamcommunity.com/profiles/76561198094224872</td>\n",
       "      <td>[{\"funny\": \"\", \"posted\": \"Posted April 30.\", \"last_edited\": \"\", \"item_id\": \"72850\", \"helpful\": \"...</td>\n",
       "    </tr>\n",
       "  </tbody>\n",
       "</table>\n",
       "</div>"
      ],
      "text/plain": [
       "                user_id                                              user_url  \\\n",
       "83    76561198094224872  http://steamcommunity.com/profiles/76561198094224872   \n",
       "8865  76561198094224872  http://steamcommunity.com/profiles/76561198094224872   \n",
       "\n",
       "                                                                                                  reviews  \n",
       "83                                                                                                     []  \n",
       "8865  [{\"funny\": \"\", \"posted\": \"Posted April 30.\", \"last_edited\": \"\", \"item_id\": \"72850\", \"helpful\": \"...  "
      ]
     },
     "execution_count": 538,
     "metadata": {},
     "output_type": "execute_result"
    }
   ],
   "source": [
    "(\n",
    "    user_reviews[user_reviews.duplicated(subset='user_id',keep=False)]\n",
    ")"
   ]
  },
  {
   "cell_type": "markdown",
   "metadata": {},
   "source": [
    "Podemos observar que este usuario posee un registro vacio, lo que nos permitió notar que tenemos reviews en blanco marcados por '[]'. Procederemos a eliminarlos."
   ]
  },
  {
   "cell_type": "code",
   "execution_count": 539,
   "metadata": {},
   "outputs": [],
   "source": [
    "user_reviews = user_reviews[user_reviews.reviews !='[]'].reset_index(drop=True)"
   ]
  },
  {
   "cell_type": "code",
   "execution_count": 540,
   "metadata": {},
   "outputs": [
    {
     "name": "stdout",
     "output_type": "stream",
     "text": [
      "Duplicados de user_id:  0\n",
      "Duplicados de user_url:  0\n",
      "Duplicados de reviews:  0\n"
     ]
    }
   ],
   "source": [
    "print( 'Duplicados de user_id: ', user_reviews.duplicated(subset='user_id',keep=False).sum())\n",
    "print( 'Duplicados de user_url: ', user_reviews.duplicated(subset='user_url',keep=False).sum())\n",
    "print( 'Duplicados de reviews: ', user_reviews.duplicated(subset='reviews',keep=False).sum())\n"
   ]
  },
  {
   "cell_type": "markdown",
   "metadata": {},
   "source": [
    "La tabla ya no posee datos nulos ni duplicados."
   ]
  },
  {
   "cell_type": "code",
   "execution_count": 541,
   "metadata": {},
   "outputs": [],
   "source": [
    "# user_reviews"
   ]
  },
  {
   "cell_type": "markdown",
   "metadata": {},
   "source": [
    "---------"
   ]
  },
  {
   "cell_type": "markdown",
   "metadata": {},
   "source": [
    "----"
   ]
  },
  {
   "cell_type": "markdown",
   "metadata": {},
   "source": [
    "# users_items"
   ]
  },
  {
   "cell_type": "markdown",
   "metadata": {},
   "source": [
    "----"
   ]
  },
  {
   "cell_type": "code",
   "execution_count": 542,
   "metadata": {},
   "outputs": [],
   "source": [
    "# Abre el archivo .gz y lo descomprime\n",
    "datos = []\n",
    "with gzip.open('data/raws/users_items.json.gz', 'rt', encoding='utf-8') as archivo_descomprimido:\n",
    "    for linea in archivo_descomprimido:\n",
    "        dato = eval(linea)\n",
    "        datos.append(dato)\n",
    "\n",
    "users_items_raw = pd.DataFrame(datos)"
   ]
  },
  {
   "cell_type": "code",
   "execution_count": 543,
   "metadata": {},
   "outputs": [
    {
     "data": {
      "text/html": [
       "<div>\n",
       "<style scoped>\n",
       "    .dataframe tbody tr th:only-of-type {\n",
       "        vertical-align: middle;\n",
       "    }\n",
       "\n",
       "    .dataframe tbody tr th {\n",
       "        vertical-align: top;\n",
       "    }\n",
       "\n",
       "    .dataframe thead th {\n",
       "        text-align: right;\n",
       "    }\n",
       "</style>\n",
       "<table border=\"1\" class=\"dataframe\">\n",
       "  <thead>\n",
       "    <tr style=\"text-align: right;\">\n",
       "      <th></th>\n",
       "      <th>user_id</th>\n",
       "      <th>items_count</th>\n",
       "      <th>steam_id</th>\n",
       "      <th>user_url</th>\n",
       "      <th>items</th>\n",
       "    </tr>\n",
       "  </thead>\n",
       "  <tbody>\n",
       "    <tr>\n",
       "      <th>0</th>\n",
       "      <td>76561197970982479</td>\n",
       "      <td>277</td>\n",
       "      <td>76561197970982479</td>\n",
       "      <td>http://steamcommunity.com/profiles/76561197970982479</td>\n",
       "      <td>[{'item_id': '10', 'item_name': 'Counter-Strike', 'playtime_forever': 6, 'playtime_2weeks': 0}, ...</td>\n",
       "    </tr>\n",
       "    <tr>\n",
       "      <th>1</th>\n",
       "      <td>js41637</td>\n",
       "      <td>888</td>\n",
       "      <td>76561198035864385</td>\n",
       "      <td>http://steamcommunity.com/id/js41637</td>\n",
       "      <td>[{'item_id': '10', 'item_name': 'Counter-Strike', 'playtime_forever': 0, 'playtime_2weeks': 0}, ...</td>\n",
       "    </tr>\n",
       "  </tbody>\n",
       "</table>\n",
       "</div>"
      ],
      "text/plain": [
       "             user_id  items_count           steam_id  \\\n",
       "0  76561197970982479          277  76561197970982479   \n",
       "1            js41637          888  76561198035864385   \n",
       "\n",
       "                                               user_url  \\\n",
       "0  http://steamcommunity.com/profiles/76561197970982479   \n",
       "1                  http://steamcommunity.com/id/js41637   \n",
       "\n",
       "                                                                                                 items  \n",
       "0  [{'item_id': '10', 'item_name': 'Counter-Strike', 'playtime_forever': 6, 'playtime_2weeks': 0}, ...  \n",
       "1  [{'item_id': '10', 'item_name': 'Counter-Strike', 'playtime_forever': 0, 'playtime_2weeks': 0}, ...  "
      ]
     },
     "execution_count": 543,
     "metadata": {},
     "output_type": "execute_result"
    }
   ],
   "source": [
    "users_items_raw.head(2)"
   ]
  },
  {
   "cell_type": "code",
   "execution_count": 544,
   "metadata": {},
   "outputs": [
    {
     "name": "stdout",
     "output_type": "stream",
     "text": [
      "<class 'pandas.core.frame.DataFrame'>\n",
      "RangeIndex: 88310 entries, 0 to 88309\n",
      "Data columns (total 5 columns):\n",
      " #   Column       Non-Null Count  Dtype \n",
      "---  ------       --------------  ----- \n",
      " 0   user_id      88310 non-null  object\n",
      " 1   items_count  88310 non-null  int64 \n",
      " 2   steam_id     88310 non-null  object\n",
      " 3   user_url     88310 non-null  object\n",
      " 4   items        88310 non-null  object\n",
      "dtypes: int64(1), object(4)\n",
      "memory usage: 3.4+ MB\n"
     ]
    }
   ],
   "source": [
    "users_items_raw.info()"
   ]
  },
  {
   "cell_type": "markdown",
   "metadata": {},
   "source": [
    "Podemos ver que todos los datos de user_items son no nulos."
   ]
  },
  {
   "cell_type": "markdown",
   "metadata": {},
   "source": [
    "----"
   ]
  },
  {
   "cell_type": "markdown",
   "metadata": {},
   "source": [
    "Análisis de duplicados y nulos."
   ]
  },
  {
   "cell_type": "code",
   "execution_count": 545,
   "metadata": {},
   "outputs": [],
   "source": [
    "users_items = users_items_raw\n",
    "users_items['items'] = users_items['items'].apply(lambda x: json.dumps(x)) # convertimos los datos de reviews en str para poder usar duplicated()"
   ]
  },
  {
   "cell_type": "code",
   "execution_count": 546,
   "metadata": {},
   "outputs": [
    {
     "data": {
      "text/plain": [
       "'[{'"
      ]
     },
     "execution_count": 546,
     "metadata": {},
     "output_type": "execute_result"
    }
   ],
   "source": [
    "# Revisamos los datos de la columna items\n",
    "users_items_raw.at[0, 'items'][0:2]"
   ]
  },
  {
   "cell_type": "code",
   "execution_count": 547,
   "metadata": {},
   "outputs": [
    {
     "name": "stdout",
     "output_type": "stream",
     "text": [
      "Filas duplicadas:  657\n"
     ]
    }
   ],
   "source": [
    "print('Filas duplicadas: ',users_items.duplicated().sum())"
   ]
  },
  {
   "cell_type": "markdown",
   "metadata": {},
   "source": [
    "Tenemos 657 filas duplicadas que eliminaremos."
   ]
  },
  {
   "cell_type": "code",
   "execution_count": 548,
   "metadata": {},
   "outputs": [],
   "source": [
    "users_items = users_items.drop_duplicates().reset_index(drop=True)"
   ]
  },
  {
   "cell_type": "code",
   "execution_count": 549,
   "metadata": {},
   "outputs": [
    {
     "name": "stdout",
     "output_type": "stream",
     "text": [
      "Duplicados de  user_id :  53\n",
      "Duplicados de  items_count :  87355\n",
      "Duplicados de  steam_id :  55\n",
      "Duplicados de  user_url :  53\n",
      "Duplicados de  items :  18857\n"
     ]
    }
   ],
   "source": [
    "duplicados_de(users_items)"
   ]
  },
  {
   "cell_type": "markdown",
   "metadata": {},
   "source": [
    "Podemos observar que tenemos 53 user_id duplicados y 53 user_url duplicados."
   ]
  },
  {
   "cell_type": "code",
   "execution_count": 550,
   "metadata": {},
   "outputs": [
    {
     "data": {
      "text/html": [
       "<div>\n",
       "<style scoped>\n",
       "    .dataframe tbody tr th:only-of-type {\n",
       "        vertical-align: middle;\n",
       "    }\n",
       "\n",
       "    .dataframe tbody tr th {\n",
       "        vertical-align: top;\n",
       "    }\n",
       "\n",
       "    .dataframe thead th {\n",
       "        text-align: right;\n",
       "    }\n",
       "</style>\n",
       "<table border=\"1\" class=\"dataframe\">\n",
       "  <thead>\n",
       "    <tr style=\"text-align: right;\">\n",
       "      <th></th>\n",
       "      <th>user_id</th>\n",
       "      <th>items_count</th>\n",
       "      <th>steam_id</th>\n",
       "      <th>user_url</th>\n",
       "      <th>items</th>\n",
       "    </tr>\n",
       "  </thead>\n",
       "  <tbody>\n",
       "    <tr>\n",
       "      <th>4075</th>\n",
       "      <td>76561198050680344</td>\n",
       "      <td>125</td>\n",
       "      <td>76561198050680344</td>\n",
       "      <td>http://steamcommunity.com/profiles/76561198050680344</td>\n",
       "      <td>[{\"item_id\": \"4000\", \"item_name\": \"Garry's Mod\", \"playtime_forever\": 4128, \"playtime_2weeks\": 12...</td>\n",
       "    </tr>\n",
       "    <tr>\n",
       "      <th>14958</th>\n",
       "      <td>76561198050680344</td>\n",
       "      <td>125</td>\n",
       "      <td>76561198050680344</td>\n",
       "      <td>http://steamcommunity.com/profiles/76561198050680344</td>\n",
       "      <td>[{\"item_id\": \"4000\", \"item_name\": \"Garry's Mod\", \"playtime_forever\": 4128, \"playtime_2weeks\": 12...</td>\n",
       "    </tr>\n",
       "    <tr>\n",
       "      <th>32714</th>\n",
       "      <td>76561198063371165</td>\n",
       "      <td>45</td>\n",
       "      <td>76561198063371165</td>\n",
       "      <td>http://steamcommunity.com/profiles/76561198063371165</td>\n",
       "      <td>[{\"item_id\": \"3320\", \"item_name\": \"Insaniquarium! Deluxe\", \"playtime_forever\": 390, \"playtime_2w...</td>\n",
       "    </tr>\n",
       "    <tr>\n",
       "      <th>32713</th>\n",
       "      <td>76561198063371165</td>\n",
       "      <td>45</td>\n",
       "      <td>76561198063371165</td>\n",
       "      <td>http://steamcommunity.com/profiles/76561198063371165</td>\n",
       "      <td>[{\"item_id\": \"3320\", \"item_name\": \"Insaniquarium! Deluxe\", \"playtime_forever\": 390, \"playtime_2w...</td>\n",
       "    </tr>\n",
       "    <tr>\n",
       "      <th>35104</th>\n",
       "      <td>76561198064484479</td>\n",
       "      <td>336</td>\n",
       "      <td>76561198064484479</td>\n",
       "      <td>http://steamcommunity.com/profiles/76561198064484479</td>\n",
       "      <td>[{\"item_id\": \"10\", \"item_name\": \"Counter-Strike\", \"playtime_forever\": 1436, \"playtime_2weeks\": 0...</td>\n",
       "    </tr>\n",
       "  </tbody>\n",
       "</table>\n",
       "</div>"
      ],
      "text/plain": [
       "                 user_id  items_count           steam_id  \\\n",
       "4075   76561198050680344          125  76561198050680344   \n",
       "14958  76561198050680344          125  76561198050680344   \n",
       "32714  76561198063371165           45  76561198063371165   \n",
       "32713  76561198063371165           45  76561198063371165   \n",
       "35104  76561198064484479          336  76561198064484479   \n",
       "\n",
       "                                                   user_url  \\\n",
       "4075   http://steamcommunity.com/profiles/76561198050680344   \n",
       "14958  http://steamcommunity.com/profiles/76561198050680344   \n",
       "32714  http://steamcommunity.com/profiles/76561198063371165   \n",
       "32713  http://steamcommunity.com/profiles/76561198063371165   \n",
       "35104  http://steamcommunity.com/profiles/76561198064484479   \n",
       "\n",
       "                                                                                                     items  \n",
       "4075   [{\"item_id\": \"4000\", \"item_name\": \"Garry's Mod\", \"playtime_forever\": 4128, \"playtime_2weeks\": 12...  \n",
       "14958  [{\"item_id\": \"4000\", \"item_name\": \"Garry's Mod\", \"playtime_forever\": 4128, \"playtime_2weeks\": 12...  \n",
       "32714  [{\"item_id\": \"3320\", \"item_name\": \"Insaniquarium! Deluxe\", \"playtime_forever\": 390, \"playtime_2w...  \n",
       "32713  [{\"item_id\": \"3320\", \"item_name\": \"Insaniquarium! Deluxe\", \"playtime_forever\": 390, \"playtime_2w...  \n",
       "35104  [{\"item_id\": \"10\", \"item_name\": \"Counter-Strike\", \"playtime_forever\": 1436, \"playtime_2weeks\": 0...  "
      ]
     },
     "execution_count": 550,
     "metadata": {},
     "output_type": "execute_result"
    }
   ],
   "source": [
    "users_items[users_items.duplicated(subset='user_id',keep=False)].sort_values('user_id').head(5)"
   ]
  },
  {
   "cell_type": "code",
   "execution_count": 551,
   "metadata": {},
   "outputs": [],
   "source": [
    "cadena1 = str(users_items.at[4075,'items'])\n",
    "cadena2 = str(users_items.at[4075,'items'])\n",
    "i=0\n",
    "for caracter in cadena1:\n",
    "    \n",
    "    if cadena1[i] != cadena2[i]:\n",
    "        print (i)\n",
    "    i+=1"
   ]
  },
  {
   "cell_type": "code",
   "execution_count": 552,
   "metadata": {},
   "outputs": [
    {
     "name": "stdout",
     "output_type": "stream",
     "text": [
      "Las cadenas difieren en el carácter 12575: \"playtime_forever\": 1997, \"playtime_2weeks\": 1997} != \"playtime_forever\": 2058, \"playtime_2weeks\": 2058}\n"
     ]
    }
   ],
   "source": [
    "cadena1 = (users_items.at[4075,'items'])\n",
    "cadena2 = (users_items.at[14958,'items'])\n",
    "rango = min(len(cadena1), len(cadena2))\n",
    "\n",
    "# Itera sobre las posiciones hasta la longitud mínima\n",
    "for i in range(rango):\n",
    "    if cadena1[i] != cadena2[i]:\n",
    "        print(f'Las cadenas difieren en el carácter {i}: {cadena1[i-20:i+30]} != {cadena2[i-20:i+30]}')\n",
    "        break"
   ]
  },
  {
   "cell_type": "markdown",
   "metadata": {},
   "source": [
    "Podemos ver que estas filas difieren en la cantidad de horas que un usuario consumió un item. Luego de desanidar esta columna se decidirá que hacer con los datos duplicados en el campo user_id."
   ]
  },
  {
   "cell_type": "markdown",
   "metadata": {},
   "source": [
    "Exploraremos si existen listas vacias en los datos de la columna items."
   ]
  },
  {
   "cell_type": "code",
   "execution_count": 553,
   "metadata": {},
   "outputs": [
    {
     "data": {
      "text/html": [
       "<div>\n",
       "<style scoped>\n",
       "    .dataframe tbody tr th:only-of-type {\n",
       "        vertical-align: middle;\n",
       "    }\n",
       "\n",
       "    .dataframe tbody tr th {\n",
       "        vertical-align: top;\n",
       "    }\n",
       "\n",
       "    .dataframe thead th {\n",
       "        text-align: right;\n",
       "    }\n",
       "</style>\n",
       "<table border=\"1\" class=\"dataframe\">\n",
       "  <thead>\n",
       "    <tr style=\"text-align: right;\">\n",
       "      <th></th>\n",
       "      <th>user_id</th>\n",
       "      <th>items_count</th>\n",
       "      <th>steam_id</th>\n",
       "      <th>user_url</th>\n",
       "      <th>items</th>\n",
       "    </tr>\n",
       "  </thead>\n",
       "  <tbody>\n",
       "    <tr>\n",
       "      <th>9</th>\n",
       "      <td>Wackky</td>\n",
       "      <td>0</td>\n",
       "      <td>76561198039117046</td>\n",
       "      <td>http://steamcommunity.com/id/Wackky</td>\n",
       "      <td>[]</td>\n",
       "    </tr>\n",
       "    <tr>\n",
       "      <th>11</th>\n",
       "      <td>76561198079601835</td>\n",
       "      <td>0</td>\n",
       "      <td>76561198079601835</td>\n",
       "      <td>http://steamcommunity.com/profiles/76561198079601835</td>\n",
       "      <td>[]</td>\n",
       "    </tr>\n",
       "    <tr>\n",
       "      <th>31</th>\n",
       "      <td>hellom8o</td>\n",
       "      <td>0</td>\n",
       "      <td>76561198117222320</td>\n",
       "      <td>http://steamcommunity.com/id/hellom8o</td>\n",
       "      <td>[]</td>\n",
       "    </tr>\n",
       "    <tr>\n",
       "      <th>38</th>\n",
       "      <td>starkillershadow553</td>\n",
       "      <td>0</td>\n",
       "      <td>76561198059648579</td>\n",
       "      <td>http://steamcommunity.com/id/starkillershadow553</td>\n",
       "      <td>[]</td>\n",
       "    </tr>\n",
       "    <tr>\n",
       "      <th>54</th>\n",
       "      <td>darkenkane</td>\n",
       "      <td>0</td>\n",
       "      <td>76561198058876001</td>\n",
       "      <td>http://steamcommunity.com/id/darkenkane</td>\n",
       "      <td>[]</td>\n",
       "    </tr>\n",
       "    <tr>\n",
       "      <th>...</th>\n",
       "      <td>...</td>\n",
       "      <td>...</td>\n",
       "      <td>...</td>\n",
       "      <td>...</td>\n",
       "      <td>...</td>\n",
       "    </tr>\n",
       "    <tr>\n",
       "      <th>87641</th>\n",
       "      <td>76561198316380182</td>\n",
       "      <td>0</td>\n",
       "      <td>76561198316380182</td>\n",
       "      <td>http://steamcommunity.com/profiles/76561198316380182</td>\n",
       "      <td>[]</td>\n",
       "    </tr>\n",
       "    <tr>\n",
       "      <th>87642</th>\n",
       "      <td>76561198316970597</td>\n",
       "      <td>0</td>\n",
       "      <td>76561198316970597</td>\n",
       "      <td>http://steamcommunity.com/profiles/76561198316970597</td>\n",
       "      <td>[]</td>\n",
       "    </tr>\n",
       "    <tr>\n",
       "      <th>87643</th>\n",
       "      <td>76561198318100691</td>\n",
       "      <td>0</td>\n",
       "      <td>76561198318100691</td>\n",
       "      <td>http://steamcommunity.com/profiles/76561198318100691</td>\n",
       "      <td>[]</td>\n",
       "    </tr>\n",
       "    <tr>\n",
       "      <th>87650</th>\n",
       "      <td>XxLaughingJackClown77xX</td>\n",
       "      <td>0</td>\n",
       "      <td>76561198328759259</td>\n",
       "      <td>http://steamcommunity.com/id/XxLaughingJackClown77xX</td>\n",
       "      <td>[]</td>\n",
       "    </tr>\n",
       "    <tr>\n",
       "      <th>87652</th>\n",
       "      <td>edward_tremethick</td>\n",
       "      <td>0</td>\n",
       "      <td>76561198331598578</td>\n",
       "      <td>http://steamcommunity.com/id/edward_tremethick</td>\n",
       "      <td>[]</td>\n",
       "    </tr>\n",
       "  </tbody>\n",
       "</table>\n",
       "<p>16714 rows × 5 columns</p>\n",
       "</div>"
      ],
      "text/plain": [
       "                       user_id  items_count           steam_id  \\\n",
       "9                       Wackky            0  76561198039117046   \n",
       "11           76561198079601835            0  76561198079601835   \n",
       "31                    hellom8o            0  76561198117222320   \n",
       "38         starkillershadow553            0  76561198059648579   \n",
       "54                  darkenkane            0  76561198058876001   \n",
       "...                        ...          ...                ...   \n",
       "87641        76561198316380182            0  76561198316380182   \n",
       "87642        76561198316970597            0  76561198316970597   \n",
       "87643        76561198318100691            0  76561198318100691   \n",
       "87650  XxLaughingJackClown77xX            0  76561198328759259   \n",
       "87652        edward_tremethick            0  76561198331598578   \n",
       "\n",
       "                                                   user_url items  \n",
       "9                       http://steamcommunity.com/id/Wackky    []  \n",
       "11     http://steamcommunity.com/profiles/76561198079601835    []  \n",
       "31                    http://steamcommunity.com/id/hellom8o    []  \n",
       "38         http://steamcommunity.com/id/starkillershadow553    []  \n",
       "54                  http://steamcommunity.com/id/darkenkane    []  \n",
       "...                                                     ...   ...  \n",
       "87641  http://steamcommunity.com/profiles/76561198316380182    []  \n",
       "87642  http://steamcommunity.com/profiles/76561198316970597    []  \n",
       "87643  http://steamcommunity.com/profiles/76561198318100691    []  \n",
       "87650  http://steamcommunity.com/id/XxLaughingJackClown77xX    []  \n",
       "87652        http://steamcommunity.com/id/edward_tremethick    []  \n",
       "\n",
       "[16714 rows x 5 columns]"
      ]
     },
     "execution_count": 553,
     "metadata": {},
     "output_type": "execute_result"
    }
   ],
   "source": [
    "users_items[users_items['items'] == '[]']"
   ]
  },
  {
   "cell_type": "markdown",
   "metadata": {},
   "source": [
    "Podemos observar que tenemos usuarios que no han consumido ningun item por lo que items_count es 0 e items posee '[]'. Eliminaremos estos usuarios del df principal pero guardaremos esta información en una tabla."
   ]
  },
  {
   "cell_type": "code",
   "execution_count": 554,
   "metadata": {},
   "outputs": [],
   "source": [
    "users_0items_count = users_items[users_items['items'] == '[]']"
   ]
  },
  {
   "cell_type": "code",
   "execution_count": 555,
   "metadata": {},
   "outputs": [],
   "source": [
    "users_items = users_items[users_items['items'] !='[]'].reset_index(drop=True)"
   ]
  },
  {
   "cell_type": "markdown",
   "metadata": {},
   "source": [
    "revisemos nuevamente los duplicados"
   ]
  },
  {
   "cell_type": "code",
   "execution_count": 556,
   "metadata": {},
   "outputs": [
    {
     "name": "stdout",
     "output_type": "stream",
     "text": [
      "Duplicados de  user_id :  53\n",
      "Duplicados de  items_count :  70641\n",
      "Duplicados de  steam_id :  53\n",
      "Duplicados de  user_url :  53\n",
      "Duplicados de  items :  2143\n"
     ]
    }
   ],
   "source": [
    "duplicados_de(users_items)"
   ]
  },
  {
   "cell_type": "markdown",
   "metadata": {},
   "source": [
    "Tenemos 53 duplicados de los que nos ocuparemos en un análisis posterior. Los valores duplicados de items_count e items son esperados así que los mantendremos."
   ]
  },
  {
   "cell_type": "markdown",
   "metadata": {},
   "source": [
    "---------"
   ]
  },
  {
   "cell_type": "markdown",
   "metadata": {},
   "source": [
    "-----"
   ]
  },
  {
   "cell_type": "markdown",
   "metadata": {},
   "source": [
    "# steam_games"
   ]
  },
  {
   "cell_type": "markdown",
   "metadata": {},
   "source": [
    "Cargamos los datos del archivo steam_games.json.gz"
   ]
  },
  {
   "cell_type": "code",
   "execution_count": 557,
   "metadata": {},
   "outputs": [],
   "source": [
    "datos = []\n",
    "\n",
    "# Usamos with porque es una declaración de contexto en Python. \n",
    "# Se utiliza para asegurar que un recurso se abra y se cierre correctamente.\n",
    "# Usamos gzip para abrir y descomprimir el archivo games_ruta\n",
    "with gzip.open(\"data/raws/steam_games.json.gz\", 'rt', encoding='utf-8') as archivo_descomprimido:\n",
    "    for linea in archivo_descomprimido:\n",
    "        # Cargamos cada línea como un objeto JSON\n",
    "        obj_json = json.loads(linea)\n",
    "        # Los agregamos a la lista 'datos'\n",
    "        datos.append(obj_json)\n",
    "# creamos un df a partir de la lista 'datos'\n",
    "gamesRaw = pd.DataFrame(datos)"
   ]
  },
  {
   "cell_type": "markdown",
   "metadata": {},
   "source": [
    "Exploramos esos datos"
   ]
  },
  {
   "cell_type": "code",
   "execution_count": 558,
   "metadata": {},
   "outputs": [
    {
     "data": {
      "text/plain": [
       "Index(['publisher', 'genres', 'app_name', 'title', 'url', 'release_date',\n",
       "       'tags', 'reviews_url', 'discount_price', 'specs', 'price',\n",
       "       'early_access', 'id', 'metascore', 'developer', 'user_id', 'steam_id',\n",
       "       'items', 'items_count'],\n",
       "      dtype='object')"
      ]
     },
     "execution_count": 558,
     "metadata": {},
     "output_type": "execute_result"
    }
   ],
   "source": [
    "gamesRaw.columns"
   ]
  },
  {
   "cell_type": "code",
   "execution_count": 559,
   "metadata": {},
   "outputs": [
    {
     "name": "stdout",
     "output_type": "stream",
     "text": [
      "<class 'pandas.core.frame.DataFrame'>\n",
      "RangeIndex: 120445 entries, 0 to 120444\n",
      "Data columns (total 19 columns):\n",
      " #   Column          Non-Null Count  Dtype  \n",
      "---  ------          --------------  -----  \n",
      " 0   publisher       24083 non-null  object \n",
      " 1   genres          28852 non-null  object \n",
      " 2   app_name        32133 non-null  object \n",
      " 3   title           30085 non-null  object \n",
      " 4   url             32135 non-null  object \n",
      " 5   release_date    30068 non-null  object \n",
      " 6   tags            31972 non-null  object \n",
      " 7   reviews_url     32133 non-null  object \n",
      " 8   discount_price  225 non-null    float64\n",
      " 9   specs           31465 non-null  object \n",
      " 10  price           30758 non-null  object \n",
      " 11  early_access    32135 non-null  object \n",
      " 12  id              32133 non-null  object \n",
      " 13  metascore       2677 non-null   object \n",
      " 14  developer       28836 non-null  object \n",
      " 15  user_id         88310 non-null  object \n",
      " 16  steam_id        88310 non-null  object \n",
      " 17  items           88310 non-null  object \n",
      " 18  items_count     88310 non-null  float64\n",
      "dtypes: float64(2), object(17)\n",
      "memory usage: 17.5+ MB\n"
     ]
    }
   ],
   "source": [
    "gamesRaw.info()"
   ]
  },
  {
   "cell_type": "markdown",
   "metadata": {},
   "source": [
    "-----"
   ]
  },
  {
   "cell_type": "markdown",
   "metadata": {},
   "source": [
    "Vamos a revisar la cantidad de datos nulos"
   ]
  },
  {
   "cell_type": "code",
   "execution_count": 560,
   "metadata": {},
   "outputs": [
    {
     "data": {
      "text/plain": [
       "publisher          96362\n",
       "genres             91593\n",
       "app_name           88312\n",
       "title              90360\n",
       "url                88310\n",
       "release_date       90377\n",
       "tags               88473\n",
       "reviews_url        88312\n",
       "discount_price    120220\n",
       "specs              88980\n",
       "price              89687\n",
       "early_access       88310\n",
       "id                 88312\n",
       "metascore         117768\n",
       "developer          91609\n",
       "user_id            32135\n",
       "steam_id           32135\n",
       "items              32135\n",
       "items_count        32135\n",
       "dtype: int64"
      ]
     },
     "execution_count": 560,
     "metadata": {},
     "output_type": "execute_result"
    }
   ],
   "source": [
    "(\n",
    "    gamesRaw\n",
    "    .isna()\n",
    "    .sum()\n",
    ")"
   ]
  },
  {
   "cell_type": "markdown",
   "metadata": {},
   "source": [
    "Podemos notar que las las columnas 'user_id', 'steam_id','items' e 'items_count' poseen la misma cantidad de datos nulos."
   ]
  },
  {
   "cell_type": "markdown",
   "metadata": {},
   "source": [
    "veamos la cantidad de filas que poseen nulos en todas sus columnas"
   ]
  },
  {
   "cell_type": "code",
   "execution_count": 561,
   "metadata": {},
   "outputs": [
    {
     "name": "stdout",
     "output_type": "stream",
     "text": [
      "0 filas con todos sus valores nulos\n"
     ]
    }
   ],
   "source": [
    "cant_filas_solo_nulos = gamesRaw[gamesRaw.isna().all(axis=1)].shape[0]\n",
    "print (cant_filas_solo_nulos, 'filas con todos sus valores nulos')"
   ]
  },
  {
   "cell_type": "markdown",
   "metadata": {},
   "source": [
    "Revisaremos ahora las filas que no tienen valores nulos en user_id"
   ]
  },
  {
   "cell_type": "code",
   "execution_count": 562,
   "metadata": {},
   "outputs": [
    {
     "name": "stdout",
     "output_type": "stream",
     "text": [
      "<class 'pandas.core.frame.DataFrame'>\n",
      "Int64Index: 88310 entries, 0 to 88309\n",
      "Data columns (total 19 columns):\n",
      " #   Column          Non-Null Count  Dtype  \n",
      "---  ------          --------------  -----  \n",
      " 0   publisher       0 non-null      object \n",
      " 1   genres          0 non-null      object \n",
      " 2   app_name        0 non-null      object \n",
      " 3   title           0 non-null      object \n",
      " 4   url             0 non-null      object \n",
      " 5   release_date    0 non-null      object \n",
      " 6   tags            0 non-null      object \n",
      " 7   reviews_url     0 non-null      object \n",
      " 8   discount_price  0 non-null      float64\n",
      " 9   specs           0 non-null      object \n",
      " 10  price           0 non-null      object \n",
      " 11  early_access    0 non-null      object \n",
      " 12  id              0 non-null      object \n",
      " 13  metascore       0 non-null      object \n",
      " 14  developer       0 non-null      object \n",
      " 15  user_id         88310 non-null  object \n",
      " 16  steam_id        88310 non-null  object \n",
      " 17  items           88310 non-null  object \n",
      " 18  items_count     88310 non-null  float64\n",
      "dtypes: float64(2), object(17)\n",
      "memory usage: 13.5+ MB\n"
     ]
    }
   ],
   "source": [
    "gamesRaw[gamesRaw['user_id'].notna()].info()"
   ]
  },
  {
   "cell_type": "markdown",
   "metadata": {},
   "source": [
    "Podemos ver que todas las filas no contienen valores no nulos en user_id, poseen valores nulos en las primeras 15 columnas de la tabla. Por lo que entendemos que estamos en presencia de dos tablas independientes unidas."
   ]
  },
  {
   "cell_type": "markdown",
   "metadata": {},
   "source": [
    "-------"
   ]
  },
  {
   "cell_type": "markdown",
   "metadata": {},
   "source": [
    "Revisaremos si la tabla items obtenida del archivo 'users_items.json.gz' es la que se encuentrea anexada a stam_games"
   ]
  },
  {
   "cell_type": "code",
   "execution_count": 563,
   "metadata": {},
   "outputs": [
    {
     "data": {
      "text/plain": [
       "Index(['publisher', 'genres', 'app_name', 'title', 'url', 'release_date',\n",
       "       'tags', 'reviews_url', 'discount_price', 'specs', 'price',\n",
       "       'early_access', 'id', 'metascore', 'developer', 'user_id', 'steam_id',\n",
       "       'items', 'items_count'],\n",
       "      dtype='object')"
      ]
     },
     "execution_count": 563,
     "metadata": {},
     "output_type": "execute_result"
    }
   ],
   "source": [
    "gamesRaw.columns"
   ]
  },
  {
   "cell_type": "code",
   "execution_count": 564,
   "metadata": {},
   "outputs": [
    {
     "data": {
      "text/plain": [
       "Index(['user_id', 'items_count', 'steam_id', 'user_url', 'items'], dtype='object')"
      ]
     },
     "execution_count": 564,
     "metadata": {},
     "output_type": "execute_result"
    }
   ],
   "source": [
    "users_items.columns"
   ]
  },
  {
   "cell_type": "code",
   "execution_count": 565,
   "metadata": {},
   "outputs": [
    {
     "name": "stdout",
     "output_type": "stream",
     "text": [
      "users_items_raw = items_anexados_a_steam_games? False\n",
      "users_items_raw.user_id = items_anexados_a_steam_games.user_id? True\n",
      "users_items_raw.items_count = items_anexados_a_steam_games.items_count? False\n",
      "users_items_raw.steam_id = items_anexados_a_steam_games.steam_id? True\n",
      "users_items_raw.items = items_anexados_a_steam_games.items? False\n"
     ]
    }
   ],
   "source": [
    "items_anexados_a_steam_games = gamesRaw[['user_id','items_count','steam_id','items']]\n",
    "items_anexados_a_steam_games = items_anexados_a_steam_games.dropna()\n",
    "print('users_items_raw = items_anexados_a_steam_games?', users_items_raw.equals(items_anexados_a_steam_games))\n",
    "print('users_items_raw.user_id = items_anexados_a_steam_games.user_id?', users_items_raw.user_id.equals(items_anexados_a_steam_games.user_id))\n",
    "print('users_items_raw.items_count = items_anexados_a_steam_games.items_count?', users_items_raw.items_count.equals(items_anexados_a_steam_games.items_count))\n",
    "print('users_items_raw.steam_id = items_anexados_a_steam_games.steam_id?', users_items_raw.steam_id.equals(items_anexados_a_steam_games.steam_id))\n",
    "print('users_items_raw.items = items_anexados_a_steam_games.items?', users_items_raw['items'].equals(items_anexados_a_steam_games['items']))\n"
   ]
  },
  {
   "cell_type": "markdown",
   "metadata": {},
   "source": [
    "Las columnas items tienen valores nulos?"
   ]
  },
  {
   "cell_type": "code",
   "execution_count": 566,
   "metadata": {},
   "outputs": [
    {
     "name": "stdout",
     "output_type": "stream",
     "text": [
      "<class 'pandas.core.frame.DataFrame'>\n",
      "RangeIndex: 88310 entries, 0 to 88309\n",
      "Data columns (total 5 columns):\n",
      " #   Column       Non-Null Count  Dtype \n",
      "---  ------       --------------  ----- \n",
      " 0   user_id      88310 non-null  object\n",
      " 1   items_count  88310 non-null  int64 \n",
      " 2   steam_id     88310 non-null  object\n",
      " 3   user_url     88310 non-null  object\n",
      " 4   items        88310 non-null  object\n",
      "dtypes: int64(1), object(4)\n",
      "memory usage: 3.4+ MB\n"
     ]
    }
   ],
   "source": [
    "users_items_raw.info()"
   ]
  },
  {
   "cell_type": "code",
   "execution_count": 567,
   "metadata": {},
   "outputs": [
    {
     "name": "stdout",
     "output_type": "stream",
     "text": [
      "<class 'pandas.core.frame.DataFrame'>\n",
      "Int64Index: 88310 entries, 0 to 88309\n",
      "Data columns (total 4 columns):\n",
      " #   Column       Non-Null Count  Dtype  \n",
      "---  ------       --------------  -----  \n",
      " 0   user_id      88310 non-null  object \n",
      " 1   items_count  88310 non-null  float64\n",
      " 2   steam_id     88310 non-null  object \n",
      " 3   items        88310 non-null  object \n",
      "dtypes: float64(1), object(3)\n",
      "memory usage: 3.4+ MB\n"
     ]
    }
   ],
   "source": [
    "items_anexados_a_steam_games.info()"
   ]
  },
  {
   "cell_type": "markdown",
   "metadata": {},
   "source": [
    "No poseen valores nulos pero podemos notar que difieren en el tipo de dato."
   ]
  },
  {
   "cell_type": "code",
   "execution_count": 568,
   "metadata": {},
   "outputs": [
    {
     "name": "stdout",
     "output_type": "stream",
     "text": [
      "El tipo de la columna 'users_items.items_count' es  int64\n",
      "El tipo de la columna 'items_anexados_a_steam_games.items_count' es  float64\n"
     ]
    }
   ],
   "source": [
    "print(\"El tipo de la columna 'users_items.items_count' es \", users_items_raw.items_count.dtypes)\n",
    "print(\"El tipo de la columna 'items_anexados_a_steam_games.items_count' es \", items_anexados_a_steam_games.items_count.dtypes)"
   ]
  },
  {
   "cell_type": "markdown",
   "metadata": {},
   "source": [
    "Cambiaremos el tipo de 'users_items_raw.items_count' para hacer nuevamente la comparación."
   ]
  },
  {
   "cell_type": "code",
   "execution_count": 569,
   "metadata": {},
   "outputs": [
    {
     "name": "stdout",
     "output_type": "stream",
     "text": [
      "El tipo de la columna 'users_items_raw_comparacion.items_count' es  float64\n"
     ]
    }
   ],
   "source": [
    "users_items_raw_comparacion = users_items_raw\n",
    "users_items_raw_comparacion.items_count = users_items_raw.items_count.astype(\"float64\")\n",
    "print(\"El tipo de la columna 'users_items_raw_comparacion.items_count' es \", users_items_raw.items_count.dtypes)"
   ]
  },
  {
   "cell_type": "code",
   "execution_count": 570,
   "metadata": {},
   "outputs": [
    {
     "name": "stdout",
     "output_type": "stream",
     "text": [
      "users_items.items_count = items_anexados_a_steam_games.items_count? True\n"
     ]
    }
   ],
   "source": [
    "print('users_items.items_count = items_anexados_a_steam_games.items_count?', users_items_raw.items_count.equals(items_anexados_a_steam_games.items_count))"
   ]
  },
  {
   "cell_type": "markdown",
   "metadata": {},
   "source": [
    "Hemos confirmado que la tabla items es la que se encuentra anexada a games por lo que procederemos a eliminarla."
   ]
  },
  {
   "cell_type": "markdown",
   "metadata": {},
   "source": [
    "----"
   ]
  },
  {
   "cell_type": "code",
   "execution_count": 571,
   "metadata": {},
   "outputs": [
    {
     "name": "stderr",
     "output_type": "stream",
     "text": [
      "C:\\Users\\Usuario\\AppData\\Local\\Temp\\ipykernel_8596\\1216846831.py:2: SettingWithCopyWarning: \n",
      "A value is trying to be set on a copy of a slice from a DataFrame\n",
      "\n",
      "See the caveats in the documentation: https://pandas.pydata.org/pandas-docs/stable/user_guide/indexing.html#returning-a-view-versus-a-copy\n",
      "  steam_games_df.drop(columns=['user_id', 'steam_id','items', 'items_count'], inplace=True)\n"
     ]
    },
    {
     "data": {
      "text/html": [
       "<div>\n",
       "<style scoped>\n",
       "    .dataframe tbody tr th:only-of-type {\n",
       "        vertical-align: middle;\n",
       "    }\n",
       "\n",
       "    .dataframe tbody tr th {\n",
       "        vertical-align: top;\n",
       "    }\n",
       "\n",
       "    .dataframe thead th {\n",
       "        text-align: right;\n",
       "    }\n",
       "</style>\n",
       "<table border=\"1\" class=\"dataframe\">\n",
       "  <thead>\n",
       "    <tr style=\"text-align: right;\">\n",
       "      <th></th>\n",
       "      <th>publisher</th>\n",
       "      <th>genres</th>\n",
       "      <th>app_name</th>\n",
       "      <th>title</th>\n",
       "      <th>url</th>\n",
       "      <th>release_date</th>\n",
       "      <th>tags</th>\n",
       "      <th>reviews_url</th>\n",
       "      <th>discount_price</th>\n",
       "      <th>specs</th>\n",
       "      <th>price</th>\n",
       "      <th>early_access</th>\n",
       "      <th>item_id</th>\n",
       "      <th>metascore</th>\n",
       "      <th>developer</th>\n",
       "    </tr>\n",
       "  </thead>\n",
       "  <tbody>\n",
       "    <tr>\n",
       "      <th>0</th>\n",
       "      <td>Kotoshiro</td>\n",
       "      <td>[Action, Casual, Indie, Simulation, Strategy]</td>\n",
       "      <td>Lost Summoner Kitty</td>\n",
       "      <td>Lost Summoner Kitty</td>\n",
       "      <td>http://store.steampowered.com/app/761140/Lost_Summoner_Kitty/</td>\n",
       "      <td>2018-01-04</td>\n",
       "      <td>[Strategy, Action, Indie, Casual, Simulation]</td>\n",
       "      <td>http://steamcommunity.com/app/761140/reviews/?browsefilter=mostrecent&amp;p=1</td>\n",
       "      <td>4.49</td>\n",
       "      <td>[Single-player]</td>\n",
       "      <td>4.99</td>\n",
       "      <td>False</td>\n",
       "      <td>761140</td>\n",
       "      <td>NaN</td>\n",
       "      <td>Kotoshiro</td>\n",
       "    </tr>\n",
       "    <tr>\n",
       "      <th>1</th>\n",
       "      <td>Making Fun, Inc.</td>\n",
       "      <td>[Free to Play, Indie, RPG, Strategy]</td>\n",
       "      <td>Ironbound</td>\n",
       "      <td>Ironbound</td>\n",
       "      <td>http://store.steampowered.com/app/643980/Ironbound/</td>\n",
       "      <td>2018-01-04</td>\n",
       "      <td>[Free to Play, Strategy, Indie, RPG, Card Game, Trading Card Game, Turn-Based, Fantasy, Tactical...</td>\n",
       "      <td>http://steamcommunity.com/app/643980/reviews/?browsefilter=mostrecent&amp;p=1</td>\n",
       "      <td>NaN</td>\n",
       "      <td>[Single-player, Multi-player, Online Multi-Player, Cross-Platform Multiplayer, Steam Achievement...</td>\n",
       "      <td>Free To Play</td>\n",
       "      <td>False</td>\n",
       "      <td>643980</td>\n",
       "      <td>NaN</td>\n",
       "      <td>Secret Level SRL</td>\n",
       "    </tr>\n",
       "  </tbody>\n",
       "</table>\n",
       "</div>"
      ],
      "text/plain": [
       "          publisher                                         genres  \\\n",
       "0         Kotoshiro  [Action, Casual, Indie, Simulation, Strategy]   \n",
       "1  Making Fun, Inc.           [Free to Play, Indie, RPG, Strategy]   \n",
       "\n",
       "              app_name                title  \\\n",
       "0  Lost Summoner Kitty  Lost Summoner Kitty   \n",
       "1            Ironbound            Ironbound   \n",
       "\n",
       "                                                             url release_date  \\\n",
       "0  http://store.steampowered.com/app/761140/Lost_Summoner_Kitty/   2018-01-04   \n",
       "1            http://store.steampowered.com/app/643980/Ironbound/   2018-01-04   \n",
       "\n",
       "                                                                                                  tags  \\\n",
       "0                                                        [Strategy, Action, Indie, Casual, Simulation]   \n",
       "1  [Free to Play, Strategy, Indie, RPG, Card Game, Trading Card Game, Turn-Based, Fantasy, Tactical...   \n",
       "\n",
       "                                                                 reviews_url  \\\n",
       "0  http://steamcommunity.com/app/761140/reviews/?browsefilter=mostrecent&p=1   \n",
       "1  http://steamcommunity.com/app/643980/reviews/?browsefilter=mostrecent&p=1   \n",
       "\n",
       "   discount_price  \\\n",
       "0            4.49   \n",
       "1             NaN   \n",
       "\n",
       "                                                                                                 specs  \\\n",
       "0                                                                                      [Single-player]   \n",
       "1  [Single-player, Multi-player, Online Multi-Player, Cross-Platform Multiplayer, Steam Achievement...   \n",
       "\n",
       "          price early_access item_id metascore         developer  \n",
       "0          4.99        False  761140       NaN         Kotoshiro  \n",
       "1  Free To Play        False  643980       NaN  Secret Level SRL  "
      ]
     },
     "execution_count": 571,
     "metadata": {},
     "output_type": "execute_result"
    }
   ],
   "source": [
    "steam_games_df = gamesRaw[~gamesRaw['user_id'].notna()] #  eliminamos las filas donde 'user_id' posee valores distintos de NaN\n",
    "steam_games_df.drop(columns=['user_id', 'steam_id','items', 'items_count'], inplace=True)\n",
    "steam_games_df = steam_games_df.rename(columns={'id':'item_id'})\n",
    "steam_games_df.reset_index(drop=True, inplace=True)\n",
    "steam_games_df.head(2)"
   ]
  },
  {
   "cell_type": "code",
   "execution_count": 572,
   "metadata": {},
   "outputs": [
    {
     "name": "stdout",
     "output_type": "stream",
     "text": [
      "<class 'pandas.core.frame.DataFrame'>\n",
      "RangeIndex: 32135 entries, 0 to 32134\n",
      "Data columns (total 15 columns):\n",
      " #   Column          Non-Null Count  Dtype  \n",
      "---  ------          --------------  -----  \n",
      " 0   publisher       24083 non-null  object \n",
      " 1   genres          28852 non-null  object \n",
      " 2   app_name        32133 non-null  object \n",
      " 3   title           30085 non-null  object \n",
      " 4   url             32135 non-null  object \n",
      " 5   release_date    30068 non-null  object \n",
      " 6   tags            31972 non-null  object \n",
      " 7   reviews_url     32133 non-null  object \n",
      " 8   discount_price  225 non-null    float64\n",
      " 9   specs           31465 non-null  object \n",
      " 10  price           30758 non-null  object \n",
      " 11  early_access    32135 non-null  object \n",
      " 12  item_id         32133 non-null  object \n",
      " 13  metascore       2677 non-null   object \n",
      " 14  developer       28836 non-null  object \n",
      "dtypes: float64(1), object(14)\n",
      "memory usage: 3.7+ MB\n"
     ]
    }
   ],
   "source": [
    "steam_games_df.info()"
   ]
  },
  {
   "cell_type": "code",
   "execution_count": 573,
   "metadata": {},
   "outputs": [
    {
     "data": {
      "text/plain": [
       "0.7331955099465312"
      ]
     },
     "execution_count": 573,
     "metadata": {},
     "output_type": "execute_result"
    }
   ],
   "source": [
    "(120444-32135) / 120444"
   ]
  },
  {
   "cell_type": "markdown",
   "metadata": {},
   "source": [
    "Al eliminar las columnas 'user_id', 'steam_id', 'items' y 'items_count', hemos reducido un 75% del dataframe games."
   ]
  },
  {
   "cell_type": "markdown",
   "metadata": {},
   "source": [
    "---------"
   ]
  },
  {
   "cell_type": "markdown",
   "metadata": {},
   "source": [
    "Analisis de los valores duplicados de steam_games_df"
   ]
  },
  {
   "cell_type": "code",
   "execution_count": 574,
   "metadata": {},
   "outputs": [],
   "source": [
    "# No podemos usar el siguiente código porque una columna contiene listas\n",
    "# (\n",
    "#     steam_games_df\n",
    "#     .duplicated()\n",
    "#     .sum()\n",
    "# )\n",
    "# Asi que analizaremos los duplicados por columnas"
   ]
  },
  {
   "cell_type": "code",
   "execution_count": 575,
   "metadata": {},
   "outputs": [
    {
     "data": {
      "text/plain": [
       "2"
      ]
     },
     "execution_count": 575,
     "metadata": {},
     "output_type": "execute_result"
    }
   ],
   "source": [
    "(\n",
    "    steam_games_df\n",
    "    .duplicated(subset='item_id')\n",
    "    .sum()\n",
    ")\n"
   ]
  },
  {
   "cell_type": "markdown",
   "metadata": {},
   "source": [
    "Existen items con el mismo item_id"
   ]
  },
  {
   "cell_type": "code",
   "execution_count": 576,
   "metadata": {},
   "outputs": [
    {
     "data": {
      "text/html": [
       "<div>\n",
       "<style scoped>\n",
       "    .dataframe tbody tr th:only-of-type {\n",
       "        vertical-align: middle;\n",
       "    }\n",
       "\n",
       "    .dataframe tbody tr th {\n",
       "        vertical-align: top;\n",
       "    }\n",
       "\n",
       "    .dataframe thead th {\n",
       "        text-align: right;\n",
       "    }\n",
       "</style>\n",
       "<table border=\"1\" class=\"dataframe\">\n",
       "  <thead>\n",
       "    <tr style=\"text-align: right;\">\n",
       "      <th></th>\n",
       "      <th>publisher</th>\n",
       "      <th>genres</th>\n",
       "      <th>app_name</th>\n",
       "      <th>title</th>\n",
       "      <th>url</th>\n",
       "      <th>release_date</th>\n",
       "      <th>tags</th>\n",
       "      <th>reviews_url</th>\n",
       "      <th>discount_price</th>\n",
       "      <th>specs</th>\n",
       "      <th>price</th>\n",
       "      <th>early_access</th>\n",
       "      <th>item_id</th>\n",
       "      <th>metascore</th>\n",
       "      <th>developer</th>\n",
       "    </tr>\n",
       "  </thead>\n",
       "  <tbody>\n",
       "    <tr>\n",
       "      <th>74</th>\n",
       "      <td>NaN</td>\n",
       "      <td>NaN</td>\n",
       "      <td>NaN</td>\n",
       "      <td>NaN</td>\n",
       "      <td>http://store.steampowered.com/</td>\n",
       "      <td>NaN</td>\n",
       "      <td>NaN</td>\n",
       "      <td>NaN</td>\n",
       "      <td>14.99</td>\n",
       "      <td>NaN</td>\n",
       "      <td>19.99</td>\n",
       "      <td>False</td>\n",
       "      <td>NaN</td>\n",
       "      <td>NaN</td>\n",
       "      <td>NaN</td>\n",
       "    </tr>\n",
       "    <tr>\n",
       "      <th>13894</th>\n",
       "      <td>Bethesda Softworks</td>\n",
       "      <td>[Action]</td>\n",
       "      <td>Wolfenstein II: The New Colossus</td>\n",
       "      <td>Wolfenstein II: The New Colossus</td>\n",
       "      <td>http://store.steampowered.com/app/612880/</td>\n",
       "      <td>2017-10-26</td>\n",
       "      <td>[Action, FPS, Gore, Violent, Alternate History, Singleplayer, First-Person, Shooter, Story Rich,...</td>\n",
       "      <td>http://steamcommunity.com/app/612880/reviews/?browsefilter=mostrecent&amp;p=1</td>\n",
       "      <td>NaN</td>\n",
       "      <td>[Single-player, Steam Achievements, Full controller support, Steam Cloud]</td>\n",
       "      <td>59.99</td>\n",
       "      <td>False</td>\n",
       "      <td>612880</td>\n",
       "      <td>86</td>\n",
       "      <td>Machine Games</td>\n",
       "    </tr>\n",
       "    <tr>\n",
       "      <th>14573</th>\n",
       "      <td>Bethesda Softworks</td>\n",
       "      <td>[Action]</td>\n",
       "      <td>Wolfenstein II: The New Colossus</td>\n",
       "      <td>Wolfenstein II: The New Colossus</td>\n",
       "      <td>http://store.steampowered.com/app/612880/Wolfenstein_II_The_New_Colossus/</td>\n",
       "      <td>2017-10-26</td>\n",
       "      <td>[Action, FPS, Gore, Violent, Alternate History, Singleplayer, First-Person, Shooter, Story Rich,...</td>\n",
       "      <td>http://steamcommunity.com/app/612880/reviews/?browsefilter=mostrecent&amp;p=1</td>\n",
       "      <td>NaN</td>\n",
       "      <td>[Single-player, Steam Achievements, Full controller support, Steam Cloud]</td>\n",
       "      <td>59.99</td>\n",
       "      <td>False</td>\n",
       "      <td>612880</td>\n",
       "      <td>86</td>\n",
       "      <td>Machine Games</td>\n",
       "    </tr>\n",
       "    <tr>\n",
       "      <th>30961</th>\n",
       "      <td>Warner Bros. Interactive Entertainment, Feral Interactive (Mac)</td>\n",
       "      <td>[Action, Adventure]</td>\n",
       "      <td>Batman: Arkham City - Game of the Year Edition</td>\n",
       "      <td>Batman: Arkham City - Game of the Year Edition</td>\n",
       "      <td>http://store.steampowered.com/app/200260</td>\n",
       "      <td>2012-09-07</td>\n",
       "      <td>[Action, Open World, Batman, Adventure, Stealth, Third Person, Superhero, Singleplayer, Beat 'em...</td>\n",
       "      <td>NaN</td>\n",
       "      <td>NaN</td>\n",
       "      <td>[Single-player, Steam Achievements, Steam Trading Cards, Partial Controller Support, Steam Cloud]</td>\n",
       "      <td>19.99</td>\n",
       "      <td>False</td>\n",
       "      <td>NaN</td>\n",
       "      <td>91</td>\n",
       "      <td>Rocksteady Studios,Feral Interactive (Mac)</td>\n",
       "    </tr>\n",
       "  </tbody>\n",
       "</table>\n",
       "</div>"
      ],
      "text/plain": [
       "                                                             publisher  \\\n",
       "74                                                                 NaN   \n",
       "13894                                               Bethesda Softworks   \n",
       "14573                                               Bethesda Softworks   \n",
       "30961  Warner Bros. Interactive Entertainment, Feral Interactive (Mac)   \n",
       "\n",
       "                    genres                                        app_name  \\\n",
       "74                     NaN                                             NaN   \n",
       "13894             [Action]                Wolfenstein II: The New Colossus   \n",
       "14573             [Action]                Wolfenstein II: The New Colossus   \n",
       "30961  [Action, Adventure]  Batman: Arkham City - Game of the Year Edition   \n",
       "\n",
       "                                                title  \\\n",
       "74                                                NaN   \n",
       "13894                Wolfenstein II: The New Colossus   \n",
       "14573                Wolfenstein II: The New Colossus   \n",
       "30961  Batman: Arkham City - Game of the Year Edition   \n",
       "\n",
       "                                                                             url  \\\n",
       "74                                                http://store.steampowered.com/   \n",
       "13894                                  http://store.steampowered.com/app/612880/   \n",
       "14573  http://store.steampowered.com/app/612880/Wolfenstein_II_The_New_Colossus/   \n",
       "30961                                   http://store.steampowered.com/app/200260   \n",
       "\n",
       "      release_date  \\\n",
       "74             NaN   \n",
       "13894   2017-10-26   \n",
       "14573   2017-10-26   \n",
       "30961   2012-09-07   \n",
       "\n",
       "                                                                                                      tags  \\\n",
       "74                                                                                                     NaN   \n",
       "13894  [Action, FPS, Gore, Violent, Alternate History, Singleplayer, First-Person, Shooter, Story Rich,...   \n",
       "14573  [Action, FPS, Gore, Violent, Alternate History, Singleplayer, First-Person, Shooter, Story Rich,...   \n",
       "30961  [Action, Open World, Batman, Adventure, Stealth, Third Person, Superhero, Singleplayer, Beat 'em...   \n",
       "\n",
       "                                                                     reviews_url  \\\n",
       "74                                                                           NaN   \n",
       "13894  http://steamcommunity.com/app/612880/reviews/?browsefilter=mostrecent&p=1   \n",
       "14573  http://steamcommunity.com/app/612880/reviews/?browsefilter=mostrecent&p=1   \n",
       "30961                                                                        NaN   \n",
       "\n",
       "       discount_price  \\\n",
       "74              14.99   \n",
       "13894             NaN   \n",
       "14573             NaN   \n",
       "30961             NaN   \n",
       "\n",
       "                                                                                                   specs  \\\n",
       "74                                                                                                   NaN   \n",
       "13894                          [Single-player, Steam Achievements, Full controller support, Steam Cloud]   \n",
       "14573                          [Single-player, Steam Achievements, Full controller support, Steam Cloud]   \n",
       "30961  [Single-player, Steam Achievements, Steam Trading Cards, Partial Controller Support, Steam Cloud]   \n",
       "\n",
       "       price early_access item_id metascore  \\\n",
       "74     19.99        False     NaN       NaN   \n",
       "13894  59.99        False  612880        86   \n",
       "14573  59.99        False  612880        86   \n",
       "30961  19.99        False     NaN        91   \n",
       "\n",
       "                                        developer  \n",
       "74                                            NaN  \n",
       "13894                               Machine Games  \n",
       "14573                               Machine Games  \n",
       "30961  Rocksteady Studios,Feral Interactive (Mac)  "
      ]
     },
     "execution_count": 576,
     "metadata": {},
     "output_type": "execute_result"
    }
   ],
   "source": [
    "steam_games_df[steam_games_df.duplicated(subset='item_id',keep=False)]"
   ]
  },
  {
   "cell_type": "markdown",
   "metadata": {},
   "source": [
    "¿En qué se diferencian estas filas?"
   ]
  },
  {
   "cell_type": "code",
   "execution_count": 577,
   "metadata": {},
   "outputs": [
    {
     "name": "stdout",
     "output_type": "stream",
     "text": [
      "Columnas en las que difieren las filas:\n",
      "['url', 'discount_price']\n"
     ]
    }
   ],
   "source": [
    "fila1 = steam_games_df.loc[13894]\n",
    "fila2 = steam_games_df.loc[14573]\n",
    "\n",
    "columnas_diferentes = fila1 != fila2 # me devuelve true/false \n",
    "columnas_diferentes = columnas_diferentes[columnas_diferentes] # filtra las columnas que son true\n",
    "\n",
    "print(\"Columnas en las que difieren las filas:\")\n",
    "print(columnas_diferentes.index.tolist()) # Hace una lista con los nombres de las columnas diferentes"
   ]
  },
  {
   "cell_type": "code",
   "execution_count": 578,
   "metadata": {},
   "outputs": [
    {
     "name": "stdout",
     "output_type": "stream",
     "text": [
      "nan\n",
      "nan\n"
     ]
    }
   ],
   "source": [
    "print (steam_games_df.at[13894,'discount_price'])\n",
    "print (steam_games_df.at[14573,'discount_price'])"
   ]
  },
  {
   "cell_type": "code",
   "execution_count": 579,
   "metadata": {},
   "outputs": [
    {
     "name": "stdout",
     "output_type": "stream",
     "text": [
      "http://store.steampowered.com/app/612880/\n",
      "http://store.steampowered.com/app/612880/Wolfenstein_II_The_New_Colossus/\n"
     ]
    }
   ],
   "source": [
    "print (steam_games_df.at[13894,'url'])\n",
    "print (steam_games_df.at[14573,'url'])"
   ]
  },
  {
   "cell_type": "markdown",
   "metadata": {},
   "source": [
    "Hemos probado ambos links y llevan al mismo sitio por lo que solo dejaremos un registro"
   ]
  },
  {
   "cell_type": "code",
   "execution_count": 580,
   "metadata": {},
   "outputs": [],
   "source": [
    "steam_games_df = steam_games_df.drop([74,14573])"
   ]
  },
  {
   "cell_type": "markdown",
   "metadata": {},
   "source": [
    "Observando la tabla podemos deducir que el id del juego se encuentra en la url por lo que se completará con el id 200260 el valor faltante en la fila 30961"
   ]
  },
  {
   "cell_type": "code",
   "execution_count": 581,
   "metadata": {},
   "outputs": [],
   "source": [
    "steam_games_df.at[30961,'item_id'] = 30961"
   ]
  },
  {
   "cell_type": "code",
   "execution_count": 582,
   "metadata": {},
   "outputs": [],
   "source": [
    "steam_games_df = steam_games_df.reset_index(drop=True)\n"
   ]
  },
  {
   "cell_type": "code",
   "execution_count": 583,
   "metadata": {},
   "outputs": [
    {
     "data": {
      "text/html": [
       "<div>\n",
       "<style scoped>\n",
       "    .dataframe tbody tr th:only-of-type {\n",
       "        vertical-align: middle;\n",
       "    }\n",
       "\n",
       "    .dataframe tbody tr th {\n",
       "        vertical-align: top;\n",
       "    }\n",
       "\n",
       "    .dataframe thead th {\n",
       "        text-align: right;\n",
       "    }\n",
       "</style>\n",
       "<table border=\"1\" class=\"dataframe\">\n",
       "  <thead>\n",
       "    <tr style=\"text-align: right;\">\n",
       "      <th></th>\n",
       "      <th>publisher</th>\n",
       "      <th>genres</th>\n",
       "      <th>app_name</th>\n",
       "      <th>title</th>\n",
       "      <th>url</th>\n",
       "      <th>release_date</th>\n",
       "      <th>tags</th>\n",
       "      <th>reviews_url</th>\n",
       "      <th>discount_price</th>\n",
       "      <th>specs</th>\n",
       "      <th>price</th>\n",
       "      <th>early_access</th>\n",
       "      <th>item_id</th>\n",
       "      <th>metascore</th>\n",
       "      <th>developer</th>\n",
       "    </tr>\n",
       "  </thead>\n",
       "  <tbody>\n",
       "    <tr>\n",
       "      <th>0</th>\n",
       "      <td>Kotoshiro</td>\n",
       "      <td>[Action, Casual, Indie, Simulation, Strategy]</td>\n",
       "      <td>Lost Summoner Kitty</td>\n",
       "      <td>Lost Summoner Kitty</td>\n",
       "      <td>http://store.steampowered.com/app/761140/Lost_Summoner_Kitty/</td>\n",
       "      <td>2018-01-04</td>\n",
       "      <td>[Strategy, Action, Indie, Casual, Simulation]</td>\n",
       "      <td>http://steamcommunity.com/app/761140/reviews/?browsefilter=mostrecent&amp;p=1</td>\n",
       "      <td>4.49</td>\n",
       "      <td>[Single-player]</td>\n",
       "      <td>4.99</td>\n",
       "      <td>False</td>\n",
       "      <td>761140</td>\n",
       "      <td>NaN</td>\n",
       "      <td>Kotoshiro</td>\n",
       "    </tr>\n",
       "    <tr>\n",
       "      <th>1</th>\n",
       "      <td>Making Fun, Inc.</td>\n",
       "      <td>[Free to Play, Indie, RPG, Strategy]</td>\n",
       "      <td>Ironbound</td>\n",
       "      <td>Ironbound</td>\n",
       "      <td>http://store.steampowered.com/app/643980/Ironbound/</td>\n",
       "      <td>2018-01-04</td>\n",
       "      <td>[Free to Play, Strategy, Indie, RPG, Card Game, Trading Card Game, Turn-Based, Fantasy, Tactical...</td>\n",
       "      <td>http://steamcommunity.com/app/643980/reviews/?browsefilter=mostrecent&amp;p=1</td>\n",
       "      <td>NaN</td>\n",
       "      <td>[Single-player, Multi-player, Online Multi-Player, Cross-Platform Multiplayer, Steam Achievement...</td>\n",
       "      <td>Free To Play</td>\n",
       "      <td>False</td>\n",
       "      <td>643980</td>\n",
       "      <td>NaN</td>\n",
       "      <td>Secret Level SRL</td>\n",
       "    </tr>\n",
       "    <tr>\n",
       "      <th>2</th>\n",
       "      <td>Poolians.com</td>\n",
       "      <td>[Casual, Free to Play, Indie, Simulation, Sports]</td>\n",
       "      <td>Real Pool 3D - Poolians</td>\n",
       "      <td>Real Pool 3D - Poolians</td>\n",
       "      <td>http://store.steampowered.com/app/670290/Real_Pool_3D__Poolians/</td>\n",
       "      <td>2017-07-24</td>\n",
       "      <td>[Free to Play, Simulation, Sports, Casual, Indie, Multiplayer]</td>\n",
       "      <td>http://steamcommunity.com/app/670290/reviews/?browsefilter=mostrecent&amp;p=1</td>\n",
       "      <td>NaN</td>\n",
       "      <td>[Single-player, Multi-player, Online Multi-Player, In-App Purchases, Stats]</td>\n",
       "      <td>Free to Play</td>\n",
       "      <td>False</td>\n",
       "      <td>670290</td>\n",
       "      <td>NaN</td>\n",
       "      <td>Poolians.com</td>\n",
       "    </tr>\n",
       "    <tr>\n",
       "      <th>3</th>\n",
       "      <td>彼岸领域</td>\n",
       "      <td>[Action, Adventure, Casual]</td>\n",
       "      <td>弹炸人2222</td>\n",
       "      <td>弹炸人2222</td>\n",
       "      <td>http://store.steampowered.com/app/767400/2222/</td>\n",
       "      <td>2017-12-07</td>\n",
       "      <td>[Action, Adventure, Casual]</td>\n",
       "      <td>http://steamcommunity.com/app/767400/reviews/?browsefilter=mostrecent&amp;p=1</td>\n",
       "      <td>0.83</td>\n",
       "      <td>[Single-player]</td>\n",
       "      <td>0.99</td>\n",
       "      <td>False</td>\n",
       "      <td>767400</td>\n",
       "      <td>NaN</td>\n",
       "      <td>彼岸领域</td>\n",
       "    </tr>\n",
       "    <tr>\n",
       "      <th>4</th>\n",
       "      <td>NaN</td>\n",
       "      <td>NaN</td>\n",
       "      <td>Log Challenge</td>\n",
       "      <td>NaN</td>\n",
       "      <td>http://store.steampowered.com/app/773570/Log_Challenge/</td>\n",
       "      <td>NaN</td>\n",
       "      <td>[Action, Indie, Casual, Sports]</td>\n",
       "      <td>http://steamcommunity.com/app/773570/reviews/?browsefilter=mostrecent&amp;p=1</td>\n",
       "      <td>1.79</td>\n",
       "      <td>[Single-player, Full controller support, HTC Vive, Oculus Rift, Tracked Motion Controllers, Room...</td>\n",
       "      <td>2.99</td>\n",
       "      <td>False</td>\n",
       "      <td>773570</td>\n",
       "      <td>NaN</td>\n",
       "      <td>NaN</td>\n",
       "    </tr>\n",
       "  </tbody>\n",
       "</table>\n",
       "</div>"
      ],
      "text/plain": [
       "          publisher                                             genres  \\\n",
       "0         Kotoshiro      [Action, Casual, Indie, Simulation, Strategy]   \n",
       "1  Making Fun, Inc.               [Free to Play, Indie, RPG, Strategy]   \n",
       "2      Poolians.com  [Casual, Free to Play, Indie, Simulation, Sports]   \n",
       "3              彼岸领域                        [Action, Adventure, Casual]   \n",
       "4               NaN                                                NaN   \n",
       "\n",
       "                  app_name                    title  \\\n",
       "0      Lost Summoner Kitty      Lost Summoner Kitty   \n",
       "1                Ironbound                Ironbound   \n",
       "2  Real Pool 3D - Poolians  Real Pool 3D - Poolians   \n",
       "3                  弹炸人2222                  弹炸人2222   \n",
       "4            Log Challenge                      NaN   \n",
       "\n",
       "                                                                url  \\\n",
       "0     http://store.steampowered.com/app/761140/Lost_Summoner_Kitty/   \n",
       "1               http://store.steampowered.com/app/643980/Ironbound/   \n",
       "2  http://store.steampowered.com/app/670290/Real_Pool_3D__Poolians/   \n",
       "3                    http://store.steampowered.com/app/767400/2222/   \n",
       "4           http://store.steampowered.com/app/773570/Log_Challenge/   \n",
       "\n",
       "  release_date  \\\n",
       "0   2018-01-04   \n",
       "1   2018-01-04   \n",
       "2   2017-07-24   \n",
       "3   2017-12-07   \n",
       "4          NaN   \n",
       "\n",
       "                                                                                                  tags  \\\n",
       "0                                                        [Strategy, Action, Indie, Casual, Simulation]   \n",
       "1  [Free to Play, Strategy, Indie, RPG, Card Game, Trading Card Game, Turn-Based, Fantasy, Tactical...   \n",
       "2                                       [Free to Play, Simulation, Sports, Casual, Indie, Multiplayer]   \n",
       "3                                                                          [Action, Adventure, Casual]   \n",
       "4                                                                      [Action, Indie, Casual, Sports]   \n",
       "\n",
       "                                                                 reviews_url  \\\n",
       "0  http://steamcommunity.com/app/761140/reviews/?browsefilter=mostrecent&p=1   \n",
       "1  http://steamcommunity.com/app/643980/reviews/?browsefilter=mostrecent&p=1   \n",
       "2  http://steamcommunity.com/app/670290/reviews/?browsefilter=mostrecent&p=1   \n",
       "3  http://steamcommunity.com/app/767400/reviews/?browsefilter=mostrecent&p=1   \n",
       "4  http://steamcommunity.com/app/773570/reviews/?browsefilter=mostrecent&p=1   \n",
       "\n",
       "   discount_price  \\\n",
       "0            4.49   \n",
       "1             NaN   \n",
       "2             NaN   \n",
       "3            0.83   \n",
       "4            1.79   \n",
       "\n",
       "                                                                                                 specs  \\\n",
       "0                                                                                      [Single-player]   \n",
       "1  [Single-player, Multi-player, Online Multi-Player, Cross-Platform Multiplayer, Steam Achievement...   \n",
       "2                          [Single-player, Multi-player, Online Multi-Player, In-App Purchases, Stats]   \n",
       "3                                                                                      [Single-player]   \n",
       "4  [Single-player, Full controller support, HTC Vive, Oculus Rift, Tracked Motion Controllers, Room...   \n",
       "\n",
       "          price early_access item_id metascore         developer  \n",
       "0          4.99        False  761140       NaN         Kotoshiro  \n",
       "1  Free To Play        False  643980       NaN  Secret Level SRL  \n",
       "2  Free to Play        False  670290       NaN      Poolians.com  \n",
       "3          0.99        False  767400       NaN              彼岸领域  \n",
       "4          2.99        False  773570       NaN               NaN  "
      ]
     },
     "execution_count": 583,
     "metadata": {},
     "output_type": "execute_result"
    }
   ],
   "source": [
    "steam_games_df.head()"
   ]
  },
  {
   "cell_type": "markdown",
   "metadata": {},
   "source": [
    "-------"
   ]
  },
  {
   "cell_type": "markdown",
   "metadata": {},
   "source": [
    "Análisis de valores nulos de steam_games_df sin las columnas anexadas."
   ]
  },
  {
   "cell_type": "code",
   "execution_count": 584,
   "metadata": {},
   "outputs": [
    {
     "data": {
      "text/plain": [
       "publisher          8051\n",
       "genres             3282\n",
       "app_name              1\n",
       "title              2049\n",
       "url                   0\n",
       "release_date       2066\n",
       "tags                162\n",
       "reviews_url           1\n",
       "discount_price    31909\n",
       "specs               669\n",
       "price              1377\n",
       "early_access          0\n",
       "item_id               0\n",
       "metascore         29457\n",
       "developer          3298\n",
       "dtype: int64"
      ]
     },
     "execution_count": 584,
     "metadata": {},
     "output_type": "execute_result"
    }
   ],
   "source": [
    "(\n",
    "    steam_games_df\n",
    "    .isnull()\n",
    "    .sum()\n",
    ")"
   ]
  },
  {
   "cell_type": "code",
   "execution_count": 585,
   "metadata": {},
   "outputs": [
    {
     "data": {
      "text/html": [
       "<div>\n",
       "<style scoped>\n",
       "    .dataframe tbody tr th:only-of-type {\n",
       "        vertical-align: middle;\n",
       "    }\n",
       "\n",
       "    .dataframe tbody tr th {\n",
       "        vertical-align: top;\n",
       "    }\n",
       "\n",
       "    .dataframe thead th {\n",
       "        text-align: right;\n",
       "    }\n",
       "</style>\n",
       "<table border=\"1\" class=\"dataframe\">\n",
       "  <thead>\n",
       "    <tr style=\"text-align: right;\">\n",
       "      <th></th>\n",
       "      <th>publisher</th>\n",
       "      <th>genres</th>\n",
       "      <th>app_name</th>\n",
       "      <th>title</th>\n",
       "      <th>url</th>\n",
       "      <th>release_date</th>\n",
       "      <th>tags</th>\n",
       "      <th>reviews_url</th>\n",
       "      <th>discount_price</th>\n",
       "      <th>specs</th>\n",
       "      <th>price</th>\n",
       "      <th>early_access</th>\n",
       "      <th>item_id</th>\n",
       "      <th>metascore</th>\n",
       "      <th>developer</th>\n",
       "    </tr>\n",
       "  </thead>\n",
       "  <tbody>\n",
       "  </tbody>\n",
       "</table>\n",
       "</div>"
      ],
      "text/plain": [
       "Empty DataFrame\n",
       "Columns: [publisher, genres, app_name, title, url, release_date, tags, reviews_url, discount_price, specs, price, early_access, item_id, metascore, developer]\n",
       "Index: []"
      ]
     },
     "execution_count": 585,
     "metadata": {},
     "output_type": "execute_result"
    }
   ],
   "source": [
    "steam_games_df[steam_games_df.item_id.isna()]"
   ]
  },
  {
   "cell_type": "markdown",
   "metadata": {},
   "source": [
    "Eliminaremos este registro ya que la mayoría de sus valores son nulos."
   ]
  },
  {
   "cell_type": "code",
   "execution_count": 586,
   "metadata": {},
   "outputs": [],
   "source": [
    "steam_games_df = steam_games_df.dropna(subset='item_id')"
   ]
  },
  {
   "cell_type": "markdown",
   "metadata": {},
   "source": [
    "Mas adelante, en la creación de tablas para los endpoint se tomaran decisiones pertinentes sobres los valores nulos que presenta este df en las restantes columnas."
   ]
  },
  {
   "cell_type": "code",
   "execution_count": 587,
   "metadata": {},
   "outputs": [
    {
     "name": "stdout",
     "output_type": "stream",
     "text": [
      "<class 'pandas.core.frame.DataFrame'>\n",
      "RangeIndex: 32133 entries, 0 to 32132\n",
      "Data columns (total 15 columns):\n",
      " #   Column          Non-Null Count  Dtype  \n",
      "---  ------          --------------  -----  \n",
      " 0   publisher       24082 non-null  object \n",
      " 1   genres          28851 non-null  object \n",
      " 2   app_name        32132 non-null  object \n",
      " 3   title           30084 non-null  object \n",
      " 4   url             32133 non-null  object \n",
      " 5   release_date    30067 non-null  object \n",
      " 6   tags            31971 non-null  object \n",
      " 7   reviews_url     32132 non-null  object \n",
      " 8   discount_price  224 non-null    float64\n",
      " 9   specs           31464 non-null  object \n",
      " 10  price           30756 non-null  object \n",
      " 11  early_access    32133 non-null  object \n",
      " 12  item_id         32133 non-null  object \n",
      " 13  metascore       2676 non-null   object \n",
      " 14  developer       28835 non-null  object \n",
      "dtypes: float64(1), object(14)\n",
      "memory usage: 3.7+ MB\n"
     ]
    }
   ],
   "source": [
    "steam_games_df.info()"
   ]
  },
  {
   "cell_type": "code",
   "execution_count": 588,
   "metadata": {},
   "outputs": [],
   "source": [
    "steam_games_df.item_id = steam_games_df.item_id.astype(\"int\")\n"
   ]
  },
  {
   "cell_type": "markdown",
   "metadata": {},
   "source": [
    "------"
   ]
  },
  {
   "cell_type": "markdown",
   "metadata": {},
   "source": [
    "Los Datasets users_items y raw_steam_games_df estan relacionados. Entendemos que si un usuario no esta registrado y no ha consumido ningun item no debería realizar comentarios del mismo. Por lo que revisaremos si en el df users_reviews existen usuarios que no se encuentran en users_items."
   ]
  },
  {
   "cell_type": "code",
   "execution_count": 589,
   "metadata": {},
   "outputs": [
    {
     "data": {
      "text/html": [
       "<div>\n",
       "<style scoped>\n",
       "    .dataframe tbody tr th:only-of-type {\n",
       "        vertical-align: middle;\n",
       "    }\n",
       "\n",
       "    .dataframe tbody tr th {\n",
       "        vertical-align: top;\n",
       "    }\n",
       "\n",
       "    .dataframe thead th {\n",
       "        text-align: right;\n",
       "    }\n",
       "</style>\n",
       "<table border=\"1\" class=\"dataframe\">\n",
       "  <thead>\n",
       "    <tr style=\"text-align: right;\">\n",
       "      <th></th>\n",
       "      <th>user_id</th>\n",
       "      <th>items_count</th>\n",
       "      <th>steam_id</th>\n",
       "      <th>user_url</th>\n",
       "      <th>items</th>\n",
       "    </tr>\n",
       "  </thead>\n",
       "  <tbody>\n",
       "    <tr>\n",
       "      <th>0</th>\n",
       "      <td>76561197970982479</td>\n",
       "      <td>277</td>\n",
       "      <td>76561197970982479</td>\n",
       "      <td>http://steamcommunity.com/profiles/76561197970982479</td>\n",
       "      <td>[{\"item_id\": \"10\", \"item_name\": \"Counter-Strike\", \"playtime_forever\": 6, \"playtime_2weeks\": 0}, ...</td>\n",
       "    </tr>\n",
       "    <tr>\n",
       "      <th>1</th>\n",
       "      <td>js41637</td>\n",
       "      <td>888</td>\n",
       "      <td>76561198035864385</td>\n",
       "      <td>http://steamcommunity.com/id/js41637</td>\n",
       "      <td>[{\"item_id\": \"10\", \"item_name\": \"Counter-Strike\", \"playtime_forever\": 0, \"playtime_2weeks\": 0}, ...</td>\n",
       "    </tr>\n",
       "  </tbody>\n",
       "</table>\n",
       "</div>"
      ],
      "text/plain": [
       "             user_id  items_count           steam_id  \\\n",
       "0  76561197970982479          277  76561197970982479   \n",
       "1            js41637          888  76561198035864385   \n",
       "\n",
       "                                               user_url  \\\n",
       "0  http://steamcommunity.com/profiles/76561197970982479   \n",
       "1                  http://steamcommunity.com/id/js41637   \n",
       "\n",
       "                                                                                                 items  \n",
       "0  [{\"item_id\": \"10\", \"item_name\": \"Counter-Strike\", \"playtime_forever\": 6, \"playtime_2weeks\": 0}, ...  \n",
       "1  [{\"item_id\": \"10\", \"item_name\": \"Counter-Strike\", \"playtime_forever\": 0, \"playtime_2weeks\": 0}, ...  "
      ]
     },
     "execution_count": 589,
     "metadata": {},
     "output_type": "execute_result"
    }
   ],
   "source": [
    "users_items.head(2)"
   ]
  },
  {
   "cell_type": "code",
   "execution_count": 590,
   "metadata": {},
   "outputs": [
    {
     "data": {
      "text/html": [
       "<div>\n",
       "<style scoped>\n",
       "    .dataframe tbody tr th:only-of-type {\n",
       "        vertical-align: middle;\n",
       "    }\n",
       "\n",
       "    .dataframe tbody tr th {\n",
       "        vertical-align: top;\n",
       "    }\n",
       "\n",
       "    .dataframe thead th {\n",
       "        text-align: right;\n",
       "    }\n",
       "</style>\n",
       "<table border=\"1\" class=\"dataframe\">\n",
       "  <thead>\n",
       "    <tr style=\"text-align: right;\">\n",
       "      <th></th>\n",
       "      <th>user_id</th>\n",
       "      <th>user_url</th>\n",
       "      <th>reviews</th>\n",
       "    </tr>\n",
       "  </thead>\n",
       "  <tbody>\n",
       "    <tr>\n",
       "      <th>0</th>\n",
       "      <td>76561197970982479</td>\n",
       "      <td>http://steamcommunity.com/profiles/76561197970982479</td>\n",
       "      <td>[{\"funny\": \"\", \"posted\": \"Posted November 5, 2011.\", \"last_edited\": \"\", \"item_id\": \"1250\", \"help...</td>\n",
       "    </tr>\n",
       "    <tr>\n",
       "      <th>1</th>\n",
       "      <td>js41637</td>\n",
       "      <td>http://steamcommunity.com/id/js41637</td>\n",
       "      <td>[{\"funny\": \"\", \"posted\": \"Posted June 24, 2014.\", \"last_edited\": \"\", \"item_id\": \"251610\", \"helpf...</td>\n",
       "    </tr>\n",
       "  </tbody>\n",
       "</table>\n",
       "</div>"
      ],
      "text/plain": [
       "             user_id                                              user_url  \\\n",
       "0  76561197970982479  http://steamcommunity.com/profiles/76561197970982479   \n",
       "1            js41637                  http://steamcommunity.com/id/js41637   \n",
       "\n",
       "                                                                                               reviews  \n",
       "0  [{\"funny\": \"\", \"posted\": \"Posted November 5, 2011.\", \"last_edited\": \"\", \"item_id\": \"1250\", \"help...  \n",
       "1  [{\"funny\": \"\", \"posted\": \"Posted June 24, 2014.\", \"last_edited\": \"\", \"item_id\": \"251610\", \"helpf...  "
      ]
     },
     "execution_count": 590,
     "metadata": {},
     "output_type": "execute_result"
    }
   ],
   "source": [
    "user_reviews.head(2)"
   ]
  },
  {
   "cell_type": "code",
   "execution_count": 591,
   "metadata": {},
   "outputs": [
    {
     "name": "stdout",
     "output_type": "stream",
     "text": [
      " cantidad de users de users_items:  70912\n",
      " cantidad de users de user_reviews:  25458\n",
      "Cantidad de usuarios en reviews.user_id que no están en users_items.user_id: 2845\n"
     ]
    }
   ],
   "source": [
    "# users_de_users_items = list(users_items.user_id.drop_duplicates())\n",
    "# users_de_user_reviews = list(user_reviews.user_id.drop_duplicates())\n",
    "print (f' cantidad de users de users_items: ',len(users_de_users_items))\n",
    "print (f' cantidad de users de user_reviews: ',len(users_de_user_reviews))\n",
    "# Convierte las listas en conjuntos\n",
    "users_de_user_reviews_set = set(users_de_user_reviews)\n",
    "users_de_users_items_set = set(users_de_users_items)\n",
    "\n",
    "# Encuentra los elementos en lista1 que no están en lista2\n",
    "usuarios_faltantes = users_de_user_reviews_set - users_de_users_items_set\n",
    "\n",
    "print(\"Cantidad de usuarios en reviews.user_id que no están en users_items.user_id:\", len(usuarios_faltantes))"
   ]
  },
  {
   "cell_type": "markdown",
   "metadata": {},
   "source": [
    "Efectivamente tenemos usuarios no registrados en users_items que se encuentran en user_reviews. Procederemos a eliminar estos usuarios para este primer mvp pero guardaremos los ids para informar de los 2845 usuarios que se encuentran en esta situación."
   ]
  },
  {
   "cell_type": "code",
   "execution_count": 592,
   "metadata": {},
   "outputs": [],
   "source": [
    "users_faltantes_en_users_df = user_reviews[(user_reviews.user_id.isin(usuarios_faltantes))].reset_index(drop=True)"
   ]
  },
  {
   "cell_type": "code",
   "execution_count": 593,
   "metadata": {},
   "outputs": [
    {
     "data": {
      "text/html": [
       "<div>\n",
       "<style scoped>\n",
       "    .dataframe tbody tr th:only-of-type {\n",
       "        vertical-align: middle;\n",
       "    }\n",
       "\n",
       "    .dataframe tbody tr th {\n",
       "        vertical-align: top;\n",
       "    }\n",
       "\n",
       "    .dataframe thead th {\n",
       "        text-align: right;\n",
       "    }\n",
       "</style>\n",
       "<table border=\"1\" class=\"dataframe\">\n",
       "  <thead>\n",
       "    <tr style=\"text-align: right;\">\n",
       "      <th></th>\n",
       "      <th>user_id</th>\n",
       "      <th>user_url</th>\n",
       "      <th>reviews</th>\n",
       "    </tr>\n",
       "  </thead>\n",
       "  <tbody>\n",
       "    <tr>\n",
       "      <th>0</th>\n",
       "      <td>Wackky</td>\n",
       "      <td>http://steamcommunity.com/id/Wackky</td>\n",
       "      <td>[{\"funny\": \"\", \"posted\": \"Posted May 5, 2014.\", \"last_edited\": \"\", \"item_id\": \"249130\", \"helpful...</td>\n",
       "    </tr>\n",
       "    <tr>\n",
       "      <th>1</th>\n",
       "      <td>76561198079601835</td>\n",
       "      <td>http://steamcommunity.com/profiles/76561198079601835</td>\n",
       "      <td>[{\"funny\": \"1 person found this review funny\", \"posted\": \"Posted May 20.\", \"last_edited\": \"\", \"i...</td>\n",
       "    </tr>\n",
       "    <tr>\n",
       "      <th>2</th>\n",
       "      <td>starkillershadow553</td>\n",
       "      <td>http://steamcommunity.com/id/starkillershadow553</td>\n",
       "      <td>[{\"funny\": \"\", \"posted\": \"Posted February 4, 2015.\", \"last_edited\": \"\", \"item_id\": \"238090\", \"he...</td>\n",
       "    </tr>\n",
       "    <tr>\n",
       "      <th>3</th>\n",
       "      <td>lucaswerg</td>\n",
       "      <td>http://steamcommunity.com/id/lucaswerg</td>\n",
       "      <td>[{\"funny\": \"\", \"posted\": \"Posted July 11, 2014.\", \"last_edited\": \"\", \"item_id\": \"218620\", \"helpf...</td>\n",
       "    </tr>\n",
       "    <tr>\n",
       "      <th>4</th>\n",
       "      <td>76561198010674657</td>\n",
       "      <td>http://steamcommunity.com/profiles/76561198010674657</td>\n",
       "      <td>[{\"funny\": \"\", \"posted\": \"Posted March 27.\", \"last_edited\": \"\", \"item_id\": \"377160\", \"helpful\": ...</td>\n",
       "    </tr>\n",
       "    <tr>\n",
       "      <th>...</th>\n",
       "      <td>...</td>\n",
       "      <td>...</td>\n",
       "      <td>...</td>\n",
       "    </tr>\n",
       "    <tr>\n",
       "      <th>2840</th>\n",
       "      <td>Tattzie</td>\n",
       "      <td>http://steamcommunity.com/id/Tattzie</td>\n",
       "      <td>[{\"funny\": \"\", \"posted\": \"Posted March 18.\", \"last_edited\": \"\", \"item_id\": \"400\", \"helpful\": \"No...</td>\n",
       "    </tr>\n",
       "    <tr>\n",
       "      <th>2841</th>\n",
       "      <td>76561198261200685</td>\n",
       "      <td>http://steamcommunity.com/profiles/76561198261200685</td>\n",
       "      <td>[{\"funny\": \"\", \"posted\": \"Posted April 30.\", \"last_edited\": \"\", \"item_id\": \"413150\", \"helpful\": ...</td>\n",
       "    </tr>\n",
       "    <tr>\n",
       "      <th>2842</th>\n",
       "      <td>Fuckfhaisjnsnsjakaka</td>\n",
       "      <td>http://steamcommunity.com/id/Fuckfhaisjnsnsjakaka</td>\n",
       "      <td>[{\"funny\": \"\", \"posted\": \"Posted January 17.\", \"last_edited\": \"\", \"item_id\": \"730\", \"helpful\": \"...</td>\n",
       "    </tr>\n",
       "    <tr>\n",
       "      <th>2843</th>\n",
       "      <td>KinkyyyCSGO</td>\n",
       "      <td>http://steamcommunity.com/id/KinkyyyCSGO</td>\n",
       "      <td>[{\"funny\": \"\", \"posted\": \"Posted March 6.\", \"last_edited\": \"\", \"item_id\": \"282660\", \"helpful\": \"...</td>\n",
       "    </tr>\n",
       "    <tr>\n",
       "      <th>2844</th>\n",
       "      <td>LydiaMorley</td>\n",
       "      <td>http://steamcommunity.com/id/LydiaMorley</td>\n",
       "      <td>[{\"funny\": \"1 person found this review funny\", \"posted\": \"Posted July 3.\", \"last_edited\": \"\", \"i...</td>\n",
       "    </tr>\n",
       "  </tbody>\n",
       "</table>\n",
       "<p>2845 rows × 3 columns</p>\n",
       "</div>"
      ],
      "text/plain": [
       "                   user_id  \\\n",
       "0                   Wackky   \n",
       "1        76561198079601835   \n",
       "2      starkillershadow553   \n",
       "3                lucaswerg   \n",
       "4        76561198010674657   \n",
       "...                    ...   \n",
       "2840               Tattzie   \n",
       "2841     76561198261200685   \n",
       "2842  Fuckfhaisjnsnsjakaka   \n",
       "2843           KinkyyyCSGO   \n",
       "2844           LydiaMorley   \n",
       "\n",
       "                                                  user_url  \\\n",
       "0                      http://steamcommunity.com/id/Wackky   \n",
       "1     http://steamcommunity.com/profiles/76561198079601835   \n",
       "2         http://steamcommunity.com/id/starkillershadow553   \n",
       "3                   http://steamcommunity.com/id/lucaswerg   \n",
       "4     http://steamcommunity.com/profiles/76561198010674657   \n",
       "...                                                    ...   \n",
       "2840                  http://steamcommunity.com/id/Tattzie   \n",
       "2841  http://steamcommunity.com/profiles/76561198261200685   \n",
       "2842     http://steamcommunity.com/id/Fuckfhaisjnsnsjakaka   \n",
       "2843              http://steamcommunity.com/id/KinkyyyCSGO   \n",
       "2844              http://steamcommunity.com/id/LydiaMorley   \n",
       "\n",
       "                                                                                                  reviews  \n",
       "0     [{\"funny\": \"\", \"posted\": \"Posted May 5, 2014.\", \"last_edited\": \"\", \"item_id\": \"249130\", \"helpful...  \n",
       "1     [{\"funny\": \"1 person found this review funny\", \"posted\": \"Posted May 20.\", \"last_edited\": \"\", \"i...  \n",
       "2     [{\"funny\": \"\", \"posted\": \"Posted February 4, 2015.\", \"last_edited\": \"\", \"item_id\": \"238090\", \"he...  \n",
       "3     [{\"funny\": \"\", \"posted\": \"Posted July 11, 2014.\", \"last_edited\": \"\", \"item_id\": \"218620\", \"helpf...  \n",
       "4     [{\"funny\": \"\", \"posted\": \"Posted March 27.\", \"last_edited\": \"\", \"item_id\": \"377160\", \"helpful\": ...  \n",
       "...                                                                                                   ...  \n",
       "2840  [{\"funny\": \"\", \"posted\": \"Posted March 18.\", \"last_edited\": \"\", \"item_id\": \"400\", \"helpful\": \"No...  \n",
       "2841  [{\"funny\": \"\", \"posted\": \"Posted April 30.\", \"last_edited\": \"\", \"item_id\": \"413150\", \"helpful\": ...  \n",
       "2842  [{\"funny\": \"\", \"posted\": \"Posted January 17.\", \"last_edited\": \"\", \"item_id\": \"730\", \"helpful\": \"...  \n",
       "2843  [{\"funny\": \"\", \"posted\": \"Posted March 6.\", \"last_edited\": \"\", \"item_id\": \"282660\", \"helpful\": \"...  \n",
       "2844  [{\"funny\": \"1 person found this review funny\", \"posted\": \"Posted July 3.\", \"last_edited\": \"\", \"i...  \n",
       "\n",
       "[2845 rows x 3 columns]"
      ]
     },
     "execution_count": 593,
     "metadata": {},
     "output_type": "execute_result"
    }
   ],
   "source": [
    "users_faltantes_en_users_df"
   ]
  },
  {
   "cell_type": "code",
   "execution_count": 594,
   "metadata": {},
   "outputs": [
    {
     "data": {
      "text/html": [
       "<div>\n",
       "<style scoped>\n",
       "    .dataframe tbody tr th:only-of-type {\n",
       "        vertical-align: middle;\n",
       "    }\n",
       "\n",
       "    .dataframe tbody tr th {\n",
       "        vertical-align: top;\n",
       "    }\n",
       "\n",
       "    .dataframe thead th {\n",
       "        text-align: right;\n",
       "    }\n",
       "</style>\n",
       "<table border=\"1\" class=\"dataframe\">\n",
       "  <thead>\n",
       "    <tr style=\"text-align: right;\">\n",
       "      <th></th>\n",
       "      <th>user_id</th>\n",
       "      <th>user_url</th>\n",
       "      <th>reviews</th>\n",
       "    </tr>\n",
       "  </thead>\n",
       "  <tbody>\n",
       "    <tr>\n",
       "      <th>0</th>\n",
       "      <td>76561197970982479</td>\n",
       "      <td>http://steamcommunity.com/profiles/76561197970982479</td>\n",
       "      <td>[{\"funny\": \"\", \"posted\": \"Posted November 5, 2011.\", \"last_edited\": \"\", \"item_id\": \"1250\", \"help...</td>\n",
       "    </tr>\n",
       "    <tr>\n",
       "      <th>1</th>\n",
       "      <td>js41637</td>\n",
       "      <td>http://steamcommunity.com/id/js41637</td>\n",
       "      <td>[{\"funny\": \"\", \"posted\": \"Posted June 24, 2014.\", \"last_edited\": \"\", \"item_id\": \"251610\", \"helpf...</td>\n",
       "    </tr>\n",
       "    <tr>\n",
       "      <th>2</th>\n",
       "      <td>evcentric</td>\n",
       "      <td>http://steamcommunity.com/id/evcentric</td>\n",
       "      <td>[{\"funny\": \"\", \"posted\": \"Posted February 3.\", \"last_edited\": \"\", \"item_id\": \"248820\", \"helpful\"...</td>\n",
       "    </tr>\n",
       "    <tr>\n",
       "      <th>3</th>\n",
       "      <td>doctr</td>\n",
       "      <td>http://steamcommunity.com/id/doctr</td>\n",
       "      <td>[{\"funny\": \"\", \"posted\": \"Posted October 14, 2013.\", \"last_edited\": \"\", \"item_id\": \"250320\", \"he...</td>\n",
       "    </tr>\n",
       "    <tr>\n",
       "      <th>4</th>\n",
       "      <td>maplemage</td>\n",
       "      <td>http://steamcommunity.com/id/maplemage</td>\n",
       "      <td>[{\"funny\": \"3 people found this review funny\", \"posted\": \"Posted April 15, 2014.\", \"last_edited\"...</td>\n",
       "    </tr>\n",
       "    <tr>\n",
       "      <th>...</th>\n",
       "      <td>...</td>\n",
       "      <td>...</td>\n",
       "      <td>...</td>\n",
       "    </tr>\n",
       "    <tr>\n",
       "      <th>25452</th>\n",
       "      <td>JustMielThings</td>\n",
       "      <td>http://steamcommunity.com/id/JustMielThings</td>\n",
       "      <td>[{\"funny\": \"\", \"posted\": \"Posted May 20.\", \"last_edited\": \"\", \"item_id\": \"570\", \"helpful\": \"No r...</td>\n",
       "    </tr>\n",
       "    <tr>\n",
       "      <th>25453</th>\n",
       "      <td>76561198306599751</td>\n",
       "      <td>http://steamcommunity.com/profiles/76561198306599751</td>\n",
       "      <td>[{\"funny\": \"\", \"posted\": \"Posted May 31.\", \"last_edited\": \"\", \"item_id\": \"261030\", \"helpful\": \"0...</td>\n",
       "    </tr>\n",
       "    <tr>\n",
       "      <th>25454</th>\n",
       "      <td>Ghoustik</td>\n",
       "      <td>http://steamcommunity.com/id/Ghoustik</td>\n",
       "      <td>[{\"funny\": \"\", \"posted\": \"Posted June 17.\", \"last_edited\": \"\", \"item_id\": \"730\", \"helpful\": \"0 o...</td>\n",
       "    </tr>\n",
       "    <tr>\n",
       "      <th>25455</th>\n",
       "      <td>76561198310819422</td>\n",
       "      <td>http://steamcommunity.com/profiles/76561198310819422</td>\n",
       "      <td>[{\"funny\": \"1 person found this review funny\", \"posted\": \"Posted June 23.\", \"last_edited\": \"\", \"...</td>\n",
       "    </tr>\n",
       "    <tr>\n",
       "      <th>25456</th>\n",
       "      <td>76561198312638244</td>\n",
       "      <td>http://steamcommunity.com/profiles/76561198312638244</td>\n",
       "      <td>[{\"funny\": \"\", \"posted\": \"Posted July 21.\", \"last_edited\": \"\", \"item_id\": \"233270\", \"helpful\": \"...</td>\n",
       "    </tr>\n",
       "  </tbody>\n",
       "</table>\n",
       "<p>22613 rows × 3 columns</p>\n",
       "</div>"
      ],
      "text/plain": [
       "                 user_id  \\\n",
       "0      76561197970982479   \n",
       "1                js41637   \n",
       "2              evcentric   \n",
       "3                  doctr   \n",
       "4              maplemage   \n",
       "...                  ...   \n",
       "25452     JustMielThings   \n",
       "25453  76561198306599751   \n",
       "25454           Ghoustik   \n",
       "25455  76561198310819422   \n",
       "25456  76561198312638244   \n",
       "\n",
       "                                                   user_url  \\\n",
       "0      http://steamcommunity.com/profiles/76561197970982479   \n",
       "1                      http://steamcommunity.com/id/js41637   \n",
       "2                    http://steamcommunity.com/id/evcentric   \n",
       "3                        http://steamcommunity.com/id/doctr   \n",
       "4                    http://steamcommunity.com/id/maplemage   \n",
       "...                                                     ...   \n",
       "25452           http://steamcommunity.com/id/JustMielThings   \n",
       "25453  http://steamcommunity.com/profiles/76561198306599751   \n",
       "25454                 http://steamcommunity.com/id/Ghoustik   \n",
       "25455  http://steamcommunity.com/profiles/76561198310819422   \n",
       "25456  http://steamcommunity.com/profiles/76561198312638244   \n",
       "\n",
       "                                                                                                   reviews  \n",
       "0      [{\"funny\": \"\", \"posted\": \"Posted November 5, 2011.\", \"last_edited\": \"\", \"item_id\": \"1250\", \"help...  \n",
       "1      [{\"funny\": \"\", \"posted\": \"Posted June 24, 2014.\", \"last_edited\": \"\", \"item_id\": \"251610\", \"helpf...  \n",
       "2      [{\"funny\": \"\", \"posted\": \"Posted February 3.\", \"last_edited\": \"\", \"item_id\": \"248820\", \"helpful\"...  \n",
       "3      [{\"funny\": \"\", \"posted\": \"Posted October 14, 2013.\", \"last_edited\": \"\", \"item_id\": \"250320\", \"he...  \n",
       "4      [{\"funny\": \"3 people found this review funny\", \"posted\": \"Posted April 15, 2014.\", \"last_edited\"...  \n",
       "...                                                                                                    ...  \n",
       "25452  [{\"funny\": \"\", \"posted\": \"Posted May 20.\", \"last_edited\": \"\", \"item_id\": \"570\", \"helpful\": \"No r...  \n",
       "25453  [{\"funny\": \"\", \"posted\": \"Posted May 31.\", \"last_edited\": \"\", \"item_id\": \"261030\", \"helpful\": \"0...  \n",
       "25454  [{\"funny\": \"\", \"posted\": \"Posted June 17.\", \"last_edited\": \"\", \"item_id\": \"730\", \"helpful\": \"0 o...  \n",
       "25455  [{\"funny\": \"1 person found this review funny\", \"posted\": \"Posted June 23.\", \"last_edited\": \"\", \"...  \n",
       "25456  [{\"funny\": \"\", \"posted\": \"Posted July 21.\", \"last_edited\": \"\", \"item_id\": \"233270\", \"helpful\": \"...  \n",
       "\n",
       "[22613 rows x 3 columns]"
      ]
     },
     "execution_count": 594,
     "metadata": {},
     "output_type": "execute_result"
    }
   ],
   "source": [
    "user_reviews = user_reviews[~(user_reviews.user_id.isin(usuarios_faltantes))]\n",
    "user_reviews"
   ]
  },
  {
   "cell_type": "markdown",
   "metadata": {},
   "source": [
    "Guardamos los df en archivos csv"
   ]
  },
  {
   "cell_type": "code",
   "execution_count": 595,
   "metadata": {},
   "outputs": [],
   "source": [
    "users_faltantes_en_users_df.to_csv(\"data/users_faltantes_en_users_df.csv\",index=False)"
   ]
  },
  {
   "cell_type": "code",
   "execution_count": 596,
   "metadata": {},
   "outputs": [],
   "source": [
    "user_reviews.to_csv(\"data/raw_user_reviews.csv\",index=False)\n",
    "steam_games_df.to_csv(\"data/raw_steam_games.csv\",index=False)\n",
    "users_items.to_csv(\"data/raw_user_items.csv\",index=False)"
   ]
  }
 ],
 "metadata": {
  "kernelspec": {
   "display_name": "Python 3",
   "language": "python",
   "name": "python3"
  },
  "language_info": {
   "codemirror_mode": {
    "name": "ipython",
    "version": 3
   },
   "file_extension": ".py",
   "mimetype": "text/x-python",
   "name": "python",
   "nbconvert_exporter": "python",
   "pygments_lexer": "ipython3",
   "version": "3.11.0"
  },
  "orig_nbformat": 4
 },
 "nbformat": 4,
 "nbformat_minor": 2
}
